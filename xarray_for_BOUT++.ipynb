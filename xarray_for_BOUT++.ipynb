{
 "cells": [
  {
   "cell_type": "markdown",
   "metadata": {
    "slideshow": {
     "slide_type": "slide"
    }
   },
   "source": [
    "# xarray + dask for BOUT++ data analysis \n",
    "\n",
    "## Readable, general, and scalable data analysis in python\n",
    "\n",
    "Thomas Nicholas\n",
    "\n",
    "(thomas.nicholas@york.ac.uk)"
   ]
  },
  {
   "cell_type": "markdown",
   "metadata": {
    "slideshow": {
     "slide_type": "slide"
    }
   },
   "source": [
    "# Outline"
   ]
  },
  {
   "cell_type": "markdown",
   "metadata": {},
   "source": [
    "### Multidimensional data analysis"
   ]
  },
  {
   "cell_type": "markdown",
   "metadata": {
    "slideshow": {
     "slide_type": "fragment"
    }
   },
   "source": [
    "### What is xarray?"
   ]
  },
  {
   "cell_type": "markdown",
   "metadata": {
    "slideshow": {
     "slide_type": "fragment"
    }
   },
   "source": [
    "### xarray basic features"
   ]
  },
  {
   "cell_type": "markdown",
   "metadata": {
    "slideshow": {
     "slide_type": "fragment"
    }
   },
   "source": [
    "### Analysing large datasets with dask"
   ]
  },
  {
   "cell_type": "markdown",
   "metadata": {
    "slideshow": {
     "slide_type": "fragment"
    }
   },
   "source": [
    "### The xBOUT package"
   ]
  },
  {
   "cell_type": "markdown",
   "metadata": {
    "slideshow": {
     "slide_type": "fragment"
    }
   },
   "source": [
    "### Suggestions for community tools"
   ]
  },
  {
   "cell_type": "markdown",
   "metadata": {
    "slideshow": {
     "slide_type": "slide"
    }
   },
   "source": [
    "# Multidimensional data analysis"
   ]
  },
  {
   "cell_type": "markdown",
   "metadata": {
    "slideshow": {
     "slide_type": "fragment"
    }
   },
   "source": [
    "All computational plasma physicists have some similar data analysis requirements:"
   ]
  },
  {
   "cell_type": "markdown",
   "metadata": {
    "slideshow": {
     "slide_type": "fragment"
    }
   },
   "source": [
    "- Relatively large datasets (up to 100's GBs)\n",
    "- Multidimensional\n",
    "- Warped-grid\n",
    "- Fluid turbulence\n",
    "- Visualise multiple dimensions easily\n",
    "- Apply mathematical operations over many dimensions easily and clearly"
   ]
  },
  {
   "cell_type": "markdown",
   "metadata": {
    "slideshow": {
     "slide_type": "fragment"
    }
   },
   "source": [
    "For BOUT++ we want standard library with all this + open source"
   ]
  },
  {
   "cell_type": "markdown",
   "metadata": {
    "slideshow": {
     "slide_type": "slide"
    }
   },
   "source": [
    "# What is xarray?"
   ]
  },
  {
   "cell_type": "markdown",
   "metadata": {
    "slideshow": {
     "slide_type": "fragment"
    }
   },
   "source": [
    "xarray is an open-source python library which provides Pandas-like labelling, visualisation & analysis functionality for N-dimensional data."
   ]
  },
  {
   "cell_type": "markdown",
   "metadata": {
    "slideshow": {
     "slide_type": "fragment"
    }
   },
   "source": [
    "Developed by atmospheric physicists, who have similar data analysis needs to us"
   ]
  },
  {
   "cell_type": "markdown",
   "metadata": {
    "slideshow": {
     "slide_type": "fragment"
    }
   },
   "source": [
    "Already used extensively behind the scenes in OMFIT"
   ]
  },
  {
   "cell_type": "markdown",
   "metadata": {
    "slideshow": {
     "slide_type": "slide"
    }
   },
   "source": [
    "### xarray basic features: \n",
    "- Labelled multidimensional data\n",
    "- Clear syntax for operations\n",
    "- Lazy loading into memory\n",
    "- Plotting convenience"
   ]
  },
  {
   "cell_type": "markdown",
   "metadata": {
    "slideshow": {
     "slide_type": "slide"
    }
   },
   "source": [
    "# xarray: Labelled multidimensional data"
   ]
  },
  {
   "cell_type": "markdown",
   "metadata": {
    "slideshow": {
     "slide_type": "fragment"
    }
   },
   "source": [
    "xarray wraps numpy arrays as \"variables\" and labels the dimensions.\n",
    "\n",
    "There can be multiple \"coordinates\" for the same data.\n",
    "\n",
    "Coordinates can be multidimensional\n",
    "(e.g. for mapping Orthogonal toroidal coordinates -> field-aligned coordinates)\n",
    "\n",
    "Multiple data variables are stored in same `Dataset`."
   ]
  },
  {
   "cell_type": "markdown",
   "metadata": {
    "slideshow": {
     "slide_type": "fragment"
    }
   },
   "source": [
    "For example, imagine we had some output from an atmospheric fluid simulation..."
   ]
  },
  {
   "cell_type": "markdown",
   "metadata": {
    "slideshow": {
     "slide_type": "subslide"
    }
   },
   "source": [
    "<img src=\"images/dataset-diagram.png\" style=\"width: 600px;\">"
   ]
  },
  {
   "cell_type": "code",
   "execution_count": null,
   "metadata": {
    "slideshow": {
     "slide_type": "fragment"
    }
   },
   "outputs": [],
   "source": [
    "<xarray.Dataset>\n",
    "Dimensions:        (t: 8, x: 8, y: 8)\n",
    "Coordinates:\n",
    "  * t              (t) int64 0 1 2 3 4 5 6 7 8\n",
    "  * x              (x) int64 0 1 2 3 4 5 6 7 8\n",
    "  * y              (y) int64 0 1 2 3 4 5 6 7 8\n",
    "    latitude       (x, y) float32 numpy.array(8, 8)\n",
    "    longitude      (x, y) float32 numpy.array(8, 8)\n",
    "Data variables:\n",
    "    temperature    (t, x, y) float32 numpy.array(8, 8, 8)\n",
    "    precipitation  (t, x, y) float32 numpy.array(8, 8, 8)\n",
    "Attributes:\n",
    "    reference_time 123.0"
   ]
  },
  {
   "cell_type": "markdown",
   "metadata": {
    "slideshow": {
     "slide_type": "fragment"
    }
   },
   "source": [
    "Also carries around a dictionary of \"attributes\", which be used to store metadata as arbitary objects."
   ]
  },
  {
   "cell_type": "markdown",
   "metadata": {
    "slideshow": {
     "slide_type": "slide"
    }
   },
   "source": [
    "# xarray: Clear syntax for operations"
   ]
  },
  {
   "cell_type": "markdown",
   "metadata": {
    "slideshow": {
     "slide_type": "fragment"
    }
   },
   "source": [
    "We have some data $n(t,x,y,z)$, and we want to find the maximum over time of the spatially-averaged density at the separatrix. \n",
    "\n",
    "i.e. find $\\text{max}(<n(t,x=\\text{separatrix})>)$, where $<...>$ is an average over $y$ & $z$: "
   ]
  },
  {
   "cell_type": "markdown",
   "metadata": {
    "slideshow": {
     "slide_type": "fragment"
    }
   },
   "source": [
    "Bare numpy:"
   ]
  },
  {
   "cell_type": "code",
   "execution_count": null,
   "metadata": {
    "slideshow": {
     "slide_type": "fragment"
    }
   },
   "outputs": [],
   "source": [
    "max_separatrix_density = np.max(np.mean(n[:, sep_x, ...], axis=(2,3)), axis=0)"
   ]
  },
  {
   "cell_type": "markdown",
   "metadata": {
    "slideshow": {
     "slide_type": "fragment"
    }
   },
   "source": [
    "xarray:"
   ]
  },
  {
   "cell_type": "code",
   "execution_count": null,
   "metadata": {
    "slideshow": {
     "slide_type": "fragment"
    }
   },
   "outputs": [],
   "source": [
    "max_separatrix_density = ds['n'].isel(x=sep_x).mean(dim=('y', 'z')).max(dim='t')"
   ]
  },
  {
   "cell_type": "markdown",
   "metadata": {
    "slideshow": {
     "slide_type": "fragment"
    }
   },
   "source": [
    "The xarray code is clearer, more generalisable, contains fewer \"magic numbers\", and the order of operations applied reads left-to-right."
   ]
  },
  {
   "cell_type": "markdown",
   "metadata": {
    "slideshow": {
     "slide_type": "slide"
    }
   },
   "source": [
    "# xarray: Lazy loading into memory"
   ]
  },
  {
   "cell_type": "markdown",
   "metadata": {
    "slideshow": {
     "slide_type": "fragment"
    }
   },
   "source": [
    "xarray uses the netCDF format in the backend.\n",
    "\n",
    "Lazily loads data values - never waste RAM on unneeded values."
   ]
  },
  {
   "cell_type": "code",
   "execution_count": null,
   "metadata": {
    "slideshow": {
     "slide_type": "fragment"
    }
   },
   "outputs": [],
   "source": [
    "import xarray as xr\n",
    "\n",
    "# Open a 100GB file\n",
    "ds = xr.open_dataset('BOUT_data.nc')\n",
    "\n",
    "# Select a 1GB subset of the data\n",
    "data = ds.isel(y=0)\n",
    "\n",
    "# Data is only loaded into memory here, when we actually need it\n",
    "result = some_maths(data)"
   ]
  },
  {
   "cell_type": "markdown",
   "metadata": {
    "slideshow": {
     "slide_type": "slide"
    }
   },
   "source": [
    "# xarray: Plotting convenience"
   ]
  },
  {
   "cell_type": "markdown",
   "metadata": {
    "slideshow": {
     "slide_type": "fragment"
    }
   },
   "source": [
    "xarray provides plotting functions which wrap matplotlib:"
   ]
  },
  {
   "cell_type": "code",
   "execution_count": 11,
   "metadata": {
    "slideshow": {
     "slide_type": "skip"
    }
   },
   "outputs": [
    {
     "name": "stdout",
     "output_type": "stream",
     "text": [
      "Read in:\n",
      "<xbout.BoutDataset>\n",
      "Contains:\n",
      "<xarray.Dataset>\n",
      "Dimensions:         (t: 1001, x: 480, y: 1, z: 256)\n",
      "Dimensions without coordinates: t, x, y, z\n",
      "Data variables:\n",
      "    t_array         (t) float64 0.0 80.0 160.0 ... 7.984e+04 7.992e+04 8e+04\n",
      "    dx              (x, y) float64 dask.array<shape=(480, 1), chunksize=(10, 1)>\n",
      "    dy              (x, y) float64 dask.array<shape=(480, 1), chunksize=(10, 1)>\n",
      "    g11             (x, y) float64 dask.array<shape=(480, 1), chunksize=(10, 1)>\n",
      "    g22             (x, y) float64 dask.array<shape=(480, 1), chunksize=(10, 1)>\n",
      "    g33             (x, y) float64 dask.array<shape=(480, 1), chunksize=(10, 1)>\n",
      "    g12             (x, y) float64 dask.array<shape=(480, 1), chunksize=(10, 1)>\n",
      "    g13             (x, y) float64 dask.array<shape=(480, 1), chunksize=(10, 1)>\n",
      "    g23             (x, y) float64 dask.array<shape=(480, 1), chunksize=(10, 1)>\n",
      "    g_11            (x, y) float64 dask.array<shape=(480, 1), chunksize=(10, 1)>\n",
      "    g_22            (x, y) float64 dask.array<shape=(480, 1), chunksize=(10, 1)>\n",
      "    g_33            (x, y) float64 dask.array<shape=(480, 1), chunksize=(10, 1)>\n",
      "    g_12            (x, y) float64 dask.array<shape=(480, 1), chunksize=(10, 1)>\n",
      "    g_13            (x, y) float64 dask.array<shape=(480, 1), chunksize=(10, 1)>\n",
      "    g_23            (x, y) float64 dask.array<shape=(480, 1), chunksize=(10, 1)>\n",
      "    J               (x, y) float64 dask.array<shape=(480, 1), chunksize=(10, 1)>\n",
      "    n               (t, x, y, z) float64 dask.array<shape=(1001, 480, 1, 256), chunksize=(1001, 10, 1, 256)>\n",
      "    T               (t, x, y, z) float64 dask.array<shape=(1001, 480, 1, 256), chunksize=(1001, 10, 1, 256)>\n",
      "    vort_advection  (t, x, y, z) float64 dask.array<shape=(1001, 480, 1, 256), chunksize=(1001, 10, 1, 256)>\n",
      "    vort_drive      (t, x, y, z) float64 dask.array<shape=(1001, 480, 1, 256), chunksize=(1001, 10, 1, 256)>\n",
      "    vort_diff       (t, x, y, z) float64 dask.array<shape=(1001, 480, 1, 256), chunksize=(1001, 10, 1, 256)>\n",
      "    vort_loss       (t, x, y, z) float64 dask.array<shape=(1001, 480, 1, 256), chunksize=(1001, 10, 1, 256)>\n",
      "    phi             (t, x, y, z) float64 dask.array<shape=(1001, 480, 1, 256), chunksize=(1001, 10, 1, 256)>\n",
      "    S               (x, y) float64 dask.array<shape=(480, 1), chunksize=(10, 1)>\n",
      "    S_E             (x, y) float64 dask.array<shape=(480, 1), chunksize=(10, 1)>\n",
      "    sigma_n         (x, y) float64 dask.array<shape=(480, 1), chunksize=(10, 1)>\n",
      "    sigma_vort      (x, y) float64 dask.array<shape=(480, 1), chunksize=(10, 1)>\n",
      "    sigma_T         (x, y) float64 dask.array<shape=(480, 1), chunksize=(10, 1)>\n",
      "    B               (x, y) float64 dask.array<shape=(480, 1), chunksize=(10, 1)>\n",
      "    loss            (x, y) float64 dask.array<shape=(480, 1), chunksize=(10, 1)>\n",
      "    logn            (t, x, y, z) float64 dask.array<shape=(1001, 480, 1, 256), chunksize=(1001, 10, 1, 256)>\n",
      "    logT            (t, x, y, z) float64 dask.array<shape=(1001, 480, 1, 256), chunksize=(1001, 10, 1, 256)>\n",
      "    vort            (t, x, y, z) float64 dask.array<shape=(1001, 480, 1, 256), chunksize=(1001, 10, 1, 256)>\n",
      "Attributes:\n",
      "    metadata:  {'BOUT_VERSION': 4.12, 'iteration': 999, 'zperiod': 0, 'MXSUB'...\n",
      "    options:   None\n",
      "Metadata:\n",
      "{   'BOUT_VERSION': 4.12,\n",
      "    'MXG': 2,\n",
      "    'MXSUB': 10,\n",
      "    'MYG': 0,\n",
      "    'MYSUB': 1,\n",
      "    'MZ': 256,\n",
      "    'NXPE': 48,\n",
      "    'NYPE': 1,\n",
      "    'ZMAX': 23.873241,\n",
      "    'ZMIN': 0.0,\n",
      "    'dz': 0.5859374886170207,\n",
      "    'hist_hi': 1000,\n",
      "    'iteration': 999,\n",
      "    'ixseps1': 484,\n",
      "    'ixseps2': 484,\n",
      "    'jyseps1_1': -1,\n",
      "    'jyseps1_2': 0,\n",
      "    'jyseps2_1': 0,\n",
      "    'jyseps2_2': 0,\n",
      "    'nx': 484,\n",
      "    'ny': 1,\n",
      "    'tt': 80000.0,\n",
      "    'zperiod': 0}\n",
      "\n"
     ]
    }
   ],
   "source": [
    "# Skip this in presentation because it just loads data\n",
    "%matplotlib notebook\n",
    "import matplotlib.pyplot as plt\n",
    "\n",
    "from xbout import open_boutdataset\n",
    "\n",
    "datapath = '/home/tnichol/runs/2d/core_phi_visc_scan/visc_3.7e0_vortloss_1.0e0/BOUT.dmp.*.nc'\n",
    "ds = open_boutdataset(datapath)\n",
    "ds['x'].attrs['units'] = 'rho_s'\n",
    "ds['z'].attrs['units'] = 'rho_s'\n",
    "\n",
    "ds['phi'].attrs['units'] = 'V'\n",
    "ds['phi'].name = 'Potential'\n",
    "ds['T'].name = 'Electron temperature'"
   ]
  },
  {
   "cell_type": "code",
   "execution_count": 2,
   "metadata": {
    "slideshow": {
     "slide_type": "subslide"
    }
   },
   "outputs": [
    {
     "data": {
      "application/javascript": [
       "/* Put everything inside the global mpl namespace */\n",
       "window.mpl = {};\n",
       "\n",
       "\n",
       "mpl.get_websocket_type = function() {\n",
       "    if (typeof(WebSocket) !== 'undefined') {\n",
       "        return WebSocket;\n",
       "    } else if (typeof(MozWebSocket) !== 'undefined') {\n",
       "        return MozWebSocket;\n",
       "    } else {\n",
       "        alert('Your browser does not have WebSocket support.' +\n",
       "              'Please try Chrome, Safari or Firefox ≥ 6. ' +\n",
       "              'Firefox 4 and 5 are also supported but you ' +\n",
       "              'have to enable WebSockets in about:config.');\n",
       "    };\n",
       "}\n",
       "\n",
       "mpl.figure = function(figure_id, websocket, ondownload, parent_element) {\n",
       "    this.id = figure_id;\n",
       "\n",
       "    this.ws = websocket;\n",
       "\n",
       "    this.supports_binary = (this.ws.binaryType != undefined);\n",
       "\n",
       "    if (!this.supports_binary) {\n",
       "        var warnings = document.getElementById(\"mpl-warnings\");\n",
       "        if (warnings) {\n",
       "            warnings.style.display = 'block';\n",
       "            warnings.textContent = (\n",
       "                \"This browser does not support binary websocket messages. \" +\n",
       "                    \"Performance may be slow.\");\n",
       "        }\n",
       "    }\n",
       "\n",
       "    this.imageObj = new Image();\n",
       "\n",
       "    this.context = undefined;\n",
       "    this.message = undefined;\n",
       "    this.canvas = undefined;\n",
       "    this.rubberband_canvas = undefined;\n",
       "    this.rubberband_context = undefined;\n",
       "    this.format_dropdown = undefined;\n",
       "\n",
       "    this.image_mode = 'full';\n",
       "\n",
       "    this.root = $('<div/>');\n",
       "    this._root_extra_style(this.root)\n",
       "    this.root.attr('style', 'display: inline-block');\n",
       "\n",
       "    $(parent_element).append(this.root);\n",
       "\n",
       "    this._init_header(this);\n",
       "    this._init_canvas(this);\n",
       "    this._init_toolbar(this);\n",
       "\n",
       "    var fig = this;\n",
       "\n",
       "    this.waiting = false;\n",
       "\n",
       "    this.ws.onopen =  function () {\n",
       "            fig.send_message(\"supports_binary\", {value: fig.supports_binary});\n",
       "            fig.send_message(\"send_image_mode\", {});\n",
       "            if (mpl.ratio != 1) {\n",
       "                fig.send_message(\"set_dpi_ratio\", {'dpi_ratio': mpl.ratio});\n",
       "            }\n",
       "            fig.send_message(\"refresh\", {});\n",
       "        }\n",
       "\n",
       "    this.imageObj.onload = function() {\n",
       "            if (fig.image_mode == 'full') {\n",
       "                // Full images could contain transparency (where diff images\n",
       "                // almost always do), so we need to clear the canvas so that\n",
       "                // there is no ghosting.\n",
       "                fig.context.clearRect(0, 0, fig.canvas.width, fig.canvas.height);\n",
       "            }\n",
       "            fig.context.drawImage(fig.imageObj, 0, 0);\n",
       "        };\n",
       "\n",
       "    this.imageObj.onunload = function() {\n",
       "        fig.ws.close();\n",
       "    }\n",
       "\n",
       "    this.ws.onmessage = this._make_on_message_function(this);\n",
       "\n",
       "    this.ondownload = ondownload;\n",
       "}\n",
       "\n",
       "mpl.figure.prototype._init_header = function() {\n",
       "    var titlebar = $(\n",
       "        '<div class=\"ui-dialog-titlebar ui-widget-header ui-corner-all ' +\n",
       "        'ui-helper-clearfix\"/>');\n",
       "    var titletext = $(\n",
       "        '<div class=\"ui-dialog-title\" style=\"width: 100%; ' +\n",
       "        'text-align: center; padding: 3px;\"/>');\n",
       "    titlebar.append(titletext)\n",
       "    this.root.append(titlebar);\n",
       "    this.header = titletext[0];\n",
       "}\n",
       "\n",
       "\n",
       "\n",
       "mpl.figure.prototype._canvas_extra_style = function(canvas_div) {\n",
       "\n",
       "}\n",
       "\n",
       "\n",
       "mpl.figure.prototype._root_extra_style = function(canvas_div) {\n",
       "\n",
       "}\n",
       "\n",
       "mpl.figure.prototype._init_canvas = function() {\n",
       "    var fig = this;\n",
       "\n",
       "    var canvas_div = $('<div/>');\n",
       "\n",
       "    canvas_div.attr('style', 'position: relative; clear: both; outline: 0');\n",
       "\n",
       "    function canvas_keyboard_event(event) {\n",
       "        return fig.key_event(event, event['data']);\n",
       "    }\n",
       "\n",
       "    canvas_div.keydown('key_press', canvas_keyboard_event);\n",
       "    canvas_div.keyup('key_release', canvas_keyboard_event);\n",
       "    this.canvas_div = canvas_div\n",
       "    this._canvas_extra_style(canvas_div)\n",
       "    this.root.append(canvas_div);\n",
       "\n",
       "    var canvas = $('<canvas/>');\n",
       "    canvas.addClass('mpl-canvas');\n",
       "    canvas.attr('style', \"left: 0; top: 0; z-index: 0; outline: 0\")\n",
       "\n",
       "    this.canvas = canvas[0];\n",
       "    this.context = canvas[0].getContext(\"2d\");\n",
       "\n",
       "    var backingStore = this.context.backingStorePixelRatio ||\n",
       "\tthis.context.webkitBackingStorePixelRatio ||\n",
       "\tthis.context.mozBackingStorePixelRatio ||\n",
       "\tthis.context.msBackingStorePixelRatio ||\n",
       "\tthis.context.oBackingStorePixelRatio ||\n",
       "\tthis.context.backingStorePixelRatio || 1;\n",
       "\n",
       "    mpl.ratio = (window.devicePixelRatio || 1) / backingStore;\n",
       "\n",
       "    var rubberband = $('<canvas/>');\n",
       "    rubberband.attr('style', \"position: absolute; left: 0; top: 0; z-index: 1;\")\n",
       "\n",
       "    var pass_mouse_events = true;\n",
       "\n",
       "    canvas_div.resizable({\n",
       "        start: function(event, ui) {\n",
       "            pass_mouse_events = false;\n",
       "        },\n",
       "        resize: function(event, ui) {\n",
       "            fig.request_resize(ui.size.width, ui.size.height);\n",
       "        },\n",
       "        stop: function(event, ui) {\n",
       "            pass_mouse_events = true;\n",
       "            fig.request_resize(ui.size.width, ui.size.height);\n",
       "        },\n",
       "    });\n",
       "\n",
       "    function mouse_event_fn(event) {\n",
       "        if (pass_mouse_events)\n",
       "            return fig.mouse_event(event, event['data']);\n",
       "    }\n",
       "\n",
       "    rubberband.mousedown('button_press', mouse_event_fn);\n",
       "    rubberband.mouseup('button_release', mouse_event_fn);\n",
       "    // Throttle sequential mouse events to 1 every 20ms.\n",
       "    rubberband.mousemove('motion_notify', mouse_event_fn);\n",
       "\n",
       "    rubberband.mouseenter('figure_enter', mouse_event_fn);\n",
       "    rubberband.mouseleave('figure_leave', mouse_event_fn);\n",
       "\n",
       "    canvas_div.on(\"wheel\", function (event) {\n",
       "        event = event.originalEvent;\n",
       "        event['data'] = 'scroll'\n",
       "        if (event.deltaY < 0) {\n",
       "            event.step = 1;\n",
       "        } else {\n",
       "            event.step = -1;\n",
       "        }\n",
       "        mouse_event_fn(event);\n",
       "    });\n",
       "\n",
       "    canvas_div.append(canvas);\n",
       "    canvas_div.append(rubberband);\n",
       "\n",
       "    this.rubberband = rubberband;\n",
       "    this.rubberband_canvas = rubberband[0];\n",
       "    this.rubberband_context = rubberband[0].getContext(\"2d\");\n",
       "    this.rubberband_context.strokeStyle = \"#000000\";\n",
       "\n",
       "    this._resize_canvas = function(width, height) {\n",
       "        // Keep the size of the canvas, canvas container, and rubber band\n",
       "        // canvas in synch.\n",
       "        canvas_div.css('width', width)\n",
       "        canvas_div.css('height', height)\n",
       "\n",
       "        canvas.attr('width', width * mpl.ratio);\n",
       "        canvas.attr('height', height * mpl.ratio);\n",
       "        canvas.attr('style', 'width: ' + width + 'px; height: ' + height + 'px;');\n",
       "\n",
       "        rubberband.attr('width', width);\n",
       "        rubberband.attr('height', height);\n",
       "    }\n",
       "\n",
       "    // Set the figure to an initial 600x600px, this will subsequently be updated\n",
       "    // upon first draw.\n",
       "    this._resize_canvas(600, 600);\n",
       "\n",
       "    // Disable right mouse context menu.\n",
       "    $(this.rubberband_canvas).bind(\"contextmenu\",function(e){\n",
       "        return false;\n",
       "    });\n",
       "\n",
       "    function set_focus () {\n",
       "        canvas.focus();\n",
       "        canvas_div.focus();\n",
       "    }\n",
       "\n",
       "    window.setTimeout(set_focus, 100);\n",
       "}\n",
       "\n",
       "mpl.figure.prototype._init_toolbar = function() {\n",
       "    var fig = this;\n",
       "\n",
       "    var nav_element = $('<div/>')\n",
       "    nav_element.attr('style', 'width: 100%');\n",
       "    this.root.append(nav_element);\n",
       "\n",
       "    // Define a callback function for later on.\n",
       "    function toolbar_event(event) {\n",
       "        return fig.toolbar_button_onclick(event['data']);\n",
       "    }\n",
       "    function toolbar_mouse_event(event) {\n",
       "        return fig.toolbar_button_onmouseover(event['data']);\n",
       "    }\n",
       "\n",
       "    for(var toolbar_ind in mpl.toolbar_items) {\n",
       "        var name = mpl.toolbar_items[toolbar_ind][0];\n",
       "        var tooltip = mpl.toolbar_items[toolbar_ind][1];\n",
       "        var image = mpl.toolbar_items[toolbar_ind][2];\n",
       "        var method_name = mpl.toolbar_items[toolbar_ind][3];\n",
       "\n",
       "        if (!name) {\n",
       "            // put a spacer in here.\n",
       "            continue;\n",
       "        }\n",
       "        var button = $('<button/>');\n",
       "        button.addClass('ui-button ui-widget ui-state-default ui-corner-all ' +\n",
       "                        'ui-button-icon-only');\n",
       "        button.attr('role', 'button');\n",
       "        button.attr('aria-disabled', 'false');\n",
       "        button.click(method_name, toolbar_event);\n",
       "        button.mouseover(tooltip, toolbar_mouse_event);\n",
       "\n",
       "        var icon_img = $('<span/>');\n",
       "        icon_img.addClass('ui-button-icon-primary ui-icon');\n",
       "        icon_img.addClass(image);\n",
       "        icon_img.addClass('ui-corner-all');\n",
       "\n",
       "        var tooltip_span = $('<span/>');\n",
       "        tooltip_span.addClass('ui-button-text');\n",
       "        tooltip_span.html(tooltip);\n",
       "\n",
       "        button.append(icon_img);\n",
       "        button.append(tooltip_span);\n",
       "\n",
       "        nav_element.append(button);\n",
       "    }\n",
       "\n",
       "    var fmt_picker_span = $('<span/>');\n",
       "\n",
       "    var fmt_picker = $('<select/>');\n",
       "    fmt_picker.addClass('mpl-toolbar-option ui-widget ui-widget-content');\n",
       "    fmt_picker_span.append(fmt_picker);\n",
       "    nav_element.append(fmt_picker_span);\n",
       "    this.format_dropdown = fmt_picker[0];\n",
       "\n",
       "    for (var ind in mpl.extensions) {\n",
       "        var fmt = mpl.extensions[ind];\n",
       "        var option = $(\n",
       "            '<option/>', {selected: fmt === mpl.default_extension}).html(fmt);\n",
       "        fmt_picker.append(option)\n",
       "    }\n",
       "\n",
       "    // Add hover states to the ui-buttons\n",
       "    $( \".ui-button\" ).hover(\n",
       "        function() { $(this).addClass(\"ui-state-hover\");},\n",
       "        function() { $(this).removeClass(\"ui-state-hover\");}\n",
       "    );\n",
       "\n",
       "    var status_bar = $('<span class=\"mpl-message\"/>');\n",
       "    nav_element.append(status_bar);\n",
       "    this.message = status_bar[0];\n",
       "}\n",
       "\n",
       "mpl.figure.prototype.request_resize = function(x_pixels, y_pixels) {\n",
       "    // Request matplotlib to resize the figure. Matplotlib will then trigger a resize in the client,\n",
       "    // which will in turn request a refresh of the image.\n",
       "    this.send_message('resize', {'width': x_pixels, 'height': y_pixels});\n",
       "}\n",
       "\n",
       "mpl.figure.prototype.send_message = function(type, properties) {\n",
       "    properties['type'] = type;\n",
       "    properties['figure_id'] = this.id;\n",
       "    this.ws.send(JSON.stringify(properties));\n",
       "}\n",
       "\n",
       "mpl.figure.prototype.send_draw_message = function() {\n",
       "    if (!this.waiting) {\n",
       "        this.waiting = true;\n",
       "        this.ws.send(JSON.stringify({type: \"draw\", figure_id: this.id}));\n",
       "    }\n",
       "}\n",
       "\n",
       "\n",
       "mpl.figure.prototype.handle_save = function(fig, msg) {\n",
       "    var format_dropdown = fig.format_dropdown;\n",
       "    var format = format_dropdown.options[format_dropdown.selectedIndex].value;\n",
       "    fig.ondownload(fig, format);\n",
       "}\n",
       "\n",
       "\n",
       "mpl.figure.prototype.handle_resize = function(fig, msg) {\n",
       "    var size = msg['size'];\n",
       "    if (size[0] != fig.canvas.width || size[1] != fig.canvas.height) {\n",
       "        fig._resize_canvas(size[0], size[1]);\n",
       "        fig.send_message(\"refresh\", {});\n",
       "    };\n",
       "}\n",
       "\n",
       "mpl.figure.prototype.handle_rubberband = function(fig, msg) {\n",
       "    var x0 = msg['x0'] / mpl.ratio;\n",
       "    var y0 = (fig.canvas.height - msg['y0']) / mpl.ratio;\n",
       "    var x1 = msg['x1'] / mpl.ratio;\n",
       "    var y1 = (fig.canvas.height - msg['y1']) / mpl.ratio;\n",
       "    x0 = Math.floor(x0) + 0.5;\n",
       "    y0 = Math.floor(y0) + 0.5;\n",
       "    x1 = Math.floor(x1) + 0.5;\n",
       "    y1 = Math.floor(y1) + 0.5;\n",
       "    var min_x = Math.min(x0, x1);\n",
       "    var min_y = Math.min(y0, y1);\n",
       "    var width = Math.abs(x1 - x0);\n",
       "    var height = Math.abs(y1 - y0);\n",
       "\n",
       "    fig.rubberband_context.clearRect(\n",
       "        0, 0, fig.canvas.width, fig.canvas.height);\n",
       "\n",
       "    fig.rubberband_context.strokeRect(min_x, min_y, width, height);\n",
       "}\n",
       "\n",
       "mpl.figure.prototype.handle_figure_label = function(fig, msg) {\n",
       "    // Updates the figure title.\n",
       "    fig.header.textContent = msg['label'];\n",
       "}\n",
       "\n",
       "mpl.figure.prototype.handle_cursor = function(fig, msg) {\n",
       "    var cursor = msg['cursor'];\n",
       "    switch(cursor)\n",
       "    {\n",
       "    case 0:\n",
       "        cursor = 'pointer';\n",
       "        break;\n",
       "    case 1:\n",
       "        cursor = 'default';\n",
       "        break;\n",
       "    case 2:\n",
       "        cursor = 'crosshair';\n",
       "        break;\n",
       "    case 3:\n",
       "        cursor = 'move';\n",
       "        break;\n",
       "    }\n",
       "    fig.rubberband_canvas.style.cursor = cursor;\n",
       "}\n",
       "\n",
       "mpl.figure.prototype.handle_message = function(fig, msg) {\n",
       "    fig.message.textContent = msg['message'];\n",
       "}\n",
       "\n",
       "mpl.figure.prototype.handle_draw = function(fig, msg) {\n",
       "    // Request the server to send over a new figure.\n",
       "    fig.send_draw_message();\n",
       "}\n",
       "\n",
       "mpl.figure.prototype.handle_image_mode = function(fig, msg) {\n",
       "    fig.image_mode = msg['mode'];\n",
       "}\n",
       "\n",
       "mpl.figure.prototype.updated_canvas_event = function() {\n",
       "    // Called whenever the canvas gets updated.\n",
       "    this.send_message(\"ack\", {});\n",
       "}\n",
       "\n",
       "// A function to construct a web socket function for onmessage handling.\n",
       "// Called in the figure constructor.\n",
       "mpl.figure.prototype._make_on_message_function = function(fig) {\n",
       "    return function socket_on_message(evt) {\n",
       "        if (evt.data instanceof Blob) {\n",
       "            /* FIXME: We get \"Resource interpreted as Image but\n",
       "             * transferred with MIME type text/plain:\" errors on\n",
       "             * Chrome.  But how to set the MIME type?  It doesn't seem\n",
       "             * to be part of the websocket stream */\n",
       "            evt.data.type = \"image/png\";\n",
       "\n",
       "            /* Free the memory for the previous frames */\n",
       "            if (fig.imageObj.src) {\n",
       "                (window.URL || window.webkitURL).revokeObjectURL(\n",
       "                    fig.imageObj.src);\n",
       "            }\n",
       "\n",
       "            fig.imageObj.src = (window.URL || window.webkitURL).createObjectURL(\n",
       "                evt.data);\n",
       "            fig.updated_canvas_event();\n",
       "            fig.waiting = false;\n",
       "            return;\n",
       "        }\n",
       "        else if (typeof evt.data === 'string' && evt.data.slice(0, 21) == \"data:image/png;base64\") {\n",
       "            fig.imageObj.src = evt.data;\n",
       "            fig.updated_canvas_event();\n",
       "            fig.waiting = false;\n",
       "            return;\n",
       "        }\n",
       "\n",
       "        var msg = JSON.parse(evt.data);\n",
       "        var msg_type = msg['type'];\n",
       "\n",
       "        // Call the  \"handle_{type}\" callback, which takes\n",
       "        // the figure and JSON message as its only arguments.\n",
       "        try {\n",
       "            var callback = fig[\"handle_\" + msg_type];\n",
       "        } catch (e) {\n",
       "            console.log(\"No handler for the '\" + msg_type + \"' message type: \", msg);\n",
       "            return;\n",
       "        }\n",
       "\n",
       "        if (callback) {\n",
       "            try {\n",
       "                // console.log(\"Handling '\" + msg_type + \"' message: \", msg);\n",
       "                callback(fig, msg);\n",
       "            } catch (e) {\n",
       "                console.log(\"Exception inside the 'handler_\" + msg_type + \"' callback:\", e, e.stack, msg);\n",
       "            }\n",
       "        }\n",
       "    };\n",
       "}\n",
       "\n",
       "// from http://stackoverflow.com/questions/1114465/getting-mouse-location-in-canvas\n",
       "mpl.findpos = function(e) {\n",
       "    //this section is from http://www.quirksmode.org/js/events_properties.html\n",
       "    var targ;\n",
       "    if (!e)\n",
       "        e = window.event;\n",
       "    if (e.target)\n",
       "        targ = e.target;\n",
       "    else if (e.srcElement)\n",
       "        targ = e.srcElement;\n",
       "    if (targ.nodeType == 3) // defeat Safari bug\n",
       "        targ = targ.parentNode;\n",
       "\n",
       "    // jQuery normalizes the pageX and pageY\n",
       "    // pageX,Y are the mouse positions relative to the document\n",
       "    // offset() returns the position of the element relative to the document\n",
       "    var x = e.pageX - $(targ).offset().left;\n",
       "    var y = e.pageY - $(targ).offset().top;\n",
       "\n",
       "    return {\"x\": x, \"y\": y};\n",
       "};\n",
       "\n",
       "/*\n",
       " * return a copy of an object with only non-object keys\n",
       " * we need this to avoid circular references\n",
       " * http://stackoverflow.com/a/24161582/3208463\n",
       " */\n",
       "function simpleKeys (original) {\n",
       "  return Object.keys(original).reduce(function (obj, key) {\n",
       "    if (typeof original[key] !== 'object')\n",
       "        obj[key] = original[key]\n",
       "    return obj;\n",
       "  }, {});\n",
       "}\n",
       "\n",
       "mpl.figure.prototype.mouse_event = function(event, name) {\n",
       "    var canvas_pos = mpl.findpos(event)\n",
       "\n",
       "    if (name === 'button_press')\n",
       "    {\n",
       "        this.canvas.focus();\n",
       "        this.canvas_div.focus();\n",
       "    }\n",
       "\n",
       "    var x = canvas_pos.x * mpl.ratio;\n",
       "    var y = canvas_pos.y * mpl.ratio;\n",
       "\n",
       "    this.send_message(name, {x: x, y: y, button: event.button,\n",
       "                             step: event.step,\n",
       "                             guiEvent: simpleKeys(event)});\n",
       "\n",
       "    /* This prevents the web browser from automatically changing to\n",
       "     * the text insertion cursor when the button is pressed.  We want\n",
       "     * to control all of the cursor setting manually through the\n",
       "     * 'cursor' event from matplotlib */\n",
       "    event.preventDefault();\n",
       "    return false;\n",
       "}\n",
       "\n",
       "mpl.figure.prototype._key_event_extra = function(event, name) {\n",
       "    // Handle any extra behaviour associated with a key event\n",
       "}\n",
       "\n",
       "mpl.figure.prototype.key_event = function(event, name) {\n",
       "\n",
       "    // Prevent repeat events\n",
       "    if (name == 'key_press')\n",
       "    {\n",
       "        if (event.which === this._key)\n",
       "            return;\n",
       "        else\n",
       "            this._key = event.which;\n",
       "    }\n",
       "    if (name == 'key_release')\n",
       "        this._key = null;\n",
       "\n",
       "    var value = '';\n",
       "    if (event.ctrlKey && event.which != 17)\n",
       "        value += \"ctrl+\";\n",
       "    if (event.altKey && event.which != 18)\n",
       "        value += \"alt+\";\n",
       "    if (event.shiftKey && event.which != 16)\n",
       "        value += \"shift+\";\n",
       "\n",
       "    value += 'k';\n",
       "    value += event.which.toString();\n",
       "\n",
       "    this._key_event_extra(event, name);\n",
       "\n",
       "    this.send_message(name, {key: value,\n",
       "                             guiEvent: simpleKeys(event)});\n",
       "    return false;\n",
       "}\n",
       "\n",
       "mpl.figure.prototype.toolbar_button_onclick = function(name) {\n",
       "    if (name == 'download') {\n",
       "        this.handle_save(this, null);\n",
       "    } else {\n",
       "        this.send_message(\"toolbar_button\", {name: name});\n",
       "    }\n",
       "};\n",
       "\n",
       "mpl.figure.prototype.toolbar_button_onmouseover = function(tooltip) {\n",
       "    this.message.textContent = tooltip;\n",
       "};\n",
       "mpl.toolbar_items = [[\"Home\", \"Reset original view\", \"fa fa-home icon-home\", \"home\"], [\"Back\", \"Back to previous view\", \"fa fa-arrow-left icon-arrow-left\", \"back\"], [\"Forward\", \"Forward to next view\", \"fa fa-arrow-right icon-arrow-right\", \"forward\"], [\"\", \"\", \"\", \"\"], [\"Pan\", \"Pan axes with left mouse, zoom with right\", \"fa fa-arrows icon-move\", \"pan\"], [\"Zoom\", \"Zoom to rectangle\", \"fa fa-square-o icon-check-empty\", \"zoom\"], [\"\", \"\", \"\", \"\"], [\"Download\", \"Download plot\", \"fa fa-floppy-o icon-save\", \"download\"]];\n",
       "\n",
       "mpl.extensions = [\"eps\", \"jpeg\", \"pdf\", \"png\", \"ps\", \"raw\", \"svg\", \"tif\"];\n",
       "\n",
       "mpl.default_extension = \"png\";var comm_websocket_adapter = function(comm) {\n",
       "    // Create a \"websocket\"-like object which calls the given IPython comm\n",
       "    // object with the appropriate methods. Currently this is a non binary\n",
       "    // socket, so there is still some room for performance tuning.\n",
       "    var ws = {};\n",
       "\n",
       "    ws.close = function() {\n",
       "        comm.close()\n",
       "    };\n",
       "    ws.send = function(m) {\n",
       "        //console.log('sending', m);\n",
       "        comm.send(m);\n",
       "    };\n",
       "    // Register the callback with on_msg.\n",
       "    comm.on_msg(function(msg) {\n",
       "        //console.log('receiving', msg['content']['data'], msg);\n",
       "        // Pass the mpl event to the overridden (by mpl) onmessage function.\n",
       "        ws.onmessage(msg['content']['data'])\n",
       "    });\n",
       "    return ws;\n",
       "}\n",
       "\n",
       "mpl.mpl_figure_comm = function(comm, msg) {\n",
       "    // This is the function which gets called when the mpl process\n",
       "    // starts-up an IPython Comm through the \"matplotlib\" channel.\n",
       "\n",
       "    var id = msg.content.data.id;\n",
       "    // Get hold of the div created by the display call when the Comm\n",
       "    // socket was opened in Python.\n",
       "    var element = $(\"#\" + id);\n",
       "    var ws_proxy = comm_websocket_adapter(comm)\n",
       "\n",
       "    function ondownload(figure, format) {\n",
       "        window.open(figure.imageObj.src);\n",
       "    }\n",
       "\n",
       "    var fig = new mpl.figure(id, ws_proxy,\n",
       "                           ondownload,\n",
       "                           element.get(0));\n",
       "\n",
       "    // Call onopen now - mpl needs it, as it is assuming we've passed it a real\n",
       "    // web socket which is closed, not our websocket->open comm proxy.\n",
       "    ws_proxy.onopen();\n",
       "\n",
       "    fig.parent_element = element.get(0);\n",
       "    fig.cell_info = mpl.find_output_cell(\"<div id='\" + id + \"'></div>\");\n",
       "    if (!fig.cell_info) {\n",
       "        console.error(\"Failed to find cell for figure\", id, fig);\n",
       "        return;\n",
       "    }\n",
       "\n",
       "    var output_index = fig.cell_info[2]\n",
       "    var cell = fig.cell_info[0];\n",
       "\n",
       "};\n",
       "\n",
       "mpl.figure.prototype.handle_close = function(fig, msg) {\n",
       "    var width = fig.canvas.width/mpl.ratio\n",
       "    fig.root.unbind('remove')\n",
       "\n",
       "    // Update the output cell to use the data from the current canvas.\n",
       "    fig.push_to_output();\n",
       "    var dataURL = fig.canvas.toDataURL();\n",
       "    // Re-enable the keyboard manager in IPython - without this line, in FF,\n",
       "    // the notebook keyboard shortcuts fail.\n",
       "    IPython.keyboard_manager.enable()\n",
       "    $(fig.parent_element).html('<img src=\"' + dataURL + '\" width=\"' + width + '\">');\n",
       "    fig.close_ws(fig, msg);\n",
       "}\n",
       "\n",
       "mpl.figure.prototype.close_ws = function(fig, msg){\n",
       "    fig.send_message('closing', msg);\n",
       "    // fig.ws.close()\n",
       "}\n",
       "\n",
       "mpl.figure.prototype.push_to_output = function(remove_interactive) {\n",
       "    // Turn the data on the canvas into data in the output cell.\n",
       "    var width = this.canvas.width/mpl.ratio\n",
       "    var dataURL = this.canvas.toDataURL();\n",
       "    this.cell_info[1]['text/html'] = '<img src=\"' + dataURL + '\" width=\"' + width + '\">';\n",
       "}\n",
       "\n",
       "mpl.figure.prototype.updated_canvas_event = function() {\n",
       "    // Tell IPython that the notebook contents must change.\n",
       "    IPython.notebook.set_dirty(true);\n",
       "    this.send_message(\"ack\", {});\n",
       "    var fig = this;\n",
       "    // Wait a second, then push the new image to the DOM so\n",
       "    // that it is saved nicely (might be nice to debounce this).\n",
       "    setTimeout(function () { fig.push_to_output() }, 1000);\n",
       "}\n",
       "\n",
       "mpl.figure.prototype._init_toolbar = function() {\n",
       "    var fig = this;\n",
       "\n",
       "    var nav_element = $('<div/>')\n",
       "    nav_element.attr('style', 'width: 100%');\n",
       "    this.root.append(nav_element);\n",
       "\n",
       "    // Define a callback function for later on.\n",
       "    function toolbar_event(event) {\n",
       "        return fig.toolbar_button_onclick(event['data']);\n",
       "    }\n",
       "    function toolbar_mouse_event(event) {\n",
       "        return fig.toolbar_button_onmouseover(event['data']);\n",
       "    }\n",
       "\n",
       "    for(var toolbar_ind in mpl.toolbar_items){\n",
       "        var name = mpl.toolbar_items[toolbar_ind][0];\n",
       "        var tooltip = mpl.toolbar_items[toolbar_ind][1];\n",
       "        var image = mpl.toolbar_items[toolbar_ind][2];\n",
       "        var method_name = mpl.toolbar_items[toolbar_ind][3];\n",
       "\n",
       "        if (!name) { continue; };\n",
       "\n",
       "        var button = $('<button class=\"btn btn-default\" href=\"#\" title=\"' + name + '\"><i class=\"fa ' + image + ' fa-lg\"></i></button>');\n",
       "        button.click(method_name, toolbar_event);\n",
       "        button.mouseover(tooltip, toolbar_mouse_event);\n",
       "        nav_element.append(button);\n",
       "    }\n",
       "\n",
       "    // Add the status bar.\n",
       "    var status_bar = $('<span class=\"mpl-message\" style=\"text-align:right; float: right;\"/>');\n",
       "    nav_element.append(status_bar);\n",
       "    this.message = status_bar[0];\n",
       "\n",
       "    // Add the close button to the window.\n",
       "    var buttongrp = $('<div class=\"btn-group inline pull-right\"></div>');\n",
       "    var button = $('<button class=\"btn btn-mini btn-primary\" href=\"#\" title=\"Stop Interaction\"><i class=\"fa fa-power-off icon-remove icon-large\"></i></button>');\n",
       "    button.click(function (evt) { fig.handle_close(fig, {}); } );\n",
       "    button.mouseover('Stop Interaction', toolbar_mouse_event);\n",
       "    buttongrp.append(button);\n",
       "    var titlebar = this.root.find($('.ui-dialog-titlebar'));\n",
       "    titlebar.prepend(buttongrp);\n",
       "}\n",
       "\n",
       "mpl.figure.prototype._root_extra_style = function(el){\n",
       "    var fig = this\n",
       "    el.on(\"remove\", function(){\n",
       "\tfig.close_ws(fig, {});\n",
       "    });\n",
       "}\n",
       "\n",
       "mpl.figure.prototype._canvas_extra_style = function(el){\n",
       "    // this is important to make the div 'focusable\n",
       "    el.attr('tabindex', 0)\n",
       "    // reach out to IPython and tell the keyboard manager to turn it's self\n",
       "    // off when our div gets focus\n",
       "\n",
       "    // location in version 3\n",
       "    if (IPython.notebook.keyboard_manager) {\n",
       "        IPython.notebook.keyboard_manager.register_events(el);\n",
       "    }\n",
       "    else {\n",
       "        // location in version 2\n",
       "        IPython.keyboard_manager.register_events(el);\n",
       "    }\n",
       "\n",
       "}\n",
       "\n",
       "mpl.figure.prototype._key_event_extra = function(event, name) {\n",
       "    var manager = IPython.notebook.keyboard_manager;\n",
       "    if (!manager)\n",
       "        manager = IPython.keyboard_manager;\n",
       "\n",
       "    // Check for shift+enter\n",
       "    if (event.shiftKey && event.which == 13) {\n",
       "        this.canvas_div.blur();\n",
       "        event.shiftKey = false;\n",
       "        // Send a \"J\" for go to next cell\n",
       "        event.which = 74;\n",
       "        event.keyCode = 74;\n",
       "        manager.command_mode();\n",
       "        manager.handle_keydown(event);\n",
       "    }\n",
       "}\n",
       "\n",
       "mpl.figure.prototype.handle_save = function(fig, msg) {\n",
       "    fig.ondownload(fig, null);\n",
       "}\n",
       "\n",
       "\n",
       "mpl.find_output_cell = function(html_output) {\n",
       "    // Return the cell and output element which can be found *uniquely* in the notebook.\n",
       "    // Note - this is a bit hacky, but it is done because the \"notebook_saving.Notebook\"\n",
       "    // IPython event is triggered only after the cells have been serialised, which for\n",
       "    // our purposes (turning an active figure into a static one), is too late.\n",
       "    var cells = IPython.notebook.get_cells();\n",
       "    var ncells = cells.length;\n",
       "    for (var i=0; i<ncells; i++) {\n",
       "        var cell = cells[i];\n",
       "        if (cell.cell_type === 'code'){\n",
       "            for (var j=0; j<cell.output_area.outputs.length; j++) {\n",
       "                var data = cell.output_area.outputs[j];\n",
       "                if (data.data) {\n",
       "                    // IPython >= 3 moved mimebundle to data attribute of output\n",
       "                    data = data.data;\n",
       "                }\n",
       "                if (data['text/html'] == html_output) {\n",
       "                    return [cell, data, j];\n",
       "                }\n",
       "            }\n",
       "        }\n",
       "    }\n",
       "}\n",
       "\n",
       "// Register the function which deals with the matplotlib target/channel.\n",
       "// The kernel may be null if the page has been refreshed.\n",
       "if (IPython.notebook.kernel != null) {\n",
       "    IPython.notebook.kernel.comm_manager.register_target('matplotlib', mpl.mpl_figure_comm);\n",
       "}\n"
      ],
      "text/plain": [
       "<IPython.core.display.Javascript object>"
      ]
     },
     "metadata": {},
     "output_type": "display_data"
    },
    {
     "data": {
      "text/html": [
       "<img src=\"data:image/png;base64,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\" width=\"639.9999861283738\">"
      ],
      "text/plain": [
       "<IPython.core.display.HTML object>"
      ]
     },
     "metadata": {},
     "output_type": "display_data"
    },
    {
     "data": {
      "text/plain": [
       "<matplotlib.collections.QuadMesh at 0x7faac91228d0>"
      ]
     },
     "execution_count": 2,
     "metadata": {},
     "output_type": "execute_result"
    }
   ],
   "source": [
    "ds['n'].isel(t=100, y=0).plot()"
   ]
  },
  {
   "cell_type": "markdown",
   "metadata": {
    "slideshow": {
     "slide_type": "fragment"
    }
   },
   "source": [
    "Notice the axes and title are automatically created (this info must be stored in the dataset obviously)"
   ]
  },
  {
   "cell_type": "markdown",
   "metadata": {
    "slideshow": {
     "slide_type": "subslide"
    }
   },
   "source": [
    "These plotting functions automatically use an appropriate type of plot for the dimension of the data (1D, 2D etc.)"
   ]
  },
  {
   "cell_type": "code",
   "execution_count": 3,
   "metadata": {
    "slideshow": {
     "slide_type": "subslide"
    }
   },
   "outputs": [
    {
     "data": {
      "application/javascript": [
       "/* Put everything inside the global mpl namespace */\n",
       "window.mpl = {};\n",
       "\n",
       "\n",
       "mpl.get_websocket_type = function() {\n",
       "    if (typeof(WebSocket) !== 'undefined') {\n",
       "        return WebSocket;\n",
       "    } else if (typeof(MozWebSocket) !== 'undefined') {\n",
       "        return MozWebSocket;\n",
       "    } else {\n",
       "        alert('Your browser does not have WebSocket support.' +\n",
       "              'Please try Chrome, Safari or Firefox ≥ 6. ' +\n",
       "              'Firefox 4 and 5 are also supported but you ' +\n",
       "              'have to enable WebSockets in about:config.');\n",
       "    };\n",
       "}\n",
       "\n",
       "mpl.figure = function(figure_id, websocket, ondownload, parent_element) {\n",
       "    this.id = figure_id;\n",
       "\n",
       "    this.ws = websocket;\n",
       "\n",
       "    this.supports_binary = (this.ws.binaryType != undefined);\n",
       "\n",
       "    if (!this.supports_binary) {\n",
       "        var warnings = document.getElementById(\"mpl-warnings\");\n",
       "        if (warnings) {\n",
       "            warnings.style.display = 'block';\n",
       "            warnings.textContent = (\n",
       "                \"This browser does not support binary websocket messages. \" +\n",
       "                    \"Performance may be slow.\");\n",
       "        }\n",
       "    }\n",
       "\n",
       "    this.imageObj = new Image();\n",
       "\n",
       "    this.context = undefined;\n",
       "    this.message = undefined;\n",
       "    this.canvas = undefined;\n",
       "    this.rubberband_canvas = undefined;\n",
       "    this.rubberband_context = undefined;\n",
       "    this.format_dropdown = undefined;\n",
       "\n",
       "    this.image_mode = 'full';\n",
       "\n",
       "    this.root = $('<div/>');\n",
       "    this._root_extra_style(this.root)\n",
       "    this.root.attr('style', 'display: inline-block');\n",
       "\n",
       "    $(parent_element).append(this.root);\n",
       "\n",
       "    this._init_header(this);\n",
       "    this._init_canvas(this);\n",
       "    this._init_toolbar(this);\n",
       "\n",
       "    var fig = this;\n",
       "\n",
       "    this.waiting = false;\n",
       "\n",
       "    this.ws.onopen =  function () {\n",
       "            fig.send_message(\"supports_binary\", {value: fig.supports_binary});\n",
       "            fig.send_message(\"send_image_mode\", {});\n",
       "            if (mpl.ratio != 1) {\n",
       "                fig.send_message(\"set_dpi_ratio\", {'dpi_ratio': mpl.ratio});\n",
       "            }\n",
       "            fig.send_message(\"refresh\", {});\n",
       "        }\n",
       "\n",
       "    this.imageObj.onload = function() {\n",
       "            if (fig.image_mode == 'full') {\n",
       "                // Full images could contain transparency (where diff images\n",
       "                // almost always do), so we need to clear the canvas so that\n",
       "                // there is no ghosting.\n",
       "                fig.context.clearRect(0, 0, fig.canvas.width, fig.canvas.height);\n",
       "            }\n",
       "            fig.context.drawImage(fig.imageObj, 0, 0);\n",
       "        };\n",
       "\n",
       "    this.imageObj.onunload = function() {\n",
       "        fig.ws.close();\n",
       "    }\n",
       "\n",
       "    this.ws.onmessage = this._make_on_message_function(this);\n",
       "\n",
       "    this.ondownload = ondownload;\n",
       "}\n",
       "\n",
       "mpl.figure.prototype._init_header = function() {\n",
       "    var titlebar = $(\n",
       "        '<div class=\"ui-dialog-titlebar ui-widget-header ui-corner-all ' +\n",
       "        'ui-helper-clearfix\"/>');\n",
       "    var titletext = $(\n",
       "        '<div class=\"ui-dialog-title\" style=\"width: 100%; ' +\n",
       "        'text-align: center; padding: 3px;\"/>');\n",
       "    titlebar.append(titletext)\n",
       "    this.root.append(titlebar);\n",
       "    this.header = titletext[0];\n",
       "}\n",
       "\n",
       "\n",
       "\n",
       "mpl.figure.prototype._canvas_extra_style = function(canvas_div) {\n",
       "\n",
       "}\n",
       "\n",
       "\n",
       "mpl.figure.prototype._root_extra_style = function(canvas_div) {\n",
       "\n",
       "}\n",
       "\n",
       "mpl.figure.prototype._init_canvas = function() {\n",
       "    var fig = this;\n",
       "\n",
       "    var canvas_div = $('<div/>');\n",
       "\n",
       "    canvas_div.attr('style', 'position: relative; clear: both; outline: 0');\n",
       "\n",
       "    function canvas_keyboard_event(event) {\n",
       "        return fig.key_event(event, event['data']);\n",
       "    }\n",
       "\n",
       "    canvas_div.keydown('key_press', canvas_keyboard_event);\n",
       "    canvas_div.keyup('key_release', canvas_keyboard_event);\n",
       "    this.canvas_div = canvas_div\n",
       "    this._canvas_extra_style(canvas_div)\n",
       "    this.root.append(canvas_div);\n",
       "\n",
       "    var canvas = $('<canvas/>');\n",
       "    canvas.addClass('mpl-canvas');\n",
       "    canvas.attr('style', \"left: 0; top: 0; z-index: 0; outline: 0\")\n",
       "\n",
       "    this.canvas = canvas[0];\n",
       "    this.context = canvas[0].getContext(\"2d\");\n",
       "\n",
       "    var backingStore = this.context.backingStorePixelRatio ||\n",
       "\tthis.context.webkitBackingStorePixelRatio ||\n",
       "\tthis.context.mozBackingStorePixelRatio ||\n",
       "\tthis.context.msBackingStorePixelRatio ||\n",
       "\tthis.context.oBackingStorePixelRatio ||\n",
       "\tthis.context.backingStorePixelRatio || 1;\n",
       "\n",
       "    mpl.ratio = (window.devicePixelRatio || 1) / backingStore;\n",
       "\n",
       "    var rubberband = $('<canvas/>');\n",
       "    rubberband.attr('style', \"position: absolute; left: 0; top: 0; z-index: 1;\")\n",
       "\n",
       "    var pass_mouse_events = true;\n",
       "\n",
       "    canvas_div.resizable({\n",
       "        start: function(event, ui) {\n",
       "            pass_mouse_events = false;\n",
       "        },\n",
       "        resize: function(event, ui) {\n",
       "            fig.request_resize(ui.size.width, ui.size.height);\n",
       "        },\n",
       "        stop: function(event, ui) {\n",
       "            pass_mouse_events = true;\n",
       "            fig.request_resize(ui.size.width, ui.size.height);\n",
       "        },\n",
       "    });\n",
       "\n",
       "    function mouse_event_fn(event) {\n",
       "        if (pass_mouse_events)\n",
       "            return fig.mouse_event(event, event['data']);\n",
       "    }\n",
       "\n",
       "    rubberband.mousedown('button_press', mouse_event_fn);\n",
       "    rubberband.mouseup('button_release', mouse_event_fn);\n",
       "    // Throttle sequential mouse events to 1 every 20ms.\n",
       "    rubberband.mousemove('motion_notify', mouse_event_fn);\n",
       "\n",
       "    rubberband.mouseenter('figure_enter', mouse_event_fn);\n",
       "    rubberband.mouseleave('figure_leave', mouse_event_fn);\n",
       "\n",
       "    canvas_div.on(\"wheel\", function (event) {\n",
       "        event = event.originalEvent;\n",
       "        event['data'] = 'scroll'\n",
       "        if (event.deltaY < 0) {\n",
       "            event.step = 1;\n",
       "        } else {\n",
       "            event.step = -1;\n",
       "        }\n",
       "        mouse_event_fn(event);\n",
       "    });\n",
       "\n",
       "    canvas_div.append(canvas);\n",
       "    canvas_div.append(rubberband);\n",
       "\n",
       "    this.rubberband = rubberband;\n",
       "    this.rubberband_canvas = rubberband[0];\n",
       "    this.rubberband_context = rubberband[0].getContext(\"2d\");\n",
       "    this.rubberband_context.strokeStyle = \"#000000\";\n",
       "\n",
       "    this._resize_canvas = function(width, height) {\n",
       "        // Keep the size of the canvas, canvas container, and rubber band\n",
       "        // canvas in synch.\n",
       "        canvas_div.css('width', width)\n",
       "        canvas_div.css('height', height)\n",
       "\n",
       "        canvas.attr('width', width * mpl.ratio);\n",
       "        canvas.attr('height', height * mpl.ratio);\n",
       "        canvas.attr('style', 'width: ' + width + 'px; height: ' + height + 'px;');\n",
       "\n",
       "        rubberband.attr('width', width);\n",
       "        rubberband.attr('height', height);\n",
       "    }\n",
       "\n",
       "    // Set the figure to an initial 600x600px, this will subsequently be updated\n",
       "    // upon first draw.\n",
       "    this._resize_canvas(600, 600);\n",
       "\n",
       "    // Disable right mouse context menu.\n",
       "    $(this.rubberband_canvas).bind(\"contextmenu\",function(e){\n",
       "        return false;\n",
       "    });\n",
       "\n",
       "    function set_focus () {\n",
       "        canvas.focus();\n",
       "        canvas_div.focus();\n",
       "    }\n",
       "\n",
       "    window.setTimeout(set_focus, 100);\n",
       "}\n",
       "\n",
       "mpl.figure.prototype._init_toolbar = function() {\n",
       "    var fig = this;\n",
       "\n",
       "    var nav_element = $('<div/>')\n",
       "    nav_element.attr('style', 'width: 100%');\n",
       "    this.root.append(nav_element);\n",
       "\n",
       "    // Define a callback function for later on.\n",
       "    function toolbar_event(event) {\n",
       "        return fig.toolbar_button_onclick(event['data']);\n",
       "    }\n",
       "    function toolbar_mouse_event(event) {\n",
       "        return fig.toolbar_button_onmouseover(event['data']);\n",
       "    }\n",
       "\n",
       "    for(var toolbar_ind in mpl.toolbar_items) {\n",
       "        var name = mpl.toolbar_items[toolbar_ind][0];\n",
       "        var tooltip = mpl.toolbar_items[toolbar_ind][1];\n",
       "        var image = mpl.toolbar_items[toolbar_ind][2];\n",
       "        var method_name = mpl.toolbar_items[toolbar_ind][3];\n",
       "\n",
       "        if (!name) {\n",
       "            // put a spacer in here.\n",
       "            continue;\n",
       "        }\n",
       "        var button = $('<button/>');\n",
       "        button.addClass('ui-button ui-widget ui-state-default ui-corner-all ' +\n",
       "                        'ui-button-icon-only');\n",
       "        button.attr('role', 'button');\n",
       "        button.attr('aria-disabled', 'false');\n",
       "        button.click(method_name, toolbar_event);\n",
       "        button.mouseover(tooltip, toolbar_mouse_event);\n",
       "\n",
       "        var icon_img = $('<span/>');\n",
       "        icon_img.addClass('ui-button-icon-primary ui-icon');\n",
       "        icon_img.addClass(image);\n",
       "        icon_img.addClass('ui-corner-all');\n",
       "\n",
       "        var tooltip_span = $('<span/>');\n",
       "        tooltip_span.addClass('ui-button-text');\n",
       "        tooltip_span.html(tooltip);\n",
       "\n",
       "        button.append(icon_img);\n",
       "        button.append(tooltip_span);\n",
       "\n",
       "        nav_element.append(button);\n",
       "    }\n",
       "\n",
       "    var fmt_picker_span = $('<span/>');\n",
       "\n",
       "    var fmt_picker = $('<select/>');\n",
       "    fmt_picker.addClass('mpl-toolbar-option ui-widget ui-widget-content');\n",
       "    fmt_picker_span.append(fmt_picker);\n",
       "    nav_element.append(fmt_picker_span);\n",
       "    this.format_dropdown = fmt_picker[0];\n",
       "\n",
       "    for (var ind in mpl.extensions) {\n",
       "        var fmt = mpl.extensions[ind];\n",
       "        var option = $(\n",
       "            '<option/>', {selected: fmt === mpl.default_extension}).html(fmt);\n",
       "        fmt_picker.append(option)\n",
       "    }\n",
       "\n",
       "    // Add hover states to the ui-buttons\n",
       "    $( \".ui-button\" ).hover(\n",
       "        function() { $(this).addClass(\"ui-state-hover\");},\n",
       "        function() { $(this).removeClass(\"ui-state-hover\");}\n",
       "    );\n",
       "\n",
       "    var status_bar = $('<span class=\"mpl-message\"/>');\n",
       "    nav_element.append(status_bar);\n",
       "    this.message = status_bar[0];\n",
       "}\n",
       "\n",
       "mpl.figure.prototype.request_resize = function(x_pixels, y_pixels) {\n",
       "    // Request matplotlib to resize the figure. Matplotlib will then trigger a resize in the client,\n",
       "    // which will in turn request a refresh of the image.\n",
       "    this.send_message('resize', {'width': x_pixels, 'height': y_pixels});\n",
       "}\n",
       "\n",
       "mpl.figure.prototype.send_message = function(type, properties) {\n",
       "    properties['type'] = type;\n",
       "    properties['figure_id'] = this.id;\n",
       "    this.ws.send(JSON.stringify(properties));\n",
       "}\n",
       "\n",
       "mpl.figure.prototype.send_draw_message = function() {\n",
       "    if (!this.waiting) {\n",
       "        this.waiting = true;\n",
       "        this.ws.send(JSON.stringify({type: \"draw\", figure_id: this.id}));\n",
       "    }\n",
       "}\n",
       "\n",
       "\n",
       "mpl.figure.prototype.handle_save = function(fig, msg) {\n",
       "    var format_dropdown = fig.format_dropdown;\n",
       "    var format = format_dropdown.options[format_dropdown.selectedIndex].value;\n",
       "    fig.ondownload(fig, format);\n",
       "}\n",
       "\n",
       "\n",
       "mpl.figure.prototype.handle_resize = function(fig, msg) {\n",
       "    var size = msg['size'];\n",
       "    if (size[0] != fig.canvas.width || size[1] != fig.canvas.height) {\n",
       "        fig._resize_canvas(size[0], size[1]);\n",
       "        fig.send_message(\"refresh\", {});\n",
       "    };\n",
       "}\n",
       "\n",
       "mpl.figure.prototype.handle_rubberband = function(fig, msg) {\n",
       "    var x0 = msg['x0'] / mpl.ratio;\n",
       "    var y0 = (fig.canvas.height - msg['y0']) / mpl.ratio;\n",
       "    var x1 = msg['x1'] / mpl.ratio;\n",
       "    var y1 = (fig.canvas.height - msg['y1']) / mpl.ratio;\n",
       "    x0 = Math.floor(x0) + 0.5;\n",
       "    y0 = Math.floor(y0) + 0.5;\n",
       "    x1 = Math.floor(x1) + 0.5;\n",
       "    y1 = Math.floor(y1) + 0.5;\n",
       "    var min_x = Math.min(x0, x1);\n",
       "    var min_y = Math.min(y0, y1);\n",
       "    var width = Math.abs(x1 - x0);\n",
       "    var height = Math.abs(y1 - y0);\n",
       "\n",
       "    fig.rubberband_context.clearRect(\n",
       "        0, 0, fig.canvas.width, fig.canvas.height);\n",
       "\n",
       "    fig.rubberband_context.strokeRect(min_x, min_y, width, height);\n",
       "}\n",
       "\n",
       "mpl.figure.prototype.handle_figure_label = function(fig, msg) {\n",
       "    // Updates the figure title.\n",
       "    fig.header.textContent = msg['label'];\n",
       "}\n",
       "\n",
       "mpl.figure.prototype.handle_cursor = function(fig, msg) {\n",
       "    var cursor = msg['cursor'];\n",
       "    switch(cursor)\n",
       "    {\n",
       "    case 0:\n",
       "        cursor = 'pointer';\n",
       "        break;\n",
       "    case 1:\n",
       "        cursor = 'default';\n",
       "        break;\n",
       "    case 2:\n",
       "        cursor = 'crosshair';\n",
       "        break;\n",
       "    case 3:\n",
       "        cursor = 'move';\n",
       "        break;\n",
       "    }\n",
       "    fig.rubberband_canvas.style.cursor = cursor;\n",
       "}\n",
       "\n",
       "mpl.figure.prototype.handle_message = function(fig, msg) {\n",
       "    fig.message.textContent = msg['message'];\n",
       "}\n",
       "\n",
       "mpl.figure.prototype.handle_draw = function(fig, msg) {\n",
       "    // Request the server to send over a new figure.\n",
       "    fig.send_draw_message();\n",
       "}\n",
       "\n",
       "mpl.figure.prototype.handle_image_mode = function(fig, msg) {\n",
       "    fig.image_mode = msg['mode'];\n",
       "}\n",
       "\n",
       "mpl.figure.prototype.updated_canvas_event = function() {\n",
       "    // Called whenever the canvas gets updated.\n",
       "    this.send_message(\"ack\", {});\n",
       "}\n",
       "\n",
       "// A function to construct a web socket function for onmessage handling.\n",
       "// Called in the figure constructor.\n",
       "mpl.figure.prototype._make_on_message_function = function(fig) {\n",
       "    return function socket_on_message(evt) {\n",
       "        if (evt.data instanceof Blob) {\n",
       "            /* FIXME: We get \"Resource interpreted as Image but\n",
       "             * transferred with MIME type text/plain:\" errors on\n",
       "             * Chrome.  But how to set the MIME type?  It doesn't seem\n",
       "             * to be part of the websocket stream */\n",
       "            evt.data.type = \"image/png\";\n",
       "\n",
       "            /* Free the memory for the previous frames */\n",
       "            if (fig.imageObj.src) {\n",
       "                (window.URL || window.webkitURL).revokeObjectURL(\n",
       "                    fig.imageObj.src);\n",
       "            }\n",
       "\n",
       "            fig.imageObj.src = (window.URL || window.webkitURL).createObjectURL(\n",
       "                evt.data);\n",
       "            fig.updated_canvas_event();\n",
       "            fig.waiting = false;\n",
       "            return;\n",
       "        }\n",
       "        else if (typeof evt.data === 'string' && evt.data.slice(0, 21) == \"data:image/png;base64\") {\n",
       "            fig.imageObj.src = evt.data;\n",
       "            fig.updated_canvas_event();\n",
       "            fig.waiting = false;\n",
       "            return;\n",
       "        }\n",
       "\n",
       "        var msg = JSON.parse(evt.data);\n",
       "        var msg_type = msg['type'];\n",
       "\n",
       "        // Call the  \"handle_{type}\" callback, which takes\n",
       "        // the figure and JSON message as its only arguments.\n",
       "        try {\n",
       "            var callback = fig[\"handle_\" + msg_type];\n",
       "        } catch (e) {\n",
       "            console.log(\"No handler for the '\" + msg_type + \"' message type: \", msg);\n",
       "            return;\n",
       "        }\n",
       "\n",
       "        if (callback) {\n",
       "            try {\n",
       "                // console.log(\"Handling '\" + msg_type + \"' message: \", msg);\n",
       "                callback(fig, msg);\n",
       "            } catch (e) {\n",
       "                console.log(\"Exception inside the 'handler_\" + msg_type + \"' callback:\", e, e.stack, msg);\n",
       "            }\n",
       "        }\n",
       "    };\n",
       "}\n",
       "\n",
       "// from http://stackoverflow.com/questions/1114465/getting-mouse-location-in-canvas\n",
       "mpl.findpos = function(e) {\n",
       "    //this section is from http://www.quirksmode.org/js/events_properties.html\n",
       "    var targ;\n",
       "    if (!e)\n",
       "        e = window.event;\n",
       "    if (e.target)\n",
       "        targ = e.target;\n",
       "    else if (e.srcElement)\n",
       "        targ = e.srcElement;\n",
       "    if (targ.nodeType == 3) // defeat Safari bug\n",
       "        targ = targ.parentNode;\n",
       "\n",
       "    // jQuery normalizes the pageX and pageY\n",
       "    // pageX,Y are the mouse positions relative to the document\n",
       "    // offset() returns the position of the element relative to the document\n",
       "    var x = e.pageX - $(targ).offset().left;\n",
       "    var y = e.pageY - $(targ).offset().top;\n",
       "\n",
       "    return {\"x\": x, \"y\": y};\n",
       "};\n",
       "\n",
       "/*\n",
       " * return a copy of an object with only non-object keys\n",
       " * we need this to avoid circular references\n",
       " * http://stackoverflow.com/a/24161582/3208463\n",
       " */\n",
       "function simpleKeys (original) {\n",
       "  return Object.keys(original).reduce(function (obj, key) {\n",
       "    if (typeof original[key] !== 'object')\n",
       "        obj[key] = original[key]\n",
       "    return obj;\n",
       "  }, {});\n",
       "}\n",
       "\n",
       "mpl.figure.prototype.mouse_event = function(event, name) {\n",
       "    var canvas_pos = mpl.findpos(event)\n",
       "\n",
       "    if (name === 'button_press')\n",
       "    {\n",
       "        this.canvas.focus();\n",
       "        this.canvas_div.focus();\n",
       "    }\n",
       "\n",
       "    var x = canvas_pos.x * mpl.ratio;\n",
       "    var y = canvas_pos.y * mpl.ratio;\n",
       "\n",
       "    this.send_message(name, {x: x, y: y, button: event.button,\n",
       "                             step: event.step,\n",
       "                             guiEvent: simpleKeys(event)});\n",
       "\n",
       "    /* This prevents the web browser from automatically changing to\n",
       "     * the text insertion cursor when the button is pressed.  We want\n",
       "     * to control all of the cursor setting manually through the\n",
       "     * 'cursor' event from matplotlib */\n",
       "    event.preventDefault();\n",
       "    return false;\n",
       "}\n",
       "\n",
       "mpl.figure.prototype._key_event_extra = function(event, name) {\n",
       "    // Handle any extra behaviour associated with a key event\n",
       "}\n",
       "\n",
       "mpl.figure.prototype.key_event = function(event, name) {\n",
       "\n",
       "    // Prevent repeat events\n",
       "    if (name == 'key_press')\n",
       "    {\n",
       "        if (event.which === this._key)\n",
       "            return;\n",
       "        else\n",
       "            this._key = event.which;\n",
       "    }\n",
       "    if (name == 'key_release')\n",
       "        this._key = null;\n",
       "\n",
       "    var value = '';\n",
       "    if (event.ctrlKey && event.which != 17)\n",
       "        value += \"ctrl+\";\n",
       "    if (event.altKey && event.which != 18)\n",
       "        value += \"alt+\";\n",
       "    if (event.shiftKey && event.which != 16)\n",
       "        value += \"shift+\";\n",
       "\n",
       "    value += 'k';\n",
       "    value += event.which.toString();\n",
       "\n",
       "    this._key_event_extra(event, name);\n",
       "\n",
       "    this.send_message(name, {key: value,\n",
       "                             guiEvent: simpleKeys(event)});\n",
       "    return false;\n",
       "}\n",
       "\n",
       "mpl.figure.prototype.toolbar_button_onclick = function(name) {\n",
       "    if (name == 'download') {\n",
       "        this.handle_save(this, null);\n",
       "    } else {\n",
       "        this.send_message(\"toolbar_button\", {name: name});\n",
       "    }\n",
       "};\n",
       "\n",
       "mpl.figure.prototype.toolbar_button_onmouseover = function(tooltip) {\n",
       "    this.message.textContent = tooltip;\n",
       "};\n",
       "mpl.toolbar_items = [[\"Home\", \"Reset original view\", \"fa fa-home icon-home\", \"home\"], [\"Back\", \"Back to previous view\", \"fa fa-arrow-left icon-arrow-left\", \"back\"], [\"Forward\", \"Forward to next view\", \"fa fa-arrow-right icon-arrow-right\", \"forward\"], [\"\", \"\", \"\", \"\"], [\"Pan\", \"Pan axes with left mouse, zoom with right\", \"fa fa-arrows icon-move\", \"pan\"], [\"Zoom\", \"Zoom to rectangle\", \"fa fa-square-o icon-check-empty\", \"zoom\"], [\"\", \"\", \"\", \"\"], [\"Download\", \"Download plot\", \"fa fa-floppy-o icon-save\", \"download\"]];\n",
       "\n",
       "mpl.extensions = [\"eps\", \"jpeg\", \"pdf\", \"png\", \"ps\", \"raw\", \"svg\", \"tif\"];\n",
       "\n",
       "mpl.default_extension = \"png\";var comm_websocket_adapter = function(comm) {\n",
       "    // Create a \"websocket\"-like object which calls the given IPython comm\n",
       "    // object with the appropriate methods. Currently this is a non binary\n",
       "    // socket, so there is still some room for performance tuning.\n",
       "    var ws = {};\n",
       "\n",
       "    ws.close = function() {\n",
       "        comm.close()\n",
       "    };\n",
       "    ws.send = function(m) {\n",
       "        //console.log('sending', m);\n",
       "        comm.send(m);\n",
       "    };\n",
       "    // Register the callback with on_msg.\n",
       "    comm.on_msg(function(msg) {\n",
       "        //console.log('receiving', msg['content']['data'], msg);\n",
       "        // Pass the mpl event to the overridden (by mpl) onmessage function.\n",
       "        ws.onmessage(msg['content']['data'])\n",
       "    });\n",
       "    return ws;\n",
       "}\n",
       "\n",
       "mpl.mpl_figure_comm = function(comm, msg) {\n",
       "    // This is the function which gets called when the mpl process\n",
       "    // starts-up an IPython Comm through the \"matplotlib\" channel.\n",
       "\n",
       "    var id = msg.content.data.id;\n",
       "    // Get hold of the div created by the display call when the Comm\n",
       "    // socket was opened in Python.\n",
       "    var element = $(\"#\" + id);\n",
       "    var ws_proxy = comm_websocket_adapter(comm)\n",
       "\n",
       "    function ondownload(figure, format) {\n",
       "        window.open(figure.imageObj.src);\n",
       "    }\n",
       "\n",
       "    var fig = new mpl.figure(id, ws_proxy,\n",
       "                           ondownload,\n",
       "                           element.get(0));\n",
       "\n",
       "    // Call onopen now - mpl needs it, as it is assuming we've passed it a real\n",
       "    // web socket which is closed, not our websocket->open comm proxy.\n",
       "    ws_proxy.onopen();\n",
       "\n",
       "    fig.parent_element = element.get(0);\n",
       "    fig.cell_info = mpl.find_output_cell(\"<div id='\" + id + \"'></div>\");\n",
       "    if (!fig.cell_info) {\n",
       "        console.error(\"Failed to find cell for figure\", id, fig);\n",
       "        return;\n",
       "    }\n",
       "\n",
       "    var output_index = fig.cell_info[2]\n",
       "    var cell = fig.cell_info[0];\n",
       "\n",
       "};\n",
       "\n",
       "mpl.figure.prototype.handle_close = function(fig, msg) {\n",
       "    var width = fig.canvas.width/mpl.ratio\n",
       "    fig.root.unbind('remove')\n",
       "\n",
       "    // Update the output cell to use the data from the current canvas.\n",
       "    fig.push_to_output();\n",
       "    var dataURL = fig.canvas.toDataURL();\n",
       "    // Re-enable the keyboard manager in IPython - without this line, in FF,\n",
       "    // the notebook keyboard shortcuts fail.\n",
       "    IPython.keyboard_manager.enable()\n",
       "    $(fig.parent_element).html('<img src=\"' + dataURL + '\" width=\"' + width + '\">');\n",
       "    fig.close_ws(fig, msg);\n",
       "}\n",
       "\n",
       "mpl.figure.prototype.close_ws = function(fig, msg){\n",
       "    fig.send_message('closing', msg);\n",
       "    // fig.ws.close()\n",
       "}\n",
       "\n",
       "mpl.figure.prototype.push_to_output = function(remove_interactive) {\n",
       "    // Turn the data on the canvas into data in the output cell.\n",
       "    var width = this.canvas.width/mpl.ratio\n",
       "    var dataURL = this.canvas.toDataURL();\n",
       "    this.cell_info[1]['text/html'] = '<img src=\"' + dataURL + '\" width=\"' + width + '\">';\n",
       "}\n",
       "\n",
       "mpl.figure.prototype.updated_canvas_event = function() {\n",
       "    // Tell IPython that the notebook contents must change.\n",
       "    IPython.notebook.set_dirty(true);\n",
       "    this.send_message(\"ack\", {});\n",
       "    var fig = this;\n",
       "    // Wait a second, then push the new image to the DOM so\n",
       "    // that it is saved nicely (might be nice to debounce this).\n",
       "    setTimeout(function () { fig.push_to_output() }, 1000);\n",
       "}\n",
       "\n",
       "mpl.figure.prototype._init_toolbar = function() {\n",
       "    var fig = this;\n",
       "\n",
       "    var nav_element = $('<div/>')\n",
       "    nav_element.attr('style', 'width: 100%');\n",
       "    this.root.append(nav_element);\n",
       "\n",
       "    // Define a callback function for later on.\n",
       "    function toolbar_event(event) {\n",
       "        return fig.toolbar_button_onclick(event['data']);\n",
       "    }\n",
       "    function toolbar_mouse_event(event) {\n",
       "        return fig.toolbar_button_onmouseover(event['data']);\n",
       "    }\n",
       "\n",
       "    for(var toolbar_ind in mpl.toolbar_items){\n",
       "        var name = mpl.toolbar_items[toolbar_ind][0];\n",
       "        var tooltip = mpl.toolbar_items[toolbar_ind][1];\n",
       "        var image = mpl.toolbar_items[toolbar_ind][2];\n",
       "        var method_name = mpl.toolbar_items[toolbar_ind][3];\n",
       "\n",
       "        if (!name) { continue; };\n",
       "\n",
       "        var button = $('<button class=\"btn btn-default\" href=\"#\" title=\"' + name + '\"><i class=\"fa ' + image + ' fa-lg\"></i></button>');\n",
       "        button.click(method_name, toolbar_event);\n",
       "        button.mouseover(tooltip, toolbar_mouse_event);\n",
       "        nav_element.append(button);\n",
       "    }\n",
       "\n",
       "    // Add the status bar.\n",
       "    var status_bar = $('<span class=\"mpl-message\" style=\"text-align:right; float: right;\"/>');\n",
       "    nav_element.append(status_bar);\n",
       "    this.message = status_bar[0];\n",
       "\n",
       "    // Add the close button to the window.\n",
       "    var buttongrp = $('<div class=\"btn-group inline pull-right\"></div>');\n",
       "    var button = $('<button class=\"btn btn-mini btn-primary\" href=\"#\" title=\"Stop Interaction\"><i class=\"fa fa-power-off icon-remove icon-large\"></i></button>');\n",
       "    button.click(function (evt) { fig.handle_close(fig, {}); } );\n",
       "    button.mouseover('Stop Interaction', toolbar_mouse_event);\n",
       "    buttongrp.append(button);\n",
       "    var titlebar = this.root.find($('.ui-dialog-titlebar'));\n",
       "    titlebar.prepend(buttongrp);\n",
       "}\n",
       "\n",
       "mpl.figure.prototype._root_extra_style = function(el){\n",
       "    var fig = this\n",
       "    el.on(\"remove\", function(){\n",
       "\tfig.close_ws(fig, {});\n",
       "    });\n",
       "}\n",
       "\n",
       "mpl.figure.prototype._canvas_extra_style = function(el){\n",
       "    // this is important to make the div 'focusable\n",
       "    el.attr('tabindex', 0)\n",
       "    // reach out to IPython and tell the keyboard manager to turn it's self\n",
       "    // off when our div gets focus\n",
       "\n",
       "    // location in version 3\n",
       "    if (IPython.notebook.keyboard_manager) {\n",
       "        IPython.notebook.keyboard_manager.register_events(el);\n",
       "    }\n",
       "    else {\n",
       "        // location in version 2\n",
       "        IPython.keyboard_manager.register_events(el);\n",
       "    }\n",
       "\n",
       "}\n",
       "\n",
       "mpl.figure.prototype._key_event_extra = function(event, name) {\n",
       "    var manager = IPython.notebook.keyboard_manager;\n",
       "    if (!manager)\n",
       "        manager = IPython.keyboard_manager;\n",
       "\n",
       "    // Check for shift+enter\n",
       "    if (event.shiftKey && event.which == 13) {\n",
       "        this.canvas_div.blur();\n",
       "        event.shiftKey = false;\n",
       "        // Send a \"J\" for go to next cell\n",
       "        event.which = 74;\n",
       "        event.keyCode = 74;\n",
       "        manager.command_mode();\n",
       "        manager.handle_keydown(event);\n",
       "    }\n",
       "}\n",
       "\n",
       "mpl.figure.prototype.handle_save = function(fig, msg) {\n",
       "    fig.ondownload(fig, null);\n",
       "}\n",
       "\n",
       "\n",
       "mpl.find_output_cell = function(html_output) {\n",
       "    // Return the cell and output element which can be found *uniquely* in the notebook.\n",
       "    // Note - this is a bit hacky, but it is done because the \"notebook_saving.Notebook\"\n",
       "    // IPython event is triggered only after the cells have been serialised, which for\n",
       "    // our purposes (turning an active figure into a static one), is too late.\n",
       "    var cells = IPython.notebook.get_cells();\n",
       "    var ncells = cells.length;\n",
       "    for (var i=0; i<ncells; i++) {\n",
       "        var cell = cells[i];\n",
       "        if (cell.cell_type === 'code'){\n",
       "            for (var j=0; j<cell.output_area.outputs.length; j++) {\n",
       "                var data = cell.output_area.outputs[j];\n",
       "                if (data.data) {\n",
       "                    // IPython >= 3 moved mimebundle to data attribute of output\n",
       "                    data = data.data;\n",
       "                }\n",
       "                if (data['text/html'] == html_output) {\n",
       "                    return [cell, data, j];\n",
       "                }\n",
       "            }\n",
       "        }\n",
       "    }\n",
       "}\n",
       "\n",
       "// Register the function which deals with the matplotlib target/channel.\n",
       "// The kernel may be null if the page has been refreshed.\n",
       "if (IPython.notebook.kernel != null) {\n",
       "    IPython.notebook.kernel.comm_manager.register_target('matplotlib', mpl.mpl_figure_comm);\n",
       "}\n"
      ],
      "text/plain": [
       "<IPython.core.display.Javascript object>"
      ]
     },
     "metadata": {},
     "output_type": "display_data"
    },
    {
     "data": {
      "text/html": [
       "<img src=\"data:image/png;base64,iVBORw0KGgoAAAANSUhEUgAAAsAAAAIQCAYAAACPEdjAAAAgAElEQVR4XuydBXQUSRPH/9kkm+Du7hqcYMHdDne4w931gADBOeyOw93dLbgTLAQI7u6HBY3nXvXszM5uNtkksCRkq9/73rc7093T/evO8d+a6iqbkJCQEHBhAkyACTABJsAEmAATYAJWQsCGBbCVrDRPkwkwASbABJgAE2ACTEAQYAHMG4EJMAEmwASYABNgAkzAqgiwALaq5ebJMgEmwASYABNgAkyACbAA5j3ABJgAE2ACTIAJMAEmYFUEWABb1XLzZJkAE2ACTIAJMAEmwARYAPMeYAJMgAkwASbABJgAE7AqAiyArWq5ebJMgAkwASbABJgAE2ACLIB5DzABJsAEmAATYAJMgAlYFQEWwFa13DxZJsAEmAATYAJMgAkwARbAvAeYABNgAkyACTABJsAErIoAC2CrWm6eLBNgAkyACTABJsAEmAALYN4DTIAJMAEmwASYABNgAlZFgAWwVS03T5YJMAEmwASYABNgAkyABTDvASbABJgAE2ACTIAJMAGrIsAC2KqWmyfLBJgAE2ACTIAJMAEmwAKY9wATYAJMgAkwASbABJiAVRFgAWxVy82TZQJMgAkwASbABJgAE2ABzHuACTABJsAEmAATYAJMwKoIsAC2quXmyTIBJsAEmAATYAJMgAmwAOY9wASYABNgAkyACTABJmBVBFgAW9Vy82SZABNgAkyACTABJsAEWADzHmACTIAJMAEmwASYABOwKgIsgK1quXmyTIAJMAEmwASYABNgAiyAeQ8wASbABJgAE2ACTIAJWBUBFsBWtdw8WSbABJgAE2ACTIAJMAEWwLwHmAATYAJMgAkwASbABKyKAAtgq1puniwTYAJMgAkwASbABJgAC2DeA0yACTABJsAEmAATYAJWRYAFsFUtN0+WCTABJsAEmAATYAJMgAUw7wEmwASYABNgAkyACTABqyLAAtiqlpsnywSYABNgAkyACTABJsACmPcAE2ACTIAJMAEmwASYgFURYAFsVcvNk2UCTIAJMAEmwASYABNgAcx7gAkwASbABJgAE2ACTMCqCLAAtqrl5skyASbABJgAE2ACTIAJsADmPcAEmAATYAJMgAkwASZgVQRYAFvVcvNkmQATYAJMgAkwASbABFgA8x5gAkyACTABJsAEmAATsCoCLICtarl5skyACTABJsAEmAATYAIsgHkPMAEmwASYABNgAkyACVgVARbAVrXcPFkmwASYABNgAkyACTABFsC8B5gAE2ACTIAJMAEmwASsigALYKtabp4sE2ACTIAJMAEmwASYAAtg3gNMgAkwASbABJgAE2ACVkWABbBVLTdPlgkwASbABJgAE2ACTIAFMO8BJsAEmAATYAJMgAkwAasiwALYqpabJ8sEmAATYAJMgAkwASbAApj3ABNgAkyACTABJsAEmIBVEWABbFXLzZNlAkyACTABJsAEmAATYAHMe4AJMAEmwASYABNgAkzAqgiwALaq5ebJMgEmwASYABNgAkyACbAA5j3ABJgAE2ACTIAJMAEmYFUEWABb1XLzZJkAE2ACTIAJMAEmwARYAPMeYAJMgAkwASbABJgAE7AqAiyArWq5ebJMgAkwASbABJgAE2ACLIB5DzABJsAEmAATYAJMgAlYFQEWwFa13DxZJsAEmAATYAJMgAkwARbAvAeYABNgAkyACTABJsAErIoAC2CrWm6eLBNgAkyACTABJsAEmAALYN4DTIAJMAEmwASYABNgAlZFgAWwVS03T5YJMAEmwASYABNgAkyABbAF94Cvry+uXLmCFClSwM7OzoJP4q6ZABNgAkyACTABJmBIIDAwEP/99x+cnJzg6OjIeFQEWABbcDt4enrC2dnZgk/grpkAE2ACTIAJMAEmED6Bc+fOoXjx4oyJBfDP2QMPHz5ElixZQBsvTZo0P+eh/BQmwASYABNgAkyACQB48eKFMMQ9ePAAmTNnZiYsgH/OHnj69CkyZMiAJ0+eIH369D/nofwUJsAEmAATYAJMgAkAYB0S9jZgFwgL/onwxrMgXO6aCTABJsAEmAATCJcA6xAWwNHyJ8IbL1qw80OZABNgAkyACTABtgCHuwfYAmzBPxEWwBaEy10zASbABJgAE2ACbAGO4h5gARxFcBFpxgI4IpS4DhNgAkyACTABJmAJAqxDwqbKAtgSO07XZ0Q2XkhICN68eQOKGRwUFGTB0cScrm1tbUU8wuTJk8PGxibmDIxHwgSYABNgAkwgFhGIiA6JRdON1FRYAEcKV+Qqm9t4JH6fPXuGT58+QavVgoShNRQS+v7+/kiQIAHSpUvHItgaFp3nyASYABNgAj+dgDkd8tMHFIMeyALYgothbuNRdhay/qZMmRLJkiWz4EhiXtdv377F69evhRWYMuVxYQJMgAkwASbABH4sAXM65Mc+7dfqjQWwBdfL3Maj+MBkCc2WLZsFRxFzu753756wfFOsZC5MgAkwASbABJjAjyVgTof82Kf9Wr2xALbgepnbeJQpjoq1Zmex9vlbcOtx10yACTABJsAEOBFGOHuABbAF/0BYAIcPlwWwBTcfd80EmAATYAJWT8CcDrFmQCyALbj65jaetQtAa5+/Bbced80EmAATYAJMgC3AbAGOnr8CFsBsAY6encdPZQJMgAkwASYAFsAsgKPnz4AFMAvg6Nl5/FQmwASYABNgAiyAw9sD7AJhwb8QFsAsgC24vbhrJsAEmAATYALhEjCnQ6wZHwtgC66+uY0XHT6wHz9+hJOTE5ydnbFx40Zl9j169MCaNWtw5coVpE+f3oJU9F1Hx/x/ysT4IUyACTABJmD1BG6/+oQkcbVIkcAh2liY0yHRNrAY8GAWwBZcBHMbL7oE4JEjR1C5cmUsX74cbdq0wb59+1CjRg0hgFu0aGFBIoZdR9f8f9oE+UFMgAkwASZglQS8n3xAvdkeSJc4Dk4OqRhtGU/N6RCrXBzdpFkAW3D1zW286BSA/fv3x5IlS3D06FHUrl0bZcuWxbp16yxII3TX0Tn/nzpRfhgTYAJMgAlYFYGGczxw4fEHMefLbtWQ0NE+WuZvTodEy6BiyENZAFtwIcxtvOgUgL6+vihatCgoGxulYb569SqSJEliQRosgH8qXH4YE2ACTIAJRBsBJ7d9+OQbKJ4/r3UR1MifJlrGYk6HRMugYshDWQBbcCHMbbzoFMA07REjRmDcuHEYNGgQJk+ebEESpruO7vn/9AnzA5kAE2ACTMAqCBQdewBvv/grc304qXa0zNucDomWQcWQh7IAtuBCmNt40SkAyeJbrFgx5M2bFzdu3ICXl5f4/DNLdM7/Z86Tn8UEmAATYALWRcDlr8N4+v6bMun7E2pBo7H56RDM6ZCfPqAY9EAWwBZcDHMbL7oEoL+/P0qUKIF48eLh8OHDcHFxQVBQEM6cOQN7+5/npxRd87fgknPXTIAJMAEmEA6BjeefYO25x5japCCypogfa1mVn3IEj95+VeZ3d3xN2Nlqfvp8zemQnz6gGPRAFsAWXAxzGy+6BODQoUMxc+ZMeHt7I1u2bLh16xYKFy6MAQMGYOzYsRYkYth1dM3/p02QH8QEmAATsCICISEhWHvuCVInckCl3KlMzjzzn7vF9dypE2Bv33Kxhk5wcIiBhbf0xEN47uOrzO/2uJrQ2rEAjkkLzgLYgqsREwXwqVOnRMSHOXPmoEuXLsrsZ82ahb59+8LDw0NYh39GYQH8MyjzM5gAE2ACP4fA8dv/4fcl58TDro6ujvgOdqEeLAvgOPa2uDG2xs8ZmIWfMvvIXcw6fBdzWhVBxdwpxdOKjTuIN5/9lCffHFsDrz/6wd7OBoM2XkbJrEnRs1IOC4+MM8GFB5gFsAW3X0wUwBacbqS7ZgEcaWTcgAkwASYQYwmQEJyy75YYn8eflUQM3A3nn2DxiQeY3qwg8qVNhNgmgP0Cg5DLda+Yc760CbG7d1nxuYDbPnzURYGg75u6lkLjeacN1u5nHIwzp0Ni7Gb6CQNjAWxByOY2nrULQGufvwW3HnfNBJhADCbwzT8IcbS2MXiEURvaguP3MMH9pmh8dGAFZE4eTxG8CR3tcNmtepgC+PVHXySOq40WN4GozVZq5fXoPRrNPSU+F86YGFu7lxGf84zYi28BQUrX1fOlwr5rr1gAfw/sH9yWBfAPBqrujgVw+HBZAFtw83HXTIAJxEgC43dfx1KPh1jarjjK5kgRI8cY1UEtOfkAY3ZdF8339CmLPGkSKoKXrpHF05QF+OozH9SZeRIF0ifCjp4uUX18tLQ7eecNWi8+K55dKmsy5E6TQBzuc9txDUHBIcqYauRLjb3XXhqM8d6EWrC1cGQIczokWqDFkIeyALbgQpjbeNYuAK19/hbcetw1E2ACMZSALAAd7DS4Na5mDB1l1Ia18swjjNh2VTTe3K0UimZKGiEB3G7pORy59Z9o9zPcAqI2O9Otjtx8jXbLPMVNGwQjBKYPutXMnxp7rhoKYPILdrS37JsAczrkR7L41fpiAWzBFTO38axdAFr7/C249bhrJsAEYigBWQD/DLF348VHDNzojfZlsqBR0fQWJ7Lu3GP8ueWKeM7KDs7Cwm08X1MW4B8lgMmSTKHHajmlho3Nz4m5u/fqS3Rd5YUE+Ap37VDcC0mLtgGDhRxWFxqT+xVDARzWQcEfuVDmdMiPfNav1hcLYAuumLmNZ+0C0Nrnb8Gtx10zASYQQwn8TAFccsIhvPwoheKytGV128Vn6Lv+kkJ9XuuiqJE/dZgCOK7WFtfHSFEgOizzxKGbr8XnkXXyCl/awhmTRGoFKQRblqHuos3iP4qhch7TYdgi1WkEKu/0fo5eay+io+1uuNqvFi2K+87GfzAcvykBfHFEVSSJp43AU6JexZwOiXrPv35LFsAWXENzG8/aBaC1z9+CW4+7ZgJMIAYSUIu0nyFKf6bYVj+L5ja9aUE0LJLeQADfGV8TOYbvESujFsAdl3vi4A1JAMslsoJdHY2hdcmMGFff6afsgM1eTzFgo7eBAC7vNx2PQlIbPL+2UxrsvvLC4Nq5YZWRMqGjRcdpTodY9OExvHMWwBZcIHMbz9oFoLXP34Jbj7tmAkwgBhL46h+IvCP3RVnkRXZK0SmAx9XPj9YlMxkI4GujqyPfKGn+P1oA+3wNQMEx+0XfbUtnhttv+QxwPf/wDZ98A5ErdYLIYgy3PmW1G7rlClrbHsA4+6Wibg2/SbgZktGgnakoEHKouB86IKPOzOkQSz47pvfNAtiCK2Ru41m7ALT2+Vtw63HXTIAJxEACFOrLecIhqxDAw2rlRudy2QwEML3yLzz2QCgB3GnFeRy4/n0hwl76+KLkRIkt+TyPrJtX4ay2Dh/sXw7ZU5oWwWfuv8VE9xsYUC0XyuWMWISOFacfYuT2a2ioOY7p2nnimQ393HAhJKfBDiybIzlO3HljcE0OFWfJrWpOh1jy2TG9bxbAFlwhcxvP2gWgtc/fgluPu2YCTCAGErj332dUnnZMGVl4YuxHDD86LcB9KudAv6o5DQTw2WGVUUL3A0BtAe684jz2f6cAfvjmCypMPSqwdXTJAtc6egFM1t/Skw6Le4Oq50KPitnFZ69H7/DZLwjldWI3KrwWnbiPcbtvoIbmHOZp/xH9tvIfCo9gQxeMopmSiJjB6mLp9adnmdMhP2Kf/ap9sAC24MqZ23jWLgCtff4W3HrcNRNgAjGQgPeTD6g328NgZJH1dY3MtKIi6CLTv7qusQ9w53JZMaxWHgMBfGJwRZSdfEQ0+9ECmCJe1JxxQvTdpVxWDK2VBz7fAvDFLxAUjbeMkQD+8NUfhcZI1uiwYhZHhMWco3cxee8tVNRcxFLtFEmA+w/AweCiZpu79y6LvGkTmq33PRXM6ZDv6ftXb8sC2IIraG7jxTYBePv2bfTu3RsnTpxAvHjx0KJFC0yaNAlx4sQxSTm2zd+CW4m7ZgJMIBYQ8Lj7Bq0WSUkT5PJgYq1QIbsuPn6PjEnjIll8B7OzJiH36qOfSd/W6BTAf5TKhNH18hsI4IP9y6PKdL0FvINLFoyokxddVp6PdJa0gKBgEVe3WKYkSJs4Di48fo+Gc6SMbN0rZBPW5wpTjuLVR1+s6lgCzRecEfcG18iF7hWy4/rzj6j1rySYTfkrm/phcvreW5DgHVIjN/KnSyTa/nPwNv45eAeVNBewRDtVXOvt3wM7gqWMcOGVHT3LoED6xOaqfdd9czrkuzr/xRuzALbgAprbeLFJAH748AH58+dHpkyZMGLECLx+/Rr9+/dHjRo1sGrVKpOUY9P8LbiNuGsmwARiCQHycyV/V3UxzgYm10mV0AFnh1UxO/Ni4w7izWc/rOtcEiWzJjOoH50CuFmxDPircQEDAbyrl4vI+KYuJDS7rvQKlSXNnGV8+v5b+PfwXaRLHAd0mOzUvTdouVD6cdGrUnZUyJUCjeaeFt/JGr3g+H3xmcRrtwrZoLYYj62fH22MDuyZer6pJCZT9t3E7CP3UEXjhUXaaeIZQwM6YG1QZZNrVyhDYlx68kHcy506AcpkTy5+BFiqmNMhlnrur9AvC2ALrpK5jRebBOBff/2FMWPG4NGjR0iePLmgumbNGrRq1QrXr19Hnjx5QpGOTfO34DbirpkAE4glBHZffoEeay4YzOb2uJrQ2umzh9WdeRJXnvmIOuZEINWRRVnFXCmwtJ1zjBHA9QulxT/NCxsI4I1dS6HJPEmUyoXm2G2VV6gsaXT9m3+QiGOcJXm8UDvAWNwfvvkK7ZdJPy56V8qOuA52mLTnpvhOgnjm4bvi89CaudGlvJEArpcPbUplDhWz2Pihpn5QUGrrhSceoJrGEwu0f4sm4wJaYVFQbZO7tmD6RPB+Kq0vlXhaW1zTxUO2xDY3p0Ms8cxfpU8WwBZcKXMbLzYJwPLlyyNx4sTYvn27QtTPzw+JEiXC+PHjMWDAgFCkY9P8LbiNuGsmYBUEPvkGoP8Gb/FKmwTKzyoUm/dnZQ3bevEp+q33NpjajTE1EEerT4dbauIhvPAJnbyCxnn+0XtkSxEfSVXJE2RR5pwlKTZ0KSWswfS/3KkTmhV0EWX89rOfWXcMtTiklMCz0uxD7QouyLxWH3FhTqsi6L7a8AcACd3uq71CZUmj6+TTS5baVR1KwCWHZFiRi7EYVf+46Fo+G4JDQhSrb+lsyXDq3lvRdHitPOhULivU/tgUNYIOx+UZuVfpPzwLMFWS74/afhXLTz9CdY0n5usE8N8BjTAjqBGSxLXH+68BBuNe37kkmuncMehGojj28B5VLaJLEel65nRIpDuMRQ1YAFtwMc1tPFMC0D8wGM8+fLPgqMx3Ta+U1BYJ8y2AlClTon379sLnV13y5cuHUqVKYdGiRSyAIwKS6zABKyWw1OMBRu+8Lmb/MzJkkaD8Y6knnr77ip29XBDPwc7i5Dd4PsHgzZcNnnPFrRoSONor13IMd0dAEB3bMrQAy+I5cVx7XBopCabg4BBkHSZlP8ufLiF29SqriN4t3UsrPrHGfRlPlPr5Y+k5vP/qjy3dyhj893/B8XuY4H4TrrXzoGPZrGEyUgtS9YGwQr7z8QFhx94NywJMvtFyZreCGRJjew/Jp3bVmUcgX2ry/5UL9bHJ66lI+2yuyPPwfPjOwBrdsEg6bLnwzKBP475MWYApBjDFAlZHgZgfWBsTA1vh+KCKKDdFOvRHJVOyuKDQZ/K86Fry+Fqcd61qbthRvm9Oh0S541jQkAWwBRfR3MYzJYAfvPmCirpQLhYcWrhdH6E/UBOvnMJrZG9vj7Fjx+LPP/80qObi4iLE8ZYtW0I1ZwtwdK0wP5cJxDwCMw7ewd8Hb4uBzWheCPUKpbPoINWhsSj9bnuXLBZ9HnW+8swjjNh21eA5l0ZWReK4+nS4YfntytZQaixbH9XxbbMmj4dDA8or4qp58QxY5/kkXEEn31QfIFvQpiiq5dNnMYuoH7G6XmPbY5hqP19039zfFWeCw/ZxJaFLftHGmeDuT6iliHvym92mE8DG0SZkHur9E95CkgD+rWBadFnlhYuPJV9cU8X4cKKx9V5egwEbvLH5wlPU0pzBHO2/oqulgdUxOvAPqMO+0XXy+d3bt5yBZT51QkecGWbaX/hHbEhzOuRHPONX7YMFsAVXztzGi20CeNy4cRgyZIgB0TJlyiB16tTYvHkzC2AL7jXumgn86gSm7ruFWUckP80/a+YGvca2ZHny7qsSkks+GGXJ51Hfi08+wNhdkpVbLuddqyC5KtoDCTwNglFP44G/+7QBUkkZzerNOqn4jsrii0J8yZnVUiZwwKk/KyG7LtWwsQA2FW1CHsPeqy/QdZXkmrC8vbMSF5e+R0QAG6d4Lq/xxnLtX6K/4QHtsToo7MN8d3umw5S587AiqCq+QZ8WmFxD1C4J8iE/UwKY9ovs72tuDenHzs7Lz8MVv9THrXE14GCnd00xfq68Br3XXsQO7+eoozmNWdqZ4vFrAithWGBHeA6vguLjDypDki3Z6r4yJI2DE4MrmRt2lO+b0yFR7jgWNGQBbMFFNLfx2AXioaCfOXNmC64Cd80EmMCvQEB+lUxjVScrsNTYH7/9qrye/hmCm+Yx9+g9/LVXOpglF7ISpkqoF34kjtRpdeEmHZhqNPeUkkhBFl8U57bgaCn9b3wHO5CYzj1C8mOl1+2P3n5VnmMcbUI9hjVnH2PY1ivi0uZupVA0U1LldkQEMIUky6ET3tSwguYiluli4s4NrIu/AluEuYwPHVuKe8sCq8EtsK1S73K91zjrvhJDAjrhHaRYuTSHbDqXj6jui1F18yquNuH1YeyGE5YA7ricrNev8JvmFP7VzhJdbgoqh4EBXeHlWgVFx+kFcIksSbG+SymDHxX0tpXeulqqmNMhlnrur9AvC2ALrpK5jRebXAD4EJwFNxJ3zQRiMQE6sNV47ik8VIm1AVVzolflHBad9f3/PqOSLivbzxLA8mt6e1sbxc+XQnjRuQtyZyArOEUUWGU/Hi6216T5u/ng5suPqPGPFLOWyp3xNWFvqwEdTlMLLLImPnln+gzJzbE14Givt2iq4c46fAdT90vuJ3SQjg7UySUiAvirfyDyjtyntFHHxJXdAcJaTFkAvwlJiGJ+UiphKvL1rUFl0C+gh7i2rF1xtF3q+V37glwgKHObuSKviykOdK1ViYxo4ZxRCev2m8YD/2pni+o7gkqhd0AvkHuLnGyDrlPGObKwq5myADa3Epa7H2sF8L59+zBhwgQRguvjx49Ily4d6tevj1GjRonIBOGV5cuXY+LEiSCBmj17dtGmSZMmkV4FaxLAFAaNfIApDFqyZFIsynXr1olkGBwGLdJbhxswgVhN4MpTHyRPoEWaRHGESwC5BqhL3yo50LdKTosyUItKOTSWRR8IQI4Zm9DRDh99A8Xj6KBUxmRxoT4gt8J+IsrZShZZEsDG1kc6OEfH5IijcWKNsOZwbXT1MA/6jd55DUs9pDdyazuVRKls+njCERHAPl8DUHCMZImmUlVzHgu108XnNYEVMSywU5hoZaHrExIXBf30h6Xl61eCM6Ou/wTRnhJczDl677uWidZ6oi48WngdqdMUq11NwmpTX3MS/2jniNt7g4qja0A/Ed2BLPR0KPBpSApkzVsU89sUM1jPzHQwblDF75pTeI3N6RCLPfgX6DjWCuC1a9fi8uXLcHZ2RpIkSXD16lW4ubmhSJEi2L9f/4dqvEabNm0SYpcOc1WrVg3btm3DzJkzsXfvXvE9MsXcxotNFmA5EQa5M6gTYVSvXp0TYURm03BdJhDLCagPXJFfKr16X3tOf1iLpk9xXPtXy2VREiQe686SkjIMq5UbnctZ1ueYnjPB/YYIzUUHnyi+LZXDA8oja4r4GLfrOhbpfggssZ+MSraXxH2fIW8UNwcZyMSGTiCXkcgU75HVkCiuPtqEum2/9Zew9aIUAWF1xxIiOYNcIiKA//vkZ+Drqg4JtiXIBf0Duoc5VFnofg5xRH6/JUo9UwK4VNZkOH1fCmcW1ULuNVP23TLbfG/fsnj2/ptIc1wkUxIR6SG80lBzHNO1kgX7cFAhPKm5HBRZoteYyVimnSyu98l9FDOMYiOzADa7FBarEGsFsCliCxcuROfOnfHs2TOkTZvWJFRK2ODk5IQNGzYo90nE+fj44MwZKZViRIs1CWBiQqmQe/XqhZMnTyJu3LjC+kuWYU6FHNEdw/WYQOwnMHTLZUXw3h1fU1iAKY6quvSomA2DqueONIyXPr4gayZFkKiRXx/JwFRHXo/eKZnCKDNY4jj2qOWUBhmSxo30cyPawG3HNSw79VBE2aGIP1QO9CuHHKkSYOahO5h2QHJDWGg/DVVtvcRnrz/uodF8w/TJEX2euh75o47cfg33/vuMzd1KG1iDKQoDZaCjsqK9M8rlTKE0jYgAfuHzDaUmHhZtSmZNiiQP92Cudob47h7kjO4BfcMcsix0/ULskctvuVJPvn45OAt+8x8vrlN2PEr7/D2F3i5Q6mJzpWfF7Fh19hE+GMXxNdUujr0tagcfViJfeGmcUGTECXwLCMKuMQ3R1E5K//xnvmOY1KSQgQWYfLWPsQXY3HJY5L5VCWAKxdWoUSPh2kApe43LgwcPkDVrVhGyq0GDBsptcolo166dSO8rZzmLyGpYmwCOCBN1ndhkAY/s3Lk+E7BWAn3WXcT2S8/F9Omkvez3quZBESDILzciZZnHA5HkYEqTguix+gJO3n0jmpnLonb63lu0WGho1JAPkoXlKxuR8YRXRz7olydNQpHggQpZGilphdoCPNf+b9S0lXxdN1Q/j8HbJWH8PYWeI/sRG7t8tFp0Bh53Jcvq0nbFUTFXSuVRERHA6gOFJDDvHF6J2bqQYIeCCqNDwKAwhy4L3cAQDbL7rVLqmRLAphJLRJYJCVs52khk24ZVn0Ss804ZoOIAACAASURBVAd3TLFfIKrcdcyP7H96wDcgCHvG1EUDWw9xfXTBIxjVoAiq/30ct159EtcyJo2L44PZBeJHrUVk+on1AjgoKAgBAQHCD5USNWTMmBE7duwwycjd3R21a9fGjRs3kDu3/j++np6ewpXixIkToLi2ES0sgMMnxQI4ojuJ6zGBX5MAHexqv8wTmZPFw/gGTmISamvj9THV8e+hu5h3zNCvs3O5rBhWK3T6dGMKaisuHZwjFwKKjEDFnAA+dvs//LHkXCiwyeJpcXRQBYPkFD+KvhwztmimJEpEh129XJA/XSKRxIGSOVCWtzH+U1DHVrL6/lX4IOaefv3dQ9jZ00Vx+aDUwANULib1ZnuIzGhUFv1eDFXyplKeZyyAb738BDrER24bcrn7+jOqTJesnCPq5MUl90WYqYuI4BGUD60Choc5flnoUoVTbe6h5UJp3qYEMP1A+ewn+U5HtDjYaeAXGKxUpx9XxvtNvpkrVQJFmEa0f6pHe6ay7z5Mtl8ojd0hFzIPPScONh4cXQO1baV9NqXoYQyqWxS3X31Ctb+Pi2ssgCND+sfWjfUCOH369MLlgUqNGjVAPr7x4oXOK073V69ejdatW+PFixcidq3yx333LnLkyCHS/P72229hrgAdtqP/yYX6IeH85MkT0DiMi7ULQGuf/4/9U+bemED0E6B/8NWxU8k666bL7nZmaGUM2uSNE3ckCy0VOsw1bf9t4RagLh1csgghZa6oxRkJm3Wej5VX1uEJYOO4tcbPGd8gP1qVCP2W0Nx4wrtP2daaLziDcw/foWyO5AoHynBG8WHlHwZZU8RDnw9/oZ7tKdFd93Sb4H7P/3seLdpu6loKjeedFp+NXUwqTTuK+/9JLhnz2xRF9TASYVBkhDKTJFcHtU8xWbMpUQeVyY0KwGPrHMzQHQjzCs6BRv6jwxy/WgBf7vgIv83yAKVSfuDYWrRRu0BQhlLKlhpWIdeNM/fewj9IX8fYbaKjSxbF19q4n9oF0oBSKke2UHizLI83YZK9dIjvkV1mZHL1RmBQMI64VVHcWWY7H0KPWsXw6O0XlJ9yVNTlOMCRpf3j6sd6AUwH4T5//oxr166JKAUU1eHAgQOwtQ0dDkYWwC9fvkSqVPpfwHfu3EHOnDmF5bhu3bph0qdDdqNHh/5DZwFsGhkL4B/3h8w9MYHoJkCpjOmQ19/NCqFOAemMxbT9tzDzsJTcgqyO8md5rCSixu2+jo1eTw2G37Z0Zrj9JiWAkAu9TiZrno2NjXJNLYDpYBjF2JV9NsMTwBR6rZgqPqsxu7H186NNyagJYBLXK04/ErF91X7IdNiP4u1SqZY3FfbrfG7JH5cswk3nn8a5B+9QLFMStHg+Ho1spQN69RwWw9snzncvL/n2/q6zeKtdTGi8xccfAjGhMrdVEdR0SmOS8dQmBZV0ww0KpxP+0sTp6fuvaDBHEuwzWxTG4fX/4m/tXPH9WnAm1PafiD6Vc2DGodC+t2oBfLXTYxFWTIsA3Hb8Q7T3Ds6Kev7jQs2fDkr+q9tb8s36hdKiQPrEGKNKNmJs1aW9ZfyDS25v7oCc+vCiekAUO3nzgnGYYL9YXH6qSYf0I6+LVNXHR5VHBVspRfPiUgfRoXpxqLMQsgD+7q0d5Q5ivQBWk/Hy8kKxYsWwceNGNG7cOBS073WBYAtw5PYhC+DI8eLaTCAmEzDlK0rZueTXzSSUKBWwulwYURWu267A/cpLg+u/l8qEMfXyK9fotXv92R6oli+VOEVPhaxrctYz+v5XIyeRDey97tBSeAL41UdflJhwKEyc3yOA1a4Vl92qIaGjFHlBzadeobSKH7Qcd7fGP8dx8+UnVMmTCtXujFEOTlUInImHgfqwZFHdA2TZ7bJSOljXpVxWDK2VB0duvkbf9ZcUtxG6N6tlYeUHjPG4ybo7ePNlgyGQYHdKn0iEUdPYAIv/KI7dK6cqB8LuBadBZf9poAxsamEqd6IWwNc6P0btf08iDnxxw7G9qKIWwNlsnmGJ/RRsDCoPx8pDlNjFcl8kygumT6S8daDrzpmTCqt7WIUO7dGPJnKtIHcUddxe4zaUbe/1J8NDeLWd0mBiIydMHjsI4+yXiiYvbVIg9ai7oB8Xp0aWQRldTOe1ZfejReUSUEfNSJ8kDk4O4UxwUd3X39POqgQw+QM7ODiAUvZSmDPjwofgvmcrRb4tC+DIM+MWTCCmEjAlgNUHu0xZ3s4Nr4xBGy+DRGO2FPGgsbHBndefRZIB2WeY5qs+pCUL24++ASjgpg9pOaGBE6buv4V3XyR3gfAEsPrQlimeY+vlQ5tSUctQqc72dmJwRSWqhJpPC+cMSiSMNZ1KoHS25Cg7+bBIYtGoSHoUuzwKLeyOiKFV8JuGhyF6i2xU139G80Los04KrUZuAK518qLE+AOI//kBHoSkQTA04h7VoygacjG2spsKvyb7NJNrBx2CW7dgonIg7GlIcrj4/Yt/WxQGpQ02LmoBfLPrE3FQLyG+4LKjFDtYLYA3a0ehqEayIs+veCFUPF8SwIUzJhbRLuRCPygoU1tYpWreVJjXuqi4TQI+y1D3MOuSf7a8vxLgKz4hLmhfk+V40pgBGGu/TLR9g8RI7ib92PMc6YziGins2rYKe1G/Qil8+OqvCG1KgkKuJZYq5s4iWeq5v0K/ViWAKTxX2bJlsX79ejRt2tTk+lAYtIIFC4okDnIh32GKc8th0H7slmYB/GN5cm9M4EcSoKxl77/6g1LHqt0OwnqGKQEsh/2iNu3KZFaSLch9kF9wr7UX4PnwPei1PB2mIrFCAnFiwwLKoxrM8cDFx9IhLTmlr7EVd1z9/Pj7wG28jYAAvvPqE6rqDiGZms/3COAFx+9hgruU7vjQgPLIliI+jDOltS+TBUs8pOQfKzs4o2yOFMIlg9wQyPqd03MkWttJFuqqfpNxJyT0GZKIrLVasJGFfMhmKXYwPX9k3bz4x60r+mItNgeVxYCAbuLe9KYF0bCI/nnqdSXGrtuuhnp01uTxcP/NFxFPuXjmpFg3fzz+0h0IkzO8kdCXD7ipO1AL4NvdnorDYUnxERccu4pqN2yy43a9HUK8H9IOQDaN5KO7pMqlUBZlEsAUs3eEaoyNi6YXhwvDKtSG3HbkYpx0RN1OjkLR3XY7BtptQP+Abkjl8rtI2jJxdD+MsZfCuPmExEOi0VKkk0sji6CQRjrkubeSO2qUKwN1Yg0WwBHZyZapE2sFcMOGDYW7Q4ECBUQcWm9vb0yePFn49lJUB61Wiw4dOoBCnAUG6k+VkntEs2bNMHToUFStWlUcfJsxYwYnwrDA/mMBbAGo3CUT+AEEKFZsZV2a4FUdSsAlhz4xQljdmxLA5N6w6ozk92rq8BGJD4+7b8Rr5YHVcuLKMx/su/YKTYulx+TGBZVHNZzjgQs6AUzpZRPH1Yo4uhWnSgeJTJXwLMDqJBim2o6plw+/R8ACTIJ94/kn+L10ZpHOmMqiE/eVVLsUeYHcAx6++YIKqrGqQ3HJYcecRu3DJ79A8UMgtccItLWTrNu1/SbgWkjUrNHkX9xoruSb61Y3r+IaoPhYu+mzomb2XSPqTWlcAE2KZVCwqNeVuKitq3KlRHHshRsFtc2VOgHWzR2j+MN+CokDJ7/F2N+vHEbOmIcXIUnxKER/yFwtgO92f4oq048jBd7D01FKf3zbNgfu1NuJHmsuYK92CHJrpKQpq2pcDiXGGxZOh6KZk2D4Vr1IpwOV6kyDKfABcWz88DhEOudj/LYhPAFMdVeffaxEqKD200qfQ89K2TFxVF+42a8QfX4L0SLO6P/E5+ujCiKvjXTI81iV3Sjv4iIO8uV03SOusQAO80/Y4jdirQCeNGmSsPTeu3cPwcHBoAxlJIoHDhyIhAkTCrBt27YVApj8dNSFrlEaZTkVMh1u41TIP34vsgD+8Uy5RybwIwiQKJVT7M5uWQR0Ot5cMSWA/9x8Ges8JcFCfqfzj98Psxt6Rb736gvhD0xuANOamhbAxwZVQKZk8XDtuY/wFw2rhCeAzz98p0REMNU+ogKYRAyJmXxpE2J377KiKzoMOFoX+UJOK0yH2+iQm1wowgUd/qN/eqY1KYjt3s9x/LYkmOiHQNzDrmhvt1d8r+83BpdCspvDb/L+7t4uCqMhNXKLQ4JU8qdLiE++gTj2pb7SrpjdJrz57C98qZsVz6hcp3WlqAxZbV6gZa0qGLv7RphjWdK2GFImcMS6OaMUf9iAEFvk8FuJC20TIum6OqJtFt9VCNG5XKgF8P0ez1Bp2jGkxRuccuwt6t62y4n79Xdg8KoTilsEXd9Q5yoGbzL0RyYBXDxLUoMsef2r5sR0XYIRewTimkM7aG2CUN5vuhDixiH3whPA9OOEDjYWWqw/IDmz7Hl0rZANE0f2xkj7lWLM5E6icXsvPt8dlRfZbaRIVGer70CJUuWF5mg87G90s9uBYPsEqDZyZ5TWNyKN2AUibEqxVgBHZGNYuo65jWftAtDa52/p/cf9M4GoEth37aVyYGp5e2eUV2UGC6tPUwJYjm1LbcILP0X39/Qpi9lH7mLX5Rcwfi2ttgDLVlVzIjY8AXzyzhu0Xhx2drXRv+XDH6X1Vlc6yBcUHIIeFfVClL5nG6b3F5Wft/zUQ4zaIfmgLv6jGCrnSYXDN1+h/bLzCjqKlNB/wyUEBIUYhESjCuRyErBnODrb7Rb1m/iNhGdIxJKCGK8NuWDIlvzelXPgX6MoDGrxWUK7WWRZI1/qliUMBfAIu5XoYLcHm+O3wIA3YUdC2tajDLS2Gqyb7aq4A9CYsvmuxLVy5+B4bqYYYnHfOfgPicVn9Rge9nwuLOUZbV7huEM/cf8OCeAGO/F+bRc0t9Nb/LfXv674NMvzptTDdOjtT1WaaJoP7atnH74ZWJZnBDbA34FNhM8yuTDIJTwBrISPU1nOyRe5U9msGD+iB0bYr9YvwYi3gK0dHo3KiUw2kg/ypZrbUKiElPSi97Bh+Fc7G18QB/HcDA+BRvXv1lQ7czrkRz7rV+uLBbAFV8zcxotNAvDu3buYOnWq8JO+evWqSCRC/x9eiU3zt+A24q6ZwE8jQCKBXuHb22qwQGetXde5JEpmNR+FwJQA7rvuIrbpsr7Jr49NTYYOH10fUwNDNl8W0RF+K5hWHJqiIqxl804riSNklwyymMphvUz1GZ4APnTjFTos1wtS4/YkQtuVySIuq2Pcykkr6PqYndcVP14h5CbVFvXVPsDygbK9V1+i6yopAgMVivzw+5Kz8A0IRpnsyZQsbHSPIi283T4U3ewkq2AL/+E4HWwYEi6iG0Idt5csnfKayu3V4rO0wxY89/GFcQQMWld1PdlVwtQY6NDfV/8grJ05THEHoHq5fJfhUp0XiHNwqGimtmqr+37c6wXKTTkCivZwyEHKHnfHPhceNdiJbOvKIotGf5htT4Or6LbW0AJMbw4oJq86UgWFbquaJxUKjtkPcn/wdOwu+l0ZWAUjAtuLHxxirfcOA/w/IfOp6gD0ofbU86TQa/0pgYhKAJMvMvm3T3DtjuH2khuJKEOfAQ7x8XRUNqS3kWJf36izBXmKVRafBw0fJA4KvkMiJHWT3IQsUczpEEs881fpkwWwBVfK3MaLTQKQfKV79uyJEiVK4Pbt28LthAWwBTcXd80EfhABiq9LmbLIj1OdolXufk3HEiidPWo+wOS3KScWIHGy+YLpw0hZksfDkYEV0H/9JWy5+Ey4XJDrxZN3X9Fw7ikRNkouskuGsag0xhGeAHa/8gLdV18Ik6Br7TzoWDaruE+hwtotk9ISyxZd+mxsKZSfR1ZW+ZU7xSZu4ZwRO72fo5cqAsLRgRVEvFsKvaVOikH9UhiyBxuGopfdNvHMP/yH4Fiw3h0kMsvuObwKio8/KPVTKhOWnzYMQ6cWny5xtuLp+29QW7+XnHwgDppFVABfHFEVb7/4Ye2MPzHCXp/WOK/vElxo4g/HndLBth7+vbE7uKT4rO77aZ8XcPnrCHLaPMF+hyHi/l37XHjSaBcyr3ExEMCHGl5ChzXXDXDQHqOwZoNUrhHyjxBar1R4h7OOPUWbXUEl0DOgj0jGksDnNjC3tLjeyn8oPIKlrIXGRbEWqwQw+SK3LpkJE4Z3xTD7tfomgx8AcZPi+agsSGsjhWG7X3cTshatKj6PGN5HRI14gRRI4ybFyrZEMadDLPHMX6VPFsAWXClzGy82CWASvBqNFEaHfKvPnz/PAtiCe4u7/vUJrD77CAuP3xeWTgreHx2FXuPTQbKXPr4iFJMsltRjId/RbhWymR2eWhBWyZMSg6rnxvQDt8ShNirhZdmiUFQLfy8GOVVwzfypMbd1UXRecV5JGCEPQBaVWy8+Rb/1UoIBU+XBxFomo1eoLbphtR1cIxe6V5DcHQ5ef4WOKyRr8d/NCqJBYSlCgkkBHByM8wu6YN8TOywMqgMS0m1KZcIu7xcYsFE/VkoBXWriYXFwjOLoXnz0BkHCJ9YGdCju6spBigDu6D8AB4OlMF2RLZRohCyfVJoXz6D4Y8v9qMVn+Xjb8OjtV5GBjw6OqeeorqcWr8bjobjHbz75Yc0/g+Gqcgco4LsQ55sEQLtTsr7uSdMd3R64iM/qvp/3fYnSkw4jn81D7HYYJu6TAH7WZDcyrHJBVo3eVcCjkSdarTZMrNG9QjYRdUPNWv7BRHGkXz+5q/gWnwrKizeNN4u3DXh4ElgmWfDDmx+l2+5VIhEwNYcydfJFblosAyYN74I/7fXRo9D/JpAwDV6OyozUNpI/8LN6G5CuMFmYgfHDuwmL8UOkQ2Y3QyEf2XUOr745HfIjn/Wr9cUC2IIrZm7jxSYBrMbIAtiCm4q7jjUEZAGVOK49Lo2sFi3zUmekCi8LlnzwLMxBBgUg83B9TF6qlyaRozgcdvDGa9GM/Igp3q+pImcmG7zJGxvOPxWZ0hb8XgyN557C+UeSeJCL/MpaHWPYVJ93x9eEna0GlJ754PXXKJUtGSgsWLFxB8Rhr/CK2i90/7WX6KxLIEFt6NQ+CUTjpA7CAnxtG7BRymBWzHcuPmgSi9jGFXOnUH4IyEk+io49IEK2lU/lh38+9ML14ExoHzAIK7uUh+fiPuhht0P0082/D/YEl4jS/rg2ujoKjN4v/JcpS5rsjiJ3phafleJvF6HMhtfKg07lJOu3vEfV9cR1XcQI40GRsH/90Q9r/h5gYA0t5DtfWIA1O3uJJp9K9IfTsWLis7rvl/1eoeTEQyhocxfbHUaK+ySAXzZ1R9qVZQwEsFejU2i02jCF9tXR1XHg+kuDH0bkAkGh0ChbXYvJ63BC51t8MzgDHjY9KGXru38MWPGbeF4X/77YF+xskrf4YXSlOfBWL7zJF5niJk8e3hmD7dfr2/XxBpJkxutRmZDSRgrh91/9tUhRqJb4PHV4Rwy034hbNlmQa5QUn9kSxZwOscQzf5U+WQBbcKXMbTwWwNJ/vChCBxcmYG0ETPnM/kwGdNDt9L23SlpYdZQA43FQCK22Op/YUGP0XAzsHYpe3zphZ7D0Glku4YledT3Z5WDolssiQQRZkBf9UVxkf7v0RBIPchlaMze6lM+GMpMOi4NNYZWbY2vA0d4WZGmnsFiURtl7VDXkHiFFVwivKIedKHarkf+uqXbU961xNYHTs4F9kuXSVAILdcgr5/EHRfi3Lok9MdT3b9FmUEBn/NHdFSfm9lB8gHv798CO4DLmhmzy/q1xNeA0aj/8g4JBVvU9Vw0PW6nFZ9WEO0QSkj9r5hah2Mj9pOxkKRlHRAUwMSd3lTXT+mGIyho6s+ge9EpzE9glHWz7UrwX8p0oFarv1/1fwXnCIRSxuY0tDm7iPgng183ckXqFoQC+0vg46q7Su9SQyCWxu/3SM4PDcWprfsfp67DoYxfRLyXoSD3yjviRhLuHgFUNxfVRAX8gqc0nkW3uaUiK0HvvSBGDa+6NbqKWUxpMGd4Jg+w36O/18ARS5MSbURmQ3OajuO7TYDUSFZQiYcxy/R097bbjsk0uFBh1LkrrG5FG5nRIRPqIrXVYAFtwZc1tPJMCONAf8JHCBkVbSZQBsNNG+fFsAY4yOm5oRQSiUwCrA/HLyCmJgZzAwXgZjE/KG9w3EUtWvm98wCus5ZXdGoZvvSLirFbMlQJL2znjt1kncfmpj0Ezeg3d3iUL8o3aF+5uIWtkXK0dBm30xkZdIoQV7Z3DPTgnd9ipbBYMr51XfDXnL0x14mptxSE+nJ0P7Bks2lX2m4J7IfqManRN9nWmz6UnHhKHzrrFP4EhgXNFm8kBTdG03z/Y+09ndLXbJa4NDOiCTUHlo/SXQUlD8o7cK3y8K+VOicM3JWu8XNTCtkbinSIVM70JoGgXav/tsAQw+dRWsz2PHUGl4YP4uDO+phD1q6f0xmCVGLzdyhM53x0F9kgH274W7Ya8HlLYOHXfbwa+FglBStjcwHqHseL+HfvceNvCHSmXlTawAN9udBDVVuvn06xYBvzVuAB2eD83yDin9mHv9e9azHwn+SF/iZMW8YboQrrdOQCsbmzA5r+QRCjuJ62LXMQPtUPS4Uy5HGx6G1XypsK04R0wwH6T/kbXk0BqJ3wclQYJbb6K698arUAcp3ri8yLX5uhotwfe9gVRcPhxgz5/5BdzOuRHPutX64sFsAVXzNzGMymA394DZhr+wrTgEE133esCkMy8z19Y42IB/NNXjB/4CxKITgGstu6p/3EfF0aMVyVxginO4Qhg5yxJQTFw1SVVQgcRbktdyA+afDFHbr+KFbqDWiRgG889jesvJOuZXCjVbcH0iRXLNbmQfPgaEGpk5I+a0NEeo7ZfVQ5/qdMBm9syFJ+3UdH0MOdrTP2kTeSIU0MrA+cWAu4DRdfV/SbhVog+nBhdy5kqPvb3k8SsnPq4V5x9GBAiZRD7J7AhWg6Zi21/tVfCoP0Z0BHrgqKWKpfcMkgAU2QGUz9G1OKzVpJdgrXwc62cA5WmHhUuEVTCEsAnHXqLCAfHg5zwe8BQ3J9QSxLAk3sYiMFnbc8j3YsDwD4pCsS3wh2R5zTNKQQPHVspS/Gu/3MUmXAUZTRXsFo7UVy/bZ8bPq32IOmS0koWOLr+oJE7Kq7Wvx2gw4b0Q0o+cNjBdjdy2zxBY7fNsNEZdAbMWotpbyQB/C1uWsQZrBPAt/YCa5uF2hLGrh4j6+RF+4P6rHHU4HjLuyiXMwWmD++A/moB3PEQkL4YfEclh6ONtD+DGi2FrZNkab6+sAPyPtuELxkrIV77rea2Y5Tvm9MhUe44FjRkAWzBRTS38VgAswuEBbcfdx3DCfxIAfzRNwAJHOwilLKYsFx95iOiEKgL/eNu7Ncq3zeOy2vQMAwBbKuxQaEMiZXwZXKb5PG1oXxwl7Ytjoq5U8I4dTK5aJBVMrxCSR2uPjMUyVSfIhIkiafFkE2Xsf689FZtfIP8BlnCzG0REpBrzj7GsK1SCuGwCo1hV6+ywPmlwK6+opqpDG7qhBl0+JCy2fXTbkMfjfTqfHbgb2g1bDE2TfhdWAepjAhoi5VBUfMRp/HLGeaKZkoSai3UwrZust0iE1+fyjnQr2pONJl3SqSophKWADaODkHPe/3JF6sndUc/+80KrvedziPJQ3fggOTX61fwD/x93g+/2+1XIiTQdZ/ed1Fw8jmU13hjufYvUZcE8KfWe5F4cSkDAfys0XaUWS0JdCpyRjeKOtJ3zTnccfxdulFrKuDcSXzsP2MFpr+X/JD94qWFwyCdAL65G1jXMtTyUvSKr3BUrosIGfsNI3Kc+f2+CBP4j2s79LXbou+jrTuQqTSC3ZJAY6NLttVoMeCkszRv6w5cWg3k+Q1oJiXQsEQxp0Ms8cxfpU8WwBZcKXMbj10gWABbcPtx1zGcwI8SwF6P3qPZ/NOoUyAN/mlu+Ho2LASmYuiqU+Uat5NdEkz2F4YAtre1EYkejEtCRzt89NWnn6f7FBeXrMVjd11X0taSvyy5FpBfaniFoigYH5Sj+k7pEoFiGJN4pdjCVMgfdPLeWxHeGSTo5FBg4TXKnToB9vYtB1xYCeyQwmzV9RuHKyHSYTK5kPV6a3fJn7fK9GOgVMpD7NYq/r7uCRqjTPd52Dy+tZIJbmxAaywJriWyxkW20PgLjt4vok2Y+qGgFrD1UrjD+8kH9KqUHQOq5VKFxDO00tIYZMuoKQH85rMfVk/qij4qMejX3QsOt7YDh8aIKfg7tYT2iipmrm5in9seQv55r1BZ44XF2mniKsUB/vL7fiRYWNJAAL9usAnOa/WHGeXDhXuuvMCA1adw3bG91GupnkD18eJj9ymLMedLf/E5IH462A/URV+4vgPY0CYUXmMrvoiRvLeAQT2vdg9BPy5muLZFHzuVJbfNViBzWWCsKoRg/XlAoRZS+43tgGtbgALNgIYLIru0Ea5vTodEuKNYWJEFsAUX1dzG40NwLIAtuP246xhEgNLl3nn9CXnTJFSstD9KAFf7+xhuv5JEYnixb9U4jA8K0T36x33ENtPJa4pkTIwtOuEWCms4LhCmlkBrpxHpg9WFUvbmS5sIE9xvKMkaMiaNC0qQ8fCt5D9pqlBkA/KjNXazkOv2q5IT11/4KBEYKMMZWXQjUlIkcADF0Z1z9K5Z0Zw1RTwcHlABwRfXQLO9m+i+gd9oXAzRh8uiayTySexTkWMuu9ktQ1s7KYJGiHNnfKk8ERvHtkQ7O8nHeVJAc6x3aIT3Jtw8zM2D9kORsQfw7os/sqeMLwS3utxxaAN7myBxqVGqPcJCTKHEBtfIjVITD+GFjy8ofbBiTdU1XlPzivhhYUoAv//ij1UTOylh3ESTnueBq1uAoxPE14B8jWF/TeUvqxoUJf5IiC+Yr/1HXL1nlx1f2x5G3AUlDATwhwZrUEgVdld206FDi3+uOopLjtJhHhxOOAAAIABJREFUN5TsAdSQnttu7BwsDZLcMIITpoemv5SxT4xtU7tQOBv7jcR5VRY+kSVvj2GM4KudHiN/ukSY6fqH4ZxbrAcyuwATVX7gv80Eiugs02tbALfcgSJ/AL/9a24po3zfnA6JcsexoCELYAsuormNF5sE8NevX+HuLqUFnT17Nu7du4fp06eL7+XLl0eKFIanael6bJq/BbcRdx0LCHRb5SVO4Msn7GlKP0oAy76k1GdYsW+NEZqyatI/7mG96lcsnKqOAoOCpRP0kRTAppZTDrM2ac9NUNphKlmTxxOWSwoVFlZZ0raYEMxn7hv6Gcv1W5fMiMfvvoEs3lRKZ0uGU/feRmhHUd01nUqKpBbGKYRNddCkaHpkfuGOHu8midvG4omuuWRPjlUdpZBmtWacED63k+3mo6ndManLom3xrfp0bBzTDL/bHRCXpgU0xu4kbRR/3AgNXleJBDAdKiOrbIakcfDknWHUjFsOf8BB55/aNNUenHv0Hl3KZ8XQmnmQb+RefPEPEmL0sqPkQiCXJ71fiAgRpgQwrdmq8e2VMG6iTfezwNXNwPHJ4mtg7nqwu7k9zKnMDKyviMlHdpnxqd1xxJlvKIA/1V8Op3X2Sh/ty2TByLp5QWHrhq88CE/HHtI9lQBu5voP1tuNEpdDEqWHTT+dAPZeB2zVCWbVqNr5D8KRYP1blb8aOaHZbkMBfL3zE+RNmxCzXdsYzrnpCskCPFmKqSxK7elA8Q7S5xX1gftHAOcuQC2JiyWKOR1iiWf+Kn2yALbgSpnbeLFJANJcsmRR/aGruB45cgQVKlQIRTo2zd+C24i7jgUETIndHyWAXf46LDJ4URFZrRz1oiAsdNP338K/hw2zT9EBoqFbTPu6ZkoWF8cGVVS6W+/5GCO3XwOl1x1wSh8zNbw0ueEto5drFSSL74Ap+25i9hFJAOdIGR8P334J5UahQTAqaS6KuLlTOtYWFlqPu6ZFbUeXLLj8zEexEJNbRXih09RjpENjlIyjgJthfGN1HbJQB6tcE+poTmOWdqaoYiqFMUViWNK2uLhfZ+YJ4bs8y/5f1LE9I3VbqBV8a8/EptFN0NrukLg0I7ABjqXthAuPDcPBReTPggRwiQkHxaHDlAkcxAE1dbnm0A7xbKRrrdLshMeDTxhaDOik2YG6ngVwLSQzUuI9zsliUm7s5oNNXk/ReKc+RTOtPT2PstutGtsWXXWpnEWTbqeAKxuBk1K4t6CctWB7WzKYmCtPbDPgc8dT0M51NrAAf627AHk3xleay5E7KHGJ28o9OOnQR7pXsjtQQzpQ12ToNGx0kNwwQNGO+uneeHgtB3b2DjWUPv7dsT1YSthBZUrjAmiyK79BvRudHyNP2kSY49oG3XWxm0WFhouALGWBabn09WtOBkrohPaSmsDjU0CZPkBV3ZjMwYjCfXM6JApdxpomLIAtuJTmNp61C0Brn78Ftx53HcMIWFIAG8fD7VkxOwZWV/2ja4LFRPcbmH/8vsGd8A6Iye4AcgOD+TjqDw9FRADPbFEYfddfEskZ5CLH7FULcwoZRofE5EJjoBizrWwPYrz9EgSF2OBCu/vCOnvizhuTK07xfE/eeQNvo1BqcmWtrUbEyDVVKKVu7tQJlWgTpurEd7ATgk8uNTTnME/36v53/yE4bpTCuHq+VJjfRkoAUW/WSTGuJfaTUclWlwjBqQkC6i/AxlGN0NLusKg3N7Auzmfvg0NGIcwissVJkMrh1mTfa/WYLzt0VEJ0tU+7HYfvf8GtuB3hEPwVviH2yO23HJlsXuKYg+Q3qxQ3H9x59Qk55kpZ8ajIAvibfxBWjGmDLna79fW7HJcE8Cnpx0FQtiqwvSelaDZXntumxefO52A7u7iBAP5WezbybE6iNO9SLiuG1sqDQzdeYdyKnTjiMEC6V6IbUFOyyrcaPgWr7cdJ1xOmB2QXCFX0DvV4XAPaYVWQlLqYyvSmBdFwh17007Xbne4hZ7rkmOfa2lD0/zYLyFIOmKHyGa42Higt+YhjQQXg+UWg/J9ARcktwxLFnA6xxDN/lT5ZAFtwpcxtPGsXgNY+fwtuPe46hhH4mQKYph6eL3CfdReVQ2FqTOHF7I1jb4sbY2so1b9HANPYcg7fYyA8ZdeNfw7exj8HpSxbaovlrl4umLzvlnBl2KcdjFwaKQGCd4dHwkUhrAxzFNJr1+UXuPXKdCSJJHHtw/StJX/d1AkdRVzZsEry+A7CvUAu1TXnFN/VDv4DcMgohXHdgmlBPwCoNJjjgYuPP2CddixKanTRCPLWQ3Dj5Vg/sgFa2ElJKBYF1sSNAkOx+YI+6UNEtzexlt8QyNZqCtlGftNULjp0RhIbyS+4S7ot2HfPN5RbQ3abpzjoIMU2VoqbDx6//YqMM9Po94TOAuwbEISVo1ujk53KwtvpCHB5A3BWiqsbnKUCNA+ORmgarzSp8KnrBdjMKmYggP1qzUCuLXrXOkrXTclcjtx8jUnLN2Ofw59S/yW6AjWliBLex7eh4GEpU5+BAFYlMFEP6kOpPzE3qL7yY5HC6NXbJsWHlsvjLreQMU1qzHdtaSj6a08DspQHZkk/eESp4ga4SMlAMLsk8N8Nw2sRIhK5SuZ0SOR6i121WQBbcD3NbTxrF4DWPn8Lbj3uOoYRsKQAli186inLLgXGGEicRCQTmil8lOTgxouP+PvAbRy5pU9pbOwHGh56Oe1zTtc9ykG4SQ2d0NxZiper9rdVWypPDK4o3DNO3n1jIIBvdHmCKftuhUrwoB6DWvAZjy19kjiK+wjdy5YiHtImjiMsyhRdImVCB7hfMcyepu7D2K9WbQE+kH8K/nqcy+DgWcMi6TC9qRRHVk7zvF3rioIanTU+Vy2gxVqsd62HZnaSQFweWBWPSozBEo8HZnd1njQJxRrJhQRw+SlH8Eh1kNA5c1Kceyj5THs6dEUKXZay3uk3YMfdwFACOJfNY72YlDt288Grj75INT2V8izZAhwQFIyVo1ooUSxEBYqJ670W8FwkvoZkLA0bev0fgfJGkxyful9G0L/FkF2j/zESUGMacmzTC3D5zcfRW68xddl67HJwlXpX+9jeOQisbiRdV1uAT0wHDo0OPZoyfTAluKXilkM/XupuzWNYb9A9IF5yLHRtYSj6q0+ULMDzVFn8KroC5aVkIPi3MPDuPlB9AlBK568cAR6RrWJOh0S2v9hUnwWwBVfT3MazdgFo7fO34NbjrmMYAUsKYDnMlXrK6zuXRImsyUJR+OQbAKdwfFrDw3ZhRFURUcC4REYAJ4unhdeIqgYW4FUdSsAlhxQqSvYBplS4FW0vYV5gXXxBHJHCuOtKL5y+/xZ7tUOQWyPF9b3X/Skm7rmJgzcMM5xFdPlLZEmKs6pEHdt6lMGB6y+F4KGQZWThPXD9VZjd5UqVwMC6XEtzBnO00on+U4X+wu6QMiKznVyaF8+ASY2kV+JN550WQlRt0Ua2ykCbLdjoWhdN7KTsYGsCK+JRmYmYf8zQZcXUoCj0282XHxW/aVMCmKI8zDkq+VmfdeiOVDaSb/HADOuw6U5wKAGc1+Yh3B2k9M5KcfPBh6/+SDxZb4Et4LsAlyc1Q3BwCJaPbKZEsRBt2u8HvNcAXsvE15D0xWHz1DNCy/TBJjF8el5HwAxDARxUfRKybdcnGuldKTv6V8sl3hLMXbYUa7VS6DM4dwZqTZE+394HrGkqfU6YDuivC4N2dBJwVPITNi6PExVDhVd9EQwN5rQqglqbcxtWGXAbSJAKi12bo4MudrOoQNZeEsALVUlMyvQFquqE9t9OgM9jgzjFEQISyUrmdEgku4tV1VkAW3A5zW08axeA1j5/C2497jqGEYiMAPb5GoCrz31QKmsyaOi9dTiFIjFkHy4lTFAXOYuZ8fWHb76gwtSIvXo2bksxdZsv0B3WUt2MjACWfYnVLhBrOpVA6WySAJajQMh9kvgbHtQJ98bXQvOFZ8Rhtj3aIcijE8BPu93DmH0PsT8ckRoWPuJLsWO7rb6gVCFXC4oiQAcEC2ZIjKRx7Q2s3cZ9UR2KnSuXuppTmKmdJb56FhqPXTYVlCx0dE2OVUufmy84LaJXHNQO1Fs2KWpA213YPKIOGtmeEP2cSVgdx/OOUUSr/CyKgNF+2XmDIVHikWvPPyBn8EPcDUmLW5MaKD7AcsVx9fML95LOK73g4dAL6WykA4RDM6zG2juU9EKfmY2suvlt7uutqXInbj746h+IuBP0P7L2BRVD9bHSwb0Vro2VKBbign1cIEAVzi5NQeCFd1hLY3D9s008vO91F77/FEMOzTPlXkjVsciyU8pYaoNguJXW4o8C8XDSPxdc1mTX96EWwOqEFwnSAANuSvUOjgZOSlGLTJVW/kPhEeyEea2LosYmI//6fteBROmwxLWZodW7wjBJAC/Vuw6hWHugjnQQEFNzAZ9fAnVniOgflirmdIilnvsr9MsC2IKrZG7jWbsAtPb5W3DrcdcxiAAd9so2TO8PKfvnhhUFQhZGrrXzoHaBNEiTKE6YsyH/UwpzZVxEylYXw6gs5BvZblnErG6mHhhWlIjICGDyqT0zrLKBBVhOgkHPHL/7OhaeeKBYIV+FJEYVLMCV0ZQW+ZRIeLFH+yfyaCSr6n/drmPE/pfYey1sNwVTcyER2LpkJpy48x/aLD6nVNnXtxzcr7zAjEN3RCKNRHHshdtFWIVENFml5fKbxgP/ameLr5cKjcYO22oGrgsdXLJgRB3Jh7TVojMiesVhbX9k1ejGn6Ek0GEfto6ohQa2HqJeiFMTTE8wCDONonZQ6LjyU6QfM1ltniOLzQt8SF8ZTbAfzV9LMXTR4SBKrfoo4vnKZdHvxWBra4N2Sz1xXNsHGTWSO8uojMux5XYArjh2VOoWs9uMdF+uYbuDlMFNKW4+EGHwxuoPoYl7bj7i/1a5NlSiWJhklzIv8FpnfQ2TrnTDH/Z40/cJvkwvaiCAUXkUsrjnEglCVtmPh4utFNLscvVNKLBPl21N7rt4R4AiMJAAlhNexEsBDNJFQtk3HDgt/XAxVbr794Z7cEks/L0Yqm7IaVil7xUgcUYsdW1qaPV26Q9kLQ+sqKevn78R0HiJ9H1yVuDrW6D+XKBQ6Cx0ZrBE+LY5HRLhjmJhRRbAFlxUcxvP2gWgtc/fgluPu45BBL74BSLfKCmpARVzAlgtjKn+yg7OKJsjdBxtukcn8av+Lb0qVxc5na36mnG/kUXUt0oO5YCaum1kBDCFIfP4s5KBAN7crRSKZkoquhyz87oQjHKfb0MSoKrdUpD7hXxoTC2AP3a5iKGHP2D3lReRms6ydsVRIVdKUKrlFgv1Vu3DA8qLQ3Pki0xJSxI42hm4SBg/pFzOFEqMYbpXX3MS/2jniGrXC43ANm1tJbEHXZMPatHnNovPCl/jY9q+yKTRuXCkLQJ0PoLtI2qinq3ORzZvPUxPPDxU2LobY2ogz8i90p7SReKYmtgVAz/oohzoBltCu1mEQaNC/I8OqoAz998K4X9E2w9ZNJKLx7hMS3Dw9nsc1UVP+BgSB13SbcPvGV6j5lmjLGk6oauOAS060V1f49pAiWJhcmGSZQfeGobhC28BX/V7iY/TjARwxeHIvCcfWtsewDj7pUrzp/m7If1V6bCdQaGoDA7xgY06a2ucJMAQKRkT3AcB58LOxjbAvys2B5cDWd0rrTMSwL0vAUmzYLlrY/yhi90s+qQMdD5PgOuqeMfZqwCNFgH07IkZAL+PUri0Ak0itX8jU9mcDolMX7GtLgtgC66ouY1n7QLQ2udvwa3HXccgAhS6q/h4vZX2+KCKyJgsrkEijEZF0qNA+kR4/9U/lMikcGBHBoaOo01TJJeApvNPi9lSGCg5tJmcFUuNIcvQ3VFKpyv30cI5I9aeM8yiRjF57zu2Vh5jLgwaHRo7MbgScgx3V/xUt3YvjcIZJUviqO1XhcuALOhIhFXWrhIZ2erN9hDuBu7aocireSTq+3Y+jUHH/LAznEgNprYCuXOUzJoMXo/eodFciR8VOmxHWfKm7r8NSv5BqZhNxd/NYPMKjW1P4Fa6BnB/ZKu0b6g5junaeeL77UJDscWhvpLYg671rpwD/atKAuqPJedE9IqTDr2R3kZnZU7lBHQ7iZ0jqqOuHBs4Vy1MSDTSQEhTe/ohJf+okXmddiyHUr6GP4ic7Tcr8X939nSBU/pEOHX3DVouOmvgfjE580KcvfUUmx0kH9WnIckxOfcmdMj4EgUPNDfEaEYAr3Oth+a6Q3wm/xQTZwQ+GGXkS5YDeCtFADEu//V9ivfTSyCnygUC5QYh8/7CBj7L1O5+yfHIemZ46E7I/za1E7BZl4jCIREwVDeGHb2BC8tNPpsuyuHQxA+ntYbZ/dDrApAsG1a6NkIbO9XbGPIx/qh32VA6t9EArbcAlAku8BvQZDmQr36Yz/7eG+Z0yPf2/yu3ZwFswdUzt/GsXQBa+/wtuPW46xhE4Mm7ryJrlrrcHlcTFAkhIoVexe/spQ/Gr25DaV+7rvKCrcYGd8fXRI81F0TUgoaF02F6MynagFyyD3NHoDprQ0QerqpDSRwOG8WidYA/bjnq/RfNCeDMyeLi6KCKBgJYFmX0qOFbr4hDY7Kg+xaiRUWHdcJtYuHx+xjvfsNAAAd1PIr+J2EyrFt409vUtRSKZU6Ky08/4LdZkqsBldNDK2HrxWci9XHOVPHhaG+LyyZiCJ936IrkNh/x2C4zyn2W0uxSaWJ7FFPs9ZbEqSXPYpbuwBndH1gtJ3pWkgRU+2WegqfaDxfJcwI9PbFrRDXUsT0rdZq9Clzju2HVGUPBSAJ46JbLIsPgpWDJgngmTlmU/Cb5DsuF3BjkUG3uvcuKrGVn779FswVnDPyp/8k8Fzdu38Z8reSjeis4PQ5X2oGy9jeR/4DRK/r+N4CEaQ2yAIpGOmG8wfU3fXY7UwtB/refjKz2XU4Au/sDJg7Hvet1D29mlDMUwGX6otz5MjjuZ2g9feQ8EpnOmUgsQRbZ1AWArZ2lEdnHA4brokps7SpFqQijjA9oiYVBdaS3MatV/sVUv8c5IEUurHZtiFa65CVhdiTf0CaQfKJDgoDma4Dctc02iWoFczokqv3GhnYsgC24iuY2nrULQGufvwW3HncdgwjcfvUJ1YzcFM67VjHpu2tq2Or0ucb3ySJL4cGSx9fivGtVIYjWnnuCyrlTYrEu45jcJpfrHvgFmk76INehZ4Xl80ouAZS6V10S4KuBz6g5AZw1RTwcHlDBwAVid28X5EubSHQrj18WwAEhtqgQZ5Nwm6DwWq0XncXIZ12QT2cBRlt39DsbT4hWewSiie0xnAzOj8ch+vBcpphStAc6MEYhw2rO0AtGsjRvuSBFlsieMj7sNDa4+fIT1PGC6VzifQfTyT+a2h7BZPuFyiPnOh/AX8f1IeOG1cqNzuWkg1sdl3uK6BVnHHogtc17qU2SzEAfb7iPqIpatjrf5Czl0N9xLLZcNLQmPnQtDuwZAv/c9aDdLMW2PRenLJxDCeBNePNZSid9oF855EiVQLF8b9OOQCGNFBFiXqa/8fjuVUywXyy+P0BaJBx4CS8u7UP+g0YuEGKxngIT9YkwRCOdAFYf4jP5pxg3meT/qi5dPYDdA4AnoQ9afm60Gp839dRzonalemJLgpZouL+0QTdPiw5Bei8p7q9BoYQYZAHe3l26bOsAjNC5npBbxLWtJodKF/8OaIQZQY2wpmMJlF4lrZ9Sup0GUuWFWbcPdRsS3wG6JC+tNgE59Mk2whxEFG+Y0yFR7DZWNGMBbMFlNLfxrF0AWvv8Lbj1uOsYRMDj7hu0WqSz5unGdWZoZZScKJ2YN1foINzslkVMVlvq8QCjd16H7FogR1EomikJNnfTC4PRO69hqYfO31HVU9Ni6YWPqxwnlg6HuW7TpYc1eiKJbFlIybeS4CMuOnYVX0NsNMjybVW406H0xgf6lzewANPBs1ypE4h2gzZ6Y6PXU4PX2uXibsPxwVIaZnJ1yLq5hl4At9qM3ueTiWQVLWwPYaJOvDn5LsInxA1zLBTtIX+6RCJGb5Xpx5R6l0ZWxcbzT4WlOVVCB2hsbMQBMnKHICEsF7Xf88JKF0V9Ks1tD2OSvRTrlsriEnsx9pgUc5fKqLp50a6MdDix84rzInqFp0M3pLCRDo/Jobn2jqiCGra6A4sZS6Gr/XjloF+VPKnQuGg61Lg+xNC/FIBXnDIo+k1v0aYui9huwrsvkgAmVxpyqbn05APqz/bAeu0YlNBIkRCWZ5qIN3e9MMB+k/gelDgzbPt64+qJbch/SJc8Qk20/T5gSXXlCmWOcxwtuXJsGVEbDW1PqmsbftbGB/ylBBxKISFJAjiC8YEpvu/epC1RY295g26eF+qNtJekUHQGhaJBkADe0Uu6rLEDRupE+NqWwC1V5jqjpvMC62BSYEsI15kVWQ3vdj0p+l3rWl9JXhL2xHV3bLVAkLQmaLMNyKZPM262bSQrmNMhkewuVlVnAWzB5TS38WKTANy4cSNWr14NLy8vvHv3DtmyZUO3bt3QpUsXaDQak5Rj0/wtuI2461+cwJBNl7H+vBS3Vi5HB1aIcDiyliUyYkIDJ5MUFp24j3G7b0B2LZh79B7+2nsTstCkRsZRKNQdtXDOgKO3/lOiBFCmqz7rdGl5w+BOVuJ6hdLi7n+fsfWYF845SkH8Q2y16J19Py48eo9nH76ZbE1Ccm/fcooALqW5hnmFHiBRTTcRS7X/hkvYcuGZgQCuEm8zDg6qIvrbe/UFsm6orH8V3nQFelzMIA7BzbT/V/Gb7ezfD/uDi4e5c/b2LSvSHFM2s3JT9O4p10ZXxzrPJxi7yzBCAaVUptjAVMQcPtRV+l5R3Rsjt0sRCFraHlIsqPR9eYldGHVMbzWXo0/QvW6rvIT7gpfD/+xdBVgVaRd+aexuTGxEsMDujrVjbdeO3bUTELA71lhduzvWVlRQbLHABBUbBDtWyf85883ciTu30Lv7L3vP8/zPj3e+mjPf3fvO+c553/7IZsWDa56Z4Kh3XTS0CWFz5KuIbtZTNXLP96c25VJesMANeCN/qbnpWAEuX/h+/ArLWW/XqN1RjnP+rGkR9uwdmv8WjG32fvCwvsu13F/UH7F3gtHT9ijryQtFhAXtRJmTP2n7stdhGcXX++S0yOjH0hr2eDdBK6GIT+0pWNmw43+pDboAHBwJRMpTOHQ+xAq9EJSjM2odlkdPo137I1foMu1uREFGAHg/r8RGLSa+BaysgA1tgQjd0szrEhrAJ6EXtg+ogkpr5Owq6BcE5HWXiZfoXLPahZ4HgUISsQyTOhtubAiHGB4h9bawAGAzPltDGy81AcDKlSujYMGCaN26NXLlyoWTJ09i2rRpGDp0KGbN4knIFb5OTfdvxm1kGfpf7gGB1kx6G4d+rSE7etd3i10rF8DkVuoAeFnQfe64XkgtWHPmIXwlEWEad9rB25riOOU8NPah0Ci84iOEq3tWMkiV1rpcPszr6A4C32sOnkKww69sWNs0gFcUAm5Fo886OT+tMC+lURz8tYYGAGsiqbwAhCDTLI2wLrPvgf7jWUTv+O1oFN9cDfl56i60+h0DQotz0dH1dlNRw4ZFr3+JG4w/k3SDioDhtbgUhxfv/kKVaSc0brk7uTE2X3jM+VBqk1q6cKwRZGN33cDGp2LkM2LQU9SfywrPlIwEmz33YFyQyH87s11ZdKiYn2tL+doHbrzANYe+yGzFH4fzhVnHvOuggQ3PT5y7LNolz+Ao4Mg0MteLPIBYBl4Fi3Aog6Jf5RF8N2zDuy8JXBPKcSZaPSH1Y7u9LypZ3+OuXXDxwbMbJ8TIbfrcwMi7CDu5DWWC+iq3DqAAwMTYkc2PyTXLivi0e6p/MvgScHAE8FCb1US1Q7muuJS7Eyodai67HFOqO3LcXqfdpXx3lgNMIFswn9eAtQ2wprle4L09oSZGJQzgTlUqrC4kH7vvCSBfBZl4ifbkVgBH/cZelGTW+xiQ38NYL5nczhAOMXnAVNTBAoDN+DANbbzUBABjYmKQI4ecqmn48OFYunQp3r59CwcHBy1Pp6b7N+M2sgz9L/eAwF8rvQ0CVN581NDQ7XWsmB8z2jH1MKUtCYzQFGwdHVYLmy48xvjdodzx/YXx9fVGf2msHlUKcrmlH3iARMVh7X4XWRHU5mxXwQmz27th7dlIrNkXgJM8bRboWHv8M5AUbc/V6nzDQkGfwAKhAboUEZz4WgMKpQD4sXU+FPBhgJRYE0pvrCCmDPzwG/qElkbA7Wictv9VA4xHxvfHjkT50bj0XohDt2C2dFxxmJRH+cHUpthw4ZEmoiv0kco191x9EWseSaKOvu80bBzdbY7A305kE9jhuQMjg/ijbgDzO7qjVbl83LA/b77KpXTccOiDjFY8SObzUk9410JdGz4Sn6MUZjivAUX3yTQAeGl1IDpU9oie2BdF/jg5vVhFbEDsF3YKd3FCPeTM4Kihz9tpPxEVrBnzQoT7ONwPOYZGNvzLC+Xpjn6A0OOb4XqapbnIrNchYHUTzUexyRmR3Y+ddMiK+AxtcOH6kBAGTh/IC0Z1di/bCaF5O8D1cBtZk/g0OWD3l5h3rbno3oUB4MNjxPZeMYCtPbCiAfBU5INWznkg0QOD44eCyx1fWVB+mQewO7xboJ2NLvBuBRSqrg6y+wUCecsZ6yWT2xnCISYPmIo6WACwGR+moY2X2gHg+vXr0b17dzx//hx58oia7YLLU/v9m3FrWYb+F3mg5aJgXFdhEjD2FtQYHYS+i06Eayi7KLVgZ8hTjNh+HZnT2uGaT0O8+yseJJWsy36qVhgbLzzSFMdRQVqzhXpyNynPlZfzJbC9Zs9BHHXgAQUfvVTLeRbmJ+W0vYOrQWCkkAJdKqAau/MGl4Ig/TzCujBmf73kAAAgAElEQVSK+jAwSPRdJda7iykDzefhpzBXjk3htkNPpLFiYHNcfG9sTqynuW3iv6W0DBKqKGL9Au2G/wanrOk5/1TyO4Ca1jdwMakEJ+W74fwjrTxoAvwE/Mn6rL2MFQ/FsYXCL6Ik62lzGL52YvTxT8/N+CUoWbMOTkrXlf23cOiWq9hz7TnCHH5CeitRqALerxDoWxe1bXiltKzO+DzgIhafjEA15+yoWpSp5nESu8/k6Q6vHJyQ7SuLwgo2IXkQNn5lLCJXvRsgSzp7PIj5iLpzgrDb3gflrBlgjq04ArcvHNFE0cE/z9CADXANZmkuMuv+J7DuB81HMcmZkMOPMVUc8q6PJkIOs3ZP9U+IToz4eO8blxuPMm0Rnr8tih0yQUSi0VTgiETWefwLwD4t8HsNIOqGzpWeSnRF9/hx4BhLVojyy1wHioQXrIKzs9uh6kdtqXA2qBVQpLY6uKfiv9xljPWSye0M4RCTB0xFHSwA2IwP09DGS+0AsF+/fti5cydevnwJGxuRK1NweWq/fzNuLcvQf7MH6MiYGBSIOcBUa7rgtBZ7giljNC+bB4t0FMEtCAjHvIB7cMmbEQd+qcFFFCmymMbOBrcnNYYaBZt07r41CmNF8EMNP/DRYTW1GCuUaxVSMrZdfoI1O//EQQceUDhmBsY+4pTUBknkhaX9yxfIjF2DdAPglx++wGPKcRkAvmldAi4+LDp3KfI1iq0uI6YMNJ2NHmFuXGQ4wqErbK0Yy8X9pDyoHzcLyWCRzwvj66Hm1EMayrZ3TZcik0dnxCUkYd7EgRhjtwXXkpzh7n9FE0WXrptyo1u6s8jtlJVbMOFJf/Eyz3xAAPgnm0PwsVuvuXbIcx0GBtlq/s0piZVmDBVCvrMUuHMXxj7Gxw1dkf4pH03MVAAYJo/0cu1WNQYey6P1SelywvoTz2wguQGBneOGb0NkdLSDIIm9x94L7tYPuJaJVX7GnQtH4ZLEp1WQfPGEFwg9thauZ37R3rIKKrMrSUVR3p8B8iPe9cRIsrGbnQQlKAKsJxdXNlSpFnhSsC3yHzZBRti5LnBfTHnhmCzo5GJJZSCGl0VWWe/VpKJoHeevDoB7HuCiu0k7+sA6bLvuuy3WEAhXeRml1I8cCnENY31mRDtDOMSIIVJtEwsANuOjNbTx1ABgfGI8nn/iuQnNuDZ9Q+dNlxd2NnbfNPvly5dRpUoVTJw4EV5eXqpjWQDwN7nY0vlv8sDbz3Fw92eRHeHo3NDUUe++4MjNKLRyz4f2y87iXrSi4t3QAJLrBbKm5X54M6W1Q3JyMqysrJCUlAxrayvMPXqXUwhzc8qEvUOq4+jNKPRbz3iBSSmMhDK6rpQzUEinHlDLWSbUEDC8piafVdcSBZGN/Tee4/fNO7Hfgf9+88papDLWaTmjslJyB1cqlAXbB1RFSe9D+BKfJBcx4IHkoI0hWBJeVzP9VZsyKOfNmA2uPn4D55WlkNGKL7JrPB1dw8ojOCIGkY5dZEseFd8P2xNrg9TdiuRID/exW3DNkQHXz5WHIW1jX86fn3xzixHYcc+w9cZrjNkpB5yayO27p8A8F7lr+HV3XHYOZR6vh7fdRs31AI9V6HPKUfNvQYGOPhi5/Tp2hDzFXYfucLBiObqcDb8D7BkAPGAyx+BzcbWex9ofgIcigwV3XY1dgc+JLmwVhQE+y5DGwQ6PXn3iZJT32nvBjQfAqNgbyY/OwiqGMVrA2g7wiUXokVVwPScpHNOxMS4klYSnP9trx7zrooFQxKdrIyk///UG4wE2FgAXb4LoIq2Q67DkZcTQXJnyM3U2wUh8w9YR+ByrzUssGSs8KR8axM3iTi/clCkQFAknyeMdvYEwxqChaiWbA3f2a1/ileQMLT2l1w3hkJSOmxr6WQCwGZ+ioY2nBgAfvX+E5rvlSf1mXKLq0Ptb70fBjIo8JxMWERUVBU9PTzg5OSEwMBB2dupg2gKATXCqpek/5gGBMooWID0K17egunMC8SDmE8fOEPlKLIJK6U1kSmPHgeCOy89xjA2U4rD+J08cvvmCYycoVyAzdg+qxkVCSWGMjJggwl/qB95SdgPqIwXARbKnw4NYvjgLyZhquxL2Vgm47TEd3i1c8CU+EcPnrcSSz6PYbfEAmEAlHddTrmmHSvlRddpxPH/Hjvg9C2fF1v5VuLxbyr9VpkBQGyoOW3xPpIW6aFMOHt4MDBJ7QaHlxUXA2nAyOoVVRMiDlwh37C5z797Eqvg1fogmZ9Zj7AYNY8WXqqPg2JAB9yDvGqhlwx9/9w7A9ujcGLVDfhy+vFsFNHTJDYTtAnb0kj9GHgCfDo/BufW+GG0tUsEFeSxDj1OM4o1sU19PVHVmKQwCO4g0cs1doFzYA8PEYjCizJoQDSjZdDa2144okspYsm6u54TWK2Hr1k4TAd5nPx6u1jyTRNlOLKL8lqnsccf2vm8RemgFXC+MMLh1Q5KKoYI/yx8+7l0b9WyuGuwjazA0DNg/VAOA58a3w3D7Xbrvp2h9vC3SApmP8kWYxsxGOcB6Uh10DRGdnBmeXxdz37FyqxRFcKTqVrQesL0XcHOX7lWUbgXc2qN9fdhNIJOCT9mYezGyjSEcYuQwqbKZBQCb8bEa2nipEQC/e/cOtWvXxpcvXxAcHIxs2bLp9LAFAJtx81mG/m4ekKqFSav4KdpK/K8+zUujXim58IIgUfvdFsGDR+LslZoQwa1YMAt2DKyKc/df4cc/tIUEdK2DpHkXHhflZ0kooQEv2uHbojSals2DUdtv4G34Oex18OGG2VhqMbp0ZPLHSY8vwnoVXxDGA2DlXNVnnMDTNyxiW9U5Gzb1rYw6swPxMPaTKgCmFI7f7orSz8E2nqjuzY6O70Z9QIGlRTS5vqjvi/ZhngiLfIHbjnKqrn2JlfFz/C8aAFxz3CqccmCRzLia42Bfdyz3t4xzt+cB7HxViMujltrqXpVQh1ggQneIUrpCA0EWmP4dPA8I8NV0PeOxGF1OMZlnMkGBjv4mARMSMnng0AXWVmKeMPqfAo5MkBdMqYEkktK9e9CkLZZUayys64zTAOAD9uNETmWKUD4+z6Khgvm8RlTwOuQ+MdTgPNeSisDdn4Hek941UUfIYVb2pMhyUrz2eMNuMY5ePgf4x7gJ2Gw/Rfe8hWvhk3MzpAsYbXBtmgYpBMDU/3pSEST0OoYKaxVCGIKQhQExDbi0UQfII8OB9IxhxBxmCIeYY85/y5gWAGzGJ2Vo46W2FAgCvY0aNUJ4eDjOnTvH0aLpMwsANuPmswz9TR6gKGbfdSGI+fAFPi1c0HbpWW48Ov6nYigSUZCCXE1lPj+rOQBwOnsbfIqTc6f2q1kEy089gEfhrNjWvwquPH6DNkvYWo2x4Q2KY+4xRoNFJs0B9vvBBT2qFuIEG+LuHMEa+5lcm10lZqPNjzwtFgEmiRgCKbMpOU1rzjyJx69ZFLxGsexY39sTLX4LRuizd6oAmKjQFtwRAfAJ2xqo68WOjql4K9+igmLKQF0vtAmriojHz3DDUU7V9TBXAyS2XcPRnZE1GrcURxwY6E2o4wPbWiyqKSvY6rYbe96XwNCtrOjOFgmoZH0XQ7p3QbWS+YDrW0UpXcFpUgB8eg5wXJThvVhpPjqcZuDGHvHYMbgWyuZngNhrTyhXcKdM3QCxK5yYDDySCFr02A8UriF/pAa4a1Wff31foPowPH/7F6pOPyGTlUaROgwAJ0g4nCnyHLZTVE/Ts6lCkwrB1f86kJQE+IugX6tLjpLq+baU+rF3sAYAd/jqjW0Ok3TPWKAq4oo1hv1x9mL2d9idpttQ8mAH+VQ/bgVKNAa2ddcSJpE11AWARz8E0mY12/IN4RCzTfwvGNgCgM34kAxtvNQEABMSEtCmTRucOnWK+1/Zsuq0TVJ3p6b7N+M2sgz9D3iAopMUpSTrVrkg1p8XjoXZYs6OrcsBCMH+DgCs5gZicVh15qEmsioIHBjrslGNSnBNZx25y8knezUvrblvId2DIrKfQ/dhpf0cru2u0gvQpgNfeBR5BljTVD6dFBACmmgvNapVPAfW/uSBH5efx4UHMXjgyCLJnPH9hm+9hrm3RQqzQ7Z10cSLydRSUV/uBU6ws+JfBGqPQ8ubNfDkyWNc4RXpNOOV+gHoKBaktRy3QBPFTqrvD+vq7OhcBoA7b8Pez2U4MRAS6RAikDFF2iBH99XAtU3AnoHy+/V+BdjwhW6nZjHwyltIxdloG5wX2fAORx1GwzGvC9L1O8yJL/jsDcPGcw9w31EhM9xlJ0DjSCWBf1gElFe0M8Bdq7oHGk8HKrP1Uw7yL3d7oEDCQ9Y0XwUtVgmuSIwkggX1ND0b63ZSAZTyD2UpDATOdVnRBkCEClvCiLvAnkEaANz260TsdPDTPY5TJSQVawzrk3pAsp71puTSq8ItkO3hPnnXTpuAks2ArV2B24pr0pa6APC4Z4ADe0kzhxnCIeaY898ypgUAm/FJGdp4qQkAkuLb8uXLMXPmTNSoIY9UlC5dGhkzZtTydGq6fzNuI8vQ/4AHpBK5xMKw/wZTuBIsg6OthjuXPvunADBFpNecjdREViNefjBYxCa9j7FNSqJfjSJcNLZkngywt7HmWCRefviKDb09YW9rjRHbruPjtd1YZj+P67q7zGK0bscDVxItWCuqonENFABYyIemS1QUt6pnJfRddxmnbj3RsDJI+9F8c27V1CzzkG09NPFiuZVUXJhzbm4xZaDmKDS/WQsxzyJxwXGIfKfQkX4nsSCt47jZ2CpEFIkOqwqj9pIVbHXcgP3xFTBk01XMtVsil/MdcQ8IP6INBrMXBwaeBahwOGgmcFI8tr9RYSp+OFMIQ213YKgtnx865hGQJjN8/7yJTWfDcc9RITPcfi1wbrGcl7bxDKCygovXAHet6tem+TyAFNEEW0zsB3zRm1oHik7e2stycw3YvaR8KO5/Sz1NRNq3VAt1oEipALsHaABwm6++2FU7Fji3SH3mPO5AiSZA4DRDSzPv9Q7rgdI/AFu6qBe5CbOXacui6UrzegnYavPkf69FG8Ih32uef+M4FgBsxqdmaOOlJgBYqFAhPHokj5IJriVVOMoLVlpqun8zbiPL0H+jBwR2hXvRHzR0YPVL5eKEFvQZSQNTpLhiIXaUaY4UCLX5hei0EFk1RHumHGNC01LoW7OI3nujYq0PV7ZjiT1TY9vjtgytWndife6fBNa3kvcnAHz3EBA8H2gyHQ22vNcU45EvV/SoCIryBly9J09b4IHzqO3XMeumCICP2tZGQ6+93ByxH74g+xxJvnX1YWhysx4+RN0XFemE1ZRoCvy4WbO2nuOnaNI40GQm4MnYA2T5qm1X4hCqYeDGK1hrN10sjqOG9Xxk6Q2ym+5zHHCqCJycBgRN11y6WcEfzc4UxWCbPRhlt419Tvm8dmkRs7Augj/lRWsbSaoDXW+1FLi0EngmUdNrMAmoJqEioxxhXcBQ39Oksd0lvLkqanKy7gRKb/8JHDBcBEfUc87+d9T3hHRQ1/ZAqApd2Kj7wK6+GpqyOy32oGSezMBy7d8ObrhcZRgApmj5P2ntVgNl2gCGcrJ1AWCfN9oFjt/xfgzhkO841b9uKAsANuMjM7Tx/usA8L9+/2bcepahU+ABUjCjyB/lxVYqlBUtFjFBCMpbPR0uKQzSMzZJEpfIlQGHwqJSsALTu/zoUYArpKL0hZU9KyH6/Rd4TjVSSADgCvh+ql5Y78SkLPfx0hYstGeRuL3lV6HlD/wRt9pxNwFZ30xsTIdMaOS4AXejP3D/bOSSC8u6VcThsBeYsOEkQhwl6QQ8AB6z/TpmSADwCdvqqOt1gOv/7tMXZJolAcBVf0bDmw0Q9zIcgYIinXA3xRsDnbeyY/1tPXH2dXpUteEljiWpAKe9q4niD62W4rBtXQzYEII/7SegrDWfHmDo0fx0BChQGTgxBTjFcqXJ7pbzQqNzpeUCGRQtpqhq0Az1UZvOZqkWz3kpZGpV1xuoKZHwFfxraF3K68pUikWVgFgxB1xruOG3gdv7gUM804ee+R4l5URB/3Ag4jiwQa7OJutWrhtwVUxN0VyjaPPO3iJPLymkOWQEfiuvPitF3in1gAoP/0lruxJwbQds6gTcOwSQqmGyPFefW16Zdto0abwCojmXbwiHmHPu//exLQDYjE/I0Mb7rwPA//r9m3HrWYZOgQekUdvtA6qgPS8JTNy1lyLfpGBE83chmeStl59w4goksiDlLDZmdqHQTV9bylX9eGE95tr/zjXbV3ENWjRvzbrcOwpsai/vLgXAAJpk2Q8SEiFr6pobS7pU4Ph3j54LQaOj2opq43dexdRQMep3yqYKanof5vp//usz0s6QqEpWHoRmYbWQ8/VlrLZXRAJJeKDLdmCms5zZgAZq4A9UYznAF3w84WktiiAcb3MDvTeFyaSVDfpSKP47Pgk4PVvT/L77GNQ774Z2NkGYbbeMfU5FbhQ5lwBl2fj1JjKA/IKXQqaLtcYAdSQKZikFwM3mApV6i9P9VgF4JZdOhpOHmH5B3LzENHGYFQ/qs6fJ2eHkdx8IDwA2shckLi3C+pm8W6W+wKU/tIcaE8moxAQp5P6ngYz5gFk6TiiyFgEoyp+SSLihmzHleuvlgFtHYGMHliJDAiLxKtSHagCYOIi99J8umbIUtbaGcMi3jv9v7m8BwGZ8eoY23n8dAP7X79+MW88ytBEemHfsHu5EvceCTuXgaGcjS1vIldEB0e+/cqOUyZcRYc8YgPu7bFa7sthw4TGuP3mrd8q25Z2w88pTNHbJjd+7VcDnuASU9jmit096B1t8/MqEFya3KoOulfWztVCu6qcLazDLbjnX57DHajRuykf4KNVhM58OIcyqAMDNsu7HzefMfzJVu9cPgIXlxLXyEeAJO69iigQAn7WphKreAVy7uL8+wX5GXrGPRz+EXQ5CGUG9THrnzvWAbrvEaLT0miSiGuJTERWsRSq4W5WmounpQtoSxfq8KlBhUbHYFVEK+bHrz7h97RyKWT1FEWv+VODHLcDbx8AhBX2XwOFbbSiLgkr5aqsPA1G+aSylAFiS+sGNRf6n5yDzm0QtjeSJ6RkfnWBw60clZ0Fuv0jZSxFHjSYIbQgjVBmiDlrHPga29RABMEXKKco7iZd+Vq4gc0EGgC8sNbg2oxtQqskxb6Obcw2FtJIN7VhxHykiflH53qqlfjhm4pT/zGmGcIg55/5/H9sCgM34hAxtvP86APyv378Zt55laAMe+PQ1AS4TGVAUQKCuvF3nHOlwP0YQhEi5a0lOl9gFjLHdg6pyQhpKPlpl3xZueTn542auebC4S3kkJCah6IRDWlNIKdRyZ3RE1HsmTDGtjSsojULLvrwHEuOAdNkxef8tfDq3AtPsVnLNjnmsRIOm7ViXOweALZKcUvpMAYDL2+zA609xXHNa728/8qD35R1giac4NQ+AvXeGYFKoqAQnFcJI/voRVtOYJDFnVNB1eZW6S4vUBrrvVQfAtcYCdcZx/a77lBPV0ChtoaIfWgQX0i5O0/fg2q0CClYH5sglbRMcMsP2qwIMteYjwbsVCmbpcgCfYoAKPYGnIUC0RI2OQGMjvrguORnwM12Sm1t+wylAVUmx4AI34A0vhCHcH7FnUN4v2cBzDNQdM0w1FpOcETn8ngB3DwObO3LdI9O6otBnhYxzjZGyKLnGrcQ4sbWbCIAHnQdyllJ/ftSJVN0ozUUtmqzvWem7RuknJMdsiv3wG1C+O7C+DSvgI+W+jyopUGoAWJfKnynzG2hrCId8x6n+dUNZALAZH5mhjfdfB4D/9fs349azDG3AA5Gxn1Cbpzkb07gkBtZ21lm4lj29A6daprSMjrZ4/0UiYWtgzs19KyPy1SdOAMGQkeobceeSKpo+a1g6F47eisYPbnmxkAeWRccfREKSRFgBgBT0Fs6ejhOhIJMKe2jmif8CzC0J0P8Pv4VpQdH4FLwMk+1Wc01Oev6BOk14LtRbfwLbFPRcXjHA5Bya4Yp82YAG1pfRx/Yg9uQdiSkDGDjCixvAMgljDF8M5L3jMiaFiakRIdauqODD8rFBwHx6ftElBDwkEVeZrwpWA3odVAdQNUawojYA4X5uKJYsgsB7HpPx0+kM2kV1+h5Ei4VA3CfgCAPVeo2isA4ZtOnUspcAYu8CLq2BmHvAy5viMJQ20IxPrUiIk/nX0HSy6zwPsOaz+WUlym/8p5Qacm4JE6ug/FaKVh/XQ0fGd3uTnB5Z/J4Bdw4CW35EMqyQVKgmbCIVcs11vICTIlWcZi3jnzMmBSEFYvAlIEdx3QA4Q16geEMgZI1JLpA1phSL95IUDcqR/lPBJmJo9ObzgYq9gHWt2NozF2A+U5oaAKYo9lC56qCh6Uy9bgiHmDpeampvAcBmfJqGNt5/HQD+1+/fjFvPMrQBD1x8+Bodlp3jWk1t7YrOngV0AmA7GyvEJ8oBJfXLnzUNnryWiAYYmFNQATt55yV6rbmkt/WBX6rj7ed4dFlxwahn2bpcPszr6M61dfM7ind/yZW2iudKj3vRTBa5ZO4MuBPFitLmtHdD2woKGdYnl4CV9dm8LZdgZnQFfD69GL527Gj/tOdy1GjCg1jiiCUFLKmNjABmF9V88iE5DTJYMT+9t86EjD48OHh6GVghyQHm6aB8dlyAf1hDTf/r1qXh5sOeFf56A8yQSNG6dQaub1L3ER0vU8RTDdBU6gNQtM/KCnELK8H+tVgIFu45DcuDH3IpH19hB4cMOYAPz/U/B6JVoxQGI3JlUXs8kDGPNp1agSpMipgEKT68kItFlO8B/MBYODigPVWSBmLUDuEbEfisxRe0EUib76rdm14MKLJPxYOeA7hTACm3sa7p3ienRUa/F+KpABV4FW+krVanK81gQhRjUhAAMKVfZHMGrqxXf4bpcwHFGgBXRelp5dpuZ6yGUu8VLBvUaMhl9rwo2kvpJoJ12syBd5Os2RyA9tO6lsCDQCBbMeCVmFKjGcu1AxDKM4EIH5IoyGDjvuMmrUnS2BAOSem4qaGfBQCb8Ska2nhPnjxBXFwcnJ0V0opmXNP/09D379+Hvb098ueXRHT+nxZoWUuq9cD+G885xgeymW3LIkcGB4OgVOmM0nky4hZf3GWMo/YMrgb3/JkRHB6Lriv1/+gdGVoTCUlJaLaQj3wamIByged0cONaEbAngE/mgDh8hT0qFMyCkEeskM/NKROuP33H/T2/oztalZOkFNCHBAjW80VuLRZi7qvK+By0AF52jFP3XJVlqNKIz/tVkwbucwJYIaYwaC299zEgvwfw6Cywuol4mY7AHTLAZ+s5+N9urPn8lnVxlPbhXxg+vwZmSlgrKFpKIDwlJqQVKPJgI6rMwMXTR9DZ9gQuoQwq5bKSpyOozUWglgD34TGGV1J9OIsSKrl1ibf4zn4gb3kg7qOcnYGAfms+11X5EmB4RrGFUEwX/xcwJbd6TwLz0TeBaxsBWhPJBwdONThLom1a2Hi9YBy/JApBksfEj6vkvm0yS51Vgl6ANnVgIJLsl2tA1sLa+0RYCaWMFK0PXBep7pSLnFLmICbkPAeckIhlDA1l/ifb3Bm4yxhGOBv7hD0XSv/RJ2ohnYjux7Mf48MmXuz8nsATle932Y7Aja3yJeZxAyd9bUYzhEPMOPX//dAWAGzGR2Ro48XExCA2NhY5c+ZEtmzZzLiS/7+hX716hZcvXyJ79uzIkUM8Lv3/W6llRf82DywJjOBA5uLO5ZElnb3q8lcFP4T/fkaJZWoqgzBg+QKZceWx/iI16eT7f67OSSifvR+Lzn/oB8ABw2sirb2tTG1O33MgNogZ7Zj6ov++W5w6nIfVbay3n4YNiQ0Q7DwcJ+/GcNelrBac2lu5vEBykqhmRgwEJOvK21LPALwPXoExdlu4Ty5WWQqPRnze741tjLtVai2X6JfOJeAyKkKbL5aXhPXZGgz/2800I961LoISPuxlBR9jZNFlLgf0HmOISJFRoRXRV70Tj6zvV52JsNN70NLmLA5Z1UCTfF/lohRqE1X9meWkKgvb1NoS8M5SSDvXVKAHI3YDik5K2RmIQaAdy8HW8oEpN07gu/5EVvgmLUCUjkFMETF3gIvLAee6gFMl3ZRt0n42DoD3S8ZgQfuH/l22gzblWYsFwD7GwCEz71hgYzsRABMDRZaCwOMLwCrxREDTJ01Wtr6wHTo94O1+BpNalQGmOgFx7NQDxDdMUW0ypXiFVJTC2EJDSl3pE8By4SNPA+W6akelKSqcr7w2ACaw3PuoKU/Q5LaGcIjJA6aiDhYAbMaHaWjjERXQs2fP8OHDBy4SamNjY8bV/P8MnZiYyEW+M2TIgHz58sHKyur/Z3GWlfyrPRCXkITiXqwIbHAdZ1Qrmh2lcmfUAsJDNl3RUncz9cY9CmXFxUgWaTXGKKpbIncGXHjwCh2Xn9fb5eTI2lzebikf48AdFbJRQRvZitMPMPnAbYQ69NakHvxSIhB/XmfH+NWLZkdwBOM1ntLKBV1u9md5oIPOAWmysKKy/cM06wso7ovQm6EYZsdUrEKqLkGFhl3Y9WubgT0KhTLPgYYr86ngTUmhRlK4GXLDZ/Np+N9trpn/vlVBOE/k8yQ/RAFzmHwzZ4Vrsqjbd7SHVaci/PRONLQJwV6remhZOFEEZbrmqdALyOViXAGVR3+AQK4yWkzsD2fmAwTs0mSWszOQelqbPwCizaL0iLmlUnbHBNQbTtYPgInVIOYuWwulZVAutYTaTefEAqetkBZjmwao0AO4wOjzNEZFgMoCQLro85rxBwsRYBIMyeQESFNypONQxJ3SRW7t0bkkn3Jn4N+yDDA5F5DACj9Bucb26djfk3KwaK9gE99yaTGcGQuAqW3tcYz/+OlFgPLLzy+VU6FRPjP5UBkBLlwL6BiDLbYAACAASURBVMEXHKbsiRrsZQiHGBwgFTewAGAzPlxjNh6BYIoCf/nyBQQM/wtGQN/R0ZGL/lrA73/hif9993jz+TtN2oCDrTW+JiQhX+Y0ODNWPJI/diuak+L9VqtcJCvOP9ANgFu558Wea2Lu6PERteCcIz0uR75GO55jWNcaTo+uA6csaVB43EGuSQ684XhuA5LKY34Cz8Ag6dy1cgFMbsUA8LpzkfDZexP3HbrAxorlLnu5B2PDeRblrF8qJwJuv4STVQw259uO/LF8mgX9iNceqyXnG1BqCu6FXsAgW/ZDfb3qIrg15AvfKP9yL5MU1hgdS5NAhi4jYOQVpc0gwUf8fDYHwf/uD5rej6ycUHAiXxD2/rkc/FF08qn+fGpTn/NjT19Ent2Jmjah2G7dBO2LWcuPydUGdPsRyFfBOABMzBXZigJHJLy+NCZxExPbAgFJAn70UiIYFWtR+kfplowPeAGL9pts9HLSZDrw8jawpLJ6d2K0iI1gaQ+U/lC0nvFiEwQgb+4CdvwE2KVjqQFKoYr2a7TzxmklVAS5obUIgIffYbnSlIv8h56UGj1O0ABg/2xAEl+wKlVeO+oFnP1NHEEq420KAM7qzPh/ibmjrhdAJyOCwIggkrKrnzYALtYI6KLICzb5oervYAwO+c5T/muGswBgMz4qy8Yzo3MtQ1s8oOKBHSFPMXL7da0rh4fWQKFs6Ti+3583X+Wow77FsuEdhtR1ht8JbYU4ohzbOagqDodFYUHAXfjbrsHz5Oz4cfg8FMiWFlcev0GbJWf1Tk+AnYC7QM32m91CtLBhUeN51S5hwXF5kU2PKgXhR5EuOtW9+Bhjd4Ui0lGkJ5tR+QKWBt7nrpMYxcHQKBywHwcXawnI8ugHNJ0FHBwNXOSpuoj2rMxMPLp2En1sWWQ9rNpClGnQg60/ZC2wTyLRS5/ldgWi9DBdUIRzzEPxqFzwRPu1gEsrTNwUCL97LTX+eWaVC/km8kVqb58A89l9ckZyuNFh3/Iotfq+dm6F8PA7nDjGBptW6FrKVu8xOzcA5SIXqgEcGG54LXRETvy2SmoxKQMB+egvermiaKSiAJOEMvSxMtjYy6Oa0hVRsRYVbd07wvJt1YwKwSj9gvhw6eie5IbP8gV4hu7O+xWLyJKim316gKLaSsYH4kFWckfTuASeqZDsIc8aQTLM6XMCz6/qlkM2sJ6J5c6w74UUzEpBbtxnYKpEWCWlAJhSVGidr+8DlEN9fYvI40w58U4VgF39gRssjUhj9ELTQeSNNuTelFy34BDdXrMA4JTsKCP7WDaekY6yNLN44Dt5gPJ/Zx6+qzoa5b5uH1AVfvtuYvUZBfepCfOnx2eEOfbheqyuHgi/ADmYpgjrih6VsCAgHOEn1mKRPYswvegbijz5CnDiFi0Xq1SmS9ZwYXw95MroiOHbrmHXlWfYYj8Jla1vcy32trql4ROmyHARqyiUqtwYvjwA3nXlKYZvuy4DwEtqh2j80tI9L/Zeey67zg1MRTptlrOIrqSy/ljZeXhx5SC62x7jmt2utgClGvDMD5dXaxdzUXX+Rz3qVpQrOywMCKNIYS+5533fwXfTCfje44vwAERbZUeuiQy8c5y1xF0rGKUSKIUcuuzUKJGZ8FhlTd8mp0Nmq09YadMRvcvY6GaaEHoVb8IouSSpIzrnLtuJ0Xsd95c36bRJm1OZoqjxJnJQUzSSgJiaEZsEveRMzqnbNd12M58eGAFkdOJeSoxWW5sQzYrHdvVhMsZ0oqCMdNP4QpGldBUEPtf+IALgUQ+AdNm06fJMeKgGATCNpQscmxIBJoaHyGDGFtJ8HnB1I/CMP2XqFwTkdQcCfLWj4cJ3zoR7MrWpBYfo9pgFAJu6m0xob9l4JjjL0tTige/ggZmH72AJH+lUGy5yejNM2B2KjRdSpr5UKk9G5Ig+jXX2M7jhL3gsRMdTcqUqQe3st+PheH9iLibYMZquFz3OIU/h0gh79g7Nf9PP7nBpQn2OmYJSpCgNQgqAD7e7iwEbQrgxhSjv1oJ+6NhrKPeZwHAhjQCvb3wD3ntYpLRdBSdQpFx6nbtABWWdtwI7+8romo6XW4iYS7vQyZZV59+rPg/F6//E3HtpBQNKphgVDfUPAgKnAWcWyHt6v4LvlkD4hjMpXY1RgZytAxB5Ri69nCEPy4mVWq/DwGqRRcKUpSnbLrXrhoFlkvVSbXF9KBeVonlKZge1yV3aMIGHk7ywhdCGjspXNZL3SJsN+PzKtFugdVAhmpq5dwEo0r+8lu4xSaqZXjT2DGQ54QTYjVVbG0c8wAeA3f0YKwbxDitfCmh8KfuHsBIlAOaLIhEVBvxezTQf8K19y5+F7w8uukEutfseAJhOAEjemhTgKMeZTkYe86c8VGhJ+eHEYb21izxnXUpvl6I7NNzJgkN0+8gCgA3vnxS3sGy8FLvO0tHiAaM9cDjsBU6Hx2Jc01IgALzunORYXzEKAWBKkSAAqM+srcDx6iqV28o6ZUKG58HYaD+N6x7iuQBtg+QsJgQwiV1h0YlwvDk+D948fVhMr/PIUbAUbj1/j6YLT0umpyNueSHoVe8GmsI9SoPYau/PHcmTBf4Yjp6rWd6rAGIfpnND4VGsGOzozSj0Wx8iA7jSqPHPdYsi4uVHLI1Q5FVS5PDnEGB7DxmACiw3H68u70BbGwbaH9SYiyL1erP1X1iuTmmlz7lE/URRYKL8UtrYx/DbcQETI9rLrxA3LUUW6ZhZamqysxRx0wfwjN5ZwEL7PvjFNcGw2EKBqoBbR3V2A+V8RC1GqRtB0+VXiJt2UUX5ZxSBfa9/r2rdDhXZSVJYtK63W60deZc26nuSCTnQPqCiOxIbIUYIwVovZyDumgr/7phHTDqZCiMJPDeewcCwcvw/6mg/BSUAJolgAtHRt4ClVUx4amLTvw0A0zMNPwYkfmUpDZdWipFsQdBDWNaewaLv6Fk1nZmiezO2kwWH6PaUBQAbu4tS0M6y8VLgNEsXiwdM9ICQJ9u3RmG8+hiHXVclyk6KsR5MbYpft14zmANMRWW1iueUFctRCkViUjIcnp7BZnsWvbteeR5aBuaSzSIwMiw+GYFXAfPhY7eeXR8SAmQvijtR79F4PgPA/W32ob/tPvSJG4nI5NzYbu+Hi0kl0XTCdmRKY8e1UQLg890foBPPIqEBwGnLovBoNmbg3ZccQJZGeAM63EPA7Whce/IW2wZUQUZHO/Uq96q/ALHhwD1RTjm43CzEXt6NVjYsohVZYzYK1eOpz6ja3RjxB6mHdPGkUpvhd+D35w1MjFDkp+oqrCOqLQIdUiPAsbiSibtIvfksh8EY5foFuMxTkOkaNW85gGjMjMkBpkg7AWAls8KIe0yBjyjpBKNiOSkdmqG7ovzfvieA36vrbqlLqEHoQRHLd8/ESDtJM0vV1iiFgSLMagpslLdLQHDvIICi10R5RpzAUiN5ZTVAywFgnkuX2lM02SE9Y6RY7GHozlWv/20A2Lkek0Em67IDuLCMSUiTCYIewgr3DhGp4Uh1j4ofzWgWHKLbuakWAG/fvh0bN25ESEgIXr9+zYlNDBw4EP3794e1tbVOj9SuXRtBQQrpRsp7u30bJUuWNGmbWjaeSe6yNLZ4IEUeEABwtaLZOO5cYnnQZdd9GmLUjuucfLA+o6KyRi650ZlXYiPwu6xbRfRbdxlpnwRqUiBCK89Fi0AmKOCIr/CwvoMiFRvCt01FUD5yzLH5mCgAYD4SFB79AQ3msWitAFLfJ6fBlsS66GfLSPk/jY1BOkfGYawEwFd/ikRrvohO6P8gbVkU4QGwwDMsBcAEmisXkXCNU/7p6TnqLiBuVYk61nn36YgN2YPmfBHekxozkb9ef9b37CLg6ATTnpsuqVgaZUgI/A/eg88Dpsa1PqE+utkGMEYBY3Nhh4bJC+VMW52s9RSHYZjg9ll/RJV65CwNEBXaIV5lTd+c5F9iVyCaMakRPy1FgEnoQjBDBYXKeWgMKqDzz5Lyu6ZINNHNreWp6KjAS8q1220Pi95T+ovS6CWP1OxIfY/4nklKeZ3I6ME1J0D4W3ntvkoATMpwdmnYC5kyMq52d1RYKDAv8Nf9KpzFxBYpTIE4NlH7Genyar6KYs5vzwNMSloQ2JAKb1B/4kAWXh4EYZKUPy2DPS04RLeLUi0Arly5MgoWLIjWrVsjV65cOHnyJKZNm4ahQ4di1qxZOj1CADghIQGzZ/O663xLd3d3jrrLFLNsPFO8ZWlr8YDpHkhKSkaR8YwqrG7JnPgrLhHnHujOmQwaVZujCAu6x0QhdFmvaoXwg1teDdAkjl2K7LZZcgbZnx7Dcvt5mq5tvvriSnJxzLNbjNY2ZxCSrQUq/LyBY12IPjZfIyGMHKWAwedxP+Yj6s1hL9lSkHo4sRIa27DUhi8jH8ExfWbubyUAvtXviSaFQgOA07iiyBiWohDy6DXaLj0nGzu6/DDk+sGXrVkXr6pwRwWrA4/EHOXL7pPxMuRPNLW5yLV4XmMG8tbjuX8ph1fJZmD6YxR7VBmCmMu7kSOeRfEXJrTCL7a6eV61piI6MpI/nlXkW1ah6TvRcSz83N8D55foH4+inSQbrMzrVetFKSDEGHFukfwq5bwS3debh+LnTh6GRTikowgsBqYUcCnX+Ot1lncsUI8pxUa672VpDkp+XxqHGA+IlYOYQdLlZCk10xVKn8NuAfNKa3tGCYC9YgBbe+DVfTlgVnspIH922ghM5xXe+NFX1LuKPjWKALsHMMW49LmBkYoiWV05wMnJrBhQDawrVy+NqlME/sxCkZ94+G0go0S6ev9w8USBUnuIN9iMZsEhup2bagEwqawpFcaGDx+OpUuX4u3bt3BwcFD1CgHg9OnTY/9+lfw0EzepZeOZ6DBLc4sHTPTAp68JcJl4BINt9qB9+uvwSeuFUy90C8r8OaQaph68rZe/l/sdr16YkwgWitUEANx6yRnkf3oAC+0Xa1Z6O6kAmsRNlxeV+b7D70H38fzoAvjbrRXvyqU1IussRu3ZrKBMqxCNbxk/9BbsMjOJYlK1s1vfTJMD/GDQU9SdK48g309TBs5jGLNE6NN3aLEoWHtsARzpi/6q+P+auy+iQ/ajkQ2rao+uOR256g5kLU/P1U/JZeLzVDafFd8Bo+yM5Eml4/e02ZnggZTa6hvWMCGdL6a4vZJzxX7DeJquaqkNlPNKLAgvrokzmCr0ITzjJxcZFZ0xKRnK+yHA9uWdyBOseCECAWBKc1ACeBqn6y7g3RMW5RTApl9WIFnCcU/sDsoXFCEXVpoCQZRqNrbA64fAQndxlWovBdWHsYI7BfD/6vUaDrY2wNcPwM09jNNYCkZpVF0AWJjRmJcJAvufXrIeg86z70Uov29HRgDpJXUCB0YCl/5gbellreqQ77GjdI5hwSG63ZtqAbDaLa9fvx7du3fH8+fPkSePhPtP0tgCgM36XbQMbvHAd/XAyw9f4DHluAbsHbetgd4feXCmMtP63h6Yc/Qelwurz/rXLIIWbnk1AHhqa1d09izA0ZeVeL4bM+34HzAAcck2KP51vRYAXn7qPh4f+Q2T7VbLpnrWJxTVFjGeXF0AOGnQRVjnFBXPrvlVhnsyo0F79utzVJshB9D3HcvAeSwDwHejPqDR/FO6AbA0AmXE0wh180L0lQOob8MK0GJqTkGOuvyP9qnZwIlJRoySsiaT4rtoigj1jkDSwRP51IGkpG9LAZBMNDP3XIx2fmz8UXjKbpP1opxXYgkQlNDosxJNgbvshMMok/LYJsYDk+QMJUaNQWkU9BIxz4U1z1GSSSMLRgCYGA+UKRx0nQrsiAmBmB8y5AVG3NamrqP7nMZe7jgT6M7obykAFlTZqCBvPhN54UyN+1lQuFOCVak/dN389wDA0rEpgh40Syx0GxPJCgIFOzRGjJ43mQl48ulERj0c0xtZALBun/2nAHC/fv2wc+dOvHz5UqfsMAFgyhtOSkrilNk8PT0xadIk1KxZ0+SdZ9l4JrvM0sHiAZM88OjVJ9SaFagBeyFWLmj7l+6c1Pkd3bHs1APcfvFe7zwDazvj13rF4O5/FF/ikyDQktWfG4Rqr3bCTxLVPZdYGj/Ge2kBYJIkjjy8UAsAR/U8j8q/P+Dm1wWAuUImUhbj7bqfJ9ySGQiJHfYMFadRCkUyIh2ZJPF9Rxc4j2VFag9jP6HObNEnmkEEMLCzDxC63Wg/3y47FlFXD6GODRMYeV1zErLW5cUvgmYad+xv9Gzyhl7xvbT8pzoUsRV4SfK6jYnaKQcif5PqmMRWlFyBPjnuGCcFnMJ71HQb/4IpqEkKEOHa3qRnBSXgo/GeXwOsbYFYdX5srWVTJJpELEg+OCme9RVU1Khx9z8ZC4SaPHLz+SzaK3AID+cV/KTPwztWDsyla17THIjkGVKEz989FcE4zZ+lEAPVUqs8GGg8Vbuw0xgAfGQCi2YT3VsbUQBG/N5kUrhIRZxE2oJOIk5OBUL4F99xTwGHDGKLw+OB8/wJEnEGkzKgGc2CQ3Q79z8DgC9fvowqVapg4sSJ8PLy0ukRuk65w8WKFeMixZQLfP36da4wjvrrs/fv34P+J9iLFy/g4eGBJ0+ewMnJyYxb3DK0xQP/Pg98TUjEr5uvoXjuDBjeoHiKbkCgFBOA5Pmk0ugUp/v7PaJBcey+9gwPYvSLCxBV2IiGJfD2cxziEpKQMyPL/6d83AE2f2KsnajodDLRDb3ix8jB7PjniPrLBr/NHIcpdqtk9xbbLQgV/2A5rjoBMEXZitTW9Lvh74mySQwAvxvxFG5TTsEaSXjgyCrsIxxcUHQcA8DP3v6FatNPaI8tRNQ2tgfCjxrt77uuIxF97QgnDUz2tqY/Mtf9lfU/OU2bzsvokQ03fNdwHjIdHWa4IYkujHsitksJAO4XyJTI6PiftyM1d6GR1QUgiPE+m9W8XgLbugP3DovTKBkYDC1ADfBRLivlFS8sZ6g3uy4Un/1WEXglVxzkrhMAfnRG3Sf1/QD7dEwSOlMBYBivCCh9HrQP/Vh+O2eGALBS/pqK6z4pcvgFFcOURICTEtlLQp6ygA1jXpGZcky6r3c8j3jRBiLbg9CJXmRI9EKgoiNxEDtJ/ZAAuKk9qf+V52XFjXs6JreyAGDdLvtPAOCoqCgukksgNDAwEHZ2Kptch48+ffoEFxcXlC5dGgcP6j+K8vX1hZ+fn9ZIFgBs8nfW0uE/4IEN5x/BixdnCPNrhPQOtibfNSv4OquJhJ5JdEGX+Amo6pwNZ++rF8NZWQGECfQZRX+HqYDyOUfvwubUdAy13aXp/jJHFXSPH4/Db1uIQ/5yDchaGO+DlyNjgJwZ4G2rjfDZdg7hyflwyGGc+jI6bgRK8VX4lNfrXxmuSSwF4tOIx3CZEgw7JCDcsTv3WYRDaRQdd477O+bDV1SaEqANgMc/B+zSssiekjpMjzPulxmKqOvHUM2GRfM+1PRFhro8KD0xGTilu6jY5Aeq6PC52VKkPaA7pUXTnIrQRrOoOmcpAcC/XGXV+0J+JoD4wVdgd3MHEDj1W2/FcH/Ked3SGQg/IratMsR4FTbuvkXwrjXh+d+Bw2PEj23TAAl/aa/L5zVgbQPoelEiAExMDyRkIhhFjOM+AtWHAxlyA4dGA5kLAkNvaD8PWqOutAO1CPCHaGCO5AWZVPekUXKagaKoFE1NCQA29GSUY+avDDxhsuQg/l8pnzXldlPhH+VfC1R0Pm8AKfMUFY0KAjAkmuHWydAKvum6BQDrdl+qB8Dv3r0DpTV8+fIFwcHByJZNQgVk5LYaPHgwduzYgeho/dRJlgiwkQ61NLN4AOCEImYfvcf5YlJLF5yJeIUJzUohf9a0Rvtnz9VnGLE1BPcdWRQlONEFXeMnoItngRSrvdE4FJH+pV4xrXVQNDh652jkvy3mAKNgNSwutBCDg8SUBfQ/BVC1PylCUUW8qdbqd8CdUYGRhfl7ogwfASaGiKZTtqOC9T3MsmMCBeEOpVGMB8Dv/opHOb/DmuiwZhDimSVuUpI6NsEiywxB9I0ATRHep5reSFd3JBshwA8Insv+brEwZfeqZy1/tVqNNHsUcslq7UkRboQkTzUlAJjo04jZQFrcNfwOcG2jWfOcNbdDkVECnQJ/LF2oORo4ZYJQgj4AHLoD2MkLmFAU06OPOoOHMMafvwBXJAWcwkI5AHxe/lIgpCWQ0hyxNBA3NH1G+bBkSsBrCgD+GAPMLio+dTUlOUFR7e8AwGXaAmE72XpI1e+m+DKMRtOAKoPYtZd3GBeytABO+Z1ptwqg8cxoFgCs27mpGgAT6G3UqBHCw8Nx7tw5LrUhJTZo0CAud9gQAFaObdl4KfG2pc9/xQOrgh/Cf/8t2e3WKp4DM9qWRcijN2hQOhfsbXVzds8PuIf5AeEc/+4dRwaSTieWQbf48RyAnXuMgWtd5t28NCbx8zeyvgQnqxisTGzCqbKNalQCg+tIfnSlgxwcJVfGcvLA78V+x08nKsHeiq9277EfKFwDuLIO+PNn0x9p09mABy82AeDmJE+4JDKAlzAqErazCsnGDLcvhWLjWVTqS3wiynvvwS1HRW4h8a8uqwXEfTBpPU9K90dU2ElUsmb+/FLTG44CABaiWaSERj/mJOTwHe1Lh81w3Ca+COgcmriFiW9VsEUe6jmvVjZyRgLpgCPuMgEDAdDTNSpgIs5WOtI2txHw3NAWiAgQZ6KUgoCJxs+sDwBT3i4VmZHRyxmBVYrUKk0YQxqplLYhAEwsEycni58KQiW0D+jk4sh4IGsRgKLqZN8CgD+/BmYWZuMQy0e3XcAyRU2Oe1eg1eK/JwJMUW5hj7h1Bq4zqXPOKAe6ooEXNumpSYf1QGkFT7LxT9uolhYcottNqRYAE5dvmzZtcOrUKe5/ZcuWNWqzKBtRCgSlP7i6uppMjWbZeClyuaVTKvUAqah57QmFU5a0HLjccvExxu6SgBb6Xc7kiM9xiaAoppCHq8sdggBGRnzCDUcGFk8luqJHwjgQa8M4xdjKcX7vWp6TUN534bamf7e4sTidVBbEF1wwWzr1qSmCelUiA5vHHX+UWo3uxyvBwSqB9RFSGKidiRFXrn+9iUCN4Zr5b03yRGkeACePegArBY1UuF1JFJtwgWtP3MgVx2/BFUeeq1cYhXJcqTpfKSdsYL89K90bL8OCUM46gmv5teZ4ONTlj9KFfEbiYW2/Bpjl/F13b1zn3bDf1NrwmE6VgD4S4BgbAewZCBTwlFOY2WfQ/QJAbAQk+SuVKKa8XPrsqI68clKAowilqXLFandEwPPeEWCTRAWPXoQon9ZY0weAX94Wqc0ojaB4Q7YflCaMoYvijgDw00vyqDhxIFP0nKjPiJGBxFGEdAAaXwDAedyB/kGmpUCQMMgM/oUvfS5GtfZ7NfmqhQK2wOny1AxjiuAM+VYK3imqTQV3guCJMkebZKJJElufUYGckFP+4xagBL10m88sOES3b1MtACbFt+XLl2PmzJmoUaOGzAMEaDNmzIjevXtj7dq1nPAF2enTp7miNxLPoGgxFcHNmTMHN2/e5K5RQZspZtl4pnjL0jY1e4BAWZ05gXj06jN3m+fG1UXg3RgtkFqhYBYu+kvmYGuNu5N1/zgIADgb3iHEkeWJBiWWxTB7H0xoWgojtvPHrzocu6pnRdx4+g5Hjx/DQYfxXKvtuYbCo8No3eCXa9RLfuyZ0wUryqxDnxOSFAjKtZ3wggHllADgWmOBOmJ+8J3JHiiZwFfxE02VAmg+SVsa+UezHGCyamPX4IwjX6gmfEhRaYpIC/ykRm64qFI9EX3zFNysWY5tfM2xsKvLr+3wOCYSUbgW0GEdMCMFp2zEMkBiACqFZgk9D8F2jREAgXJlGzF5apmRpK9UdEGtgEroQOwHpG5GPMmcWTFqNZJ7PqIjV5sAVkrpxpRrpbEoOV1aIEapMHsULzLKftKotj7A9ylW3Dc1RnI56qp7Uxjj8ip1gEwA+NlliZ8AEJ2XEE2uPZ6lR5Ay2xAm7MIpC17dCDTwAzI5mQaAqShRELggajWKAC+pLPcCsWW0XQEkJjB6NkpjqesFVOpj5C7X00wKgInC7domEQALwF/obkxEVwqAu+4EKHpuRrPgEN3OTbUAuFChQnj06JHqnZMqHOUF9+zZkwPAyXxFTEREBIYMGcKxPrx69Qrp0qVD1apVOeYIU8EvTWzZeGb8VluG/ld44MW7v3A4LAq21lbw3stTIgHYMaAKwp69g+8+eQoEce/uu/6cuzdjAXBuvMJ5R5ZmEJjohslZJnHR41+3SAQFAG4NCUli9duG3p549PoTju3dgDX2LM9yp/MUtO1mgJh+Ywd5oVL24lhfdi26nVCwxFBOKf3wpyQHuNpQBhZ4uzPZEyUT+BxXaQ6idBdQtNLWgQMBY1fswfQXfL6n0KbjBiAyWF3BS203WdtxNFifs7og7Wvx2SXWGA2bejzVnMBpWqQO0GlTygQoqFhq8AVgCpOUllpSn0BYrxDZMHRuepLcdW2nfTnuEzBVosKVKT8TaiBT0nsR+8GllaK0s/ASc2G5boljXcprFAU9+5vx39GC1YBefJH18jrA8yusLwGqbXpYAggQ/vWa8faS6QPA9Du3qSPwKoJFyynVYpeYZqNZrDBG2C5gh8pxfo99jC5OmhbS5g9xLIqQEs0X8QfTc1UzXTnA0beA5bUZKPyRTy34+lHkDc7oxADwYkUwipcZN97hJrRUrlW6H6r+ApxdKA7WZQdQrIH+wY9PEink6GWiSC0TFmN6UwsO0e2zVAuATd8m37+HZeN9f59aRvx3eaDx/FO4E6Wdc7qkS3k8ef0Z0w5JCpcAWfEa5f/e0xEBpnQKZ14COb9VNE47sKNcoiRb6jQDvaoWwsCNPIjgXUYsEx+/8ikKALb2q4y3f8UjDCFoRAAAIABJREFUcNNMTLNbybXaWWw62nYxwDqwuhmTCraxBxLjuGKfre5r0PGkAqhR/uODIGD/UNMfmudAoMl0Tb+7kz1RQgDAukarPAggztTI00huPh9W23vIW1KBDkm7SlgO9C7MMTMTNVBYco2RsKrnzT4VVK04wLIlZcILAl2WfzY53yyNP/AcsFQ//SS3jl6HgYIq7Qj0zSsjpig0niEyIdilA+IldHjEwkDcrULKgcAsQVFh4rVVGuW7/nSIfSoFSTYOQJvlgNL/+pzd/zSj4SKTAmA67t/QRr0nRb0pck4iEcTAwK1DDwuEMAr5hKhQbu4GtvfUHlsYg17e1qukn3AA+Io8N7n9WvF+hbSAnKWBQeKphGwifeITX94zHmKBOSHus/hiRXul225gkeS0haKwTcxIU6cPACuLFHseAApV1/99pxeHYF5KnQr6ClY1/b8PJvSw4BDdzrIAYBM2kqlNLRvPVI9Z2qc2DwhpCsr78mpWisv1VRaqdayYH1svswidvY017k3RPv6mExuSM/7j9EOunbPVMxx3YFRjJxLdsa7ILHTxLIi+65h0r2DZ09sj9mOc5t+7B1UFBYSD/xiGX213c5//WXQyfuhqoGiNCnBeXAcoH/FjNJDRCTvLrUTboEby2yRJVOJLVQNPhh50hV5Ai/maVvemeKB4vJFCBtSLIoo0t9RIbpaEDeho2xijaJtabivldpKEa4nG7IicxivWCOi8VX58b8wc1IbmIcGEWcVEOVmhLxXu/Vbe8Eg87ZxqQwJQH6MAArwvb4qgziET8FUCGImFgVgPSMZXui4qghM+EyYo3hhotRRIm5V9omQfoGg4UZoZa4MvAjl45b8/6oqCHD8dAVZJ9pVjJpGnWMgfnV5QfFExBgALa7q9nynPKU0Yg3LFKRqrNALAdI2K5AT7cSuwmc99LdsRuLGVKbYNVOxBob3GX1aAr35VRiR8BSbnZD3ptKD7Hjmn8T8JgOt6y3OhFQI2qo9fWlzY5zjgVNHYXZKidhYcotttFgCcoi1lXCfLxjPOT5ZWqdcDugCwrjtuUy4fdl1lIhF2NlYIn9KUNQ0PAO7s44rDTj9LRLeVFzVDlLR6jMMOY7l/BySWw7rCM9GrWiH0Ws3nH/It82VOw4lECLb/5+pI52CL4/N7o48ti+QdLOqLpl35wiDK9aMK9KqKlIjfKrBjZEEiNl1O7Cu/Ai1OK6q5+54Enl7WfXxu6LEPCQGyMyaKmLnVkON9mKEe4nU1gn4CbQTa1ait1EamHM5YHUwaJD1MFGFrmjGxBJLs/XEz4J+dgWxTLGM+YPgtYK6LNuAedkuew6trXEG8wdC8lAJCayYjeVoqsCKjdA+fWODaZjHnVijiurIe+FOxB5RH3UoA3Hk7sKm9odWI1+m0gFgTyKQAmPbQH3XEdsR2QdLAZDQHFbLRd2NjW6BMO6AdO8kwyu4dVV+jAIBfk3iGu/ZQBIDpBVBaGNhtD7C+FWtbqgVwex+QyxUYGKy+FMFflIbio87XrekozbEmH9FcCyRF7RV7A815Kj6jbtzERvoiwI2mMsYLweilN2cp/RNIhTD6BQF5VXxs4hL1NbfgEN3esQDg77jRlENZNp4ZnWsZ+l/hAVMBsDQHWAaAhR8h1/ZYkm0sZh4Wo6GuVg+wz4FV6R9LLI91haajf01ndF0pzz8smjM9Il7yR8UAjg6rCacsabDN/0f0tGXKaEeLeqFh11HAx5fAbJ4HmH5wnSUgZHYJFlEsUIUJAjhmxpGKf6BRsALwUFEYqVgRJ2pKjKR5KaJ0ay9TCDPFnOsB94/LexD1FXG0Shks9I1JFfsv5HnUsuZ0f8K6nDyAPseAKXnlaQXGrFng8F3gzhTLpEbMDArGC9UhjY18Pr4ArGrIhiBKrc+x7G8h35f4XUk+mEwAcFJQLEze5wTgJDmGVwJgOqZXSx/Q5Q8C+pnysat/1GNFZmTEJy2l/KKoajT/ItRlJ1CML6Ci/Ur3IxVcMOT7+ydF0CptK/hSyr4gvU4AmIQepMCPUlBWN2athL2XuywwgJc1Vq5F8BelEXkrVN2UbZOSAP8s7FN6KSGVxHkuYqtfbwBZUlB8acg/wnV9AFhZpEi8x8QUoc+kUsgDzwK5JPdi7JpMaGfBIbqdZQHAJmwkU5taNp6pHrO0T20eMBUANymTG4fCojg3UNFaxFQ+Asz/CL2wzoXR+dZz9GWClbe6h10OjKf1WGIFrC4wFaTk1nH5edSyvo4yVg/xe2ILlMqXBWHPRKnykyNro3D2dLi8qAcqxu7h+h8vMgb1uo8HYsOBRfzRpJTcnhpNdWJUWhT1vHuQy1cMqPQH6p9R4atVHpGa8oCJsYCq69UKkQyNQ+CZCpWkltOF5Zle32yoN7uuprgl7UkpFYLcK+Vsjn8GTMsPfBV9bNREFJUeeQ9YVEk74jzuKTBNh4y8cOzuXJflhRpjlLsqRFSJsoteZMgotYBYIKRpAQKov7FNXixG9005p5RHK5gSAPc8CKzh964x6yJmj3TZWUspAB5wRk75JX2udM907ym1yDPqaxQAsBR4SufgAHCYnBmDXtQock0mvBgKlGdq6xP8ZesIeOkXmJIxY2QvwQCwwDdNRYAjmEKi2UwfAFZG+keGA+n5dA1dCxIKR+n6kMtAdm3Bne95LxYcotubFgD8PXeaYizLxjOjcy1D/1954GtCIq49fotyBbLIxCvc/I5ynL7GWr2SOXH8zkuuuY21Fe4rAPDDpFyoE8cXkPCDds75CFPfM5oqkkK26bUPdjbWvEQyy8P0je+OMKcfcZmnWOPajq0LSot4sb4P8tzfzrULLDwctXtMBKTHvw38gWp8XihHU0XRqGQmJEAqYTb2CPRcgdpnVaK0RNB/TcIZbKwjqB39uNvaA28iTenF2tJRMRW8SY1SGgiUGEuDZiiPleRnhXxi4Sg7JRFgAvqjIoCl1cToprDuCdGMxSGZFxiR3g8BNeK2pYibXRrjfCSVqKXUi/cs3YaLno6+D0jTAojbuOd+pvolRIV1AS4pSCIASPRWUvYJQ6sj8E0gnGxFfcazS0ZH6lLKLykA/lYGgSeXgJUqFFzSaLqaoh7NS34XZJUpHcYrBpjEq6xS5DfqBpC3PNDvpPqdC+MKkXdD/hHa5ygF9PhTPJ2Rqs0ZGiOl10n04/QcoPZYgHifpSwQvQPkPhz/ArA3oGQpFI7SevTlrqd0vYp+Fhyi25EWAPydNpnaMJaNZ0bnWoZW9wBxZp6YAhRrKB6P/g2+Grb1GnZffYZOlfJjelsxP6/u7EA8iJVU2htYS1XnbDh7X8wJbFY2DydqkWkGi47dT8qDenFzZKP0y/sQ41/ztFx0pV8gbiQVxg+LziDSkQHgQ4mVsLHgFARHiJHjixPqIWcGR7xc1xM5H7AI4qmCv6Bmr0kMdC5wE+fxjgVs7AAprRZV4XOyuVYIrvIHqp9T4Rwt1w24uj5lT4Aq3t/x+Z6mjpAmK6PHkhqBYvoBF2RcDY1J1FKLK+luVbI5cGe/eJ2A06QcjBnDFBPAJ6nUKVMuCFhNzy/SfEnHNTbtQdon5q5IoSX1r5CG8SAQWNeS9ShcE6Bo5809IsOBULCnvD9BNILG7H0UyJgHWN1UuxBRl18I6Ns5sqsrGgBP+Rx3egafYhgTRPFGwNsnIkWaMYwD+p7D82vAchUKLl0AmCLmlLLwcwhjyxB4fylKnbsMMDkXe07ZirG88HwVgb6KNBxhPQKgpX06RpH2orZmoT2dYtAzEdJipGIbpuy5b2krBcAkLiMtFDRmT+4fDlzmc7WH3WS8yGY0Cw7R7VwLALZsPDN6wDL03+6BfUPZjxOZMf8x/k4LlKY6RE5nRUbvPsfDzZ/l1hprbvkz4/oTeVU4ySOvfcy4Ne8l5UPDuFmy4YYXfIBfoiVKXWmz43a3q2iy4LQGAFNx3K3af8hYJ675NEDmtPaIXdMV2SP3cWMGFxiE6j9NA17dl7MPtFkBlG0vzw0mon2SNQVwwfM3eF5QYY9w7WB8xFXppG8BwBSVS06Sj0jj5SsP3GLpHgaNitxIREI5jtBRmWZB+803M4uOm2ICCJJGPoX+RE1GMrhqaRUp2d/S50rRQyG6LlCxPTon5rJS0SAxW0jTIpSSy9L7/PoBcMggfrL2B+BhkLYn1F6KfN6I+btSAEwsGNmcGfODQ0aWZiBwBOuifjPW99E3gaUqFFy6ADAVGtK+Iq7pi3+IdHFC4ZfARiFE1oUUErX1UCEY0ctRfr0afZ2yjwCAKYedALCgDEcpEUPEglhjb/2b2skAcJD8JcKYPUmMIsQsQjbiHpAh1zctx1BnCwDW7SELADa0e77humXjfYPzLF1T5oElVYCXvLiEMf8xTtksWr3UAHC7pWc1KQf+LV3gIxHC0DVtsZzpES4pVBPaCZHc20kF0CRO5Mel615FItDnuYSSCUDEoKdoMDcQDx27ckM8yFQZeYccREnvw5qpb/o14lggXq3uhGyPGAvEufx9UaX3bHkOMF1oMgvw7CcHxs3maCjOrlaciXKXRyMu2Qb2VpLjeqEi/jv5+ZuGoSgnUS5Rhb4xRgVoxAKgK6eX0gE+MNESzjgAzB/jGzO+0Ib4hsc+AlY1AR6flfckYDi7KPBZhSkgJfubGBSIN5csqzPw+j7/dxGAmBiehgAr+FxWovMiPt+7h4DNnVi7LIWBX/UUBkpXv6EdEHFM2xN0T1TIdmC4mOogvZeVDYEnfAGn8oicoo2ClHXvY0B+09RJZYuRFrmRMhxJPjecBBCPr+aZSp6ndI1SbmShkGtOSeDDC5FdI78ni4brMqI3IzBtjGmklN0AUjSkUwEyiggPUuwZY8b7ljZS8K8sUjRmT+4dIp4KjX4oUul9y5r09LXgEN3OsQBgM206Gtay8czoXMvQ6h74vQbLvyNT/Mf45vN3eBDzCc3L5oGVtIBHhy+vPH7D5e/WKWGgqAOAGgCWfjazXVmM3sGvSzEf8f2WzpsR15685XJypVRl1NQaSXjAA9mwpEJoHjdVNsLkonfQ9akgX8suRQ55jgazAxDuyOfl8vmc0jWFT2nC5Qq/WdUeWR6zH+qLTj3h0WcB8PIOsMRTnEcohHtxA1jGS6u3W6XJDQ0t5wvXq774mOyI9Fa8Khf1VmNj+Kf2LuXaOlVihXvGGOWlLq4sB7m6+jWYBFT7JWUAmPh4xz0G1rYAHp6Sz0B7WABWyrmNARvKPh+igDk8366U5k1QLZPmCFfqCzSbDYQfAzbyKnOURkJA2Rjb3Bm4e0C7pbBu4ifeMxAgoFhlkNhOCoCHhgIUdRZMCoCVTBTGrEnZhvxNQLh0S4CK3pQsEroEK0gxjwA82YBgxi4isHiQEEjiV1YM95P4wpmS5Wn6COugvGKKAE/jGTP0MU1804R6OksBMN07pRSRsEXrZYAb/6Kkb+49g8W6ACrylJ4amGHNFhyi26kWAGyGDScMadl4ZnSuZWh1D0g5RBUAQQB/S7uURxPXPHo9+DkuAaV9jnBt9gyuBvf8dLStbSRK8f5LAqjYTTAhBUIKNud3dMfQreqRs/41iyCNvQ3mB4QjS1o7vPksL5pzxFfccWSSrNeSiqBVHEs7EGyGcxg6PpOD4qe/vkD9GYc1/ZC/MtD7iAyoP5zWlHsReLeyNTI9OcENdzlvF1Tst4RVuf9eTZxEAHjSI3IJ1dUd11EoGToLr5PTI6uVSLUGUgtTRjX/qb1LkVYCW+HsuRo0KughwBVrQIDDPgMw7gljRTAUAXb7Ebi+Bei4HtjKovOg/uOfAhvaMnleqdEenl8WeKsia58SAPwxhkWUyUipTDgtESjPYu6Jec+kslbPB4g4LqqxmQKAiSKOKOyUZmjdKxsBT86zXlJ6NPq3NE+a8k8pp9ucRlRpJNxAstxSxgkqfiQRFDJBxY5elmIkjAxSeedvXaOwryivmAoTBdlsfYV23zqnrv4yAHyG0ZjRCYXA4mFo3t0DRCYWae63oX4pvG7BIbodZwHAKdxUxnSzbDxjvGRp8109II0ekbIVH+mNS0hCcS92zN+hohNmtmMFXpciX+Pxq89oUz6fLCpMMsU1ZrIK7p/rFsWIhnzUDMCX+ERcefQGLnkzYdi2azjBszYI96EGgBd3Lo/Bm+TSxEL7IXWKcgB41pG7HIMErVVqGfERNxz7cR9dSSqKNnH+aOSSC0duMvqkuc7X0ObZTFmfl8OjUXfqPoQ58oVp/A+ly9gd6GgTiMAkN5wYUZsV8pDkK29X83REuf7LAWmEi67VmwjUGC6PBkpECsJLDUax24sRnZwZuawMKFt91wduwmAENAt4aoNMXUNQ4R+pkCnp1JTtC1YHevGRTkMAeGQEYGPLjsmFtgKF2qZOwD1eWliYg8CiFFjRc6QcWFNSEaTr/fRKLKAi0Bsdyq4SkCRAGRshyuzW9wOqD2Vy1ut4kRNT5t3ZBwhl7CIyMwUAj7gLZMgtdpcCYDp+J27nf8KkNIFjHgFpMrOXJSE9g9YksGh8j/UJe4Xyiqn4b3IONiqdaPRRvDR9j/n0jSEFwCnh8d3Vjynlkfm8BqxtzLpiCw7R7V4LADbj1rNsPDM61zK0ugdWNwMe8epLVEFPNFoA3nyKQ7lJLB+xe5WC8G9ZBtIo7/YBVVCpEJN1/SsuEZGvPnFFZGQ9qhSEX8symvnG7LihkStWW4QaAF7erQL6rVfw0vKdh9YvhrT2Nph68I7qPeXAW1xyZEfEl5KKo32cL0K86mPS/luoXSInbEJWosVTOTPE6xFRqD3lTw1w5o5oBwRjk1crdLblqZlUuHJv5GqDsr0WiDmGwopqjgbqTgBu7ga29wRs/8feVUC3rSzRawecMjMzpsyUlLmvzMzM/MrM/MrMzD9lZmZmZqZw/hmtZK1lTuwkbTX/vPMTaXd2d7ROr0ez90ZhFE8iRdXDDM2R9t5SPAtOgBRaK8T+EbV3iaosOND20ekLFDEimDrIxXshGeRG69kVawCYV2xTUmGtawLc2m44PwKL/FsNkmBO68Woz0Lz6piX1S3Wg726JpMYC4hlYZq41xuuZ8wLvHqcPbRb/KtuflXWAPDiCkxghYy+MEQXwR79zgNgiX3B9ifq2JYkKkKUX/TZIlPWcEssGo4YVdorVFZBAHiEKEEtvtlxxBA2+zAAwKeARFlt7io03NgKuL5R/LxwUtz2ebG5tYpDzIdKBcA2byP7G6obz/6YqT3CGAH+5Hn/Z4BHTMEhn9FtWyItBlbKgiN336HZYnaCukK2xBhfKwdOP/qAjqsuolDauDhxnx08qpE7GabWk+U6rYlbmALAS1rkN5Imllbau1xGRHV3xYid7PCeBsEIgVYfiGR4hxMejIf3THBm1PMfAmkMuuazcBgqPTfkBv7a8zG8x+zGRY/2ckB55TK6SvK3Ctnex7ELIXWjGTJVltS7YHsmfiDJ4hJ1F1E8iVRpz1LVRIonmwWatnTaV2F8iJGkOwG1tY0Mqc5MTS1bTaCOxDxi4RBc7SVA9pqyB6UYAp9VlFrRHJZWAR6LimLSYcSwhIjov6gWmL4cSmptPGUXUZrRwT/K+tMbFL7sJXYqoLvpWnajKfGn/fmb9gBg5SEpHgDbIrsbljjZ25diyb1NQVpvJlrhCJP2StXpQJ5mwHCxJIt/++CIcWzxEVYAzNOgWdsLtszHShsVh5gPkAqAHbDBzLlQN54Tg6u6Nh0Bvo6SU5e69eqrPqMrlTTMPHAPk/fdtRrJkpkSYEkLdtrcFmozUwB4VeuCaLTQUJpYGrh/xcwCG8PgrddB2d6duoG4GJwBHQJYjWEazSsc0vUSfiahi2tlVqC9Vzr9vHcvHIoKz6cZrONXtzsoMX4/znl0Mr8+OhRGHKtKo4ymsk42fRkmbnB6LhMAICBEr8yJogvAm8ReSPT6CIilIos2lNy9Vp9EODegf5z5bBXA1lewHKOwkqxYT6DMUPabpQxwz1tAzKRyP1NyuCTeMYOra6U5rKorP49qs4A8TRwTiEfHgGVVmC9Lr9J5wQhLNGjKWfn0YcwKSrMGevhMqlReIPkgWeRXV9hvxBGcIKNjYuEIL8pDf2lLAk1tpNyzNj7R1xFtG3FP00E9ae84MstsbQ7S/bAC4B/v2Zc6epNBX6qdbCoOMR9gFQA7cfOpG8+Jwf0LXFNtbpxobojh4Wb7avk6So5knWp968xlr1X7lM+ETiXTY+Ke25h/6A6Ka68KgPMzOA5TbkQSp1jdppBwZci261h+ysSBJK49AeCg4BCkGyizDaxvVxh154mvdRWrGVQ5C6LrXNF/8zUMcl2B1q6sDjSD73IEwBUZNc+wV9dPuHZNlweeAwzVpfYsGITyL2YaeA3scgXFJx7FKQ8T3LxSS4mw39boUjaODv8cHAkkyg60PaJXv/ocxxOxP13DleC00FSZihw+opiCrb4jYzsCarxsK4Am/v2xolddQ47kDtxr4DPz2KEpog+j19UnZwInZ7DVEa8wCURIJoEYSUWOrhPf7TiO9YDmsL6ZzF1cdwWQVazHDWvMnp5mNc5kljKJVAMtyfxKfMG2jE1ct4JQisLsAcBKlgAeAEscwbbMJTzabGgB3Ngsj0QMKE243x05B2nv2COD7ajxwwqAHTUPG/2oOMR8oFQAbOMmCk0zdeOFJmpqH4rA9RdfUGXmccSP7o7zg5gIhC32fXl9RH/IAOScHOvRoSb7B/7Qnbf6EgQCnK2Lp8XYXbcQ+8RodHDdgcfBieCtkBiWxsufOg42tGeE+Q3mn8aphyY4WbnJEQD+7heI7ENltoHNHYug5mzTfJ3Dq2UTMsC9N1zBcNclaObKapXz+87GO8RGds1D7NQxoYtrUfLDs5/hoRefeQNQ6dVsg/CEdDyD4lNP4biuu/mwSQeqbAkstSHhAXrNG/iLsSkQx6mkfiX6oBrloOa7UWh5Wlu9Rt52BNROzgL2yip7Tf37YXnfJnKdLM1eeVArKJAddCM7MgE4NJr9rGwngRiNCzBUVK3z+y5TXFEfmgMPrOiVOr1ad4Q9Pw8sLM08WQJrlHEl4EkWKwXQ47pto+8bCpwwfDMhdLQGgHkFOaW0Lk9zGA4yurYtVGy1tSOTBpcsfVmgsVjrapcjGxpLe8eZY5ibhgqAbXhAv0cTFQA78TmpANiJwf2NXB+/915gOcibKo4wa6IOI7PExdtz3WVsvvRCaMfXu1pb9s7B5VHFhVEolfMbjz1j2gnj7LjyEl3WMP5SqrmtXyAl5h5+gEHnC+tdpvZdbdI9qbNt68QowcpPPYo7b75ZnAbN9+1XXxQYI8ug7uxSTAD0krm5aBAQxOIwqnp2xPBwRbe1lzHQdRXaujJGgTJ+E3A/JDnyaO5is26YcO16tELI3seQxmvn7L6o8nae4ZzaHoH3zPM4LJZOmJwwUVrRK3dbrco0YCcHqE0IP1CJhmuLHSj4pwDgm9uB9XLJQXP/vlg6sA0wKYMcNUtk/pYA8OQsjGO4RB+AVPXIAn7JFFf0O8WY6NIk8Q5i3iA1O0cYLwWcqTLQwPT+N6DEMyeFbGo+F5cD2028gbAHAA96aygWwQNgJUewI2ISFh98bSv54Q9HhsWvqb4SAM5UCWiwxtHeLftTAXD4xtuJo6kA2InBVQGwE4P7m7i+++Ybyk1l5P6XBpcVaL4ICCaN7YGVrQqaBcFEGfa/q+ww1cMxlaDVaqyuODg4BNuGVkYNlxNC26p+ozC6UxPkSB4ba84+xYDNIuWT6Mk7UwIsfSJnl80B4GxJY+J/XZn4g+ewPfjma5lJgADw4/c/4D3psH7Oe7qXQPlpsshBFDcX/Apgimnja3kKZR50+K636zp0dmUHZ+r4DcG5kMworL2BNe4si3gjRjFk62UoLrBjVm9Ufb/AMD4tduPMou4oqDXNLCE0Jvotf46z11qEi3SVX+dHSwj0uWdU83ooKCeitdyKAstYbbBDTKk25RCnNjghoEbyvmOT6xu39O+NxYO7AONTyQ4GvgTco5l2+OQksKQiu6fMZhIn7/OzAGXxRLYSBPrLFFfUh+awpoEs3uHI1/68FDB/kE+5El4UxR4AHBzExCJIcY74jYlNQ+KTthR+nsmFpKClbDr1mVsMILEOMiVHsA2P1KlNlCUfGSsCDdc6Z0iqCycRjw4nmFR0eJoKgMMz2k4dSwXATgyvCoCdGNzfxPW6c0/RbxP7B2tH52K49OyTXhL4eL+SSB4nqsmVtF52HvtvMZ5bSbHM2pI///THvjG1UMeVAc1afkNxT5cNV4eVx4KjDzHahyOpF51JEsP0qzkAnDFRdOzt4WVU1iDNx8NNC98AmbuXwG1gcLA+w0vtDvTyQunJR/RLoIyvBKQn18kpZICJJq2H60Z0c2V1g239e2BvcH54aa9gmTs7LHIztjeydjc8Wb59RndU+7gEX0KiIpbmJxuDE6mwFjeb72evLdMXNVgLZKpoBID3BuVF7JYb7QfArfYDi8qYngrVck/NZvM0HdZQylRe2whsaiW4be3fCwuH9QbGcLW8xBfsYqFO/fb/APrCkCK/9akRaJQorqg1zYGXFOYOdlp3ZqUFL3qRsyFQY47pDjw7RcxkQE9RatyeCQT4Au9uM95eayqMPOsFx+UtDMcDYGVNtT3zcUbbAyOBY5Nkz5ay6mEdn1TrAn4Cuuhh9WR//7DyANs/Yph6qDjEfPhUABymrWW5s7rxnBjc38T1+vPP9BLApKh2+uEHjNvFspL7e3ohfULjP+D3334TVNOuv/gqtLs9sgI83KyTpT989x2npzfW89w29B+Ih9Hz4fTA0pi+/x6m7jdmfLAFAKeJHw2HensbUKnx4U8dLyoefxCBJ3eDDq/5wh1PQxIJa2259ByefvyJf3IlxbF77/Hxh7/Qenr9XMicOKaQIe7vuhrtXXcK1+8XHoeWVMfOAAAgAElEQVRtmlK4dXgdFroznt87cb2RqashAN46rSuqf14GkknO5vIMmpAgoM5SxtfrCCPQQnWgfMmEpOCkYD3YGVQIiVqtQf6ldmaASU1Lklj2iMUOg0nW56Es3uCI9djqQwLARG0l0oXRl5L5owYbglQlSLPVv6l2VB4kUVzRfZrD8urAQ/HgI8dtHZZhhL7ELDBTLKfI2wKoaqJel9p9eqynuxOAPGX+nWk8AFaWS/AAuPc9ILp1mXJnTtXA95GJwCFOpZEYG+pzNcHhNhEnD6QCYCcHOPzcqwDYibFWAbATg/ubuN544blwuIuMDoKdffRRD4C3dCyC3ClZXbBk0uE3g2vDywssCbztvv4Ke2++waDKWUEZV8rCXnjyCbcXtkZjV1Z729y/D65GKYiLg8sKY8498sAoarYA4ORxouB4v1IgYF5milzGIDnLkTwWrj43JHRPrnmH4zrG3ZvddyE2da8gMFocvfseFbMnRslJh/H2m59wf3ajPKjkmQTpB/pgiHYxmoqH4FB2BHbGqAOftXMw250xCXzxSIZY3U4y5SnRtkzphBpfVwoMDDk83kJDZQ2VJgE+vR2zS9J4GYtBSKCPP5UPYFNQMaRqtQL57AXAnc8Ds/Kx+UqAW5o9lRiM4ejDHLEqEyIgRm4l8PXwMBPEoC8gXrORqWQjw8y3tZpWe+fLf6lQ8gA7cqzPT4FpooiDxPNsaq4/P+rp7vSyzfauyZ72lgDwnGKyeh19MYoWzx7Pzm1LjB97xVpuGilLVaDeSueOGRHeVQAcEVF3ypgqAHZKWJlTFQA7Mbi/iestl56jxzoGgDd1KIyzjz5h/G6WAV7WsgC8MnIqTwC6r72ErZdfGqzuytByiBXF8BVzgf4rscx9HG7EKIp/v1RH2ayJUDVnUrxf0xGNRADczr87jrkWxs0RFTBs+w0sPfnYKGrmAPDqNgXx+P1PDNxyDYli6nBmYBk9MwXvRItg5E8VG2eesGw1mQuCUMflCMa5Ma7YVrpJmNe3FVxdZHGLouMO4sXnX8L9eU3yovyXjfh2YBJiBH2S3Xv1w+lU7bBt0WiMdVskXycRir4ymN80qT1qfV+DS8HpkSvGF2iI29erH3DEPo5NEtkwWTOc9R/gpoLQXwJir68Dc9kBQbL1gV5I12Yp8t4cD5yZa/su7X5dZlYgid7vb4Afb1n/IZ+AEYZflGx3bKZl+TFAjnrARAv1k9IaqdZyWVXmqM4yIFv18AXA/GEyRwLgr6+AKZnZuop2A33hMmlBAcDI+OItDTDMyVLXtgLgfo+ZpHRkMR4Y0pzoc0PiM3+aqQD4j3miKgB24qNUAbATg/ubuN52+YXAbiCAo3aFcfz+e8w4wF6humo1Ah9vj7IymX3zJWdx+I6hOANlcONGY5LGZIFBwdg9rKKe7UGq3R1b0xPY3hUNRKnfrv6dsD24KEiFbfe11ybli80B4E0diuDBu+9C+QaNTXM4//gjaotcwsL8EQgf9wGI7eGCol9HCZy9Ovhjn3sfpOTkgP1aHIAulZjdFNdQYsIhoRyCbHHzfCi1qwzwRSEgUaQLHuTuj/9N74SurgpCfQ4IbZzQBrV/rseF4AzIG8eP+cnXCjjPgWYb9gsdYCvpIooM8O1JeeriMkMP0vhfXgBTZSnUNYElUbLPWiSO4c7YE26zcg6rRq+zJWaFhFmBqPFk9TMaizJrlGELjcXPCLxXlL+UHwsU7mhZuEJaIzEzTMwABPkBVINL6oLKLG1o5mWuj9I31QWTBHXiHI4Vfvj2BpgsfvboC1PJgeZX4cz1KkelLxv0pYNMCfjnFAXeiDRsnNKjI8Mfal+XVgLbOOGZbDVYKdKfZioA/mOeqAqAnfgoVQDsxOD+Jq63X3mJriL92Nq2hbD7+mujTCyxQ8QRAW6N2Sdw6alhhuncv2WQIIZOv+KXn3/hyeRSKOzCDuNIALhHmYxIcrgX6rqyw2ZDA5phWRDjAY4XzR0fxJpbPnTmADDRlt1/+12oRaYDateGlQfRuTVeJKu5FdFex2r3MYK7Vv69cCA4L8pqz2OB+xTDp9P6IJA8r8E1HgAvb1kAJVanN36i+Vvja6mxODWmIsq7nDe8zwGDDeNaoY7vRpwNzoQCVBL5/g6QpRpwa7tdu8QnqAAquTBpaAPj2R+kG9L4fBYRwIt09ZCsiaj+tX84cFwRC3MzIioxUVUO8TMB9VezA0+pi8lcquZU1khIItgMMwexG5QbaXyIrtwooEgX2wAwzZnYIAiISqUnzgSEzvTNx//HB7m2utpMIE9T8/slvOZEM+DlzC0BYEvsG3btfAc15g5LCh6z1wJqL3aQ80jkhlQQ/8eUKdHhJJAoAg6o2hEOFYeYD5YKgO3YSPY2VTeevRH7vduvPfsUxGzboICsZLXz6kt0Xs34d6msgGqCN19k/L6SnRpQCkliRRF+LTXpMB6+/2Fw//SA0kgcy0N/jWp9/RZWQhEFAK6eKymK3xiMWi7HhLbzAytjTGAji0E1B4CJtowAMNGxkcX0cIV3poQgQC9ZUe01rHIfK/zazr8H9gTnF1TlVriPMxyTBCRSFQboJPzW9kDMZChxpYw+A0xxKbLCxKv4nA0R4uIGjTL7St65g1cnZndA0berIZQwJNOxA2spiwBPTQtvmAsI1e/WcpG5ivXtSg8BDihej0vAhM8iUgfKPFcRQe+hscARRSxMDU4gIUM5mW6MFOq6nAf8fwKuHkz6lcwcAFbSublFAwLEPUTMFVTuIGU6pfHpdT+99rckXWyp3MCZgNCZvpXxJ7GKz0+AmgsN6caU7cJzTlRvTXXXwjM3rK3H7CLA2xvsnnQQ0+InPBxv3toJrOP+3njWAWpxktnhOBWnDqUCYKeGNzydqwDYidFWAbATgxvJXPN8v/t7lkD6hExW2OfaK4Hflox4f6kOV6I3k5Zwon8pJIvNALDXxEN4omBUUNKlEaiOs6E2irqwfwilDDAdRmvxZoyeB5gymh0DLCihkciGR0N9JHkaNGJ9oDW1W3HBbKR5ft6dmceh8+WUKKS9ibXu3Elw6k2UZCRZytEkVYiyGrc/AVHgi9NpFyPWSxPAM2t1WQJXOQuODcD/f/3hfm4OPicqhNg6DfD0FKCUOSb1MAlUmFnRysDS+gOEBk0qT2F8rrxJwOTHe8M62vxtgMoiFdTRicBBMRZUb1usBzCbSUrrrdYiwLM2+3IwOhG7TLyxXdmeMRwzlumZR4kL/BKV1KgFyfVK5SQ0LpU7TFQo05UeChTvqQJgs7vbQuwdWYdsanzi+aXsf5oSQLMdhi14AGyNfs7WtTmq3b39wKpasjfaeySJ/aeZCoD/mCeqAmAnPkoVADsxuJHM9d4brwUeWzL+cBuVPLRfya7Tq35iYjj5wFBKmAe4xI7wSJEBPtqnJFLGk/mCidM3y77GKKYHwEQ1pEE0dxeMDZmGai6nhPFuBKdCZX+WoTVn5gAwgfK7r7+hxdJzZvsW1NzCOt1I4f7XyvORY1N0lNBewXKRs1ffsf4aIHMlYGp24Msz4XK1KEtx9ZM7erhuQDfXLabHICWpe4aqb/qGvCDCrv7AmTkAsTVotIwyyyM24MuVklA9ItWRWrCHGVog7b0lxi0oQ7uxpeF1CQTxDAHUokA7oNIE1vbEdGDfEPZz7sbAP/8ZA04pO87z38ZJDXQzUYtsLlsbIylTVJOMZ5HI2QCoOB4YJ7+VEJqR8hopsJnzKdUIm4uXMzOizvRtcQdYuBnec6J9RXR4WgX9IQ+A6XCk9HYgtOtyZL9n5wy5rHPUB2oqFBodOV5E+XpzE5gjKmj2e2LASBNRU7I0ropDzEdHBcBO3LHqxnNicCOZa6Ila7+SZe1WtS6IounZqXEeGNNhtFkH7wt0Zbwd6eONVPGYklaRsQfw8ouvwf2DvbyQNoHMFzxix02UPNsGxV3YYZgMvsuFA2hks9ymo4qLXKdLcsh3Q1KYjZY5AEx1x3defzOo+VU6yae5jY06Vhrws+pcZN0Q03QNMAFIqgccnxr4xdZeO8oCnP8UDcvdxqKEi6FCnX6c1MXlg2CmViCBR5++wNl5LMvsGgW4Y6gUJ3Slf4yvWlGlMscc0XgzsLKmPIMEmYFOYoxpPbQuyQp2ACqKZQ+nZgN7BrA7dJCu2gxjwNlqH5CiAGsjgazYKQGSuVWaObCqzHanLMyy4GS5GgOVJhoKV9B174GAdz/zANhaltOZgFDyTV9mhhp+VsxuZGffcOZ67Zk7D4Adyb9szxzMtSUO59mFgXei4A69wamrODzqiHEig4/Hx5n6YdLckWE2Fueg4hDz4VEBsBO3r7rxnBjcSOaaZIuletk1bQqhcDrGz8kD4AVN82H6gbt6gQtpCXzJRJ6R+/QCEdL9fT1KIEMiVlJB1mHlBTS801UPgLP4LsYvsBrhOW5TUdFFztr28m+PTcElzEbLHAC+MqQcbr3+ivrzT5vty2eA/avNwZRNR1DB5RxyaRV8w5T5pAzohHTAz/eCvybR5yHw41O9xLHJQZLlA14oDr/xDSnTSTLBdCCFXkumL8OyZtc3GbujA05Ep2XJqC5Wytjy7docBBaUkq+QMlssUR6YBCv47GqhTkAFdjAQ/GnxfC2BKlONAWfrA0BykSFDAlnm5HZ5EMar0iX2lOVxaVx6dS6xCORuAlAJxyhDuj149QdKDojcANjFHRhsyIgSYR/7Hd2BC0uAAm3ZF4qIMgKYb0UlOmtfUiJiji8uAgtKspGprr3RhoiYhTomFwEVh5jfDioAduJHRd14TgxuBLs+9eADRuy8id7lMqJ0lkTC4TCJ7WFd20IomJYBYD4zPKdRHkGN7e6b7waz39WtOLIkiSlcyzJ4N34FBBnc3929OOiQXKeVF+CdyhU77vmh1+t++sxpDt8F+AqWQZ7vNhnlXOS63X4BbbAuSPwHyUTMHuoaQauho3uGUsi3RlTAzVdfUWuO+YNkPAtESM4G0FxZY/qpkChFgTbApIyM35bEL6J1RMcfsy0/xYTZ5AM/plpSprPlbkACJ1QyET0BQHRMSqPa3HMLLI9XebJ8uptvSeUWkmIYXeeBB7EjjBXBMN0r3BkoP5r1vrAU2MHEQCDVBiuzuASuSZRC8CvW+FJJQy9j2WrB19UNQPOdAGWg9g1m/ZLnB55zpSrpSgMPmBgK8jYHqkwzVFej61T+QGUQ5rLK1sCVMzOikm+3qMC/ryw/s/C6GxQIvL4CJM5p+bCcs+cT2QEwLy9Nb3Bor6oWoRFQcYj58KsA2IlbU914TgxuBLtO3V9+zX55SFlsvfQCw3awzAyfAeYPwc1okBuT994xOuSWJ2VsbO5YFCEhIUg70Af0JpG3PuUzYeKeO5jkNhc1tcfQVjMYTYO26AFwCSzEU19WI7zQbSLKuDDWCbJBAS2wMqis2WjxALiY3zQ8D2HSqg/GVMKNl19QbdYJs329tFewTKr3pazl1+em20qUW5OzGNaqWnuGcdIAnx6Zb0WCEbro8uv+jBVZZtYU0CVgemqW5RFrzAO2tDNuw1OU0V0eHPr/MFRpI8o0oh0ju7QK2NaR/SyVRigBZ9sjQNJcrI10L3oioLexbLXQJtAPcNUBfHkFXyriHoNRp93dxXxKmWeeWYCuF+8FELvFlXXAlrZAoY7Aae4LSWQAwLqYwABWM66aGIH/CsklBtaeUUQEjefFpi929AVPtQiNgIpDzIdfBcBO3JrqxnNicCPQ9bwjDzB2F1NzI4sd1Q2ffwbofydls2jursiXOg723XyDLiIP8JS6OTFh9x28/mpY40sdiQqNBCcyDdot+GleJLURX7BUrvAlJCouB6eHl8tVoW2jWMtw4g1TilviNt5AzGFYQFMsDapgNloPdI3gImaAqVFpv4l4EJIMj8dVxq1XX1FxOqNUI8aH6PiFfcGyoEVp7QUscp9s/UmU/Bfw6mtwCM5sJwJiBGL3DASiJwa+v7buX2qRuQoQN41pwQhiYDg+1bIvkm1d19i4zeAPwEhOcpYHHiQSMTqx3Kdod6DscPb71fXA5jbsZ3MlB+2OAUlysDYSAI6WAOhz3/Jcz8wDdvVlbdKXBe7vYz9Tbe+ba8AtkT1AyjwHB7NYTsnC2vHz/P4WoDGHy/LSRvRbytmERwaYVM5I7Uw1OQKRHQDzNfH0BqejfVSE6qN2fARUHGI+pioAdvx+03tUN54TgxtBrp99/IniEw5ZHJ2EI775BqJRwZQokCauXgluQq0c+HfrNQQEKVK8ADa0L4yMiWIg5/C9gm+qF26z3LD+la/XPRyUE96ialm/FKuxjonLGR0qGx3QEAuCqpid731dY7hqgvX35wVWxtjARgIAJh7gMlOOIDa+4bIHy4xW9huNGyFphJ/La89invs060+iWE+gzFBgWg7GuWrJqL728QmWldTFAvwUPKiW+mapCpCKmikJZAKg1jh5ia5tRQ3jEQjwmgN8gf6G9bVSZpW8EOvEhubMX4VxQKEOxiUH7U8AibOzNtIYpALX96HlOPFUTAT8KcP94gIbg0C3VAddsD1jgSDjyzVIBIMy87zZA2rtaWt9h5ieR7SEQB9xY9vr409t/19B4J345TsyZoD5z4M5NpM/9dlE0nWpOMT8g1EBsBM3rbrxnBjcCHJNZQGVZ5jgrDUzn6n1cqLHOkZpZU6Nje5NrpMTxTPER4ExrHZzdeuCaLhQZnOga+YA8Iys6zHlIlMCW+k2Wk+PRr9PCKiH2UH/mI3WPV0TuGnkmuMlgeUxPLCZAICffPgBr4mHkUnzFHt0/QUfVFKxw70SvvwKQBXtKcxyt0Gel7K6FcYCM3IDH60AOyo3eHKCZWK1bkCwnFm3+sjp1DkdjDsgZmD5DmWGA/uHWnZBjAyLTJSLWALAVBvKZ4el2loaiRcGoPKKnPWNAXDH00BCMSsrgUqicOtv5YsCX15BB+Jqc7LPm9vJjBdS7Gk+PNcwX6ssRcUeUHtoDPuiIdGpWX04djSYnBn49gqoMB4o1N6Ojn9B01kFmNIhWWQEwMK8xFp2S6U8f8GjiixLVHGI+SehAmAn7lJ14zkxuBHkmi8LsGUKk+rkRO8NJjhdFZ2bFEqFarmSos5cRl+1vXNRo/pbHgAfCsqpL3VYnmcDhpxkQHGN2yi9RDL9fjBxK7R8XNpmAExiEIMCWwkA+Pmnnyg2/hAyaJ5jn469bid5Ze+mg9BiyTlU1x7HNHcrB9mok0QBNjMv8MHKq/2Br5iC20qOUN+WQFMbkv1NWUguDeD7mTvgxrehbOzcosajWQLAVFowIo7ch6jUSg5kv9/ZBaypz35usBbIVNEYAHc6CyTIxNpIwIEy3wOeWl41lThI5RpEdVb9P7n9ts7ApRXsdx7o8nNtsQtIVcRwjIVlxMN0GmCYoRy30WSoUJ04nWOlADQaW5+Qbe1IopjKOKi2WcmDa5uHP7fV7wSAbdnHf+6TijQrU3GI+UehAmAnblN14zkxuBHkmrhxy087avPoE2rnQN+NrFbXHjvQywulJx8x6MID4IexCyPtZxEsF96ArocYAF7nPgIFtXJ98vGkLdD4oflDcHd1TeDOZYB3BhVC54CuAgB+/P4HvCcdRjrNCxzQ9RH8T9a2QPEmQ1B33inUcTmMiW42KD1RaQLV187IA3xUUKQpg0Lk/s9OA0sq2hMu1pakV0nxbVsn47415rOyCkvW7SowXazH5dtZAsAEBPnaWe8BgDfLlgtlCJKABil6ET2Z8hBc5/NA/AysvXSPpI0HGsplG0374RFgeTV2OVcjoDr3RWRnT+C8mBHmD+VR2w8PgK8vgTTFjSNBss50gNCzLpAgo/3xV3s4PwK/EwCmNzhDGO2hahEXARWHmI+9CoCduC/VjefE4EaQa3szwONqeqL/ZjNCDxbWcHpAaRQaK1JZie14APwjZSlEe8pOWO8tth5t97MSiI3uw5BPKzMInE3WFHUfyIfgiIpt/flnOHSH8ave0TWFTsP6SpbPdw7Oj2sI34AgZB68G+k1z7FfzABP1TZDkcZDUW/+aTRwOYCxbtyrd3PrSVUUaOEDTM8JfLJyqInA5stLwHxv+58wiV1QlnVDM+O+9VcDa2XZZ5POB74Erm0A6CT7UVHNjRpaAsDCfTo8JtZ1Swf+6PrFFZTKZ0NJdGd7BwMnZ8jD84p2EgAm7t5/rDBW8HyrBPxrLZR97uoHnJnLfqfDf2WG2R9LtUfkjMDvBIClz07kjORfMysVh5h/1CoAduLHQN14TgxuOLo+cf89eq6/jF5lMyFr0pioMtP2GuAxNTwxcIv9APjqsHLIMYwdiJOMB8AhGcpDI8oEHyq+Bi32MQC22X0I8mjlMoPLyRuh+v3Kwj0PNy1uj6yIAZuvYs1ZRi9lCgBPC6yJ7qOYJPDbb744vWEqqj1l6mZz3Zshd30GgBu77MMoNxPSwcpnIymnTfUEvlh5tU9g890d4D9RHc2e55yzIVOcW2WifKLpdjljas7n4PeAC2PTMDr0JpVvmDqgNjwuECLWUfM1sVfWyrRqEtCljPH2LnKJQtfLjLmC7M0N4N5eIF8rwIPxQps1yuRK3MRZqgH1xJIH6rB3kMyEwR/KsyeWatvIGYFZ+YH34hfcyF4DLHyO7DjEGjkj/tvPSsUh5h+hCoCduL3VjefE4Iaja57zd0vHIqgx23Zqn5H/ZMPgbTfsnu290RWRadAuBHOEETwA5h2eKL4SjfZphUtb3Qchl1Y+aHYjRQNUvldVuJcwhg5n/y2DwVuvY8Vpdsjqjq4ZdBrDg2Y8AMavz8D4VPrhzqfvisAi3QWFuBYuuzDUjQNe5lYp0XrZwgNM/2B+fgpM87Q7ZoLaHGVPF5c37NtwPRAtvqGamynvvLSs8kAYzYmU3UhRTipZkHyMTAAE+bPfiFuXQCcZcfYS/27MZCxDK9XKktrciemsDZVdxJHja/Oiibpsklg6QfzHDTmZ5/3DgeNTmKsSfYFS/9rsVm0YySOwqz9wZg6bZGQFl9JnJ1MloIEZcZxIHuY/aXoqDjH/NFUA7MSdrm48JwY3HF3zAJjoyqSDarZMgZTiJu01FjVIrXmFitpzWBNUEp8hyxxLPqkGN+O/u+AfJFOUmQPAZ0ssRd297kLXHe4D4amVywzupaiDsvcYtVe6BNFwoJc3hu+4gSUnWJvbumbwUADgKQG10XO0WNpAWck53GGpUoPwJX93ga6tjctO/Ou22pYwAN2vWQe1jTcD6UsDP94DE9PZ5pdvReCUpGrnFpOvSiUA7+8BsyQOYzq0ZUxFZwAoeMYKa0BjVCIgUOR2pnIDGtOS8QCYl1W2Z8U8owMpvzXZLPc+NFamfONrku3xr7aNnBHw+86+PKUraXyIMbLM+P194NY2IG8LIGrcyDKrv3YeKg5RAXCEbH5140VI2B0+KA+Au5fJgGn7becmbVUsDRYdN1Yzk+jHDgTlRqsAdsCMNwLAmQfvgm+ABIBD8Nijkcm1XfJajBp7PIR7Pu4DkFUrU2j5ucfBqV8psSWoKB4lrYztnYthjM8tzD/KssS3dM0RRSNmL0Xvq1yqo1GZgkDmyoD/d0MATEIL3v1AfMjRzs5A3NNjHRPvihOBguIhNaW6mq0j0D+4RbsBM0RlNeonCVB8fQVMycw8kcACEfYrjQe6Hx8BJ6YxKeGkuS3PYHQSIOAna1N2JFC0q+X2PADueQuImdTWFRq2kzJtSsnZoxOBgyLHL1+THLpR1F5qBNQI/MYRUHGI+YenZoCduLHVjefE4Iajax4A2zts3XzJsf78c2TTPMYvuONhCAM7fDa3nN94NKteEf9uua53TwA4+9A9+O7HDqhpEYyHHiZUygBc81qAWnvc0cDlIIa7LTM5xXchsdAp6Tqsb1cYE3bfxuzDjI3BFADWOyCp4RpzDanBeJqvw+OBw2PsDYnp9tVmsvICMiW1mNSj0UZgVW3z41HtLFGQ8dljqSSBF4Eggn5Th/GsZXrNjTwmGfuiQFZuNFBEPPhmrj0PgHvdAWJwSnL2RFMCwLTuKmLJA/WnDCGNQVZqMFCitz1e1bZqBNQI/EERUHGI+YepAmAnbnR14zkxuOHoOiwAuEK2xLh+8yqO67oLMyYlNW/tFfRxW2+wgtut7qHCf+f01wgAU5kBCU6Q6eCPOx6iqphi7be95sBn/wH0dNtoMSpNU+7D8pYFMGXfXcw4wLLYN3QtEE3jZ74fSfXOU1BmEa1ZrcWMKYGyjZYsThrgk3EG3KjLP7OB3FyGW0kXRh3aHwfoFfASM9LOVP5QdoShNDEJYBTrbgiq6dDYre3Gsw4tAB6bAvD7yvyVHwsU7mg5JjwA7n0fiJ4gdLuZxDDo0FyVqYavms/MB3aJbxVKDwWK9wydf7WXGgE1Ar99BFQcogLgCNnE6saLkLA7fNCwAOAi6eIh+eONmOC2wOK8nlddi2IbuHrfcZWRZ+Q+fPzByhOiwhc3PVqa9HHfexaCD45FRq1l7tgWqfZhSYsCmHngHibvu4sE+IzDuh6WAXDrA8BCE0IaBLo+PWFlApaMKNBI2c2aVZ8L5GogtzIFgCXVtONTgf0mqL1I9pckh3le3uK9gdKDmV/KjD4/D1BZwOyCjgPA41ICvuJpd1vUy3gA3OchEC2etejYd//CMmCHWIZBXwioLEQ1NQJqBP7KCKg4RAXAEbLx1Y0XIWF3+KBhAcCeyWIhzatdmOFuhdcVQEbfZfAHo+GiDHD+0fvx7hvLzsbED1z1aGNybY+9piP40Fik1b62uPaWqfdjcfP8mHvkAS7sWYkF7txrc3M9m/sASysZ381UmdF3nbKyLpLpvW45My04r7kAyFHXMgCWRCNOzQb2DDCeU6FOQIUxhhRm+VsDpALHG9X/jk/tOABMvqSaYr6W2VxMeQBM0s+OPih0ZZ0s+lFuFFCki8M/E/RS/3MAACAASURBVKpDNQJqBH6PCKg4RAXAEbJT1Y0XIWF3+KBhAcCp4kVF5k9HMM99qtV5lfcbhzshKfUAuNCYA3j9lbELxMFXXPJob9LHc6/JCDk0Dim0TNzCnEkAeOGxh2i0v6DR4TeT/ZpsBVZUN75FzANEByYJLpjqHDM5o+Da2sHq2lFrEeDJ1feaygBLXLpER+Zjoq5Vkv3lhTRIHKPmPMPxg4OAESZOp4e2BGJCOuCnqHhVaRJQwPQXFf0keADc/yngEct6fOxpcXMbsF6sp7alJMMe32pbNQJqBH6rCKg4RAXAEbJh1Y0XIWF3+KC2AuCSmRLoFdakScSN5o7Cv47iP3dO/cvMDLv4d8aOYEY59rjWazz0mYoOvp0EUEzlCuc8TNeWvvaagJDD45BE81H2rHUFgg0V3lqn2Y+FzfJj2cnHqL8nr5ECnMlpxU7JeHmtGcnxvroCvBEP8hFbBGUen54CVta01huosxTIxujaBJucGfj2yrCfxJl7cTkTk1AaveqnV/5kSyoBz86yuuGEIvsD3/71NeDLc2BNfflqaAHwxAzAj7fMT+UpQP5WltdrAICfWRe9sB49wxZ39wCrxWw6lYQUsuELiL1jqO3VCKgR+C0ioOIQ849JPQTnxC2sbjwnBjccXdsCgN1cNCiXOT6a3+uEYGjRwH+Q8P+uWg2qaw5jkpsiC2li/tMDa2JqIMuCSiwRj4IToaT/VCTGB5z2MP0q+53XGODwOCTQiAexzMSmdZoDWNgsH1adeYJ/fAogukbkrg1rLKkcosFqJl9M2VcyKRP6/AKwsJT1EequALJWk9tRffH0HIb9etwEYiUD+Ff8fAte9jcokNXlWquvVQpeWJ+pcYtJmYDvYvlJlWlAvha2A+ABzwGdMQ90aKah7/PwMBPgIFNLIMIUSrWzGoHfPQIqDlEBcITsYXXjRUjYHT6oLQBY56pFr1QP0fbFQGH8mn7DcDEko/CzrZLBCwIrYXQgozqTALBfiBsy+S2DV4IfWPbN9Kv1z8WGAMcmI7bmh8W1t02zF/ObFcT6c89QZmchxNWI1F1hjVjWf4C6y4FF5YBnZ5i3arOAPE0AyrTywhTmxqq3CshSRb4bFACMjG/YutddIEYi4MYWYIMJRgz+wJuta6JSASoZ0GiBoSa4gW3xwyvcVZ0B5G0WsQD46RlgcTk2B16Zzpa1qG3UCKgR+KMioOIQFQBHyIZWN16EhN2hg/7yD0KWIbut+ozq7oKhKS6j3gsmDFHDbzguhTCp2lYu/8Ngt1VWfSwNLIdhgQzYSQDYN8QNmf2W4VCL5EizpoRJH98LdAPOzFNkdI3Vzjqm3oXZzYtg88XnKLatKBJqPludk00NpDrbJZWBJ8dZF+lQ29vbphkXlI4brAUyVTS8qqwDlhgTbvsAaznGCKlXaGR/Ser50gqAZFvjhUJ9jsaekg34+pzN4p//IEgyWzJeXW/IR0DrYlOYbW708jIw34s1V5XgbA6b2lCNwJ8YARWHmH+qagmEE3e8uvGcGNxQug4KDsGZRx+QNUlMxI7K5IMt2YDNV7Hm7DOTTcpkSYj9t1jtZwydK8alOI3KzxmzQhW/Ubgeklb4uZPLViPeX1MOVweWwsDA1oJMr6T69ivEHVn8luJU62RIslIENYrOv3I2h/byKuh4SWOqhyXaL866pdmO6c28sP3KS5TdnNO2Q3DWAkT3JSYDeu1Or9/J6iwDslUHPjwAZuax7qXhBiCjmLWUWisBcL8nQJTYwP39wMpaxj4jCuxN9QS+iHXS1ecAuRpaX++7O0yRLnpC623tbUG+/yvAehXvxbLAqqkRUCPwV0ZAxSHmH/sfC4A3bNiAVatW4cKFC/j48SPSpUuHDh06oF27dtBqtRY/CMuWLcPYsWPx+PFjpE+fHkOHDkWdOnXs/vCoG8/ukDm9w+LjjzBi502kiR8Nh3p7Wx3PXPlDugTRUC5bYswRFdViRXHDtGSHUPL5bMEnXwLRy3U9urhutTrWxqAS+BYSBVVdTiE+V8+b03c+DrfLiDjLTM/XP3MNuN7aCq0mhI2RMCujFFNw5fZKvQWTm5fCrqvPUXFzNqvzsbmBlMVcWRu4v491a7AOyFSBHaCb5mndVeNNQPoyhu2UAHjAC0AXHXh0FFhW1dhnRMn+Ts8pK8vVmAfk5A7WWV+541uQyh3NiYwOIlIdsGpqBNQI/JURUHHIXwiACxUqhFSpUqFGjRpIlCgRDh06JIDa7t27Y+JE8+pVGzduFMBu//79Ua5cOWzduhUzZ87E7t27hd/tMXXj2ROt8GnrOXQPvonywsS1a83MAeDMiWOgas6kmLjnjuCC2B5mJ9mFQs8XCb/X9x+E08FZhZ//dV2JNq4+1obC85D4SK4R6bS41o+DEyFRq7WIsqSkSR9BaUvB5eFB+V6i7CwLuYfVI0v2MkkZJC3XDQe+pULpzYoDZlZnJzaoOAHY1dewtcSesKoOUyYja7IFSFcK+PYamJzJunepPd9SCYD/fQO4eQB8jSvfPqJkf2fkBj4+ZDNR8hlbX7njW/AxL9gBqDjO8WOoHtUIqBH4LSKg4hDzj+mPzQC/e/cOCRIYSoz27NkTc+bMwefPn6HT6UxGJUuWLPD09MT69bJUbfny5fHlyxecPn3arg2vbjy7whUujbMP3YPvDgDA2ZPFRN18KTBk2w1h3vGj67Aw8Rbker5S+L2D5l/s+sWyrKNcF6Gx64EwrS+o1UG4LDLNphCcNA+0Ly/K/hN5soNYprhyARyrdQHFN+UN3XxIAW5nD+sAmAQ0UhcFfnwAJrJSEIvWdDuQVlHioQTAgz8ALq6MaYIYJ5QWUbK/M/MCH+6z2Sj5jK2t2xn3qa55fCrmOV8roIoNgifOmIfqU42AGoEIj4CKQ8w/gj8WAJta8ooVK9C0aVO8fPkSSZIkMWry6NEjpE2bFps3bxYyx5JRSUSLFi3w9u1bxI+vOJluYXurGy/iPvs//QMRxc0FGg0dBpMt25Dd+OEfJFwISwY4V4rYaFo4FXquvyL4ShRTh1XxliD9q53C7zt1ldH5SyPh50luc1Hb5WjYgtFyr3yyX+EpJG5aaKQMpDAZTybGIMnhKtqfqXkKBTcXDt18/pkNbFPwEUsZ4M3tgKtrmd/WB4HkeQHfr8C4FIZjJc4BvL7KBCAkCeHm/wNSFzNsNyoREMhRtQ39DNDzfHMTmGNi/hEFgGflB97fZXOvvRjIbqI+OXTRDl2vAF9gdCLWN3cT4B/rKoShG0jtpUZAjUBkj4CKQ8w/ob8KALdt2xabNm0SgKyLi/HJax8fH1SuXBm3bt1C5swyef65c+dQoEABHDt2DMWKKf6RtrD71Y0XMX8arr/4gppzTqKyZxJMrZfLYBJZh+wGgWNPzSPsGN4ScI9mOMljkwE6RPTPf3j9PQiFxprO3OZPHQdtiqdF2xUXhP6pY2qwN7gN3ANlarFCvjPxGvEwy20GqrjY9/bAKHKUIV3O8eTyDaLGl5XI6HpiT4BU0ba0M/kAbpRfh2x76oXu4dRcCGymg3qcSQB47yDg5Ex2gwQoaB4Bv4DRiQ3btzvGxB/OLZTbt9gNpFKA2nEpZYBMHqRxzB2s8+oHlDQs+wjdIu3s9V9B4N1t1kkp6GGnK4c0DwkBhsdmrnI2AGrMdYhb1YkaATUCv18EVBxi/pn9NQD4/PnzKFy4sHCgbdCgQSYjQofmGjdujFevXiFxYvkf7fv37yNDhgzYtm0bqlUzA0IAfP36VfhPMvJDwPnZs2dInjz57/fJ+U1nXHP2CVx8+hm1tEcxOe9HoPJkvdpW5sG7UDN4H8a4LQKS5wda75dXGegHjBJP5VcYh9m+ZTFhN6vxVVrKuFExvlYONFjAgG3eqO+wKbibQbPafkNwPiQzFrhNQlkXrkQhNHFtuF5W91L2d48B+H+TrxLwLNYT2GhakOFL0uKI9fJYaGbB2B02KHhuJWB6YgawbzDz2/EMU2AzJTss3ds7GDgpKuS12gekEJkLpJnxAhN0TRrH3ME6SQo5dCsLfa/ZhYG3N1l/4kMmXuSINql8RJVCjugnoY6vRiBCI6ACYPPh/ysA8OvXr1GwYEEBhB4+fBhubm4mIyIBYGpPB+cku3fvHjJmzIjt27ejalUTp8/FhsOGDcPw4cONfKsAOHw//7XmnMSFJ5/0XLpCNrT8aGESmQbtwhWXJvCQKMN4+Vu/78DYZGyyeZphSEhbLD/1xOzkd3YphiozGe+tp9tL7HDpbdD2H78RuBKSHkvdxsPbhZVKhNoIWJFogylzcQeC/OU7VGLg3R9YawMdl70TIr5eXj64QFugknio9M4u+V6ns0AC8fCbspa383kgfgaAB8CtDwDJ8xnOhtgjeBlm6Vl9ewNMZiIjBpavJUA1yuFtc4oBb66xUZWCHuE9F2m8WzsBqgv36g+4Wqf7i6hpquOqEVAj4NwIqADYfHz/eABMh9e8vb3h6+uL48ePI168eGajEdYSCDUD7NwPsq3eGy88g+P33+m5dAV6LaLZApBx0C7cdGkIV02w8PuXfu9BFGaC8YeHslZHP20vrDsvcwBn0DxHT9cNWBxYEedCMuNwb294T2K8t5k1T7Fb199gipX9xuBGSGqsdBuNYi7ssJxJc4sKBPy0vDyi+DrEQLxVS5ITIEaEVUxW2aFGcZQ4eKMnBnrelIUcgoOB7V0AVx3Lukv110oA3OUiE53gAXCbQ0AyBV8wX1srKcsJz+kTMD618bIkQQ6HLtgGZ3OLs5pmsvprgMyVbOikNlEjoEZAjYDzI6ACYPMx/qMBMIFeYnCgDO6pU6cEWjRLph6Cc/6HMTxGaL3sPE7ceoJbHi3ZcKTy1WCN8GOGf31wz01WEeuU4RD+ayQCL56xIF0pdHcbgq2XX+qnfFHXVi8fvLLCVZTNmggFx7Aa4Wyax/ifzrD+tKrfKFwLSYu17iNRSHvL/NKjJQR+MEENu0zjAoSwA30GRgC47EjzNcOWBiGgub2z+RbNdsgcvJmrAPWtK9xBCYC7XQXipDIEwO2OAjRv3khCmaSUyQa/B1zELyr+P4ExxodYkaUaUG+FXSF0SON5XsCry8yVxH/sEMeqEzUCjonA5beX0fdoX7T2bI26meo6xqnq5beIgAqAzT+mPxYABwYGombNmjh69KjwX44ctvGeEg1azpw5sXateJodQIUKFQTqNJUG7bf4vKPz6os4c/Umznl0YhOmmkwqIQCQfqAP7rvLADi172rUzJMMCWN4IG2U76h7uDTrkywvOkSZiF3XX+sXLckTCxeGfcGXnwHIOYLx3npqHmKHzrC2XBLD2OA+DPm1IkuAqRDGSQN8emR/cF10QJCfcb8kuYCK44HF5e33SVy7lI2ekMawL82x1CAgVgqZjSJXI6A6E/6waEoA3OMGECu5IQBufwJInN3QzcIywPNz7NqQT4AkYGOqrlh4uHKm39qUHHqfKNmImo3MlKKdQwdTnakRsD8ChVcXxvcAdkD3WjPxS6X9btQev2EEVABs/qH9sQCYFN/mz5+PCRMmoHjx4gYRyJo1K2LGjIlWrVqBKM4ILEtGCnL16tXDgAEDULZsWeHg2/Tp01UhjN/og99nwxVcuHgWB3ViTa5nHaDWQmEF6Qb64IECAEtLS4wPOO3Rhf0aLwNaxpiDg7dZZray9jT+cxcPbNGFYV/gGxCEzIN3C/dzae5jq85Qcrae/2CcCc6Cre6DkUv7wHwE6dCalOm0J87mSieS5gYqTwEWmBbOsDjEoHesZvT4NGD/UNY0WgKgj8hz++Ki7NdWkQUjAHwTiJXMEAB3OAUkYsIheltaBXgsHtbja7WF+McyXkb22kBtJkQSrja/JKu3JWu0CcigULQL18mog6kRMI6A5zJZjVEFwH/XDlEBsPnn/ccC4NSpU+PJE9MHmEgVjuqCmzdvLgDgEKIN4oyujRkzRi+FTIfbVCnk3+ePxsAt13D97CFs14mMBFymMu2A/+GhTj4cRhlgyZJr3uG4TmRyiJYQjeKswIn7HxDTwxVXoXhtOOwLgoNDkHYgU3jLo7mLzbphBkFqGTwIB/2zYof7QHhqH5sPYMrCwNNT9gdYyf4geUiah3G/ziliv09JbOLsAllII2YyVutL9vo6MLco+9lW2jElWO1+HYidwhAA84fmpFlTrfF9kaXDFgDcQwTW9q86bD14ANx4M5BefIsQNq9qbzUCDouACoAdFsrfzpEKgP9CABwZdqm68SLmKVAG+MWl3VjtPkaYwMnYVfG1zCRUyJ4YJG3MlzLwADiV5jWO6HqySXvEQp3Ya3Hu8Se090qH/mcKGi5GBGSSVHJ+zW1s0I0waNNZOwg7f2bFLvd+yKKVD9MZRSV9WeD+PvuD5REb8P1s3C9ZXqDGfGBWKNTepFKDS6tkwYvYqYDu4iEv4kj+T6QrKz8GKCyWmViavVEN8BUgTmpDANz5AhA/vaGXtY2A20xYRE+BJrVQ+oyRBOglcvHaH8mw9eABcJOtQLpQZN7DNgO1txoBixHIvTw3AkPYm86/PQN848MNjD87Hq2yt4JXCoX65B+4j1QcogLgCNnW6saLkLCj29pL8L26DfPcGSXW6sBSGBjYWlB+swSA02le4ICuD5u0WzRUi7UeV59/QbfSGdDjRH6LALiQ9ibWuo8yaNPXfSDWf82Ofe59kEH7wnwwslYHbm61P1hUmvDjnQkAnA+oswQgGjF7TVJbu7EF2NCc9Y6XAehynv388jIwX/xHg1ThcjO1O4vGg9WE2ZhIBtXz8iwQXS8BcRWSyU9OAksqMsW4/k8V8VeUQFBtco/r1mbinPs8ADYl6eycUVWvagRsjkCBVQXwK/CX0P5vB8B/WyxUHGL+Y/LHlkDY/JfBiQ3VjefE4Fpw3WHlBUS9uR6T3ZkC1sagEugd0F4AwGkG/A+PuBKINL4rEQKt0C6j5hn26voJPwdq3JD+1zLh574VMqHjYUU2VZEBLqK9rs84S1MbHnUAlnz0xEH3nkirlQ/TGU09d2Pg0krbgqV1BYLFmnXKen57ZdwvWT6g/mrTXLnWRpFKDe7uBVbXYa3jZwI6n2U/BwUApHxGB+WIz1cX3ZpHw3pdqcSCevEAWGKGUHp7ewuIkRiIEsfwzuikQMAP+RpllLuFkWvZ+kpMt+ABsClJ59D6VfupEXBQBIqtLYYvfl8Eb387AP7bykFUHGL+Q6QCYAf9gTHlRt14TgyuBdetlp5DsnsrMMKNAdidQYXQOaArTg8ojUbjlstZXgK9vsvgD0avlVXzGD4ilVlQiAbp/BjF1+AqWdFqv6GksvRKXiqBKK69ihXu4wxmNSFGf8x+lwPH3LshhdZEplZqTYfJzsyR+xKH7vMLwBW5Pll/0z064C/KLVPW84uJ0gpSuGu0wTRXrrVHIgHgx8eBpZVZa8rMUoZWskBRdMNWgQU+A8zX8u4bApyYzrxKdcHW5ifd//4WIHAsyUPHTQd0DaPanq1jK9vxALjFLiBVKGqvQzu22k+NgA0RKLm+JN7/ei+0vNL0CrQa9qX/bzQVAP+NT930mlUA7MS9oAJgJwbXgusmi84g48NlGOzGAOy+oLxoE9BL0GXgs790L5vvIvxAFKGdkspMqg8eVT07Gu9W0OgpMsDe2ktY6i4qoolzmxm7Lya/zoWTus5IqvkoUKvhxQXjmZfoAxzl+pKaWNJcwNRsxm11sQAxkyPU0X4ycbgueQGg6TbTXLnWHokEUHm2h1gpgR5hoE4yB4D5DHDPW0DMpNZmZ3xf8h0/I9BZpEyz30vYevAAuOUeIGWhsPlTe6sRCGUE9j3Zh5sfbqJjro5w08qKp+U3lsfLH4zT/Gyjs4jiyv7m/Y2mAuC/8amrADjcn7oKgJ0b8o8//NFp1UV4Z0qAdl7p9IPVnXcK+Z4uQV+3dcK1o0GeaBowABoE45FHY4NJ5fKdh8+IIVxTUplJAHhC7Ryou1PBUasAwKW1F7DIfbKB74XxemPUizw4q+uIhJrPQNXpALErvFHUqpYZBuznGCQkMYUf74GJ8roE5zwAjpce+CDSk/EjF+oIlBsFjIhr/wOQADB/2I0U33rfsd+X1MMWANzrLhBDlh+3eTDJd4IsQKfTNndzaEMeALfaB6QQDwk6dBDVmRoB6xGQwF3/Av3RKItcn191S1U8/sq+LB+tdxRxPBQlRdZd/zEtVAD8xzzKMC9EzQCHOYTmHagA2InBBUB0Z6vPsMNRVN8rWfX/TsDr5SL0cGPyx2eCM6Oe/xBEhS9uSupwYuP8vrPxDrGF3/Jq7mCTbrjejwSAp9fPhX+2KjhqFQC4ocsBjHFbBFCNbtT4wPfXWJWwJ/59mg96BTk6NOYeVT5cJo1UaZJMOUbXSG6YRB2o1GBUAsMg0oEwX1bLB8p6vlcIbGSsyDiPqTbXFFeutUciAeDPz4BpIuiPGg/o+9BaT/P3bQHAfR4A0eLbP4bkO5En0OG4/f0d0YMHwK0PAMnzOcKr6kONgF0RIDrPHMvZm6qqaatiTHHGgkNWY1sN3P/MvizvrbUXSaKbUFK0a7Tft7EKgH/fZ+fomasA2NER5fypANiJwQXQbPFZHLnLamsfja0EDdU4AKg0/RgqvVuAzq7bhN8vB6dDdf+RiI8vOO/RwWBSRXxn4CXiwQ1ByKO5h3W6kfr7aX1XIhhazG2cFxU2ZjJcjKj4RTXAMfEDVz3ayPdjJge+PsemxN3R63EBXNW1RkzNT6DmAsAtCrDOMAuN6nOBre3l/hKTQHAwMEKRqeGpz0xlgHvdYYfGyMICgH2/AuNSMD/pSgFNtoT+YW5oAdzYbMwbzJdA9H0ERA1NxlpkgyD1u3ZHQj/HsPRcUEoubWlzkJW6qKZGIJwjEBQchFwr2FmFSmkqYXyJ8foZ1NtZTyiNINtefTvSxFIoPYbzXCNyOBUAR2T0I9fYKgB24vNQAbBjg/vdLxC9119B/jRx0apYGrRYchaH7jAAfGtEBURxdxF+LjPlCOp+nIe2rv9j94JToqL/OKTUvMFRXQ+DSXn5TcEo18XIpn2M4QFNMd1dlvbN7LsEvtBhSYv8KLkmg/Fihn0RaNWM6n+52tyO/l0xyW0eomr8gNqLAVJvW1Pf0FfdFcD6JvK15j5AalFsQgliiQ3h1yfWlg6nfVRkZvs8BKLFY/etAOCtQUVQ3eWk4Vz4Q2qn5wBfngNUoxyFZclDZcQc8eYGkDiHLGdMjvhDcP2ehG4MaY1URlLM8NmGaq6h6cQD4LaHAVLiU02NQDhHwD/IH3lXsi9fFVJXwEQv+VxBE58muPzusnBvfZX1yBIvS7jMLjgkGBr6n5icCJdBrQyiAuDI8BQixxxUAOzE56ACYMcGd/r+e5i6n73yr5ozKXZcYYc6yGrmSYaqOZKiZOaEKDHhEFp8nYMWrnuEew+DE6OU/xRk1jzFbl1/g0lV8xupV4y7HJwWubQyoJTqg1e3LogiKxW1uORFBMBlteexwH2K7Jd4cz/c0//uF+IKnSYQqLucAeBVtQ0D02ij4TW+jtQIAMcFMpQDrm8ECCgvLmfoi/hyqUyCjA7cbWoDZK4MnORknMUeiwIropXrLsP+SsU1xz5CQ288AO7/DPCIaf9or64Cz88BeZoCLvKhH/sdhaEHXwLR7iiQJGcYnKld1QiELgI/A36i4Gom2FM2VVlM8Zb/JrXc0xLnXrNDossrLkfuhM7/kka0a3V21EGGOBnwX+n/TC5qze012HxvMyaWmIjUsVKHbuF29lIBsJ0B+4ObqwDYiQ9XBcCODe6AzVex5qwFRTWxFrjQmAPo8vM/NHI9IEzgZUhcFPGbZVKuuK1/D8wXBTPOB2dEPq1cU1vQdxaixU+BHV2KIdpYMavKL2nYF2TvvwEVXc5iott8+U7CrMBbUTqYqHNDNHDRhAD11wBuHsCKGoaBabYTWFZFvsa/RlcCYKrHpXpZqgOmrKzy/sBXrM6YtwBfYLTxAbO5gVXQ3lVUWpPaRxQAHvAc0LHDiL+d8QC4/QkgseLA5G+3IHXCv2MEvvl/Q5E1jIKvVIpSmF5KpBgE0HZvW5x6xeTWF5RbgEJJnM9UMuPiDCy4tkAY0xzzhARGs8TNgvVV14dL2FUAHC5h/i0GUQGwEx+TCoAdG9wxPrcw/6jlw1h0GC7PyH3o7zcTdV1ZTejXkKjI4bcQxbTXsNJ9rMGkngQnRCrtW+HakaAc8HIRJX8BhHS5BE28tEBICDDcRAnAv2/wa1J2RPFTcPzSq/7Xsh/9gFQ37KqTuWulGx3PALM5qeV2x4AkIu2aEuAmzQO0PSSvQXl/8HvjTCg//5SFhQxxu+uZ4al9pK+T1jsMTwBMjBg+vdnQpoC7Y7eP87zxALjDKSCR4sCk80ZWPasR0Efgs+9nFF9XXPjdO7k3Zpaeqb/Xbl87nHzJyp3mlZmHIsmcz1U95swYUIaX7Fyjc/Bw9TB6WhIYja2LjWP1j4XL03Q2ACa+5aiuURGV3vZFAlNxiPmHoAJgJ25QdeM5Nrh8CYQ5zwSAPYfuwcjgafr61sAQLdL7rUB57Xm9PLKp/j5BBVDJRVQ8owYdTwMJs5hmY6D7NeYDW9oauzLH99t4M0D/CCytJPeh8gcCzJMzytd4EKUEuJ0vAPHTy22V9yUpY+WsJmYAfrwFxOwy1S53dNmmp4rTNw9PAEy1wds6AQkyA8V7OnazhKe3xRWBp2ItNX2ZSZg5PEdXx1IjIESAgBcJXpAVT1Ycs8vI5xl4ADy79GwUT86AsjNt+Knh2Hh3ozDEmYZnTAJCCYzGdI+JEw1OOHw6VBdNEtCxiD5SNGcC4OffnqPi5opIGDUh9tXeFykER1QcYn5bqQDY4R852aG68Rwb3El77mDWIRO8t9wwBIAzDtqFqZopqMyB2ZpxtyDl632Yxh1yU85ud1B+WcdBHQAAIABJREFUVHDhxBTaHAKS5WHlBuNS2r6YFIWAZyY4aZvtANyjAXRoiixNCYCu/fwITOBOZZPEcHzx0B0PcIkBov8Tw3mMTSkLY9AdcwDW7xtA6mnxWC0zAeB6Locw3o29otRbeAJg2yMauVuubQTcFktJOp0DEnBfZiL3zNXZ/UERePPjDcpsLCOsqGjSophblknBk/ElELNKzYJXCi+nr3zwicHYen+rMM6pBqcQnVQsFSaB0ehu0XGqISvRcJQRLVzN7TXx9OtT+NT0QaJorAzMmQB40rlJWHaTKZCebnga0dyiOWo5ofaj4hDzoYtQALx8+XJUrlwZ8eKZqK8M9eOOPB3VjRe6Z/HNNwBR3Fzg6mIo1zlix00sPvHIolOiQ0szwAcL3CajrAunutbnIUZMGIMhmoVm+593z498/hwAbrEbSFUY+P4OmMRlXa0tK3Vx4LGJ13kkkxsnDTBFzBBSrXDHU4Dfd2BsMtlr18tAXBEQ8wCYGCD6KZTfpmY3lEO2EcASADY6vEczsLG/tRD8Vfe3dwEuLmdLVmbo/6pAqIuNyAi8/P4S5TeVF6ZANb5U6ytZ6z2tceb1GeHXaSWnoXTK0k6fav9j/fG/h4yJh7K7lOVVmgRGqWTgTCM2P0cZXxPdKnsrdM/bXXDNA+CrTa86lKFi5KmRWH+X1TKfbHASMdwj/lyDikPM76gIBcAuLi44deoUChT4M5WT1I1nw58y4rq9soapgKUvgzdffVFy0mGkTRANOzoXM/jjZMshuHP/lkH+0fuxzG2cQT0vul3FxGkT0Uezwvyk0noDDw/L9yVBii8vgKl21HWaA8Ct9rOMsqTQJglMKAUvul8HYoscvDwAzl4bqL3IcP6zCxscuLMVwBIAVgp/CI5VAGzDplU02TcUODGNXexyUZ9lt9+R2uNPjcC2+9uw4uYKjCw60oCCjK5vurcJo4qOQsqYdrxlMhGoZ1+fodIWVl5VIHEBLCov/61osbsFzr85L9wjdghiiTBnVDJw+uVp5E+c32TW1tZn1PNwT5A0M9nx+scNyhAkHxIYJWlmOijnSPvk+wkl1pUQXLb2bI1ueboJP/MA+FKTS3Al8SIH2b/H/8X2B9sFb8fqHUNsemsXwabiEPMPIEIBsFarxenTp1UAHMEfkAgd/uhE4OAoRg/W9xGmHn6K6QcYhdjFwWURN5q7fnpd11zCdo76zNK8V7uNQhEXmYkBHU5h+uzp6KZZa/ty6ywFstUAPj0GpttBbZU8P6PmUppUUqFURlMesjMnZmFKLOLefmBVLXkkGwEsAeC0mpc4qBMPoUkebOxvexD/gpYnpjNOYzIVAP8FD9z+JUqgK3XM1NhRY4fegXQ9fez02PJPGMRmSAzoyyNU21pN8J03UV4srbBUP06zXc1w8e1F4XfiByaeYHM269IszLs6D4miJsLe2ntDXcfa5WAXHH7GEgrm5Jel9Xu4eOBcYxN/M+0Ptb7H6x+vUXYjA/ptPNuga56uws88ADZ3OC+0w/Kg/1DdQ4gfJRTqlqEd3Ew/FQCbD6gKgB282Xh36sazIbjjUgG+n1nDXnew4NJPjPa5Jfy6v2cJpE8ov0Jqvew89t96Y4NTYIP7MOTnKM3Qah/+WzgfnTQbbOovNKo6A8jbDHh/D5hlh7wtyfK+uWY8jsTuIAFgej028Dlrx4NiXhZYuk7qcj1vmJ47nwW2EcBO3XcXyw9cwCUPToFOmIcos2x7lNSWl1ayw3xkqhCGuh9MREACXS4aF1xuygQpyBxZj3r/033U2M4oFonnl/h+JeOFMMYXH49KabmDuIr58mB56z9bkS62CQ50G55y+/3tceIFO9h2uO5hxItiXOoord9N64aLTRhAd5RR7W/lLZXZxzJHW3TJ3cUo5uZqk0M7hw77O+D4CybJvr/2fn3dcWj9OaKfikPMRzHCAXC3bt2QIoX4utfC0yYlmR49IkjpKZS7UN14NgRuUkbguwhqO1/Ahsc69NnIKMRWtymIIunYN2jK/FIGmKxF0dR49P4HDosqcPwoGgQjBFpscx+EnJyoBUn5zl++Am01m22YlNik3CigSBfgzU1gTmHb+2UoD9xjIhwGJrFKXFgKHB4P1JgLpBUPo/AAmFdFo3Zn5gKNN5qX2P32BtjUCshSFSjYzqZ5BgQF48S9t/DanBca/+9yHxUA2xQ/g0b+P4CZeRnFHR1gjChBDvtnrvYIhwgEBAcgz4o8wkhKtgNHAuA7H++g9g4mspMjQQ6sqrRKv7pG/2uEq+/Z39UxxcagarqqZlfOi2ZsrLoRmeIqZOBtjBlfd2wuGyqt31XjiktN2d93R9m9T/eEQ3Bk7XO2R6dcncDLRdN1R5cpNN/dHBfesLMne2rtQdLoSR21nFD7UXGI+dBFOAC29akSAA4KCrK1eaRop248Gx4DlRZQiQFZ28PY9jYhuq1lGZIZDXKjWs6kePvVFwXGMFELsk4l0+HB2x/YfeO1wQD0Sn+j+zDsCCqMAto7yKJ9Kt+vtxKL161HS2zH2eBMwn2rVqIvUOpf4OVlYL4IVEsNBg6OtNyVhC1W1wUCfhq249kdlB54ADzgBaDjTkxTiYSzpESVDBcqALa6LUw2CPRjlwkEq6ZGgIvAq++vUG4TU2xMEi2JUFYgmSMB8I0PN1B/J5NZzx4vO9ZUYRy8ZHSd7pNRHXL19NXNPqNWe1rh7GtWj7uuyjpkjWfH+QfOa9NdTXHpLQO1B+ocEKjBlCatX6vR4krTKw7dN9ffX0eD/zUQfHbI2QEdc3WEb6Av8q/Krx/nYJ2DSBA1gcPG5ePsU8MHKWJaT+45bHAzjlQcYj7CEQ6A1RpgZ2//SO5/dhHgrfhqv9lObPqYBr02sD+Eg6tkRatiabDr2it0WCW/HutTPhPuvfmGrZdlKWRqv8V9CHJrGU3a/eCkSK/l7lefg+Vbd6Ip/oeTQVkN64PNhahge6DieODZOWARoxdC+bHAngGWg0ogkrKyPLcv9eh6CYib1nRfHgAPehu+QEpZkxzJt4w6PTUCv1MErry7gsY+jYUpK2t9HQmAr767ikY+jYRxlMpqdXfUxa2PrLRseJHhqJmBZUZNGZ+5XV1pNTwTeIYq3A12NsD1D9eFvsSJmzhaYiM/jly/0jllYikjS9YxZ0d0yNUBPDMEXd9bay+SRE8SqvWZ6vTP1n/w8AsTa9pefTvSxOLoLR02in2OVABsPl4qALZvL9nVWt14NoSLU9G6XmIequyVa347eqdD3wqZsenCcz0oJo+DKmfB/bffsfacoSzyRV1bxNWw1/m8wptwofwYrN5zFA2xG0eDPFHCxUSNrnK6ORsCNeYAT04CSyqyu1WnAzvYaWKzJmVRJfEJqSHP7qDszIPQIZ8ArSEFnA2RDH0TFQCHPnZqzz8iAlQ+8CPgB/IkYqUKjrRjz4+h44GOgsvMcTNjQ1X5HAIPACkDSpnQ0BplWynrSpYpTiZsrMZEKMhqba+Fu5+YzPuQwkNQJ2Mds8PwAHhFxRXIlTBXqKZUe3tt3PnE3rSZA5rOBMCkfEcCIGRU/kBlEB9+fYD3em/9ehydpS2/sTxe/mCJly3VtiB9HDvoM0MVZeudVBxiPkYqALa+f0LdQt14YugeHwdcdEAK+dWTPqjzvYGX7DVZV/9O2B5cVH+rUcGUGF3DEytOP8HgrSyTQDayenbcfPkFa84aAuDHHg31bV6FxEUSzUf52RXvjfXHLqMu9uNAUG6UdrGh3ixzFaD+KkaNtvwf5qvmAmBzG8t7QgLAK2oADw7KbXvdZXRvpiwiQWhEjh3qT5fa8W+OwBe/L5h8fjK8U3ijVEpRWCaUAfkZ8BMFVzMp8k3VNiFjHMcKmRAVGLEDkJljgaB75tTSbF3WudfnQPW7ZMpMc41tNXD/M3s7NqjgINTLXM/A7ZOvT7Dg6gI0yNIAUy9MxZlXjJOXmCSIUSI0RowUxExBtrvWbiSLznGdiw4tAeDdj3bjyPMj6F+gv0kKNWtzIgYKYqIgkzLAPDMEXd9WfRvSxjLzVs7aACbul9tYDq9+vBLuhKV+OhRDm+2i4hDz0VQBsCN3msKXuvEAfHgAzBSzKr3vA9Hleqtf/kF4OT4/0gU9ECI3MKAVVgfJBO1VciTBrIZ5MP/oA4zxua2P7oTaOXD20UdsvCAyKIh3eAD8PiQm4mu+yk8kbwtsvvAYNXEIe4LyoVwyP2heW8kCE59v8/+zdyXgNlVt+L33miqFZMxMJWQeQuZ5CpFZSIP8QklKKhlSEZEMScZMkXnMPGeeGsgYkSmiQdzL/7x7n++c76y7z7nn3EEX53uentyz11577bXXvefd33q/910AaKmxpl8B0+1tRp8hAFgbJFDmredJ31ze/xKE/pfXTsDfv1DXt+8MaJvdvW0C2M3xMxXHLx9H7W9sVYRuxbqhbQF72zy+Yv6h+ei5vqfVHWWxWBAmoQFgXGWzNp/ajOeX2S/nBHUEdxIajL5Z8k20eNSTLGCbUl+Vwt+RfyPrvVktoMq+GF/W+NLSA45N1JpVCyf+tP9G04mNfeugU1vBiQXdH5nPUeam0UON0LtM76CHsOToEnRf0906T3SAtVYyPzdBKp3raJ/c5JEmQV+PJ+gM8LS605A/bX6vfgjAactM3eObFSEc4num/1MAfLMWwH91ndDCA7B7OjD7BfsRPLsMyGZnWhiTNx9D0UX1kC/ctvftf60FxkTVdR8v99ADmNS+FIYu/xlDltvbd4yhzQpbChCzd/7q/iwZruFAijbuny/euAepw/5yfPQLokqhbteRHmDua4FQz/e55cBPi4BpLKYIA1rO9NbddTpXAPCKPsC6j+0W1foAZf1QJ/5LEPpfXvu/+uUMXfeWngHNaY0rANZZwU6FO+HFQoEpqQQ6gV8f+Bp9NvWxmmvDh+s3rqPQRI+++MKGC+NkhkHJMUqPMUwAXHd2XTDLy3i9xOtona+1e/jmOOgiJwCYbnL8WeKrH78CJcsCAYhVv66K03/bCj9O92YqMvgCwCzCYzFesEFDChpTMMo9WM4yVSqVsRQGbhvo7kqDVP0iFNviPw2AqcJBNQ4JUlBIRTH52cHeV7DtQzjE94yFAHCwqymI9qGF5x8Aj1h9EJVXNkDecJvKMDTyKQyJtGV8JBZ2fsKSQBu9xi4sYIxqVRQL9pyy/pOoGb4Fo5K53LgAXLpxF+4L+we4Jx3w11mvPudElUGDvouBiQ2Aw55sTLRHSz3fl9YD388Bvm5j0zhazvDQIXytBQHAm0cBS3rYrRqOBgrZFdqO8V+C0P/y2kH8PoWahmZAZkBr1e5otQNJ4yA9py2EtWFCfM325B8m48OtH7q729V6FyLCI6xMY7HJHnoBucHkCMc21p5Yi/+tsPWoWXzFIiwJnY19rfhraJPfkyw49885VJpRyWpKQwpqCG86tcn+W1t1FMo+aNPSdp3ZhdaLbeDsi9Kgx15xekWcv3Le+sipIOxa1DUUnezhXGsArMGxqWgR6PzoFw9f5+gMty6a+6j8R6iV01X3EegFAdScVRO//mknZqjDzLmU6LSik0XpYMSV7x3EkBDCIb5nKwSAg1lJQbYNLTwAe2Z4OLNGBviT5QdQZ20DPBRu/8EYE1kb/SPtammJYtnToEDm+zBhk529YIxrWwLTtx73kkFrFfEt+iUd525z5UZSpAi7BqTP520VzG2vqPJo3Hc+8NXTwM8eSaJojzftQ8DL24BdU4E5HYBkKYEWM4DxvkXkrT4EAO/8CphrF7+g1TdAHg+9I9q11n9iZ4vJOc5p23fetAgB4Js21TfrQrMOzLIkqHo93gspkqS4WZe9adfRJgsxUQfIQ+23uR+aPtIU1XPYcmQ69LZ4m3xt8FoJwx0xjnf1xd4vMHTHUHcv4j7GorvHp3iyqxNqTohTEd7KX1aiyyp7lynbvdmw8KmF7mvqzOQrxV7BswVsrjBDZ8DvTXqvpfrAAjLGZ1U+Q/ks9t8jZn8/2PKB9e8ZdWd4WTo7TVGF6RXw+xW7DmNu/bnIldqba0vL5ZJflXSfqgGwVmso+EBBfFXHo2kc6OPQ4/V1Di2o6+ex6zt0EeGAcgNQN5dnNzLQa2oAbNJHWixsgb3nbLoO+d7cDWBWOqEjhEN8z3AIACfg6gstPALgr4FvnrNn+dmlQDbPH/w3v9mD53Y1Qe5wO5M7LrIG3ov0ZCb42UPpU+LnM8qogX+InyuFcRuOYPmPZ6zzkkaEoTUW4Z2kk6I/TfJ4j67z+nxqZCU07zcHmNIMOLDY9wpIlRXoshvoc7+nTftvgbG2vabPcANg5RDG87J6/tg7nnv9+s1Vf5BBhABwAv4V+G+6Fv5kQmQ0/5s78r6qtpw1wdXg7YOx7bdtGFl1pMW31AVg5jY73cJeX/u6WyO32SPN8Nbj9rZ5fIVYC0t/G5pvsAwxLl65iHLTy7kvw/E+8eATsb6sLrYjj5dZWglNR+hStIvFiZXQGfCUSVOiwAMF3BSITyt/ahUaMkbsGoGRu0da/55cezIKpStkKWdQfq14xuIWNUKHzgA7KSKYLwD62WhQzuvwesHGl/u+tAr6/IXoA7ONlqvr/0R/PJnbtpUOJjQANukj+iWk8cONsfTIUgyrPMyiSSSLSBbMZYJqG8IhvqcrBICDWkrBNQ4tPAMAt10I5PD8gW83bgveOdIKOcNtntjkyCroFdk+xkme2aE0Nh06jxnL16Fo2M/48J138UnfLngj6bTo59Id7cf5Xp9PiqyK1v1mAaZKg3k26RNtFwGfqSKQ51cBY+ztQp8hAPjSSWDwo3azN44DKe6L8d7+kwYhAPyfTHtCXVQXFxVNXxQTak1IqEv9Z/2S20mOJ8OU6hLw3/LRlpaCgD+lATqF0TFMgvq41MmNzxi0dRAm/OB5BmILfPbvs6j8tUfB4uMKHztmqAMdC1UTuq+1i75oOkHzCYnKMyrj7D82FczkOWvu6z1J77EKt8QI45OKn6BKdnvn6v3v3sfUn2xzjc+rfY7SmUtDrH9NUM02GgA7qWtcunoJZad6VH80AD508RAazLXNOkxb50DnY+SukRixe4Tf5gS5BLsMbZzRp0wf66WI/Oi3H3874EytBsCaPsL+me1m1tsMzQsP9N6CaRfCIb5nKwSAg1lJQbYNLTwDABs0gCajN2Hgr88ge7idyZ0eWRE9Il0Fc37men6nJ/BQhpS48UF23BV1GajyDoYu+wFdIjy6l+7Ti7QGdnpnhplpbtdvBjCuNnDM9qp3jOT32UVvX6pt0w7rgVExZGm0m9rZ/QDf7u//7wXRfd5nCAAH+ZuduJtrbqnJBU3cIw98dCwqI8eTMbzycFTIajs1avBfLXs1DK442Co0I5Bh+Cq0kivXyVUHH5Szt/njK0i/mL7fU8QlphA688prmQ5tfI7cxqcOr+aS+hrXgsML8OY626QnbYq0WN10tbuppiPorCcbHP3jKOrNsa2RCcYIgLed3mb9rEH562tex+Kj9o4ZgTHl5/ypOGgA7CQJZmbA5dkwE0vaCGXMGLF9iSPthP34i9KZSuPz6p/ba+PsXrRYZKtjVMlWBSt+sV8ggtHz1QBY00fYD+kuzHqbQdrJxhY25SQhIoRDfM9qCAAnxIpz9RlaeNxXmgbMdlVVN58GPOIpLGjw2QYMP/MMsoSds2ZsVtQT6HbNxZn181yWdi2PRzLeCyjgNuV6dbQId+DzlnkZ2PipV2+fR9bBC/2mAGOqAL/af+i9goA16irALb3GY4EZtri8FR03AyM8NA7HYd5qdsL7ZgEznwWKtwfqDk7A34hQ1zdjBjR/khSA9c3W34zL3tRrvLPhHcw+ONu65vtPvI96uW0ApwurKmSpgOFVhqPIpCKIvB5pHY8JAAtojs+b6bW+F+Ye8kiSifkC6Rd1ZtdxX8qUJxu7dyw+2WEX9sq4CfAJTqnzmyZFGq9hzj04F7029LI+M597uWnlcPHfi9axFwq+gJeL2Pq4jMMXD6P+XJsHyyI4qi7sOGM7bw4sPxA1c9a0/t1lZResPG7rmnPOCcxFPo4SZ5Q606FBt3CGOf7FRxYje6rsyHh3Ri9TCrlHnbFnf8UzFMe4mp76jkCfDXWix38/3m/zwukKY1JtO0Gii/zuTXav5RrHCEYbWusAD6001Eujuvy08rjw74Vo40mTPA3WNlsb6G0F3S6EQ3xPWQgAB72cAj8htPCAHxZ8inzb7D/KeHo8kL+hewLrDFuHz8+3wYNhrkrhqNLofM3zhzlL2Fn8ceMeXMbdXpO++rWKyPHAPV4A2OdTqfIOQDkyFSMin0THfpPsTK6TFvBdaYB/XH+oTOvjlzYCI8v4XwS3GgDm3fx5xlbMuAlFGYH/BoVaxmYGdFU/z4+rTFhsxpDQ57yx7g0sPGwXeXG7mjzKzis7W2Dt8z12Rq9M5jIYXW00ik0qhqvXr1qfmXNhbkuz4IuZu9gGAd6QHUOQ4e4MVhaR9r/UoqUmrcSc+nOQO3Vu6G1+HjNpBNqRTcYtygZOWdFvfv4G725817oMubybWthKDtZcTC3jBnSiiSvHSAEhFYSRPCK5pUTBLCxDF4NpFQOaaTxy/yNuVQhqBbPoS4cGwCI3pgv1mjzcBDMOzHCfwns0tYF5kCC13xP90HF5R6swjZbGgcSHWz7E5B/9c4e1Y55WgdD9O+n5+rp+lRlVcOYfe0eTuw98oZLQNBR9frq70mFlE2WYFMjNBdEmhEN8T1YIAAexkIJteqcvPNoVTxj6Fvomdb2FN/wcKORxIKo2eA0m/dEGGcNssLk4qgReuvYKwnEd5cP3YGzSgTh2IwMqX6WWrqdadtOblZEp1V2BAeC6Q4AFr3g9uqGRDdGl33hgeAngnEdf2N3ovgeBSy6N4cItgV2qAvnFdcBoT+GK45q4FQFwsIs71D7RzsCpP0+h+iwPbed2BMC6CI7WvvMOzsOus7u8nolkDjXINefCBCWlMpXCF9X9b5v7e/C6EI3tqDKw/NhyrD7hoSOI3NlPv/+Ep+d7LInFrUz610oXO1vvRJLwJH75zDP2z0DfzX2t05nJ3dpqq3uoevu9XYF2eLWY7UzHoA104/m2/GSy8GQWAN5zbo/1sy4G6/BtB2w4aVPGqCTBdmI17DRvGgBPrTPVKq4z6SB6Lvls9O6FHKMzHznN63+1dzICXc/+riV968w13e+eW+YpDpQ2wdhBa9qHZM/JdebLzI+//+i4dDLdkwnLGvtRI4rjX5o7HYf4m74QAI7j4vJ3+p2+8BbuOYUd0/vi7aQuAPnkp0BRD52gwsBVmPlnG6QL+8Oaxm+jiuL5a6/h/SRj0CKJR5+3xJXPcBae7b7tvaoibYowoJ/HVc7nc2g8DpjZzuvwx9cao1v/scAnjwEXf4l+6v25gd9td7po8fKOmA00QgA4AX+rQl3HNAOa0xkeFm5pjiZ0kM9J6SxycVlIldDx8oqX3aCS2chJP05yGz3oa7fL384q3LoSdcURPGmHNDZgJpkGBrGNUbtH4bNd3hlkbSzBfsUgQXNO+bnOzJL/S3B8+A9b/5w0Fm7La+MMEwjyPlmoxiBYJmiW0C8BptQbi72aLbA1yqnkQMDJzxjMrjd8yN61IzgUi+QXC75oUSVEdi2mDLDc8+BtgzHue2c6A+9Hr10Ze5aUWZD2rrTurLToKMf0jLRboK+22plv468b8eLy6CYowbjhaaqJZM+pREFFCl/hRB+J6d6COX6n4xB/cxUCwMGspCDb3ukLb8m+U9gz9V28ntRVAFJ7EFDStupklB6wAvOvtHVbFq+OKoS213pAWxqzXeN/38G2Gx6B+H3v1UDK65eBD3PE/ERaz7bVHlR8eK0ZevQfDQx6GPjTVqDwioyPOVMj2IjgdulbwKbhzteu1AuoYFdihyI0A//FDOiMHgHNjtY2nzMho+XCllbWsGaOmhhYweO05e+adCZjVq9hnoa4m1bhQQQzj6JVS6UHWtgyoxpTmKBRa7PyXHJrZ9e3ucU6uDXP8Wa/L7tfRYBhO4ZhzN4xXudyC19np8fXHI9iGYphx+kdaLPEI/v4TL5n0L2E/bdDG33w52WNluGfqH9Qf47N1WWY96INN8IQhj1t7CwuQ9NAWj3aCj1Kugx6jOKvJGFJ8FCah9zZyndLvwtKdjHaLmkL0gQYdJKjQUWPdXY/BMP3p7jfslGm9jRDZ4Ali+pPmYH340RDIEgl3YJOdwxR0Yj2kIwP3t7wtrUu/AVf1ja3sG2ftZGIPmd01dHYeXanRQ/R8nFO/WqqiWgMk5ZCeoqvSOhC1Tsdh/h7/iEAHNNvURyO3+kLb9n3v+GHqW+iaxLXL3+N94HStlOR9Ue577dYHtkWacJsnd8NUfnR8tpb0QDwa9dexMwou8qbcbDZZSTZOAw4Y2cp/Aa1h7+s4dVkbLKWaN9zBPBBNuCKnX32iqylgOPfOXcr2d3PKwEnDWBBmbfsZUM82pieSeh4gs6AlnNKaIkluRF/UmO+blbOIcAi0Aom2i1p51YqoLUvaQZSuOWvH9OB6/llz7s1b3keObtUaTBDgC0NJLj97ysGbh2IiT9M9DpM61u9/S0SYltObUH7ZR7ZR61BbBaCUYmAVroCOE2AywtO+H4CBm0b5L62zpQWmVgEkTfsQsDmeZujZ6mennbK4S0iLMJ6Cdh/Yb91nBJgYnvcelFrN5Bv9FAjPPbAY+i9qXe0qRCVCw2AxRVt3L5xoE6zU/BFbdUvq9BtTTevwywSK5mpJJYeXWp9/s2T31ggPaagIgaVMfwFd0g4TzSk4LU7r+ocrTm1tOWlJiZFiFJflcLfkX9bfVBOj7J6MQFx3gvvKaHiTsch/uY1BIATatUBd7wF4fIfTuPAlNfQMYnLkrPKu0A5D/fssXeXYj3aIlWY/Qfju+t50fTqO/g+eTvcE/b/xaGmAAAgAElEQVSv+8kMvtYYw6LsIg3GkQffRdh5j3an30fYfjmwsg9wxFNl+2+ZV5G8+rtAvwxApL016hW5KgKHPZw9r2MCgEeXB065tpar9weYNc7lAekJuKxCXYdmwO8M6CxaQkssyUDiAoBjQ9NouailZcDA6FasmwVihZ/qb3K4/X/s8jFL3ovmA6JjK+dI8di169esgiwxKAj0/px4pznuy4Gjl466hyXyWMxokucrQVDZu4wNKE0ATCOI3Wd2Y+A2T3bdBPNaNYJ9bG+13T3+ghMK4gZuWH3TEU+ytPxZZ6L5LHKlyoWDFw9abQmUCZgZzRc0x77z+6x/18tVD/kfyO92htNzPrfBXKsPDYAl622CdH0eaR6Ljixy0zjkGNcwHfxm/TzL+sg0mPD1vM3iQ1/txJnP5G9Le0rjScEliypZXOkrSkwu4abbyMuD1qx2Oo/Z8+l1PTJ5fn+5Y3EwBIB9T1oIAMdiQQV6yp2+8Fb9dAYHJ3fB80lc8jgV3wQqvuGevod7Lcb2iHa4N8wWB99xPQ+eutoHG5K/7FaGkMaD0ryN4adsUwmTIuH3edC4ImNBW+5MMsGlOwE1+gNbxgCLHGxPH6kN7PeW9ME96YGaA4DH7O1AfFYKOOvacu34HZDeQ9EIdH2E2oVmICFmgNQAKU5KnTw11jXzdkJMiGsGChD1teUcZh13PeNdwBbTGJvMb+LOqnYt2tUyMVj+y/KYTnMfJ22CRhla2UAObmu1DY3nNbY0Wxc0XGDRMwK9P6ftbi2pxWuIuQR1bl9e6VG9Iah8v5zN4TUBMIEXOcPDd3moVwLcZNyjd4/2Ok67XY7dVFYwM+5bf9uKZ5d6rJFzp8qNQ3/YNRA9SvRAq3y2Pb2e81o5auHh+x/2sniWcUiGVgNg4dFSoePTnd6ylHLe0kZLLarA6D2jvZ4jdzGo/iC6z9RpJiiNKXShpL+2a5uutSTltJGIbq8BsNacdupTS+7Jy0NMmei48s5jmoc7HYf4m58QAI5p9cTh+J2+8NYeOIsjE19CmyT2luLq9K2xPc/L6Fb9EeuPcs43F+GH5O1wtyvbu/d6DtS7+j62Ju+AdGGXos38xiY78WCGDMj+aebAn8qLa4FMhQDtylbiOaDOx1TNB37dAazqBxxSMjQFGgP7DFONt88DEUk81/0oF/C3Ld+GHkcBSqeFIjQDiWAGNLAiL3NN0zUJPqpAAaIeiJxjFmwFMlhtb0xNW9IDZIs8kPOFyqCL6eQ8Zmj/t8KmaonGcKD3p+XZfI1D1AHMjGONHDUwqIJNYTAB8JCKQyyQP3bfWHe3YqksH5j8YzlODWQCMwnT7Y7Zc1JBJHTG+rXir6FNfpunrOec8l7krorknL5X0fzVAJjKGlSKMG2h9XkEzlN+moKZB7z/9pLHXitnLbfzn85K+3vWfLkQMw2zHUG1uLIReGdOmdmiS4iRiG6vATCfQ9XsVX1eVpuuyMtDj7U9rMy2r4it0Ucg65xt7nQc4m+eQgA40FUUi3Z3+sJb//M5HJ/wHJq7FB3GRNZG/8hWWNu9EjKmSgFmgH9K3gYpwq5Zs3vpvofR7VxdjEnmw4yhyUQgX/3A5M/keXXYAGQsAFy5BHyQ1f60SCugvqrUptHFDx6hehRrC2w3BNRNZQftnvbuxRDvNxa/H6FTEmYGlh1d5uZR3iwjjEABor5jOSemQr3z/5y3eLVUGnjiQduFsc43dfDLZVvBpWPhjvjh/A8+wY7TLAsAprbsul+9M+QEvT3X2xxZATGB3l8gWUeRFlt0eJGb08trVcpaCcMqD3PUwmVBFe+RAFFiVZNVYIGYhGn8wBcfvgBpZ0C2rZ+7vqWrK2GqH2S7N5t7bimXRtk0hlbMqJi1ItjO5DuznSg+aAAsvGd/KhAslKNawqrjHgUg9ke+M18OREvZtHL29Vtk0lt0O+o0n/7bLoAWXWZtJKLbEuzzZYXxYbkPUTtXbcdLmpl2eXnQDnpOJ5bKWApf1Ii99F5Mf0XudBzib35CADim1ROH43f6wmMG+OyktmgUYes3Toyshnci2+HLtsVRMmdaFHh3KQ4kb41kYVH2LD/wsJcub+SNcCQJsy1MrajYEyj/GtDn/sCfCp3b0j8KXL8O9HFlaZnhpcObxNftgO9VEQId0bap42znDwCHZM8Cfx6hlgk+A/MPzXcDuITgAFNtgUClfYH2VnU+I1CAqG9ezqH27PbWtroA48zfZyzFgbKZy+Ktx9+CuGvpArVqM6vht79+s9pTkmvvub1uVYhAJphj71qsK7S2rZz3Vqm30P+7/u5uNjXfhNJTS7t/9qVDS+kwgh0B5r7G0bt0bzR6uBFMwFX2wbIYVXUUyD8uOqmo1+l0ieO8i/sdD1IZIlPKTO52lECjFJrEyqdXIt3d6UAd2rJTy7o/J52AEl0S606sQ8cVHgdOKjn8+qetg67NOej6dvzycetzvohkviezl5GF9Cd0Bw2AqaRQ5sEyFmeY9s5OwXsfsXuEm9ud/q70blMJuvqtOeHZyRCQ7e9Zv7DsBWw65TED0W1pgCGFfhNqTkDRDEUx68Asx6I+cn5FcUTLwpnXNjPtLJbki9Zra17zuzvBdT6q2qhAlm2s2tzpOMTfpIUAcKyWVGAn3ekLb9X+M/hrcmvUjbBlZqZHVkSPyBfQtepDaFoiK0oPWImDyVt5QG6anMCFI+7JPX/jXqQNs+0orSjb1QbAA7IE9gDY6n9bgXQP2+0la9tsKpBXvcXPeg7Y+7WnzxLPA1u9pYxCADjwKQ+1/G9nQH+R353kbnzX0oeiSSyHKcBVqte1/TC7DNSoQPoxTRu0dTD7cgLXGlxRmmrnmZ1uia5Abks0d00VCJ7LorqPt9N8x46Pyn+E19e+7v7Z6f4OXjiIhvO85RZ9jUO28E3AVTJjSYytMRZ/X/sbpaaU8jqdmVhmgLWjHPnJlGWT6L2xt7tQjJ+JGoNpjEI6Ae9JwuQia+Cps601ZtbAyb9OWqdR25gOZvMPz492myOqjEC5LOW8iuBGVh1pgeY+m/q4ubzmiSxMHLpjqPUCwewp15dw2Z3mMqZ1Rl4z+c1OUTFLRUs1hC8HUqymjUT0OYXSFXJrEGtOtNnvv1H/ovjk4u6POxfpjOcLPo+YdgXEsjuQdRubNnc6DvE3ZyEAHJsVFeA5d9zCO7YJuBEF5LC3KVf8eBrXprREzQj7j9CSqBLocM2WEEqeJBz/Rl73Lmi7Lwtw6YR7dg9fz4hc4XaWx4pSHYBy3YBBMUvguM+hcUXa3PaP5w8Bvx8G8lT1pix88yKwZ5rnOiVfALbYdqruMLO8awba3GGTThHg2gg1C81AQs2ANkSgdimLuuIroq5HofCkwu7uCEL++PcPPDHN/p1nxARMpJ0AW1OqTQOGPc/sQcGJBd19iyOaNnbgFv2237ZZWeBAg9JWnYt2toq/TJD0QsEXvLitBGZamsvp/ijtRYmvQEK2xqf9NM0r00y94Em1J0WbT/ZJmsf35773yoKacmBmsdWipxaBJgva6ph9aa4xf17xywp0XdXVPXTSZvhMGS8Vesm6NkPb/NJlj4VjQg3Q9y08Wf2SIsoX/hQRmF2liQipCTQ3yZU6l1dxnjm3Ma2zZxY/Y70YOQX1qn+/8ju2/LYFtGR+u/TbmPLjFAzY4smMO53nj35hvrhw3jh/nFvOsa+gZfYnlT4JZOnEqs0dh0OCmKUQAA5isoJtekctvMu/AR/b26HovBO4PxeWfv8bwqc1R7UIWy9XZM4883gDR1O09PyYMoOXMcWu67lQONx2QrKCSgz1hgLTbFmegKLLbiBNDIYZczp62x0TaFPWbK5HszhaBpiUitN7gfT5gIikAQ0l1Cg0AzdjBrTUVGwKzPyNkc5kYsbArfIljZbg5J8nUWOWR2s7JmDC/jVf0gTAumhoR6sdKDrZQwfY2Hyj5TSnHdFoIMGtbgK9QEMywKbhBM+n7JemElC1oetqD0B0ur9uq7th2bHA7GyFVjDph0n4aKsnEytyWGf/PovKX1f2uhVSNgjwCdgkCJxYUJfU9ffHzDTObzAfOVLlwC6l88tzyWkdXNFTZ2EW4+kCMb4MsMiQoQEtwTrVLUz+NNuJA1r5aeVx4V/b5l7UE/zxYZld/WLvFzh/5TxIEyEAJoj1FTGtM9PkRPdDHjTvc9r+aVY2m9Jq5vNwuq5pI63bmDbOpOZ0KtIJnVd2jsZr1ueZLySBruFA291ROCTQSXG1CwHgICcsmOZ31MI7thEYV8uenkZjLbmwxXtPIfmMZqgcYUscHbj+IKpf9ehYRiAKh1K09kzpXfcD//zu/nlt1GMoHxFAVifZvcBVRZXQD6nrPiC1q/jN18Mj0N052XP08Y625NncTsDOSUDeukCz2NujBrNmQm1DMxDoDJz75xyoO8stVLGr5bkEEdxKZsRGY9ff9bXEmlSv6+1/J4MGp/40X1K7cbGtzhIS8NJdS2J54+VImSwlHp/yuPszOpsRiNGpLdCgkxkNNLS5g5xLOTK9tf9p5U+95MqcgJfWyPU1BtJRaJLQsVBHvFT4JYtHTZtcCXGhM18oeJySbZRBo9ueDuGZ8jNT0k1MG+i2x4IwicpZK2NoZXt9MEiroGauBN3gxDRD2zOTR0zKAIMucHwOVJAwQzjO3BWQTPKwSsNQKVsldFnZBSuPK8UddTIpAxN+mGCdw6I/qkxQ79lXxASAtWyb2Qe1kFkgOHL3SMvFjjq8/kw65HytocyM/F1J77I0jxnmTggdDvuU7QMnpRE9HqpMUNotoeKOwiFBTmIIAAc5YcE0v6MW3q/bgTGurEX9EUCRlliw5yTu/bopKkTYf7TP3kiFEv+OdE9hMlzDgRQeK1AYQHZB1ONu/rDPeY9IBiS7B/jHzjREi1d/BO6LQTZtXmdgxwTPqY//D6j5PnA9ypZJYzY4aYpgHn2obWgGEnwGRuwaYX2BM7QmrKm1ShoBna7iGlcir2DxkcV4Z+M7VldSva6d5wiedj7jvO2sr6+3i8V8Qo5rLiuVDirNqOQ+dV6DeVYGuMrXVdyf0UFt9YnV7qK4QO5TtHDFwlmfQ4UDLZ8VCADWCgm+rp/pnkw49dcpqzCKwNXU7SWfl7zeo38cRb059by6oUnG7rO73QYVcpAFWtQIZph85pn1ZlpFiibANTmnNHmgfJtTtMvfDq8Wt82L+NJBbWRG3vvzgs9t2+no9BrRWNa2wNziZ8banzIDaSlUueA1qLbA7HXTBU19Ps6YAPBT857yuStAQxQWELIoT3Yy9Iujr4tKAaHeCaGVMtck1UoqzqjoPpUZZr7AdVnVxbJZ9hUN8jRA37J9A1m2sWpzR+GQIGcoBICDnLBgmt+2C2/1hzZVofYgIDzcnpLT3wMjXZmawq2AEs9i7tmMSDvraTwRYVsWX7sRgYf+pU2o/WWcHFexP0Vbz5QmSeHlzDYlsjJaJHHOFrhPSnoPcM8DwEUf2Z9uB4B7M/h/bAteAbZ96WlDnnEV+0s+FKEZCGQGqClKviG5keIeFsh5cWmjJaWEY8n+CIoJjiWENxuXa83+ebZVIU9jDXInGZIB1s5zMUmayRh0toxb6QQKEv0397e2phmkWNScVdN9zCxI4wFyOGmCIeMK5D4FyBBgsbhMR7EMxbwK6kgXIL1Awgl41Ztdz8vtzWkMzJrSSU2yiOS7jtrtqf4nQF7WeJmladxoXiOvLjheri9RZ5CDsn3Pn006x7S605A/bf5o6gYsRmNRmoRWDTHHTXpJ9xJ2dpgFXiz0YjBbTdBHUG6GZKVLTymNP6/ZNvfCC26/tL1F46D5SRTrRVQwk0+zC16DvGsCYHMedPuYALC/lxLSE/jCQbk7eQHjs+Az8RdVs1XFkEpDLCULgmeGyKg5UVcIjqkCwSy8r4iNFXgga1za3LY4JJhJ8NE2BIDjYRJ9dXFbLrzfjwDDXEUwLWYAD7u4f2d+BEZ4tiU5J4uqrUSaJZ1QOsLzBVPgyhf4E3dbU3Y3ruCHFB4HIoRF2EV0rhgVWQ8dkkSvMvaa7xSpgaKtgY3O7kLofhi4J63/p7zwNW/Vh9ePAHcHIbWWgGso1PWtMQOytavtbBN65JrrK9vOvKYJrLQlbmzHZBozsJ/HHngMU+pMsSSipFrflDTzdT3SNySze1+y+0DTBokPt3yIyT/alKS59eei/tz6fofNOWdmmvSCQEOAzNPzn7bkxXRoiSx+TmAm4+HPAryofiH8W18AWJtKlM9S3soECvj+ZPsnXsYWaVOkxeqmq0E5tWYLmnmNieOlaoEJ8mkuQZMJhknDoH0yFQxM+2GdNeZ5cw7Owdsb3nacOt57j5I9rGNFJhZxUyMIHgkcOVYzhOJR6qtS7mdCQEs7Y6GcpEmexs0PlvP5HDkWAuOhlYaCc+fv2ccEgLVWtDnG/xX+n/VyIPJvO1rvsAof9QuJ04SIVJ0umBOqCWX5KM+ngy5zLE70Z9PNHQzK/SVU3JY4JJ4mKwSA42kinbq5LRee5vo2/Bwo5Nqi0hlg12SsKzECyb4bhlLhni+YJ/4dihM30lktUuJv7EvxnM8n8OG1ZuiRVKkzOLW8Jx3AQrelPYFcleyCt88reFoG4tK2uAfwnSsT03gcUOCpBFwVoa5vxxmIjQ5uXOdh7N6x+GSHXT0uUk78t+kIJpa4cbmeEwDmNvjX9b626AJi6RtoBlhLc5lmHVpRYUrtKWixqIXfoXMLecGhBW5wFsh9ivaq0za51sF16ou0jBXHVuCDrR+AygX1cteDLwBMBQ5ugedJlQeXr122rH7F8GLg1oFeRhKSCe+wvAM2/Op5IeAYmLVlpl3cy2Rc2kTBvBfZFaD1sHZs06CZ/XBMtHB2CgFnpskD54gZYGarzRCKR4nJJXAl6op1eGCFgaDygvBytdmGnE975cVHF1s/cuwEwHVm+7Y8jonao2XbzDFSzaF05tJujjFNQ1gERxoE1+P4GuMdZe1k10PrR4saB7PzereC1yRnvdeGXo5caRmTfskIZO0G2+a2xCHBToKP9iEAHE8T6dTNbbnw9i8BprpAb/NpwCOuwrdTe4DR5bymYW3xz3DPlk9QLNxTnb2s/Cy8sMzeRrsPf2JPihd8PoG3rj2L/kkVNcGpJSXNWs3yPqJd2t44DqS4z/9TXtIT2Oza+mo2Bcgbs898Ai6bUNe34AxogEhrVW5nB8u7pVQSt6NZDa8NDnxNh+aQCu+Sbc3MIo0cWLAUbPxy6ReM/368tWVP7ubZf856dZE7VW7MaTDHEvnnNq8EjRDoENalSBfkSZPH8bLsW8ANaRXrmnnc2DSAZ3W+tul16qx2ztrRrGal4MzXPRdMV9ByLGswpwEO/XHIqxmBKCv6fQVBELOxEsxE+so26iwlFR8IsgS0msYVkj3Xa4lZdqo/kFpDAHwDN7yGJdrB/LDu7LpehYCiAf3csufw3SmPFjT7GlfTI9lG2gH1eZ1CJMJMk4f0d6e3MsDkwpohgK7YpGK4ev2qdZjUFeoPi50y53/PWe+CPmZXBfiT10wArNVFiqQv4iVrRoUQycA7jV3LtpnHqWxB9QXOGaN78e7grsS478eBFJjxNcdbpiYCyOV8Fsxxt6XJgibuLmc9OQsPp3kYek3LQUrR8eXClx4x25nW1MH+nsbU/rbEITHddIDHQwA4wImKTbPbcuHtmQF84/KNJ/AkAGWc3OWdeQWwuthwpN46BIXDPV8wN9otRu5RF3D9BpA77FesSO6pPo72R+pqJ3yabLjvqc9TDXhyWPQit96pKbRkn9fzpF0k5y+WvgVscl2n+XTgEQ/nMDbPPXTOnTcDZob0ydxPgpa3wYT0EagzlC6C4xf4M/ltySjTbnZ9s/VWVivY0FkuJ8BCjVl+wfvikNKml9lSpzh08RAazG1gHeJ2+NpmniIhzWFm8ZTWqHXqyyxaY5tH73/UkvsatnOY4/XpkEfaBXmiRy8dDXZqvNoT5IpbndmRBsBCTeHWO/m57216DzMPzASl6ggwGeRrF5lUxN0Ns6lUi6AphJPMG+2h+cLB0O540gG39klFoLucGFyI3rC0MfWI9T0Ipcc0eaCCAgGwk+udZI15H3JfVDmg2oG4yZGCQOMJ/VKl1xjviVniqjNd3y/kIGcobtFRRJJO72yQfjDguwGon6c+Kmezi7G1bJv5XAiAqQRCPWlG6UylrZc16wXFRStxMiSxlCnytkS/7zxW0twF4W6ILoyT65HCw6JRJ660tDFl6eK0GB1Ovi1xSDxN0m0NgA8ePIhBgwZh8+bN2LdvH/LmzWv9P6bIkSMHjh2LXlT1zz//IEWKwNUAbsuFt2UMsMiV7dFgkWoJYzzV2pzjlUWG4YHtQ1Aw3OPuxs8bRb2PX66lxtYUHvtNp2fS5moPTEj2ofPjergW0MIHPaJPWsD1hYK3Tses4LCou8f4otU3QB5PhXlMayV0PDQDnAEnigC3VQkUAg3pQ7igMZ2nM6VaDsvcWmc2jXJplNLif4FGwQkF3RlH7YYl54s1MUEcwZxT+OJp/nj+R3cWjXPEuZIYs2eMG7jyJYKyaP6CGdXvfvN2u+N4CSwGbRvk89QsKbNYGUpaL8cleI++wJa+f+HiMrM5v+F8i3dLzitfFJh9ZJjZZUqDEcTTdc3MwLO9ZCv5b6cx0A5ZNIWFg8yXgxn1ZljXM+ky5jyQXvJemfcs6oWWniNvmxQIqlqYIUVdhScWdhe6vf/E+xZVpOrXVS2jC1J2auasifUn1lv82HmH5llyYpJRnlhrogWAtaoCgSmBs2gD6xe7xvMau62NZc61bJs5RnFpo/wbVTI4J8wwU4VCv4A+t/Q5r7XFnR1Kw/Xd7FFtmFpnKgo8UABOboAEx+9seAc//v6jzyWmaSxxWYe+zr0tcUg8TdRtDYDnzp2LTp06oVSpUjhw4ACuX78eMAAuUaIEunXr5jXN7CeYbc3bcuGt+QhY5cpsNZ0MPOqS6zmxDfjCGzguLzwUmXcMRr5w75eJo8iEGdfK4fWk9h9hKwwTjDMFnkPH7ZkxM7nz1px1XV7fKfqmB1zVynj7PBCRxP+vy7jawDEX5+6V74FUQVgtx9MvYqibW3sGnADwskbLAqIy8M6v37juNnfgF//CpxbGOCHUkGV2kCFf6Py3LiLjz7QaFi5mTIVD+qLUYJVtaoIdkcCSNgLUdUW8OWhf12O/ovFqAn5N7aBtMKkC/qLgAwWj6eOSGkAA3P+74LLwMU66QwPeY5kpZSyOr7/7F6oBwezKJist6TFKkFFR4eDFg46XZmZ/4LaB0Nq8uqFwUvmZlimTNpRCazy/sfUj6QwzDsyAUFd0IaKv+6Zk2onLJyw1BwJXCdIruCacQLno3+oXKOr6MjsrIJ3cadGuFtk+DfLJ/c52XzYvh0ECUwJg4YSvbrIaae+yC5ydOPi6CM+8PzEjkex3hrszWHranB++KJCDbP1eGSYWpOswe6wBMME6wfP+3/e751quR5oNbbRN9Q49Hv1CEpv1F9M5tyUOiemmAzx+WwNgAt5wl0xX27ZtsW3btoABcN26dTF8uJ/t9wAm+LZceL4Kxo5vAcZ6V8AuzD8YufcOQd7w49Fma2jkU+iS5BvP52lyAhc8meLjtSfhpdnHsCB5L+9zn3jFNq14Zi6QIb/zU+ifCbjmqgh/96K37bHTGaPKAb+5+GiBtA/g2Yea3Fkz4ASAxYrWaSaoBjB9/3SL78sv+gtXLqD89PJW00C/EHWmVyrveb7JLdXXDwYAO9kE675EvcGfgQD1XMfuG4t3S78LbnFLaOk0kyoxctdIjNhty7gRqIiph68V5QQgySetkb2GW7M4IVcjVTYo+SV8V16LhiDkvTLLKbHo8CL0WNcDws0V9zhTdk2PlZlSDbbM+yDwIgBjCOWA9tekLJDm8XHFj/HCt3adhWSTmfle3GgxTv912otiEMwcka98d9K7cfHfi9FOo5EIM/fawloAr4B0rovauWpb5078fqIF8vWL2oy6M6zfC511JjBl8Zrwb1lgluGeDLgadRXFJhdzj0PWuOYgm4MUO2rhr7N4kxlqXaTIc0zrZo7x9ZKve3GmSdcgFYVyeqZu8bga4ywQ7fRyJGMSA5Rg5j+YtrclDglmAvy0va0BsL7vEACOpxUzvwuwfbzd2VNjgIKuYoBjm4Bx3tzZqbk+QPGDn+Kh8F+9Ln4yLD3mXiuFl7TEWfr8wBmPpM5v9aej1YxjWJ78dc+55bsDlQ1A7HRbA7IC/9qORdEsjJ3aH1kLTGkK0AGuirMcUDzNXqibmzwD606ss6SauG1JrmVChRMApmkDOYNOIe257Tu3wVwcvnjYLfmks3r+xksdUmZfGdqylnQHgmunCAYAm9u/Zn9iYRyIfiqLplY8vcLdxaaTm9zATDKicnD4zuEYvcc2d+BzY2W+v8h8T2ac/OukVxO6nVF2y5fBQ3yug28bfxtN/oq6xiym08GXnv+tsO3VyfWltvCq46vAsTq5ozFT++xjz/qlgJBPTFk1auuyLwaLqgjkCFJpsEDQzWdF0EcwTS7wiiYrrKykqVoQ6LzQYZBAXnR+9XksdhvwxAAUnuSSywQsGgXHVXRSUYuPLLrAPM+pCI/KCgTA1B6W4Dwx+9pwXkPrI2pEU41i1S+r0HlVZ3c7WeOagiEHySMmbYOZcRaGsjiNL3oMeQ6akyuFi/r+zJeS0VVHo8yDZSynPlOxhPJ11Kj2FfybNLb6WBTN4LH7DvQZBNouBIB9z1QIADvMDTnAf/zxB/7++28kTZoU5cuXx4cffojHHnss0DVntbstF96c/wG7XNSD+p8BRVrZc3J0AzDefqOX6BT5Kl4Nn4Jc4b95ff5D+CPYezUTmiZZ7fk8SwngxFb3z+efno36k49hffKu9mfp8wEdNwU2/x9kB664MhO9/3nYEDoAACAASURBVAjsnKjImKkSgfUUapWIZkCApmV7m0/ZbsfjGE2JKOla9EGdLmVu2W77bRvaLW1nNS33YDmMqOoxsvA1VA10RXqKbaW4yum8YACw6Sxm9scvbwK5mHikcp6+tgaDAsikne6PChS+wLy057a0mYmk5Bar/F9Z/UpAT5rgh/ez7NiygNrrRnzOAsqc7lU+o3Vus4W2vi9fBqgOQIMEAazmhakucOSPI14KG2xDMCtyaJo3K+e3zd/WUu9gCIWCLwkdC3e0JLlEdcPJcS6Ym2fWlGDWjOrZq+OD8h9YYFeCOwC8z0ITC1kfaeMWJyc6vjySCqRBNIEps9jikje/wXyLv91+WXv3dWRXwtfvJKXTqKRBAM/QxZhSaCgUDh433fr4GXdtPtzqqU2Re9l1ZhdaLw78bwy54LRgZiY9IeO2xCHxNGEhAOwwkZ07d7Z4w9myZcPhw4fRv39/nD59Gjt37kSuXLbvt1NcunQJ/E/i1KlTKFmyJI4fP44sWW4TXuk3LwJ7XMVndT8Bittf2mAWdYK3fefLVzvhtSQzkD3cu8jkSEQOHL2aCpUilItQzvJ2H6643HIhKo895imUS/sQ8HJ0203HB/FRbuBvu6gkoAxwPP0yhbpJfDMgQDNQUBnsHYgzls5USR9SHe7UpwmAlx1dhm5r7JoD0YmNaSzaMpjWrq+VsItTCayYAXQKglDqwlK/dVCFQeB2ua+IKQPM83Y/sxsfb/vYS8/WqT/JFsuxlb+stPRxGWYRnOY2++PHSl/MdGr6AT+nCgdBsBgd8DNyhQlyZv1syCYCVqaUhXksggo2JtWaFA34OL1oEKyJhfO0OtMwZMcQS57MNNqQ65NCQwAsWWP5nNl0KdxjISIVEHQI1YGf8aWPygZ0oWuTvw26r+1uAegtLbdYqhLUDo7v4MsEdX81LYFZU3KA5feE8nZ0sWPo3QB976RqaBoFdYI7F+2MWt/Y0pt88Rizd4yXBJ7cm6laIf2az0U7EgrPWuvyTv9pupfiA/sxaTmfVPwEVbJXsWTq2i5RzqY+Jpbnk3s8vMpwSz0ioSMEgH3PcAgAB7D6CGSpINGyZUuMGOE7M9O7d2+89170aujbCgDPfBbY5/oCoRVySZck2uHVwERvx6ZXr3bAq0lnIkvYOa8itzPh6XEsMjVKhCsRdao6HLBF0BlX2i5HiVFHsVeMMsgR7rIrgKcFYNDDtlUzI9AMcGA9h1rdQjMQdT3KnUHS1fLxdQuUcSLftlORTo48VYKc/A8489RNAKy/aE0ZtEtXL1nb4Py8WV6PQ5ioCPB+qO5ALWBGr/W9MPfQXMfbpHRUqSmlrGNvlXrLqz/zBNNa16lD8l+5TRxTllYUI6QPDfhNJzgCaslgxvZZUYmAgElnB8WNzImuQpUCAkLqwAYbo6qOAs0rdDgBYEqCERSy4PHTyp9a90jQ1K5AO5BHbQYl5JihpI6vBDmoBJIy3056x3yuUvzHrOm3x761dhU4J3zpoA3xrmd2OXJWg713p/YsJuPLVYmvSrgP9yrVC7Vy1QKVGRhSOMZ/6yysnEBaCdeMllIj1aNr0a5u3jJfMBcdWeQ1d8zs8qXs/D/nvRQkpF/zuTBTTJ6xdhF8qdBLVracseTIEuulQQdtlIWiw88Hlh9ocb01ncLJ6tnXGOJjzv31EQLAvmcnBIADXH116tTBuXPn8N133nI7+vQ7IgM8vTXw4zz7tmsMAEq7pMwOrQQm2dwsidevPY9XksxCprDfgbpDgKt/Act64c+wlPglKq23OkSBRh5gzar4F9bi4WFHcTCFrW2KVNmAV/YG9rQ+fhS47OIEhgBwYHN2G7a6EnnF/SUcaGFZMNPgBKT0+cwMFk7v4UHqYyYA1tq35MSSFywcUl3Upr/Ae67rifmHbatwUgV6PW7z4/Xn5v1Q11UyoFIJ7+ueWy5sGU1dwWy7ucVmS3Vi9sHZfqeORgHc0pegdTGr4xlSFCbHnHiXwTwXtm2Rt4VlvKC3pKkpXCVbFejMufTLoixKcGlgE+g1Cfa0EQjP80U1qTyjsqWcwIwoX1KohvH8Y89bmUwzaGBCdQh9D9RMZgFbo3mNfCoL8F7I+2WQI0wOfP3c9a35EKBO6go/b7XIRWEL9GYd2pkKFXxRG1xxsPtFy1qTpXpaqhxif61fDnUWVron+GdxpHaToyQbAbBIo1EpgpQV82WJ93byz5OOLnJOz0XMOeTaUiDHn01+MT/TFBP+LBJvNPGQ+eVLHV9cnSIYGlIcHov71BAA9j2LIQAc4AqrXbs2zp8/7xcAm13dlgtvanNg/yL7Vqv1Acra25g/rJ2FfCvtYgKJXtfaoXOS2UgfdhGoNwy4Oy0wvSWiEI7j19MhR7hHVsfiElPdQeKlTcgx5AiOpnDZoN6bGejmW0vR68JDHgP++MX+KASAA1zh8duMmRVuzQbiaBa/V/b0xi8gyTjxU277cos0viImAEw3KWaencIEwP0398e0/R5da/JR1zZda4Fg7eSlvzy1U5UYFvBaBJYEmDGFtk92aiu2tf76Wdd0HQZsGRDNic08R2yT5XNtniEOaHJMF/fFdA++jhOk0CFOO3Yx60rTDCeDA27ZH7903KdxhlyHGUZmcHWwwMu0EvYFcqgSQLWADoU6YM3xNZY+LLONtJPm5zoI5JgdFRkzHmNRJfmxmkNtzsHIqiMt5z4G6SW/X/kd7fK3Q7ks5dwFX9wJ4PWEd+5vnvnySJUDcmcJYkWHV84xwR71eodWGuql4EA6CnnLa07Yes9iH8x/828Fs8VCJ+JnXFepU6S21DWk0I5rnHrXT0x7wupDy6ZRdUNc8pwoKTJWp+fSaUUn97jYTgr2+G+neRY5OelTFC4ELHMspKlo2ThpSxrOV3XswtWbFbclDomnyQsB4AAm8uTJk3j00UfRunXroKTRbreFF3X9Bi6PbYjUv7rcnajIQGUGvhX37IfxyQZ6fzFca43/JZmLB8IuASyYS5UVmPik1ebSjbtwX9g/nvYlXwS22JXfVnTahhyDDngA8D3pge4eS2W/j21oIeCCy90pBIADWOHx34TSVazeZ+aned7m8X+BAHo0t0H1F5vT6cxEBeOYFhMA/qL6F5arlBlmgQ4zfb039bYshXVQm3T508uhubh09mLxEYMqAtzeZjA7Rh4rg9lIsy+n+x1QboClIOArzMyYUzsaLTBDzUp3AVtO7bLflx0LGi5wH5r982y3RBkBA7etRWPdfBkI4FFHa0JVjDo567iVNdiAVAXKozHMAj9mLJk11MYZzJiaLxKPpHnEbbggF5VCM/5MbdwRVUb4rOp/ecXLWH1iNQjmdp7ZaWWdCer4M19cNp7caHXLZ8xnbRaqMYPNTLbebjdvnplRU43g1WKvWmOSjC+L8AiuRSLN3xwTzIq72k+//4Sn5z/t1dxU4aDSwtDKQ71ePs3+uRa4JiRqzaqFE3+ecP8s9t3lppVzFzhyl4P3IRQe3Sdd6QQoazk187pOANiUDWRGnwWUDEqs8UWQxX7iemeuC3mRFEk18uoJgI9ftuU/+fJH/WKafXCt3OykwO2GQ2Lz98DXObc1AKaKw6JFdrbys88+w6FDhzB48GDr5woVKiBdunSoUqWK5fpG1zjG1KlTsXDhQtSqVQuZM2e2iuAGDBiA33//Hdu3b0fOnM6yRk4TfLstvOErf0bBVe1QPsJFRajwBlDpTevW2/fsg7HJPvaahvevNUfHJPOQOuwvoOFo4IGHgDG2TWW0KNsV2PCJ5+POu5Djox88APiuNECPAC1LPy0GnHcJy4cAcHz+vQi4Lydh+oBPjqeGzEDTHlbizZJvosWjrh0F4xry5UXZLVIDYgptXOGrrcgjmcdN3VJ+KTIzRikrM3a13mWBFDkmwIDtuqzs4iWfRQ4wucAaGPu7D2q1sljMV9SbXS9Gm+CljZZaLnPrfl1nGSwc+sNje677NbV+TekrUikIHhl9N/W1DAniEtSLpfWuFEyxL01JeXnly1bWVYIgj4Vl2jiDa4GAVDKz1NUtnbl0NKUIzQll1j5NijQ+hy4KHeTkkt5ASS55SdSGIsKLNtewrM995/ah+ULnF0uCy7qzvV9saETxyP2PeIFXbt33XN/TPVYNIuVDAv4pdaYgWUQy66Njl45F69u0aabVMgu8JFPrNBmmSUzH5R2tNSSxteVWpEiSwqJMiEseaS2kJxSdHF0yTBcG6uvx5Yovh6TomBbQ0k4c+uRn/aLEz/i7zpdWUaTgs9Njld872dXgrg2VTeR3QWs1x2VNx/bc2w2HxHYenM67rQHw0aNHfQLWVatWoWLFitZ/bMf/GLRNfuONN/D999/j4sWLSJ06NSpXrow+ffrgkUceCWrub7eFl+ONhZiatB9KR7i26sp1A6q8Y83J8z3fw5hk9suFxOTIKmiVxKX9+dQXQMYCwAi78jdaVHrL4zDHg133IccHezwAOPl9wJvRDTUc+xpeEji33z4UAsBBrdlgG1Oyil8QXYu55OpcHSQGAMwMTO1vPNJ8wtVzusdgx8ttZbpa+Qst9aTbmdSMZ/I9gxW/2LqsZmxovgFdV3W1Mn4M4Uby3+bWLT9jhssExr7G2Lt0bzR6uJHPW6BGrDkmqjIwc8fxMubUn4MB3w2w7GKZ+dt22lmpxeT5Tv1pqpfDG4F05pSZ7V/Zjb0dlRpMgE0NWF8OW8wUMrstNsDsV2+7my8JwysPt6gC72y0/54xSE3Y+OtG7DprF9+SCkAzD7PgT2+J6wy908SKyQezggS3lG9j5p4gjcodQqXgvVHnVhuksD/Zbte60eZ1CMLFVEWOcS1muTcL6s/xFCpThWHzqc3u081MLi1+ySHW7qdO654Aj9lsicceeMyWOXMZuzjNg3Zx43Gt/MGf+eIXER5h/f5KJpW/JwTAWhlC+iY1hIoZZvClhZrHy48tt15e+CJmhi7I5LHJtSeDVtpmUMGCNA3zfoUzPOvALGsnh86GBORif1w6U2l8Xv1zn79nCX3gdsMh8TlftzUAjs+Jik1ft9vCy91zEaYledej3lCmM1Dd3nZ9sWdvjE42xPc0Nf4SyFwUGOZcFITq/awCOXd0248c/bd7ADC1Et+K7jvveMGtXwALKSkVBvSO7lQUm2cZOif6DFA2SjiW5peGL0DJLylmW7md6S9TFh/zbYIEbb9q9h8sAObWtQYTTuPVW8f6+Nm/z3oBM263+qIsEARR1UGApXaX6/BtB2w46bLwdl2AAFi22WOaQ1bmN83b1GezKjOq4Mw/3hKGo6uNtrZ0BfzT6pWOdASJojjg1CEzcVQeEP3VyT9M9tJSpfPXo2kftU59Z8M7jkV1zAoyG8hsHGXc+AyG7RzmOH5m5QiAdRZSZx0p/0XVBwnSFi5fvewuHuPnLLji/MrLB+kHuVPnBq17dYjZgSn15jSwmQdmWjrNpIuQi0yLatlyl10InsfM68wnZ1q82ZJflXR3JTzmU3+eQvVZ1R3vndxhqifoIB+dqgra+MIEwPnS5vPiIVOjlp/puBZ1LVoGlrQSFoBJ8EWBPGQpVnMapGkUojnhbC9UhcbzGrspJ1TL4IuNk8EFZd72nd8X7VKmzbbTWLQ+M4/rl0zdXugYpjSfFJPKS12mezJZ8oJHL9lJNc4zZd/+q7jdcEh8zmMIAMfnbBp93eoLj5zfiPAw912VGbACn/3zOoqEu+gFpV4Can1gHX+p5zsYmWyo79lsMhHIWgr42EcWvc5gYOGrnvO7H0aOvps9ADh3FaC1s7ZptItejwIOLgcyFABSPZiAT/jW6JpZG7prVc1eFWUyl4m3QeuqZ6mwZ+f6S5vAZ08bl800qUfTK1iZtpuRFdn/+36vAiJ/RV9OAJiZWm5FO4XZt1Mb8koJCs1gsVXt2Z7MtK/tW55HxyoWmVEui6GzmLo4Tq5B4GBuJ/t64BT0b5XPWwWAW/7kQpPnKM9Kn0/bV2bHROP182qfW9k7ZrvM4iDzuiy8EtH/8fvG4+PtHsqU1oU17WfZj8hb6T79WTC/U/odi96h9ZnXN1vv5ngXnFDQXTTFPklX4brtutqzk0HzFK5xecngSxvNC7QJAs+lc9+OMzusoqyVTVb6/f1yKqqSnQJmY8lNZjDzOq3uNGt3Rcwj+LnQOC5euYhy08s5XotrgMWfWoWAYJbrTFQYeKIJXPk7uemUx2zIl461VmZgP+YLHCkRXBf6WuZAKZ8ntAoeM00kBACz4E6yy1TLoA6weX2eXypjKWsXwgwx/fD3UP669heqfV0Nf0X+ZVl207DDKUinYtbe1F7mTgGl04RKwR0SjpWmI4yEUKDxu8iMg7c6DgnmXoNtGwLAwc5YEO1v5YW34eA5vDhpOzpVzoMOFXJbd93gsw3oe7ojHgt3cXFLPAfUsb/E/tfzbXyWzDkbYzVo+hWQ4wngQ0/hg9dUUiVivsfOEj2OYdPJKHy/fi5a3v0d7qr5HnBvxiBmP9RUZkBv98anBA+3h19c/qJ1GRGD57+1IDz5cMz2SASbaY3LUzR5ksLVc+rTHJdkpDoW6mgpOZAbSoMBCt4z/HEwpf+Pyn9kAUkzgjEgGFdjnGVcQYDFYIHTY+lsR8p2S9pFoxzw+Tplhp3umZkrcoZFGUMXDRIwsfju8rXLXqcKANOWtny5It/R1Ec1r6n5sSyQZKGkhC48enPdm1hw2FMwxzamUgQ/m/j9RAzc5l14K/2R80oArLfLmRkVO2zNt+U5LFgkN1sbZzBDTqc2Fq0xCHKy3pvVizfLzwmKme0ThQZ/a1bvmkg7vlRQZUEXmEkGmG302qT7WY5UOayteCfzFbbnGjD52zzv/rvu9ypMI52DMmwSJpDVuw36nkTKTT4znezoTkcAXHVmVZ9TQUc2Ta0wd0Xk75Rey1TOYDFZmallrGy9DprHiBW0/tw0WfE1IFJp+Px9WZfzvCfnPGnRLEyutNiQj9kzxtqR4AsAd0Ykc09qydLG3gWu/tZIfB+7lXFIfM+F2V8IACfgDN/KC49836JhBzA06WfIWv9toFgbtBu3Ba8feRaPhisu7ju/A+ER6NzzLQxLNtz3bDafDuSuBPRL79zm6QnA1208x3qeBJLZRTGhiNsM6ErqeAXAJzfixW9tADyk4hArw2xmpshlJE+UwvBJI5J6fZnH51icZoiZIy3ZpPU9zfYmAPal8CBj3nF6B9osUevVYQC+OMe+wDMzRfySF4c0djms0jBL51QAMAvX+AVMOS8aVQg/VS5PDiozwJrb6W/1kCM5r+E8ixtJVzIxXfig3AcWF5db9DqYlWR2svy08rjw7wWLv0q7WFbwmxax5nXF3ICfj9o9Cp/t+szdRGfnnWTcTA4xT5zy4xQrO+4U8vLh64WLphQs3hNNZHKA+SKgjTNImWGxkyht0GCCPFqRGJPrigxYIBJXpHCYmVFybQs8UACa1sBt9tn1bW1lfQ+SxZaiLFOSje25Rk0Tk+WNlyPd3em8sskC3OU+TNtpKnMIZUXPsQBB+czUxaWF8dgaY70KUPX5BMjUudZhZrrl90y/vLOw8cVCL0YD9+ynXq56bk1s3S8zw1/U+CJuf0BdZ/uSBRRqBtcz17Vk7+W5Oa3deBlQgJ3cyjgkwFuMdbMQAI711MV84q288AiAf07eGknDouwb7f0HnpuwDW8cao084S6TCQA/VfkSZzKUx6zxgzE0mW+XPLScCeSpCryX2mvizpfsjrTZ8wN56wKfPAZcdvF8XcA65lkOtYhpBsiD5La2fDnG1D7Q43o7V1y2Vhxb4bWNTGBFRzbyfbl9L5XUvIaZBQr0uoG223JqixegIaez/WPtHU8PFgDr7Wpf4/HFOd722zZH/VXSJUib0GMhiKbjnAl0CRjnHJyDvee8zWGYbWfRnJOihK9xEsB0K94NmofJDB6BdOSNSK/TaGZBUwuRrWJW/cu9X1pcYW4fk9/qKxY2XIhs92WzDjNrrE0ntCmHk4ybuZPAPrSUmnnNCTUnWLJf/nYcNOBkpp3ZYW06wZcArnG6jTGYpaY9b7OFHjc+fV3Si8iR9hcEesyeR91w/V11FRKSW6z1iQlO5ze0TU70PWhQqjVy9TUJHrkGpFCRx4Rz62/3gRluGrJI+HpBbbmopTtzzBdbrh2al0jwpZdZ7RqzbCkxMyjBRjqGGc0WNLPMObhrwhcYhnY1lDVCu2GhBEkfJnjn5xwbdzKofhEf4csZUayTpZBPVB/kuZEiM6HWhPgYQqz6uJVxSKxuOIiTQgA4iMkKtumtvPAIgN0mFLzx3n+gzZdb0PtoK+RUBhYvXuuGpVHF0DB8HYYk8/zxjDZXrb4B8lQBeqfyOnTs5ZPInlZlen9cYFMdshQPdrpD7X3MQEIBYF20I5JaFPfvtLKT40i4papVGbSkV0I8PG5f62wdt0+ZYXWKYAHwuhPrvLbLnfokIKT9rBm+zqVZwavFX4XenifAnHtwrruiXPri1i51gqXSXD5nAQ8BpAkQ/M2vaAhrWoKTvS/7kAIhKU5iVm7Sj5OsFyxTVsu8puYvf7L9E4zdN9bdpH2B9m4lEScZN6dipiVHl6D7Gm+bWulQZLRiotwQ9FOKjJxNUhC0cQZfRlgAx+ImxtjqYy36SYM5DcAMslkgWD17dXxc0VsK0mneq35d1cskgYWOBI1aH5pUC/6+MHTmUYNSrZCgr8M2Ircmn2v6hy8gRxoIs/rvbnjXArVNHmniuGzodiZFb5T7eqnwS14vPgS3fAHREnTSEekBXAdOQc3jPef2WBbW3C1iaI3ebsW6oW2BttYz57PX0SZfG0z+cbL7xaJy1sqWYkTW+7LG258WX9Sipx9+GuSc0xGRY6D2N+eSMnsseiSXXF784m0wQXR0K+OQIG4zVk1DADhW0xbYSYlu4e2aAhxZB9QeCCRP6fcmnABwyy8248PjLZEl7Jz73OZX38Km6/nROGINBiX1k/14Zh6Qq4IXAN5+/SE82G09MqZKEdiEhlrFagZ0QUxsaQcEOBSD1zJCFHZnwRJDtrDNam49YBMA+6q2jtVNOpxk2piSo9qpiDM415XlzLKRv6edqaR7mT9m15hl8xfcMm+WN3q20NccaVUGWt1S6eDlIi9bmVmpKNfXM/VXeYxzzGeiZankHF8GAQQLNC7QDmwsajTvj5XtBJbkbgqI4vbvtJ+mWQVkTpbAerza/vbjbR97WdhqK2cnGTeRBdP9mQVlUoymbZc12Itp7ZvKHqRFMPMsVBcxb6ASAqkBzAQTNEsIEIpp/ZoW02uarrFUIRgC2LVxCAuv+FJDFQrOt0TrRa2j7QzwGO+TvHFRqzD50xrASl967TFL7UR9kLbaapsqEcyAaj1hvqyQK64LPeVcGqeQihFo6BclAsnW+Vq7gabug/rI03+a7uasCy0h0OsE0s6XwQzXZvks5S3TEhYRUid4RFU/u6GBXCwe2yQ6HBKP9xbXrkIAOK4z6Of8RLfwJPtK+2LaGPsJJwDcZPQmDDvZHBnDLrjPfOZqD6y9XghPR6zGwKR+tA7bLrSL4FQG+NMiC/FyfdvWMhQJNwO6aCQmEOA0ChaHkLfIwhOC1rR3pbWacWu+72aX+1jx19Amfxuv7KXZFzM/lJ+SWPzUYotTmVBh6nvqLKN5zWKTiuHq9avWx7RMplwU1SrMkPlbcmQJuq91zj7KOczeEtixqIvSSMzuMkwJMGlPKS7a1TIE3HDMfNE4+8/ZaGMhl5KgTcfsJ2fj3U3vehU3yXGzel0+ZwEWt6w1sKFLHMetQ2/L/2/F/yx6gA5KdNFgwlcILYHHJVsmbcnhfL/c+9aPTjJumhMr55hUEu5C5Lwvp1UkRuDKOP3XaQzZMcQqiItJAYWFUFomjHQGnsN1zt8BUzHDBLK+jE/M+eixtoeXdbS26OYzIOWCGcTiGf3vgpk0B15HjDL0LgLdDckdlnDKsAfzd0FcHtkfgR+fnf5doPICZRFNMw62D3bXRwrLeK4Y2ZgFlDzGnR1SYsR+WLLFPhdjLA6Q5jHph0kxnilufTE2vEkNEh0OuUn3HchlQgA4kFmKZZtEt/AEfAYgKeYEgBuO2IAxp5vZ1sauaH+1G1ZcL4ZmESvxQVI/xQbtlgDZS3tTIEImFbFcWcGdFlcArCW/dKZIV+GLFNCIXSO8eIR6pORZtlvqyWCxOI7cx4SKhYcX4o11b7i75zbpayVec7wcM77MYjIIFlosbOG2PtUnCG/ZX6Zb2nMLlgVSYq4g4v86O6f7ZmEQQS2DxYWUJKONNLm+MjbdnllCOnPpYJaVxV1Omqi+tFJFcUAbazjxeTXH1UmpgYBRiiKdJpm8YpoRMDhGbSghWWgec5Jx49in1rWpCBJ0aGu6wKNjLBq5sV1P3OXQusGizuCrP51dZhaQL3Ra2cDXeVIsxeOmDTRpEJQvC8SSW88hd2Z6lOyBGtlrWGOghTOLCRl8+VrWeJl7OE4yc8EAYGb8xTGPFB9yXmUniBdhkeZXdb5y1MkWg4tAn5EG8uKYZ7oIsi/ulPD3XV4IqQJSP4/H9CPQ6/lrZzrG+WpLCsdHFTyc6Pi4dlz6SHQ4JC43E8/nhgBwPE+o7i5RLbwbNzwFaDkrAG3m+b1zJwBc79P1mHSuiW1t7IoOV7tiyfWSaBGxAu8n9XD6onXefjmQtUQIACfgevPVdZkpZdxbg8F80Ul/WrpJ2wlzi5VgjvFsgWfxSrFXvLbRzfFQKeKV1a+4PxZFgYSaErNIilaqb5byzmrKtXVBESvmmck0+bVsK9k6cX3SY6eVLzVFJVh093fk3+6taPab4Z4M0cCftBfeKn+WLJ2v6na2cXJC40sGM1VOY6+YpaJb0kuPW+gFWnPVSdGhfu766PdEP+tUnQWUvmi2QCDky52NlIIKWW33PJOjKrxJHnPiWtJlblzNcV5LhZJU7GAbRAAAIABJREFUVCTQ16dkXVxCZ5+pwFEpWyWf3Wkd5oEVBqJmjpoBXVq/PAUq0+XUsbjK8RhflAgQJXSRpinD1X9zf0zbP82ry2D+LlAVg+uTwRelG7iBPps8O4pU06CyRYO5DbyuERtqAGXaWHTH4K4EzU2cuN80yCDol3Xvy4UxoAfko5E/zrk+Rf+exOV68XVuosIh8XVT8dRPCADH00Q6dZOoFl7kVaCfi3uV/Qmg3UK/d+4EgGt+shYzLzyNlGEeaaTOVzth3vUyaBXxLfol9f6C8rrA8yuBB4uFAHACrjdfXccVAOutZq2lSxvkMXtthyP5ApbMIDNSlHzSwUIR/UWpt8T9TcufV//E2xveRslMJa3rBBqaosFzaNTwdum3HU/XhYJUK+D1RHpMnyAcRp0Fk+Pc9mWWiPxg8iiZlWJWceIPE60moqsqXEJm5liAJaFBiGTpTLcuPRYaL5jUCBavsRp9/wWXFbg6gdk6FuWYIQC44dyGOHjRNrmh5rHpsiZFejxuzi0/I+jhc6e0GOWgzNBav5xfZrYlaJ87pc4U60eaQZgybk88+ITlLqaD9AatNauL7AJdI2a7K5FXUGd2HUuRgcVp/jKxOgMcU7ZYX0ebPrCIjFa9sQkWWQnlhGuNerQSetfGLCDkNr5WbeA5wQBgrVc8r8E8q+BSq39QTYPOfpruxGuIUkyw90pNaP4N6l6iO/iSqQ14pC/yg2klLetXpOWCvZa/9qZZh6+2gXLB43Ns/vpKVDjkZt10gNcJAeAAJyo2zRLVwvv3MjDAxbfM+jjQ3r8wtxMArvLxaiy61BjJw665p+O1ay9iZlQFPBOxFH2S+pF6eWENkLlwCADHZiHF8RwNgIPdguSl9Ret1tLVnDhREnhh2QtWIQg1UVnRrcMEVcKxjOn2aLUrIDKYL2rT7ICC/e+ViS7TZdrNUuqLWTInAMwvfIrlO5kwyNhEzomyUnwJ4JYtY279uciVOpdlMEHXqsLpCnsVMel7kyxd7lS5LZMJp2CmzaRG0JBk+K7hbiCgz/NlVCEZQm19TFUEebmRPpjhZ6afYSps8DORSDPnU87XusgmhUKbSLRf2j6ajJtIxOn7ISed9B4JrTMc05ryd5zglwWfMdEQtBxYMHQecsvFSpoUmQ3Nve2sAx07X7Je+PYF7D6z27JNJiVGQusNs1CNcmASZ/4+gypf24YuDF/Fmv7GwRdAgtF6uetZLwsEu5L5J62DLnKN53sroMRXVlZnhfU98G/E8cu2Rr0oawQ6l4G0M+2nnShI7IfmMkwUJJZIVDgksUyKaxwhAJyADyRRLby/zgMDbX4hHiwOPK+yDou6A79stmkRd6WxmjgB4AoDV2Hlnw0REXbDPWuRdYYgz6wMaBuxBL2TTgRSZgAKNAY2e0TurcYdNgAZCwADHwL+OgPkKAe09XZ7SsBHcUd3rQHwtlbbLJ/6YIIZGCmIEtcjnt93U1/MODDD6orbv9wGFgeqhnkaYvZBW8hfghXcuohkaKWhqJytcoxD0VXrwQBgk7PHQigWSpnBrLSAVB5j9ojyS6bGLo8JbcOpEEfGJsCIIJIV/PMP23quzIo9mvZRa0uXX+Lkva487rHO1fcmmqIs5jJdr/xNGEEmx2YWx/EcKnVI0aLuQzii2mLWfFZsr7P/J/88GU3nVVQSqPus9Z7lWloW7vU1r2Px0cXuYVA6a0y1MdaLwbyD86JxmHWRnJxEKbIik4q4+9BWyzEuqnhowGdIsE5756WNliJFksDUbLTcmZPDXTBD4xywP5ENc5obJwMYZjMvXLlgUVL8KT4EOhY+c1pGsziSQcCt+dn8LJgsub/rmtQXtiVlh9bYIk2XEGuBL0XUcJZgppvzb4bQwQKdu4Rul6hwSELfbJD9hwBwkBMWTPNEtfAunQIG57WHn7kI8IJt7wnNDXapQ/APas43F0XTAS77/rfYcNXQNa01EDlmZ0b/JF+iZZIVwP25gYJNgNWGQ5MA4AtHge9nA4VbASkDl8MJZt5Dbb1nQPNbN7fYbGVuggm93d/skWZ463Fb+kwX0xDMEQDTnpWcQG5JmtusBKBUNJDwZRVsjk1zLbWeaUz3oCvI2dZXcYrp+uaPRyu0DRoGsOBPgu5XC5+yaUVaIuz4peNY/sty63NSJAqlK2QBAxZwmfOhAbDmV8d0nzTcYPaL27+0bqaKgJNsGjmtnVcpu3FXx1SHIO2j2GQPf5bbuPqlgE1JYeHnEqbMnBT58biWlZP2GkALx1lAhGkva96zr21l/ewS2ljF6TnQwjdZRLIYs8XmuQTuBE9iohDTM47Ncf6uHbxwEJ2LdnZbQMemn0DPYdGmFEFSBk2birAPbeMdaJ9O7Zzc9Li7QV5zQhj+6DH4cojUbfwZ7sTlvmN7bqLCIbG9iQQ6LwSAE2hi2W2iWngEnkML2Xeb8TGgg0sWJ+oa0PcB+/NibYF6Q/FvZBTy9lqEIylaeWan9x8o3W8xNkUauqbV++OTRdvRNYlL3PyBh4FCzYAVhsyaUCAScL5v9a754hFIFXmw96kBsFipBtOHznbWzlkbH5b/0DpdyzBRg5UZU2ZJGJRxEltduValrJWw6vgq96V9OaWZY2u3pB22nd5mfRxMZsdUpHDaRmef5pfamOpj8MF3HzhSD4S2Ifxncl5JrWj0UCNkTpnZGqNs4T+T7xmrDzENkAyYaPyyKG/KTzbvlaEBsC+pNKfnxkw6s/QsTmImnm5a3AqmE5Z2HJtYa6Llvibjkb7IJaZCQ8N5Dd3dOxXfOb2w7D6727JCJlf5mfzPuM9npkzWgnzIQiXRsSV3ldQa8lPPXzlvqSHwxUlHkrAkbic6ZqT5UmVGTEYXwazzm9n28MXDls0yednBvpDezHEGcy3tvMi1/uxSmy4jER8cbfZFfW6+aOsgv587LUIJCmanKJh71OuNxif8nTPXrfmiGEz/CdE2UeGQhLjBOPQZAsBxmLyYTk1UC+/sAeCzEvaQ0+cDOm6y//3vn8CAB61//p63Je5vNgIX/rqK0n0X4KcUHsmqq70uoEL/Bdh0o7X3bVd5F1iheJXp8gJFWgHLenm3e24lkCVuFdoxzfetfJzbd+RcEsxQlzU+4/Epj7vVCWJjPqEr/rWtp3BZnca6rNEyVJ9V3esQK/kFyPIAZcmYfaRckei2OvWl1QnWNl1r2SoHEqZSQcWsFUGpLDMCyerIOaIMMGjrIEz4YYL1rPhlr0MkzAhw953b5+ZCMwPKL02+GJCiYPJs9Zc2C3re3fiuu1tulYtOsTl+FodxS5vgliYQVKIgHzNN8jSWs5cE6Rv57s9nZebpWCVBHmrXYl29ChSrZqvqzlxT/5db7KSGBEqfIUAxjUS0E59InTmZeci4tMqF6Nua9y7axbQoXtzIQ6kIZH2E2sTvDOgiMfJ9hQ4hV5Ei0Pi4qvk7O7D8QIuzL659CQWA9W4U/5ZShcSkKOliz/i417j2kahwSFxvJp7PDwHgeJ5Q3V2iWni/7QVGuUwnmKXttNUe6t+/Ax/ltP45KbIqinUch/vuSoJaHy7E3hTPuW9nVr3vMWjeFmwK84Bi62DFnsBqW8DeCoLrom2AJT28Z/bZZUC2Ugk427d21/IHnXw8OpHFZ5T6qpQlx8WITaGQlqy6O8nd2Nh8IyLCI9xb+U5jpeB96am25qsE9Wad1AmEPyztSF2gRizdyfKnzQ9tOOBr/IO3DbayMQSjmVJmsroSkCr9Ukmg9aOtrawsC1WE+xgMAOYXbc2cNTHguwFW9lZr48p1BNwxK8UxaRDKNiw6O/nXSTAjOnj7YPf86C9tLTVl/VrdlT6a9a6cyHvmVnyPdT1AoJw6RWqw0ImFZeRLSkgGTqt38BiL6cjZ1tnosg+WdWeKSZvhcw9md0LrKsv1Cfi5Hc+QYknKn3136jvH5c6MPeeBUSdXHXxQ7oNo7QiyyfUunam0ZVMciv9uBg5dPOSWPnOyxY7Ny7evu6GTIDnHXYp0sXYQWIRLBQ/WHfB3kms/IYL0C9q9V8tRzdL4rjazmsXz16H1rhNiDMH2mahwSLCDT+D2IQCcgBOcGBbeP1ejMG7jEVS59zgeme/SZbw/F9B5p33nl08DHz9s/XNCZDUcK9UHzUpmRdMhC7AzRQf37IyqtAPjv92GzUk8UjvWwXKvAesGeWYxw2NA8XbAQlsn0h1v/AKkSJWAs31rd61B2OCKg8Ev//gKDYBj476mq905JjFsqPNNHUezCLYhiC800UW5cd2IKful70/Any4Qkmxzk/lN3PqeUmhlzo3MnzZUEJDqNI9akikYANy3bF/ry1ZeCqit+2kV76yyyJwRcFMtwQyhJlBTecAWD1deA2Bmjpsv9Ei+cS5IsSC/l9X/Osi3ZAHW0/M9/FwepyYuJaokyPPNdl82fLnvS0sqTYLjIR9ZFy3qc7e32m7xXIMJveYInvkCpvmu3B7f+ttW1MpZy9JvdQqaqwjP2qkILpjxhNom/Axobq5TDUBs6g8SftRxu4IU/epeElrfPNgRJwYcEuyYb1b7EABOwJlODAvvg8U/4dr6T9E9yXSkEPmy1NmBri6Jqou/AJ/YmZPxkdXxR8X3Uf7hB/DCiIXYmsKu6GW8X2IT5m3Yic3JOtofsJCKov9lOgMbh3lmMWNBoOQLwLxOns+67gNSZ03Amb71uzZBWEygg9zLzSc3g9xIVqH7C52Nm99gvmUVG2iwUIcc4itRHu1nMTSglJOTXTD7Jpgz78lfoZOAP3JXa39T2xpe3vvzWnJKlFj6+cLP1mcitWWOX65FabFJtW27UtNsQZ+jt9SDAcDihCcFgE68YlHHoMmBr/nhWExVBg2AWaFffnp595Br5KgBZp/JceS86+dBdQlmvPicNR+RdItlxzwOYJI9d9Lw1dlWXpTSWSzUY/BlJlilAE27kYw3s8x9ytq1AVIoSFCs6Rj6GXUp2sXiERMgk3oSzLoNdH2H2sXfDNAuWgopqRbDQk4dwRSwxt+oEranxvMaR9vVik+qR3yMPjHgkPi4j4ToIwSAE2JWXX0mhoVXfcgaLPvD45ZkDe2+LMCr39ujPH8I+NSWdhkXWQN/VOyHEjnux2tfLMKmFC+7Z+elXEux+4f92JjCVUV+Tzrgr7NAqZeA75RAPRUm+NlsV6aYsmo9jibgLN8eXZsgLKY/otK+bf626Fa8m99J0AB49pOzkSdNnoAnjdt73ObTIdX8ToVO0s4JAPu7qIC/lb+sRJdVXaym5bOUB7mE9efUd8t6OQnc66wx9Ydpw8rotb4X5h6a63jZ7sW7u4u2ggHAIiklMl5OW/MmxcDXfbMIUGyS2UYDYH1PPKZVEMpNK4eL/150dyv6wtR2JfVBgood2vFLVBpMi2i2L5WxlCVBJkFLZvKUWYi28xnXblHAqwbQ0nuP3v+olcHXLwtCayFQIoXB5AvzUrpoLohLh5r+hzMgUnqk/4hEIlUR+DJLWs3tFrpAV+4tNoXGCTkviQGHJOT9xaXvEACOy+zFcG5iWHi1h67Dogt1vUeaKivwyj77s9M/ACNtrubYyFo4XvJtlMmdFn0nL8K65B7b2popZ+Dv879irXyWOhvA7LEZdHsr3QmY6eIKUxf4tQMJOMu3R9dOSgSsrPcVun3v0r3R6OFGPttqAMyMKr+MAo0DFw6AqgUMyeQxa8eiKbMSW/dJMDd+33gM2THEqvDXagRO1xbwp4u/hAJRd3ZdHLt0zDqNdrum3a3W5yRnmFuQjB5re1iUAadg9rXJI02sQ8EAYHHcEhUDqj/0LtPb6xKm/rCvuTZ5kmbhjtY/1tSP6jOreznIycuSGHDI9TSFgJ+Rl50yWUqLw9hppdqhcWXb6fAlIc86RUQKbG3lqhcIdNEAKDu1LC5dvWSdQX4uzVHKZi6LUdVshzh5qSE4omGJ6WjHNtxG5w5HKG6dGZCXML37IPbht85dBD7SV1a94i4WzZM6j/XSTsOYxBSJAYckpvnQYwkB4AR8Molh4dX7dD3mn6/jfZf3ZgK6ub7sTu4CPq9gHR8TWRv9I23ps1xhJ7Ey+Wvu8wpc+QLpwy56PhMKhDl/WUoA1BOe7pJQ09nmBJzrW71rJxDmS9fUzA7y3v1VPWsAHKxFqLZBrpKtimXzS54tLYUrzajkc9plPNyyp/2uqQlsnsj2bMusrWzbizuYplqMrjoaZR70uH+xH6oecMudIbQJ/lu0Zp0GGdsMsBRySRGXk44rLX5p9RtTUFbs9bUeaS/zGZIGQeBfOH1hr640JYQHVjy9AjSSeHnFy1h9wqXv7UCxEFqNfqbSscnPFgWJe5Pei40tNsZ0K9GOa2tp6i/T9IIayNRCZkgWW2sYm53ol5SgBxA64T+ZAbHTprU1ZRFJndnRaodVNHs7Ru+NvS3rb0ZCuM/Fx5wlBhwSH/eREH2EAHBCzKqrz8Sw8Bp8tgFzztqcSnfc/QDwuste9fhWYGxV69DnkXXwfmRL698PhZ3At8k9X86FrnyODGEXsCy5oe5gzh9tlsu9Ckyxs2vQfOMEnOtbvWsnAOwrc+Kkg+kPAGuHLxZMmYDK39wR8FLvl4VSBHuU/mIGllnnenPq+TxVj4dV/qYmsHki23db3c2Ls5o6eWqLA6wpGCJDps/X1rKU1aLaAcMEhPoc2jI/X/B566NgMsDU9u1eojtEmq19gfZWNlyHaRDha5JY7EiQznBSk/B1nvBn5fi6puss5QfT0c4E2PJCtf/3/dFsaqVQTfoUm2XymNc0XRP0r5d+aREqBjNkfJ6s4BfeLykulADU8nhyMSk4DPrioRP+sxlou6StVXgp64k6z6ubel7K/rOBJdCFxbGR3a98eiXS3Z34zJ0SAw5JoOmPc7chABznKfTdQWJYeI1HbsTM07W8B5k8FfCmi75wdD0w3s4Qj4qsiw8iW1j/zhd2FIuS93SfV+zKSGQMu4CF6jPHO89WBqjQHZjkEtUPAeAYV5hp6SonSGbP7OD8P+dRcUZFr4/NbLE21dAAOBg7Up1pJheUW+rDdg4DQSYzd1qlQA+GlIc9bVxFloBluaoLupwmxIkzzH6GVBpiAXAJus1RNk2H5innTpUbcxrMsQ53+LaDJZWUNDxpNFMGbekcDAAmF/etUm9Z905eq9a2lTHtOL0DbZa0ifG5E8wTuJKT26FQB9BUI5CgvuraE2vdTcUcZOSukRix2+NOx2z5i8tfdLeTl5ITl0+g1jfG3wQfF6b82oomyjY9kAECECBkPYdCHTBq9yhL85mWta+s9mwR0x2ML1VLjy6N1nOgToEBDinU7CbMgEk7oi41C1dv19h8ajOeX2a/SCdWlYv/s3cd4FEVXfRQEjpIL4I0EZDee++9iPQioEgTBaT8FOkgVUAUERBpoZfQq/TeOyJVpIMC0uv/nVlm83azSXbDvuwD7/XjM9mdN2/mzCQ57+6dc6zAQ6y6/kKATVwZK2y8ehN2YM4VR8IAqgb0vGKb+Znf7GR1/LNqGPrMJr2UPdIZLIkW9DFugUfjkCzS3wiM9k3oiKUpBpTsbifVYK3wV0dMRPnN7/rB0wcoEBBcI3lxjcVI/076YBP88+6fqLLIsazFqBrBTCAPk/1S8RfwMJPRlMATjUpny1EqIAzcNVB93D6o6CD7L37nAboqsygzt0yIOra8nifEaQ/rHDxw9+3uIP1X3peSXcZgmQDrhBk0bVhaa6n6Wjuyabcx4zU04fg6n63ExxMCzPa0PWbd8ZX7V6APxRn7pstXjcAaYW5MZj9ZM+hpsGzCKB2mT9cv+mORw6G6+dXmO2R6NQG+/eg2is0p5tZtaUbBj3Y9Ddb16nXjA8OgXYOU2QnxMhp8sG/WTGsDA+N9RpccjTKpy3h6a2nvQwScD4Cy/vvn8o5qED4cnim3DjwdqMx5wvOzbMqAnDq1Ag+JiHmG5x5CgMODmpvXWGHjNZq0EzP/quA44shRgW9uqddu7AtE4qU2C1MjAc4d6RQWRgs63FPk0RhVAmF/rXhXYPOw4EikLQ6U7g1MfqUcIAQ4zN0SEiEJqVyB8lT1ltVz6Hdbg21KmN2Z0C2puQSU6tEuYj+W+RHFUrpHfpwVICjD1WVzF2WcwANcxkyeHsyUClOQN5mjTSnf0+5oIYHhyjiDbVliMPnoZPtlrupCjQf1SE6X116u2usyBWdDCL6nzTdc1VM7jzFrwqyIGy0utl8OXgurZdGM1zg/OIQ0Z22rHOYGcWqgZdb4MktTDjY9qFrwo2dmXnVQ9cH4SYEmwCF94uBqHMYHCk/GyXuQACeMkRA0QKGyB+tBR5UYha82BmX0mb2ednwafjj4Q7DuPdmrnoxN2pqHwIJTC9B3R9DfjarpqmJIsSCta/PuLD2HhIAVeIhVV0cIsIkrY4WN12TyLky/6GhJq6bc5zYQKRLGj/8Oba7ZfmEZa4DzRzqBudEG2NEp8XgUkuEfzNGvdb8ILO0AHFvkiGC6kgDtkSe+OiAlBDjMHeZKaowXhZQhpIEAjQSMYaw/M2Y0P8/+OSYdmWRXYXBVQxvSAI2avGxj/EjdWcNW90FN2swJMwfrcvCuwS6zfLrhujrrUHa+rRbdGMz2LjmzxP5S5zyd8UnWIJLHN47dPIb6y+urNsaMpVZF4OEr6iY7B01BmM3W2qWucFhRawVSxU0FI+k0tnNVp/r0+VPknmGTFmTwHiVSlsC8U/McbuFJOYrxQmPdIV/XxNaZeB9schA5pwcdoDPWZVPx4fzd8+iyqYvDmHTtr36RdbuLajj9jIe0YUJ43VgDPrDIQPTaZrNJ17JornSJ+f7k8pORP3l+D+8mzX2JgLEkgONonrW5krOT8B0CVuAhvpt96HcWAmziylhh4zWfshtTLrhwFet1A4jqj8FDB6DHQ5uTG3WA+z2z1S4WjnwUAf5BFsdlHg9XJRAz/V89zfe8BuyeAKx1KolIVwooPxD46ZXmY7z3gI5SAhHaNnNV0sD2zJwwg+Icrg5ZGR3ejATY2ZHJE5c56sBSropBG9rUcVPb636dM7N6jCE5tc04PgND9wwNEQZKl5GwMlhv/OzlM/W1ltAyXuiss+lcc7vmozXKDpnybcwOF3u3GLZc2hLs3vzjzENtWs3CeF9mKyeWm2gnYBT1//6Ao+MbO3RVk8zXjU5oui6Zh79+PfarfRzTKk1DriTByz7C+pU0dPdQB/MIVy567MO5rtr5oOTzF88dCDKvcbZcpobv3GpzwxpSqO8fvnEYdBNksAaY+yBq5Kiq7IUR0qFBTw9svtYg5WKvIHDvyT0HC3RPZRe9MgjpxAEBK/AQqy6JEGATV8YKG++zaXsx8ayLOroelwH/WPhl3CC0uGkrZZj+rCx6P7NlFktEPoSp/kGEpcLjb5E80t/41f9V2UPvW8CeScAqJ1UIlkBU+Q4Yl8eGbJwUQOcTJqL85ndNlzNKWzkTkB4FeqBBpiA7XD1TZkTpRGYMXS9Mm1yjBTF1a43EzZODRUa1AJJKfqxdeZFNUURLW5EoGq15QzoIwkNbPLwVUtBdTmvT8o+mtvVlBvL07dMOlzmXQey4vAOt1gZZdLPmtH6m+qi+uDrO3TmHymkru9QDbpOjjSqF0PW6zNRqIwkqXVBzODTM+Z52xXOeV4X5FXD5/mX1siaREw9PVIcIdfAAWLbENhdGT4KlBayx1WEktrr2lpJ1o0uNdqhvdqUUYiTq7M8Zb6OxiCdjNLY17m8eGmS5A8t1WLbDCOlQ3pyqc5QjncSbhYBWKaG5yqQKk96swb+Fo7UCD7EqrEKATVwZK2y8NjP2Yfzp0sFnSXe2GPGx4OeB+OjycPV+wLNS6PHMdqK1dOT9+MXflhlmVH08UNUAT/YfaXuBJRT7pgDLnES/qQLRIAAY+spu13jgzkSs3+SujR/hs26TZI6Zy/Y52+PzHJ+r2s6kMZMiZZyUapqaSJFEaLMB7T9vtCNl2+ZZmmPKsSl2eFi7Wy19yPJlRhyN49pQd4NSU6C+KyN74uxgZo/KBfzoXUdIcmzMDLFu+dqDa+qwyNoLax2WjKUaEw5PUK+t/mi1yt7ee3oP8aLFw53Hd5TVL8ksgxa5tDLW4WzsQLUKkttKCyrhr3t/qYcIV4es+NEsJeFYK8zQjmX8mq5VP5W1mTYwdl/ZjZZrWgbbZpPKT0KB5MEPMNZdWlepRGisZlaeiTkn56hDhDpCKhcJay+TMNZdVhf/PvkX/8v/PzTMbFNu0XH+znmVAY8WJZpSmOi+pbuDC5uxrfPhROeMuzYjCWtMob1vLKXh4UOqPhjl1UKqww7pEOjrjEWuNR8BHgKl7jNlE/nzK+FbBKzAQ3yLQMh3FwJs4spYYeO1D9iPcadcGBZ8fRqInRjzx/dGnWu2rNS8Z8XR5Vlr9XWFyHswwf87Ozr7XmRQNcIT/EcDkf2Ab24CBwOAxW0cEaQRRsu1QL93gl7ve8dElN/8ro2Hl3gYrM26Njh44yBaZG2BUqlKocnKJqAxweo6q9UBNK33qkkoEZhacSpyJ83tYArB1+lUpoXa+T3ly2pleCVRFwZ0B68fVPdmsOwgtl9s+0fmWlmB5I81njpC0yNmpphZ5HUX1qHblpD1pJkZJAFmbbQOmm8wO3v01lElq8VMoo4159eg86YgO+h6GeuhV8FeKDuvrCLcRnJtnHLbHG1VvTJd3Si5VihFIftBN51B1e2d66H16yF9TE/dY41L3qR5MaXiFKXcYDS+oF4xJeXMDqpkpIidQj3AOIfOkuvXjRa2fM0bWTxjbbLej87yaiP2jFDE2Bhh2YGbjZv0Lwi8DQhYgYdYFUchwCaujBU23pezD2DMSUfNWDXljseBeO9i3vfd8PEtW6brfsbayH2sLh4/e4EqkXfiB/+gj2v5fo8onTD4+SjYZdSOzAcWOGXFUuQCWm0E+hqe/IUAh7priPofAAAgAElEQVTLqC5AlQQGXZNYCsDXmLlkFk/XjersrbbIrZG+BgLPBKrrtKKAs6JEhTQVHDRWPXHXMh6201qzhWcVVplHHXU+qKOc3nSERoB1G22uERIoPLzFDCez4DpYxkAyy4cFZrU75Q06WLP0zFL02BqkWa0PV2kzBkpvjdgb9GmG7pM2u1Qo4KEsZqpyJc5ld1Krkq6KqnvWEVKWklJjGRNkDDaVrpu6qiwYQ5tcbLu0DVw7HVToYGbbl2HMVHMczIqP2jfKPiTnTHh4xmp06tMWubRa5gOdMYzt+DoPRiaNlTQ8t5RrBAFB4BUCVuAhVl0MIcAmrowVNl6nOQcw6oQLAvzlISB+Gsz9rhPq3nklM5WlNlreb4v1J6+jeuRtGOvvKE30pPpP8F/SGtBGGieWBlkeaxyTZQNabxUC7MG+2nhxo8pCsp6W5I/yYiSJNd+vCZY0rDi3QvXGj/358X/NxTVx5s4ZsL533IFxeImX0OoONx7cQOl5QSUvJF9G+S7q6jbKbDuQFFZsv7TdbqRAYu4XxQ8VF1TEpXuX7JeyTIPOdBOPTAyWmQ2pf2ciaGyXM3FOTK88PZiLGzOH1N3VDwasj9bhLL2k63cLBxTGv0//VVnvb7YH16+unaE2eEBt+N7hStuXov3r/lynuuX9+hYOknPia65qVY2HD43zMNbplkxZEt+X+R5HbhxBwxVB5QpWyHAaa5U5fuosG+vL+QA1okTwh4ew9o7xfaPsmt6PRrk63db5IUM73HlyL2krCAgCjghYgYdYdU2EAJu4MlbYeF3nHsCw4y4IcPu9QKIMmDOiPerdm25DIXM1tHnaESuPXsVHkTdjpH9QDST8YwOVhgGBbYEYCYBu54A/1gIz6zgimL400GTRf5YA8484P3J+L+57itC6E3TB+nrT16q8gfbH/9vyPyw7uwwkH/zonbq/DBJiym6VnlsaNx7ewDeFvsHwPcPx8NlDUKO3YtqKuHzvMiosCNJ9zpYoG47cDFLhcGXcENIYjbW12mnOOWNIWavK6Srj9D+nFYGMEjlKmFM2llY4N9Zybs5KByTtnNuGixtA4tqvcD/7pQEnAjBkd5DWKLVrmV2lFBnJl9FymBdpaTVmipmBpcIDtX5TxUllz9qyfrFb/uBlGkazCf/I/mq9XM3ZqBqhM9JGww6OY22dtcodzZdRMKCgKpvRwbpnY5bakwem0OaRe3puZR7CQ3WHbx5WuHONnMOoYKI/dfAlPnJvQeBNR8AKPMSqGAoBNnFlrLDxuszdj+HHXdQAt9kBJP0Qs4d+jvoPZ9tQ+KASvorcDYsPXka9KBsw1G9iEDrR4gLlBwBLvwRiJwW+PgWc3QRMM7hyZSgPlOsPJMkMHA8EVvcEKg8HMrpnu2riUkRY19qO1tki12hNzMHwe5YvJI6RGLce3VJZN34Mz1pbXeNL+S4SYOq1MvTH0fln5lekd2ixoYr43X58WxFjEmRnkkUyqK9nH1/l/gotswU/zOUKoPUX1ivTAqNkFW0/qfWpY2L5iSiYvKBH+DqPUV9s1Jx1lk2j7BoJMMsKnMsT6CRmLHFgrevGehtRZJZNio96u+zvt4u/oei7RRXR5aE4Hvii096MEzPUQTbWpS49+8pFLmtLfJUnyLBBj9GoZmG0XXYGgGUh/XbYSLoer7MltFG72SMAvdjYSDi75O2CfMnyqfITHfpw5evekmvBA5v6MCNrn1kD7RzG8WiHu9e9t1wvCPyXEbACD7Eq/kKATVwZK2y8r2fvxYiTLmTQWm0CUuTErMEt0eDJqxrO98viy6i9EHjwMhpFWYdBfr8Y0IlkI7MrvgbipgQ6HQP+3El2YWsT/R2g+wUT0bR21/x4nKUIlRfaZMIYrIel+kGzVc3UATIehNJZ4dknZyt7WGrPsp512J5hioCtr7teZXXpjsXDU/zYX5ccZEqQCZSG0jJnlOCiqgAPi2npL2Ziay0JOuTmbAOslSVcocnaXkqs0bSBihOrzq2yO78x08novLEz1lxYo77m2NfUWYPEMRN7tDhUddBqEsYLeaiPagkM5zphPlAQh8WnF6Pse2XxXamgA5o628qDbFwDBi2ftTTaguoLlCU0D8tRd3f+H/PtWV/W7/KQIMsUaGe66LTN9MH5AUaP89itY3a9YpJmqkC4ClpR0/2MwVrtgUUHqmy00e55c73N6p6+jGqLqtkfkLhfnUtovDXGMvPKqEOMfODjpxch6QsbCbA79eS+xE7uLQi8CQhYgYdYFSchwCaujBU2XqdZuzHqdxdGGJ+uB1LmxcyBzdDo2WIbCulKos79bjh44QYm+H2HMlFsQvX2KNUL2DBQ1Q6DNcSXDwA/vyqv+A8TYGa2dLbRCNf2BttV5vHHQz+ql5fXWq5KIxjl5pezqxzw43ZmIZmZZF0odVJ/OvQTsiTMogjJ9YfX1TWUHFtac6ldaJ62wwN3DlT1wDqze+LWCYcMHg/RsUZXh7OCgnG82u1MZ6L14TKjZuuQXUMQcDJAXcZSAtaMehohHShjRvbn8j+r7pzLJFi6wWz4nN/nqCzu+LLj7belzjFJMEswqDlLEkwZtPGHbG3Wf7xeubHp0Fq5PIiVK2kuJRVGPeA4/nHsbm0hlYrwIaH8/PJ49OwRZlSZodbIVRjrfY31xEaCx/3Be/oy6AjHPURDkPJpyitNZ6OOtC59ed0xVl1UVX06oZ3mWJoTUMW2j4yh7auperK5/ubXva1cLwj85xGwAg+x6iIIATZxZayw8b6csRNjTgfVhOrpnqo8Fyf8s+JeYBc0ernc9nLqoihwpSPq3Z+FTn5BJ/vtECXPAVw5BCR8H/hiH3DtODC+kO1tixFgZtuev3yuVBTMDqOMmfFedEUbtHMQdlzZoV7WUmX82niYjJJbzHjqEoBfjv4C2t0ya/n3o79ViQOD2eNVtVeh/AKbtTV1ZJkBph7vZ9k+Q4fcHdTX2nXL1bz1QTpX7zln3xb+sRB9tvcBs8gsKWAYTThYg/zxBx+HC17jvXQHxswutWyrLQ7SK2bNL/VFKZXFj+lZ1qBDO6zx8Buz4cwUsyxDl2rsa7wP/lH87e1XnV+lLIBZw0syzdIIlo+QnGm94F4FeqFepnou50bnPhLFNPFeaV27aEWXtQE7B2Db5W2qPEWXiRjnvafRHkSPGj1c+Jl5kRlZWBqbkGzrYCaeTnjOwU9MeKCSnwbw50JCEBAEXg8BK/CQ15uBeVcLATYPW1hh43WYth1jzwavwW3wpCd2vMiCvlF/xSdRbR9pI1UBNMEATL9oI1gqSCANGUT1WuLMQLudwK0zwPe5be0sRICZYaSUGB3C5lefr4ikmcFDajR5cA7WOLKcQRPgkSVGqiwbw6i/yvIImj7Q9YolDiRhg3cNRvJYyZUJxINnD+xdk/i1WG1z62NGmWUURmWEkMi47uCTLJ+gc94gzVzjmHWdJl+jHjEzoyTYPKjFA1sMIzGdVWUWsibKGi5oXRFgY0bZuUyCSgR0plPkKFF2zKwS5IRGrIgZFQYiRYoEqkxEjxIdj54/QsyoMbGrUZBOMQe79+peNF/dXI1baylTco5tJx+1KaLomupwTS6Ui8wgl2/CGJusaKK0rXVobWRvj136EwQEAUcErMBDrLomQoBNXBkrbLz2v27FuPNVgs2y2ZNu2PQiBwZGnYzGUdfb3n83Dy7UXorU36cIah8nOfDvFcfrtdTZnUvAd6+sSv1iAT1t1q++DqNrF6XCWmUPssk1Y2yHbhxC4xWNg3XNA0TDdg/D/uv71XtG1y5nOTG+r7NirHPtva23OhT34OkDdXpeR59CfeyHq+jORvJHVzVNHpn15EG1kIIfx7P+smCKgkgdN7VDMyMpJ7llGcLQPUPtpRm6MTPDPITnrpyaq7Hog3zG90hCtbyZc5nEhLITlAkGyx2o3csHGx19t/e11fGmKomUsVOqchIdrvRm6SjHuTLoSMYse/OszdW1zNoyhpcYrsoivB3t17fHpr82odb7tdC/SH9vd++V/lh+wzIcbSjijU6dD08yI84DlBKCgCBgLgJW4CHmzjD8vQsBDj92YV5phY3Xbspm/HAhuPVtyyedsf5FHgyJOhENom6wzSVZdqD1FkcJM7529xLw4FbQfFPkBlptAF48B/onCHrdIoYXRgWBbvm6ofGHwclpmIvnQQOjYYTxMrqEUaVBy5jpMgW2KT67OP55/I/DXTQp0LJoVDMwkl82Nlob82Aaa3J5cItOaWNKj8GWv7ag7fq2bo3eWN9JEkjrYJ1tZo0t62lpisAMemBNm+GGt8JZ5oz9Opdn5JyWU5WxMGZUnqEIOdUeqGyxtJZNrYFhlI0rkqKIg+avq4NqrOOloYcx6ArHbLbGziwCzJpulkWQXFux/IGYsHyIh/34oGQsHXmdte/wWwclYafDGwYbrzMeuVYQ+K8gYAUeYlWshQCbuDJW2HhtJm/E+Is1gs2y9ZOvsOpFfozw+wl1orw6bJLkQ6D1NqC/4WR60mxAuhLAjnFBfaTMD3xq+0jcio5vEw9PxNgDNhc7T2S/wrsVQjJ2mFx+ssrQ8pAaw3gYKt+MfOojemNQfWFcmXEwGlA4j4lElzWrUSJFAWWiaOIw/fh0u2WtUX0grPmQVOZInAOsVy0QUMDhsBzLNSif5irjGla/7rzPQ2SUCaPesQ7KcDXN0tT+vTFLHFgjEHzQcC7JYONOGzvZs+B0MqMRCGt0GcaHDt0xs8ucL7PYOngdrZBZq8pgJpoZaQnvIEALaFpB69DmIN7pXXoRBASBkBCwAg+x6uoIATZxZayw8VpN/A0/XwqSxdLT7fCkPa69jI850Wwf+apI9IHNxniwoQQiYQag3nTgR4PWq84A85pji4ElHYCKQ4Bc7jmMmQi56nrs/rGqVpRBNYC2Od3LiIZ3XBv+3IAOGzoEu5xZVJ6w1zJmzPoxs+h80l5fqA0TeFhIEzHnTrWuL9UDqCLw48EfldoB1QhYcqGzx+7MZUixIaiarqqqM3aWJWMNLMet1SjYtxlhNIzQ47HjYVDKoC0ua6lZGhLHLw62Nthql5TTZQW0ZWaJyJj9YzDpiE2ejFn4nElyBhu6dtPTb5Dw8gGFxJgZUCuYVJiBt6/65GFKls7ocJay89W45L6CwNuOgBV4iFUxFgJs4spYYeN99vM6TLz8UbBZdnnaCkOjTkTkSDbdVBXx0wKfrgOGpw96LV0poOliYNX/gJ02OS+7CoRu9fIlECmSiUh61rXx43XWdjK7Z2aERDrHlBqjakpvPrypbq/lu4xmCsZxVUtXDYOLDQ6mxco2Wj9Vt9cH07QJhC4LYEaVJQHuhHb5unLvil1ZQl/HemXqtvJQmLYndqdPT9toxQteR+1eZmF1GF3n6ApGGS1t0sDDgFSDYLRa00qRY9Ykc04MKkbwQeP9+O+7HFKbdW2w9dJW+3v60BvX6uHTh0gVN5WnU5H2oSBglM9jM29YLAvggoAgEDYCVuAhYY/SNy2EAJuIuxU2Xsuf1mDy1eBSVX2eNkM/v6mOs4+XCmi+EhhtONlfohtQqgdw9zIwKrOt/XuFgRZBH2eaCGG4utaHonixkRSFqzM3LtJ6uc5Nme3tv70//n36r3qLRJIZV36M7yp0iQTrfmkdawzWtrJ2VId2IVtwagH67uirDnNtqrcJRqvesIaus+PO5hm87svcX4LOZTTkcJYdC6tfT97Xznm8Zn61+aAxhQ5j3SjrlRk8PHj5/mUYdXqbrWymDhp68rDDzDw1hXWYVfPrCRZvc9vR+0bbFTY4T2c3v7d57jI3QcCXCFiBh/hy/qHdWwiwiStjhY3X4sfV+OV6kLXp45d+iBbpKUY/q42vojpZkVLxodlSYFxeGypxUgDt9wDRYtO7FwioC9z+E2i8AIiX0kTkXq/r7lu6KwkvhrHu9vV6DflqTUKdWwwuOlgdyOJH6gzq/FLujFq1rqJhpob4XwFb9pYlCSxN0GE8/MbXtBSYLr+gRvD+xvuVGoJWMghrvsw4t8nZBrce3kKTlU0cmrN2lmPV8mITyk0Iq7twvU+9Y2aBGVS1oNmHDurt1llaR6lj6Ps3XN4QR24eUcoeVPhgNFjWQClEfJ79c7TP1d6tcRjrxHkBXfVKpCrh1rXSyHMEtLKEvjK8Jiqe31muEAT+2whYgYdYdQWEAJu4MlbYeM1/WIEpN2yHeWo97oeBfr8gS+QL+PVZ+SD9X41BzERAk0XAhGK2VzoeB+K964iQxcodXC3fl799qQ6KMZhxZW2pmRFwIkCpPThH74K9HcgodX1j+cXC6dunXQ6HJJe2yIwai2vg7J2z9nY0gmAdpQ7tmnb05lE0WG5b398+/g00eaCtsidBpQzKnRmD7nRUhGDdZqlUpTC2tO1QobfjwPUDoPsXg4f6okaO6nALHlSjmYm2kG69trXKhNfPWB89C/ZUbWsvqa0UKzrk6oDPsocsAWfseP6p+XY5Ob5uLKnw9hylP0CX6mgsIuLBVHAXBAQBWMKPwKrrIATYxJWxAgFu+v1yTLvV0EaqHvdHH79pyB35NJY8L4TqUWwOZfaIHg9oNB+Y/Mo6ues5IKZB5sxErLzZ9edrP1fmEAx9sMyb/VNnmISX2Ua6Vek/7tTVpWFDu3XtlH1xxzwdlaObDh5co6sa1RV0MOOpa4SNH+trZQPdzmiAwdf0ISJmk2mrzKAz3MaLG5X1snPNcGjzTxozKa49uObQpHaG2srud8W5FaiUphKGlfCMVHuCN1U0aFWcIX6GMC+jgxtJfuW0lTG0uI20a5vdkOyLXXXqrJaxpOYSpI2XNsz7S4PwITD397kOD4N1P6iL3oV6h68zuUoQEATcRsAKPMTtwUZwQyHAJgJuhY3XZMxSTP/HpoNb7fFA/C9qAApHOY7Nz7OheJQjjrP3jw3UDwCm2UwC0PMq4BfDRITM6ZoZRWYWGcXeLYYfy746vOel2zm7eemP0z+I/wEWVF9gJ2TUtdVqBLw1s5jxo8XHrUdBmspUb6DmKmNsqbEo9V4p9bV2g9NDpiqBJrp8TX+E/PT5U+SeYasX/rHMj+owGGXRqOF64u8Tbs2YpNw4Jl7EQ0os3aBFM22CeUjMCjFgxwDMPTXXYV2JCx8EehboifqZ6rs1TGoKG8s+qKjBBxQJcxAwWmjzDsZyH3PuKL0KAoIAEbACD7HqSggBNnFlrLDxGn0XiJl3bB8xV308EJ2izkfpKAdx5EUaZIsclIlUDWh7XPNHYEFLGyp9bltK3cHdpTKqBxRIVgCTKtgksXRQB5ZB29zwhDMBHndgHCYcnoBsibIhoEoAagXWUmUOdNIyHrRyvtd3Jb8DP4rXh9sW11iM9O/YFDicpdBI0JjppGEFw+iaVmx2Mdx+fBv9C/dXh8HoJEdNYTqOuYoa6Wsg8EyQsQUd54z1xryGDw5UUeDYvOkIFh68jdfow1TUL6aOMaPEnBIKF86/Vobgkn+u7sn64iqLghwSjaYgrztGuT44AmvOr0HnTUEW3E0/bIou+boIVIKAIGAyAlbgISZPMdzdCwEON3RhX2iFjddw1CIE3P1EDbbK48FoH3URKkXZg79eJkLKSDZ5LpcRNTrQy/Fj8bBnbI0W1RZVs5cZGImSJpYskYgRNQZmVp6JhDESejToe0/uodCsIKmuI82OKLe0KUenIHeS3JhaaSrqLaun3N8qpa3kIP5vvNEPZX5A8ZTFoU00mB2msxvrXRnOShB7Gu0Bpbv2Xtur3je6pmnCzRpY3nfdn+tAksuDgM9e2g7gGYOGEzTQ0EEstCnEu7HfVfq/PHjGMe27tg/NPmyGr/N97RFOZjXWsmksV6DRCE1GvtrwFe4/vY9vi32r1AXcCVfr6M510iZ8CDg7FHqi2BG+O8pVgoAgQASswEOsuhJvNQE+ffo0RowYgZ07d+Lo0aPIlCmT+r87wevGjRuHq1evIlu2bBg+fDhKlizpzqX2NlbYeA1GLMCsey3UmCo/HozPoi5HrSjbcO9ldMSO5OhE5jC56O8A3S94NF+rNC4zr4zSsGVkSpAJ86rNsw/NeBp9WPFhiqR6EiSHlOLSQQL87e5vMfPETGgr4yYrmuDgjYOg3SsJrquYVmmaIpmMtRfWqppdZ8MGY6b5UNNDyvSCmWYGZcpIghmfrfkMO6/sVFlh6t/uuroLPMTGTDCVHJyDigftfwuulkACXzJVSUXoqSsc2y+2UlcwKi54gpUZbfXhNcq+8Z/xQCEz6mVTl3X7tjpznD9ZfkyuMNnt66Sh5wgcu3kM9ZcHladQwYP7SkIQEATMRcAKPMTcGYa/97eaAAcGBqJ9+/YoUKAATp06hRcvXrhFgEl+e/TogcGDByN37tyYOHEiFi9ejN27dysy7G5YYePVGz4Pc+7biNKWsoH4a9VoNIi6IewpUBKt88mw21moBWtWqSJglBDTBhF6mCP3jsSvx35V335T6Bt8/EFwjeTQpnTm9hnUDKxpb8LMLFUX5p2ap8oOaGXccnVL7L66G1kTZlUE0lWwVpg1w6EFDS20VTCJ9ql/TqH+svpgCQcJW+6kttrfHlt6YOnZpeprXfvbNkdbVeagXeiM92HpQOMVtrpwY9Cog7W/dFuL6x9XHUwjwfREXcHs7cBDfl/8ZpM/cw6dVXd3DDx8yHppzvnDhB+6e5m0CwcC/ISB1tY6hhYbisrpKoejJ7lEEBAEPEHACjzEk/FGZNu3mgCT8EaOHFnh+cknn2Dv3r1hEuDHjx8jadKkaNWqFYYNs518f/78uSK+2bNnx+zZ7lvCWmHj1R06B3Mf2jItt5puwJJfvkXzqKvD3mN0hfvyYNjtTG5BUhslUpQw63V5OGrl+ZUYUXwEvtr4lf0jfWYJN9bdaL++/47+iqwyOufpjE+y2spD3A0eWCMJ1cHDaawBJtnUihOt17VWmV9dTsC2HIeu3+X3qz9ajRSxDZbTLgbAj+l7beuFrImy2rO9rNVlbW786PGDyMTuoZhxwlYPq6Nrvq6qBEIfsONYnjx/oup5SfiqLa4W7I60aq6WvhrarW+n3ksRK4UynWDJRNMstjpyX0doNtGTyk9CgeQFfD1EuX8ICBQMKKhKVRgsP8qeOLtgJQgIAiYjYAUeYvIUw939W02Ajai4S4A3bNiA0qVLY//+/ciVy/YRNaNfv34YOXIk7ty5EyYZ09dYYePVGTIb8x9/rob07PPtmPTDYLSOuizsDZPkQ6Ctk0xa2Fd5tQXLGD5e+rHKao4vOz5U3I3lAiTMz18+t49lXZ11SBorqfq+2+ZuStqL4WyccO3+NSSOmdiuOetqMqyJ/WRVEGmeXmm6Kn+gNJfWHGaGkplKlhCwBIE1tsxEG1UZttbfCh4+80YM3jVYqUYYg6oNHJMuwaBsGGtkefDv9qPbKDbnldaz4SJqs9b5oI5dV1jjSD3juhmDzFS8Mebw9sEHAGb4XYWxrCS8/ct15iGgNZx5B7oW8qFQQhAQBMxFwAo8xNwZhr93IcBO2P34449o164dHjx4gBgxgiTA5s2bh7p16+LixYtImdI9FzQrbLw6g2di/pO2tlm23YUxY4fiS2cHOFf7J0VuoJUbpRLh33thXsma1/GHxqt2az5ag+Sxk7u8hiUB2aeFnE0aXWq00utlfLH+C2z8a6P62miTvPr8any96WtVEsHSiJBCH1rT71N7ds/VPUpxQV9rLF1gO8qM8SP2LZe2qMt4uIymD9rcIUwgwmjgKivKOa+7sM5eQlHr/VroX6S/6un5i+fIOT1nsF55Mr9h5oYONc5sNLDIQNR4v8brDtMr13OtCwQUsGf4jZ3OrjoblJWTsCYCfKDlAVQqnQwvPtztRII1ZyOjEgTeDASswEOsipQQYKeVGTRoEAYMGIBHjxwPiK1btw7lypXDoUOHVCmEq7h79y74T8eVK1eQP39+j0izJxvlt5PX0HvxMfhHjQy/KJHgF4X/j4wYflGQOE409W/ttp3YHK2jrdt2ezB3xk+oe8eNAz+piwDNbZlSX4XRJnd4ieEonKIwfv/7d+RJmsdOHvmx/sCdA7Ho9KIQh8msZp9CNhe1FqtbKMLKoFLCwKID1dc5p+W0Z41ZbxtSUBeXqgM6WE7wz6N/VM1vkw+bgKUH4w+OV2YUOuL4xUG5NOWUqxqDmS9mwLwZQ53KIKiQsOHiBntphLOUGbPDNJUwRpscbcDT+cZaTb5P7FkeYZWovrg6zt05F2w4i6ovwvvx37fKMGUcgoAgIAj4HAEhwCEvgRBgJ2xIgAcOHIiHDx86vLN27VqUL18ehw8fDvEgXN++fVWphHN4kjX25Kdl8YFL+GpO6HW6aSJdwcZor/Q32+/FoxOrEH19r7Bvk74M0MRG2HwVPbf2BAX0GSRnNC+g0QPJLEktY87JORi4y0ZinYOEmY5w78V5D8trL1dva4kyfq3d1Ph19qnZ8RI2fWAqLoSUnWVdbfct3e23opIDM6qHbx62qyWsPLcSXTd3dRgOT7z/fPhn9Vq6eOkQWDNIh9cb+Do7bdEVbvNfmzHu4DjVvSbnxnuN3T8WE49MtL+kndRKzS1ld6fjm1SNKJGqhDeG6ZU+Wq1ppfaBc6yotQKp4qbyyj2kE0FAEBAE3gYEhACHvIpCgJ2w0SUQJMDRo0e3v+tOCUREZ4DP3riHbadv4snzl3jy7AWePrf9u/f4GW7ee4Jrdx/hxvlj2GAnwPuA85uBZa8ywqH9dGeqCtSf6dOff9basuaWQVkv40EvnaV1LjcwDpikj6f8mYHd3tBmjaxtc/m1li3j18x6ai3c9R+vVwoIroJZ3D7bbdlkRqo4qZR2L9UStDTZiVsnUHeZY80sXcoG7RqkrtF6wd4El1JqtE/WsaL2Cuy4vMNuP2vUDdZtph2b5qAHrB8sjE56bDux/ESFlVWC+OtsujADLJMAACAASURBVHFMxlpvq4xVxiEICAKCgC8REAIcMvpCgJ2wedsOwV0/exhJpr068PTFfuDibmBx67B/HrPUBj6eEnY7E1vwABzrWxm0/tXZYH6vCbCRJDsPhRnNEXtHqJdZc0uJNGN2kzJls6rOClaywINtzpq8um8eeKPurw4ecGNJA+XGuufvruqKqVyRa3rQAUq2ZU2uLp0ombIkvi/zvVeRY1kHyzt08JDdriu77O5blEVrk7ONwz2XnlmKHlt72F/TusjGzDvfnFN1jqVkwpxLTPQEttTbgneoXy0hCAgCgoAgoBAQAiwE2GMZtNatW+Pbb21EhzJorPulFNqbJoOGG78DP7zS3+xwALhyCJjnhvRXto+BjxwthCP690nNxTWV05er0AS4wvwKSqrLVVBrtNuWbuotfercmOlNHis5Vn20Cjmm5XC4PDQ9We1EZrxAO6n1K9wPtTPUVm9pKTTdjrq/Hy35SH1rrD32FqZ//PMHai+x3ZtBwn/g+gE7KXZWvGAb5wN9et7UHmZmnZE+XnosrLHQawf2vDFfGnxQq9g5djXchZh+Mb1xC+lDEBAEBIG3AgEhwCEv41udAaaSw4oVtoNcP/zwA86cOYNRo0ap70uUKIHEiROjTJkyuHDhAugap0MbYQwZMkQZYUyaNAkLFy58I40wcP0k8OMrbdQvDwHXTwCzgnRsQ9wa2esBtW01q74KY7mC8xj2Nd4H/yj+0G5ersb4S4Vf7ARwSc0lSB03tQPZpczX9gbblaqAMUI79KWVKYz2wfpao7i/UWosQ/wMWFh9IcbsH4MVZ1egX5F+Xi8poKkDs9s6tHGGJt2uaoBpm8yaaB2sG86cMLMy2qBjHnWLu+bvCr/Ifr7aAi7v66zFrBvpLL+lBiuDEQQEAUHAhwgIAf6PEuDz588jbdq0LmfPUgdaG/Mf2/GfDhIAbYV87do1lfmlKUapUkEEw539bImNd+04ML6QbbhfHgb+PgtMD3IyC3EeORoCtWwSZL4KWg67cjLjeDbU3YBEMRJBi+vzwBtd2q49uGYf7rJay1TNL4NlDe+/8z4KzXqFxatWJKbGzClfpoZuzfddY0Sb4ClHpyhd3/N3g/YMrxtbaixKvRe0R07/c1qZbjT+sLGqFTYznj5/itwzbM5wDBLgGw9uoPS80up7avz2LdzXYQhX719Fufnl7K/xYSCOfxwzh+mVvh8/f4y8M/IG6ys09Q6v3Fg6EQQEAUHgDUPAEjzEopi91RlgX2NuiY137RgwvrANiq+OAncvAb9UCBuanI2Bmj+E3c7EFmXmlsH1h9dd3iGwRiDSvZMOuablwrOXz1SNLQ+CUaVBx86GO1EooJBSd6CSQaYEmVB2flmH/saUGoMvN3zp8FqPAj3QIFMDl/fVphM8yLb/+n6HNj+X+xmFUjgSbBPhCda1NgNJHCMxfqv7G4ykuFKaShhWwuZsqMOZSL5JBNJoqqDn8yaNPyL3hdxLEBAE/rsIWIKHWBR+IcAmLowlNt7VI8BPr5yzOh4D7t8Afi4ZNGsedqs4BBiZ0RGJXE2AGjYJLV9FaOUNzOjSIlgfNvup7E/Yemmrg1LEwSYHUXxOcdx9cheDig4CD73VCHQ0dKAd8sh9Ix2m2ClPJ6WH6yp6bOmBpWeXKgm13y7+pmyJdYR2eC4iMPxm2zfK/OLXSr/ig/gfqFtqUty/cH/UylAr2DAqL6yMi/9eRMb4GTG/+vyIGKZX7kH951sPb6H+8vp2i2khwF6BVjoRBASBtwgBS/AQi+IpBNjEhbHExrtyGJjwSgWi0wng0d2gmmDOnaUOVb8DBtmsgu2RuxlQfayJ6ITddeFZhfHvk39dNuSBLRpisASCMaXCFOy9thc/HLRlraNGiooDTQ9AE7wuebuAmr0NVzRU78f1j6uIMd3bWKbA0HW9rhQT9CDoZEVt4foZ66ts879Pg8Y3v9p8ZEzg9CAR9jS91oKlO/zPqGF8+MZhpaTBEogokaMEuxdrh6lPXCVdFeRI7HgY0GsDM7Ejow20EGATgZauBQFB4I1EwBI8xKLICQE2cWEssfEuHwR+fmVi0Okk8PwxMMZAdHI3BaqOBvoncEQibwsbMfZhGBUbSqYqia55uyp93XtP72Fw0cHKGa7kXFs2e1aVWTh285jdFIPavHsb70XD5Q1x5OYRvBv7XfDQ25///qna6xKGAskLKLkwBrV/adfaPEtzdMobpKlrhICHyk79cwrtc7bH3FNzVXsd1N41u9bXh8thyVtTu5l22dQp5n6QEAQEAUFAEAhCwBI8xKILIgTYxIWxxMa7fCCo5KHzKdtsR9o+HleRtyVQZSTQz0k/Nd+nttd9GCxvoKbuqJKjUC617bCWlj2j5m6pVKVQYYGtnpmH2Zj5rBkYdHiNGUFnOTK2JRGmrjDtkymFduX+FdUHD8nR0ILZ3Z4Fe7qcuS7LoGnEtOPTHCx5qb0bL1o8HyImtxYEBAFBQBAQBIQAu7MHhAC7g1I421iCAF/aB0y0KQHg6z+AKP7A0NRBMyrQGqg0FOjrRNzytwIqDw/nzF//Mn6cn31adtWR0YpXm2O0zdkWFdJUQI3Ftpre5bWW47247ylVA6obUKVhaa2l6La5G1acs0nh6aDSQZPMTfDjoR8dXtdZ4ZB0eml5TKUF1v1+X/p7TDg0AUdvHbX3ITJcr7/u0oMgIAgIAoKA9xCwBA/x3nS82pMQYK/C6diZJTbeX/uASZoAnwaixwUGGmx+C7UHKgwKToDL9AGKuS4DMBEye9dPXzxF7uk2Wa8JZSeg8Lu2j7dbrm6J3Vd3K2tkZnG15bC2wb3z+I46CJc/WX7kS5YPQ3YNQcDJAIchJ4uVDO1ytgtmpsAyi40XNypiPaKEzUHOGBfuXrDLqs2uMhvf7fsOu67ayidYP7y70e6IgEbuIQgIAoKAICAIuIWAJXiIWyON+EZCgE3E3BIb7+IeYPIr6a8uZ4GYCYB+8QG8tM28aCegbB9HApy+DFB/JuAXw0R0Qu+atZ2sAWZMLj8Z+ZPbvu64oSPW/blOkV8eYGuysol6PaTyA21cYbxb0phJlSrEp2s+dRiEtlsunrI4eMiOTmp0HPss22cgadbtY/vFxuZ6m5XN8IaLG1QfrB9e//F6n+ElNxYEBAFBQBAQBJwRsAQPseiyCAE2cWEssfEu7gYmvzI76HrORoAHpwS0ukKJbkCpHo4EuO8dE1Fxr2uqP1AFgjG14lTkTmrLBvfZ3gcL/1gIZmsbZW6Ez9Z8pl7f02gPokeNHqzzWSdngUoBxvg026eo/X5tVF5U2eF1ZpV19nhyhckoPbc0bjy8odoYnd/KvFdG6Q7TLpi2wQxaBi+uudi9yUkrQUAQEAQEAUEgAhCwBA+JgHmG5xZCgMODmpvXWGLj/bkzyPii23kgRnzg16rA+S22WZTqBZToYjkCTBteHjhjBFQOQLbE2dTXI/eOxK/HflUqDi2ytkD739qr1w83PYxIkSIFW5lNFzfZ21AZomGmhmiXqx0iIRLyzMhjb8+DcS2ztVSSYNkSZUNAlQBkn5pdyYo5R+scrVUJxdj9YzHxyET1NiXEZlSe4ebOkGaCgCAgCAgCgoD5CFiCh5g/zXDdQQhwuGBz7yJLbLwLO4ApFW0D7nYBiPEOsGEwsGmo7bWyfYGiHS1HgCkvVmZeGTXEuVXnInPCzOrriYcnYuyBsUqxgUT0601fQ0ueuVoV2hHXWmIzgHCu7S0cUNiu4xs9SnR8nuNzjNk/RvW9qMYidX+jzJnu/+u8X6NZlmZYcXYFum3ppl4ulLwQfi7/s3sbQ1oJAoKAICAICAIRgIAleEgEzDM8txACHB7U3LzGEhvvwnZgSiXbiLtftB2C2zcVWNrB9lr5QUDh9qYQ4Mv3LmP68el4J9o7ilx6ErzWKHGWIX4Gdfmck3OU1m+SGEnQIXcH9NrWS5labGuwzWX3D54+QIGAAuq9kilL4vsy39vbaUk1vhDHL47KDH+7+1ukjJ0SKz9aadcQdu54bZ21qib4979/R52lddTbNd+viQFFBngyRWkrCAgCgoAgIAiYioAleIipMwx/50KAw49dmFdaYuOd3wr8WsU21v/9BUSLA5xYCsxpbHut0jCgwOfADwWBGydsr3mhBpg1vEVmFbGXEKz+aDVSxE4RJma6gVFxYWnNpUgTL416a9W5VeiyuQv8I/srswoSVppcrPpoVYh9l5xTErce3cKk8pNA4wsddZbUwe///K6+TRA9ATrk6oC+O/oiYfSE2FhvI7Trm7HjedXmIVOCTOolSrWRgHOu/Qr3Q/zoPFwoIQgIAoKAICAIWAMBS/AQa0ARbBRCgE1cGEtsvHNbgKlVbbPscRnwjwWc3wb8+uoAWNl+QNGvgFtngGVfAXmaA1lrvzYqtN+lZq+OXyr8omTJnINKC6y/ZYmDX2Q/+9tnbp+xm1qsrL0SKeOkVO/tuboHLVa3UF83+7AZph6fiozxM2J+9fkhjpl2v5fuXUL2RNkd6oSbr2qu7JMZVIbolKeTKmmI5RcLOxvuVPfh/XTU/aAuehfq/drYSAeCgCAgCAgCgkBEIGAJHhIREw3HPYQAhwM0dy+xxMY7uwmYVv0VAb4C+McErp8Afixoe63Y10AZ75O6g9cP2iXKeBtaF/tH8cdPh35CzwI9kTdZXvx5909UWWTLTkeNHBUkuiwtYBjLC3TJAV8/f+c8qi2uptpQrmzzX5uRJ2ke/FrxV3eXxd6uw28d7DJmLHvokq8LvtzwpXKUO9jkIBqvaIzDNw/b2+vaX49vJBcIAoKAICAICAI+QMASPMQH83bnlkKA3UEpnG0ssfHObgSm2dzS0PMa4Bcd+PdakB2ydoIL5xxDumzH5R1otbaV/e0vcn2B7w/Y6m/1IbMNf25Ahw2vapFftSRRrpa+Go7ePIoGyxuoVzfW3YiEMRKqr+8/vY+CATbynipOKlz896KSRKMzm6fRc2tPLDmzRF2WLl460F5Zj3lf433q/qf+eWUfDWBsqbEo9V4pT28j7QUBQUAQEAQEAZ8gYAke4pOZh31TIcBhYxTuFpbYeGd+A6bbVBDQ6zoQNRrw7AkwMLHttZyNgJqOlsDhnrDhQmdyS2c2OrgxWG+7qd4mLPpjEb7Z/o3D7TInyIy51ebCmEF2NrmgQQaNMnRUS1cNg4s5av26M4ehu4cq3V8Gyyh6FezlYKzRaEUjsBZZB40uaHghIQgIAoKAICAIvAkIWIKHWBQoIcAmLowlNt7p9cCMVzW9vW8CUV7V2faNZ5v5J8uBNEW9joJRIsy5c62ZO+XoFIzaNyrYvanowBIIXeu7q+EuxPSLaW9XdVFVB2LaIFMD9CjQw+M5jD84Hj8espF/jokEWNcts+yCJRDXHlxT71N3eGqlqR7fQy4QBAQBQUAQEAR8hYAleIivJh/GfYUAm7gwlth4f6wDZn5km2XvW0CUqLav/70K3LkEpAwyg/AmFHRro2ubq9BGE6P2jsKUY1OCNVlQfQF4cI0qDIz9jffDTxN3AF02dcGq80GqD7QqpiSap2HMQFMjmGUaJNeMJTWXoOnKprj9+DZKpSqlJM7iRXv10ODpjaS9ICAICAKCgCDgAwQswUN8MG93bikE2B2UwtnGEhvvj7XATJtWLb75G4gcRZUPzP19LgomL4iMCTKGc3ahXzbzxEwlUUaNXt7v6Yun9gtYbxtYMxC9t/XG4tOLUSBZAWVrrOuBfyjzg2rbbn079f9DTQ+pg2k6Zp+cjUG7Btm/p3pD86zNPZ7H7iu70XJNS3VdnQ/qoHX21ig7v6z6nuYbzVY1U2MfVnwYKqV9paXs8V3kAkFAEBAEBAFBwDcIWIKH+GbqYd5VCHCYEIW/gSU23qnVQEBd2yT63AYiRVLElASVcaTZkfBPMJQrJx+ZjNH7R6sDb9Tp3fTXJntr1tGynvaL9V9g418b8VGGj9C3cF9ovd7eBXsjjn8cdN3cFTGixsDuRrbaYR3MDpeaG3QYLSSJtbAmRmm0igtsLnkcA3WFqV3MmFpxKj5Z9YnSMR5TagxKv1c6rO7kfUFAEBAEBAFBwFIIWIKHWAqRoMEIATZxYSyx8X5fBcyqZ5tl3zvK2ldbDLtLgKmEMGz3MDT5sAlKpCrhFmLjDozDhMMTkDVhVuROmhvTjk+zXxczakzsarRLEcx91/aheZbminw2WNYAR28dVfq+78V9DwN2DlCOb+vrrg92z1+P/oqR+0biw4QfYnaV2Q76vm4NEMCzF8+Qa3ou1Xx4ieEo814Z5J6eW31P0ktJNMaEshNQ+N3C7nYr7QQBQUAQEAQEAUsgYAkeYgkkgg9CCLCJC2OJjXdyBTCbcmKRgL63MWDHAMw9Ndc+a3cywNUXV8e5O+fUNe60Z7sRe0YokwqaX7CGdtieYQ5IU2e34YqGOH7rONrmaIs2Odtg8K7BmHVyFj6I/wGqpKuC7/Z9h7Tx0qp6XFdx9f5VVZfLLHF4g3JtZ++cRcNMDRWJ1goTPFTH8TCmVZqGXElsRFlCEBAEBAFBQBB4UxCwBA+xKFhCgE1cGEtsvJPLgdkNAdbQ9vlH1dXSPELHgSYHlAlFaJFtajaPCDOtgcfsH4M5v89BsXeLoVaGWui0sZPDLbY32I6Gyxvi/N3z6JynMz7J+gm2XtqKNuvaqHYkwcw8071tZhVbuUZERLn55UBizWz39OPT1S0DawQi3TvpIuL2cg9BQBAQBAQBQcBrCFiCh3htNt7tSAiwd/F06M0SG+/EMmBOI4Ak95tbcFZe2FJvC96J/k6oKBSfXRz/PP5HtaFBBB3dXMWLly9Ac4llZ5fZ3y6Xuhw+zfYp6i17VYbx6p01H61RmruUGetVoBfqZaoHXk/lhUM3DtmvL5yiMCaUm2DiKjl2/dGSjxTxprnGxosb1Zsb6m5AohiJImwMciNBQBAQBAQBQcAbCFiCh3hjIib0IQTYBFB1l5bYeMeXAHObAJH9gG9u2ksT9BhX1F6hHNVCi1qBtXD69mnVZFmtZUgdN7XL5mvOr0HnTZ0d3quevjoGFhmIkXtHgofO1v25Tr2/sPpCVQN898ldDCo6CGzH+OOfP1B3aV08e/lMfV8+dXmMLDnSxFVy7Jraw3uu7kH6eOlx5s4Z9aazDFuEDUZuJAgIAoKAICAIvAYCluAhrzF+My8VAmwiupbYeMcDgblNgSjRgN7X7XW2etpzqs5RB8lCi5arW9pd3EJTXOi+pTuWn13u0BXlzWgxzLjz+A6KzraZbrCulv1SHm1UyVFgplhH3+19seCPBerb2hlqo1/hfiaukmPXHTd0VCTdP7I/nrx4An1gL8IGIDcSBAQBQUAQEAS8hIAleIiX5uLtboQAextRQ3+W2HjHFgHzPgGiRgd6XYORXHKok8tPRv7k+UNFgYYU2y9vV22cyarxwlZrWmHHlR0OfX2e/XO0z9VevWZUXRhbaqxd9/ensj+hyLs2+THG3qt70Xy1Tdc3oksgaN5BEw8dyWMlx5o6a0zcJdK1ICAICAKCgCBgDgKW4CHmTO21exUC/NoQhtyBJTbe0YXA/OYArYR7XsH/tvzPoUZ3dMnRKJO6TKgoaLkyNupTqI8yjXAVLF048fcJh7e+zvs1mmVpZn9NqyxQ65cyZwxq7lIqTcfLly9RI7CGUp7oX7i/OkQXUeFcI50pQSbMqzYvom4v9xEEBAFBQBAQBLyGgCV4iNdm492OhAB7F0+H3iyx8Y7MBxa0BPxiAT0vo/PGzlhzISijObjoYFRLXy1UFKjWcOSmzTDjq9xfoWU2m3uac5SfXx5X7l9xeLlvob746INXVswASs8tjRsPb6BNjjYYf2i8akvXtcwJMztcd//pfXUYLn+y/GGqVHhzCacdm4bhe4fbuyyUvBB+Lv+zN28hfQkCgoAgIAgIAhGCgCV4SITM1PObCAH2HDO3r7DExtME2D820OOS3X1NTyK0jK5uo5UR+D0th2k97Cp0dtf43sgSI1E+TXn7S9UWVVPSZ3Re03W+S2suRZp4adzG1cyGq86vQpdNXey3+CTLJ+ic1/Fgn5n3l74FAUFAEBAEBAFvIWAJHuKtyXi5HyHAXgbU2J0lNt7hucDCz4BocYH/XYSxnpdj5QE1HlQLLTRpZZuQDqU9evYI+WbmC9YNJcxYx6tDZ5NLpCxht0deV2cdksZKauJKuN/1wesHlTybjuHFh6NiWptdsoQgIAgIAoKAIPAmIWAJHmJRwIQAm7gwlth4h+YAi1oB0eIB//vTbj+spx1aSYNuYyxtoF3w6FKj7ait/3M9vt74NSJHiqxUE5wjoHIAsiUOMtL4bM1n2Hllp3Jve/jsIaJEioIdDXe8lpubN5fw8r3LqLCggr3LtXXWIlmsZN68hfQlCAgCgoAgIAhECAKW4CERMlPPbyIE2HPM3L7CEhvv4CxgcWuAZhfdL6DR8kY4fPOwfQ6tc7RGu5ztQp1TiTkl8Pejv1WbvEnzYkrFKfb2xvf0i9rFjd876wZ33dQVK8+vtF9fOlVpjCk9xm1MzW5IWbZCAYXw+PljZIifQekVSwgCgoAgIAgIAm8iApbgIRYFTgiwiQtjiY13MABY3AaIER/odh51ltTB7//8bp918yzN0Smv65pe3YiE8N7Te+pbZ1KYZ3oeh8wvyykoHTZi7wiUTFlSkVtmh3UM3T0UM07MsH8/pNgQVE1X1cRV8LzrYzePIeBkAGq9Xwt5k+X1vAO5QhAQBAQBQUAQsAACluAhFsDB1RCEAJu4MJbYeAdmAIHtgJgJga5nYazn5dQbZGqAHgV6hIpC7um5lWEFI0mMJFhfd736+vmL5+DBN5Y+1EhfQ/XF7K9fFD/cengLCaInQKRIkRz6nnxkMkbvDyqhsFL9r4lbQboWBAQBQUAQEAQiHAFL8JAIn7V7NxQC7B5O4Wpl+sZ78QI4vghghjVLCFq5+6cDS9oDMRMBXc+g4oKKypJYB7Oc/Yv0D3F+L16+QI5pOezvR4sSDXsb71Xfsx/2x3AlZeaq08DTgei1rZd6i25r7MuZJIcLbLlIEBAEBAFBQBAQBBwQMJ2HvMF4CwE2cfFM33hr+wDbRgOxkwEd9gP+sYLPZv80YMkXQKwkQJc/UGpuKdx8eNPerlLaShhWfFiIKLhSd9jTaA+iR42O7Ze24/N1n6trdzXchZg02wgjjNckiZkE6z+2ZZMlBAFBQBAQBAQBQcC7CJjOQ7w73AjtTQiwiXCbvvFungZ+yA+8fA5krwfU/AmIHFRvq6a271dg6ZdA7KTA16dQZFYR3H1yF36R/VRZQ1iH0G4/uo1ic4o5oKTLFsrOK4trD64htl9speTgTly4ewFVF9lqfqNHiY49jfe4c5m0EQQEAUFAEBAEBAEPETCdh3g4His1FwJs4mpEyMZbPwDYMsI2i+z1gRrjgCh+QbPaOwVY9hUQJznQ+aSq2aX8GOtztbLD2FJjUeq9Ui6RuHLvCsovCDKyYKP51ebjJV7i46Uf226bKDtmVpnpFpK0Oc4+Lbu97ZFmNoc5CUFAEBAEBAFBQBDwLgIRwkO8O+QI600IsIlQR8jGYx0wD7kdCrDNJH1p4ONfgejxbN/vmQws7wTESQF0PgGt2pAydkr8de+vMIno2dtnUSOwhgNKk8tPxq6ru/DzYZtF8MAiA1Hjfcc2ocE6cOdAzPl9Drrl64bGHzY2cQWka0FAEBAEBAFB4L+LQITwkDcUXiHAJi5chG08kuC1vYEd42yzSZAO+HgqkDw7sGcSsLwzEDcl0OkYck3LhWcvnyFj/IwOcmghZWIpCVZ/eX0HlL4r+R2Wn12OdX+uUxJmlDLzJJ4+f4qzd84qxQg5AOcJctJWEBAEBAFBQBBwH4EI4yHuD8kyLYUAm7gUEb7xdk0AVvcAXjwDokQDKg4BXjwHVnYB4qUCOh5F9qnZVflCgWQFVBZXR0gEeM/VPWixuoVqpt3b+hbqi7mn5uL4reNolb0Vvsj1hYkoSteCgCAgCAgCgoAgEB4EIpyHhGeQPrpGCLCJwPtk4/25E5jXHPj3suPMEn2AF+122SXNuuTtguF7h4dJgDf/tRnt1tuc4tLETYPzd8+jY56OmHpsqqoh7lOoD+p8UMdEFKVrQUAQEAQEAUFAEAgPAj7hIeEZqA+uEQJsIug+23j3b9rqgk+tCppd7qZ4WnUUaGrBmFB2Ar7e9DX+ffqv+j6kDPCq86vQZVMXUP83S8Is2H99vwNiP5X9CUXeLWIiitK1ICAICAKCgCAgCIQHAZ/xkPAMNoKvEQJsIuA+3XgvXwJ0gVv1P+DJv0CjBXiUtijyzcynZjyp/CT8++RfdNzYUUmi7W/iSGw1LIv+WIRvtn+D+NHiI0eSHNh4caMDYstqLUPquKlNRFG6FgQEAUFAEBAEBIHwIOBTHhKeAUfgNUKATQTbEhvv3nXg9p9Ayrx48PQBCgQUUDP+pcIvSg5NlzccbnrY5YG0gBMBGLJ7CFLESoF8yfIh8EygA2IHmxxElMhRTERRuhYEBAFBQBAQBASB8CBgCR4SnoFHwDVCgE0E2WobjxnfwrMKqxlPrTgVT148wWdrPlPf05KYZQ7OMfnIZIzePxrp46VHvUz1MHjXYIcmouNr4gaSrgUBQUAQEAQEgddAwGo85DWm4vVLhQB7HdKgDq228YyubjMqz8CLly/QdGVTNeBtDbYhrn/cYGh8f+B7pfebNWFWTK88HdOOT8Ock3Nw+f5lpf5AFQgJQUAQEAQEAUFAELAeAlbjIVZCSAiwiathtY136+EtlJxbUs14VpVZquSh/jKbxu+GuhuQKEaiYGg0W9lMHXwr+m5RjC873v4+yyli+sU0ET3pWhAQBAQBQUAQEAReBwGr8ZDXmYu3rxUC7G1EDf1ZbeNdf3AdZeaVUSOcU3UO/CP7Qil+7AAAG65JREFUo9aSWur71R+tRorYKRzQuP/0PgoGFFSv0eyCphcSgoAgIAgIAoKAIPBmIGA1HmIl1IQAm7gaVtt4V+9fRbn55dSM51ebr4wtqiyqor5fUnMJ0sZL64DGpXuXUHFBRfXawuoLkSF+BhPRkq4FAUFAEBAEBAFBwJsIWI2HeHNur9vXW02AT506hQ4dOmDLli2IFSsWGjRogG+//RYxYsQIFbeSJUti06ZNwdqcOHECmTJlchtzq208I6FdVH0RYvvHdiDEGRNkdJgbnd7qLaunXltXZx2Sxkrq9tyloSAgCAgCgoAgIAj4FgGr8RDfouF497eWAN++fRtZs2ZF6tSp0bt3b1y/fh2dOnVCxYoVMWPGjDAJ8LNnzzBixAiHdjlz5kT06NHdXj+rbbw/7/7pkPF9J9o7KD6nuJrPzMozkT1xdoe57byy064SsafRHkSP6v7c3QZJGgoCgoAgIAgIAoKAKQhYjYeYMslwdvrWEuChQ4eif//+uHDhAhIlsh3uCggIQKNGjXD8+HFkzpw5RMiYAY4dOzaWLVsWTlhtl1lt4527cw7VF1dXY1tea7k69KZ1gadUmIK8yfI6zHf1+dXKLY61wvua7HstLORiQUAQEAQEAUFAEIhYBKzGQyJ29qHf7a0lwCVKlMA777yDwMAg44bHjx8jXrx4GDRoEDp37vyfI8Bnbp9BzcCaat4ra69UJQ1Ga+TC79o0gnXMOzUP/Xf0R+IYifFb3d+stG9lLIKAICAICAKCgCAQBgJCgEMG6K0lwEmSJEGLFi1Uza8xsmTJgkKFCmHSpEmhEuB9+/bhxYsXeP78OQoUKIABAwageHFbuYC7YbWN9/vfv6PO0jpq+GvrrEXSmEmRc3pOpQc8ttRYlHqvlMPUjCYYi2sudnfa0k4QEAQEAUFAEBAELICA1XiIBSCxD+GtJcB+fn6KtHbv3t0B76JFi4LkeOHChSGuQ58+fVTtcIYMGXD58mVVC3zo0CF1MI7kOaS4e/cu+E/HlStXkD9/fly8eBEpU6b0+bqfuHUCdZfVVeNY//F6JImZBPln5leWyMNLDEfFNDbFBx2j9o3ClKNTkCtJLkyrNM3n45cBCAKCgCAgCAgCgoD7CAgBDhmrt5oADxw4EN26dXOYfZEiRZAsWTIsWLDA7R10//59MHP84YcfYsWKFSFe17dvX/Tr1y/Y+1YhwEdvHkWD5Q3U+LTxRdHZRXHn8R0MLjoYVIkgSR5afKg68NZ3e18s+GMBSqYsie/LfO82XtJQEBAEBAFBQBAQBHyPgBDg/yABfp0SCFdwtWvXDvPnz8e1a9dCRNPqGeBDNw6h8YrGavxb6m3BO9HfQem5pXHj4Q10ytMJzPgyehfsjboZ66LTxk5Ye2EtqqevjkFFB/n+J1lGIAgIAoKAICAICAJuIyAE+D9IgF/nEJwruNq2bauyxqERYOfrrLbxDlw/gKYrm6phbmuwDXH94yqjC2Z+y6Uup8gug2S4edbm+HT1p9h1dRcaZ26MbvkdM+lu//RJQ0FAEBAEBAFBQBDwCQJW4yE+ASGEm761JRCUQWMNMGXQEiZMqKY/e/ZsZYYRlgyaM1YsgWD5Q7Zs2TySRrPaxttzdQ9arG6hprez4U7E8ouFGotr4Oyds+pA3LUHtux213xd0eTDJqi7tC5O/H0CbXO2RZscbay0b2UsgoAgIAgIAoKAIBAGAlbjIVZasLeWAGsjjDRp0jgYYVSoUMHBCKNly5aYOnUqaHzBoGscD73VqlVLHYTjIbiRI0fi2LFj6j0eanM3rLbxdl3ZhU/XfKqGr40tNMk1zolkl6S3wvwKuHz/Mv6X/39omLmhu9OWdoKAICAICAKCgCBgAQSsxkMsAIl9CG8tAeYMaYX8xRdfYOvWrYgZM6bK/jIzbLRC/uSTTxQBfvnypQLl9OnTaN++vVJ9uHXrlrJQLly4MKgM4Qn5ZV9W23jbL23H5+s+V/Pc33g//KL4odGKRjh847DDnmyUuRG65++OQgGFcO/pPQwpNgRV01W10r6VsQgCgoAgIAgIAoJAGAhYjYdYacHeagLsa6CttvG2/LUFbde3VbAcanoIkSNFViURLI0wRrV01dC/SH/kmp5LvfxDmR9QPKVnGsi+xl7uLwgIAoKAICAI/NcRsBoPsdJ6CAE2cTWstvE2XdyE9r+1VzM+0uyI+n/rda2x7dI2BxQoe9YlXxdUWVRFvT6/2nxkTJDRRKSka0FAEBAEBAFBQBDwNgJW4yHent/r9CcE+HXQC+Naq2289X+ux1cbvkKUSFFwsOlBNfovf/sSv110tDnOnSQ3WmRtochyJETC7ka7lS6whCAgCAgCgoAgIAi8OQhYjYdYCTkhwCauhtU2HmXOqO3rH9kf+5rsUzPvuqkrVp5f6YBC2nhpUev9WkoXOGXslFj5keP7JkImXQsCgoAgIAgIAoKAlxCwGg/x0rS80o0QYK/A6LoTq228VedXocumLogRNYbK6jJ6bu2JJWeWOEyA+sBF3i2CledWiguciftDuhYEBAFBQBAQBMxEwGo8xMy5etq3EGBPEfOgfURsvOcvniNK5ChujWr52eXovqW70v+lDjBD2x07d5AsVjJcvX8VX+T6Aq2yt3Krf2kkCAgCgoAgIAgIAtZBICJ4iHVm69lIhAB7hpdHrc3eePee3EOD5Q3w8QcfK53eqJGjhjq+pWeWosfWHsoBjk5wDFc1wMZOxpcdj6LvFvVo3tJYEBAEBAFBQBAQBHyPgNk8xPczDP8IhACHH7swrzR747FGd8rRKWocH8T/AL0K9kKuJDbpMlex6I9F+Gb7N4gfLT4219+smtRfVh/Hbh0L+Zrqi/B+/PfDnKs0EAQEAUFAEBAEBAFrIWA2D7HWbD0bjRBgz/DyqLXZG+/mw5sYtXcUlp5dah8XD691zNMR8aPHDzbWBacWoO+OvkgYPSE21tuo3i8ztwyuP7we4rw219vssi+PgJDGgoAgIAgIAoKAIBDhCJjNQyJ8Ql68oRBgL4Lp3FVEbTwaWQzcORBn75xVQ4gXLR465u6IWhlqKbMLHXN/n4sBOwcgScwkWP/xevXymvNr0HlTZ5coUC5tf5P9Dn2YCJd0LQgIAoKAICAICAJeRCCieIgXhxxhXQkBNhHqiNx4T58/xfQT0/HToZ/w8NlDNavsibOjd8HeyJQgk/p+1slZGLxrMJLHSo41ddbYZ3729ll8ueFL/HXvLySIlsCeEU4cIzF+q+uoEWwiXNK1ICAICAKCgCAgCHgRgYjkIV4cdoR0JQTYRJh9sfEu37uMobuH2s0tmAFukKmBMrYIPB2IsQfG4t3Y72LVR6scZv74+WPwUN13+75D4JlA9R6J87xq80xESLoWBAQBQUAQEAQEAbMQ8AUPMWsu3u5XCLC3ETX058uNR9vjIbuH4NK9S8FmmC5eOgTWtJFc55h6bCpG7B2hXi6XuhxGlRxlIkLStSAgCAgCgoAgIAiYhYAveYhZc/JWv0KAvYWki358vfFYCjH5yGTMODED95/eVyP0i+yHfoX7oVr6ai5nfuPBDZSeV1q9933p71EyVUkTEZKuBQFBQBAQBAQBQcAsBHzNQ8yalzf6FQLsDRRD6MMqG4/k9+D1gyobnDdZXjADHFpsu7QNl+9fRp0MdRApUiQTEZKuBQFBQBAQBAQBQcAsBKzCQ8ya3+v0KwT4ddAL41rZeCaCK10LAoKAICAICAKCQKgICA8JGR4hwCb+8MjGMxFc6VoQEAQEAUFAEBAEhACHcw8IAQ4ncO5cJgTYHZSkjSAgCAgCgoAgIAiYgYDwEMkAm7GvwuxTNl6YEEkDQUAQEAQEAUFAEDAJAeEhQoBN2lqhdysbzyewy00FAUFAEBAEBAFBAIDwECHAPvlBkI3nE9jlpoKAICAICAKCgCAgBDjUPSA1wCb+iAgBNhFc6VoQEAQEAUFAEBAEQkVAeIhkgH3yIyIbzyewy00FAUFAEBAEBAFBQDLAkgH21U+BEGBfIS/3FQQEAUFAEBAEBAHhIZIB9slPgWw8n8AuNxUEBAFBQBAQBAQByQBLBthXPwVCgH2FvNxXEBAEBAFBQBAQBISHSAbYJz8FsvF8ArvcVBAQBAQBQUAQEAQkAywZYF/9FAgB9hXycl9BQBAQBAQBQUAQEB4iGWCf/BTIxvMJ7HJTQUAQEAQEAUFAEJAMsGSAffVTIATYV8jLfQUBQUAQEAQEAUFAeIhkgH3yUyAbzyewy00FAUFAEBAEBAFBQDLAkgH21U/B+fPnkTZtWuzevRvJkyf31TDkvoKAICAICAKCgCDwH0TgypUryJ8/P86dO4c0adL8BxGQDLBPFn3Pnj1q40kIAoKAICAICAKCgCDgKwSYiMuXL5+vbm/J+0Z6+fLlS0uO7C0Y1KNHj3DkyBEkTpwYUaNGNWVG+ulOssymwOtRp7IWHsFlamNZC1Ph9ahzWQuP4DK9sayH6RC7fYOIWItnz57hxo0byJYtG6JHj+722P4LDYUAv+GrLHXG1llAWQtZC+sgYJ2RyM+FddaCI5H1sM56yFr4di2EAPsW/9e+u/wAvTaEXutA1sJrUL52R7IWrw2h1zqQtfAalF7pSNbDKzB6pRNZC6/AGO5OhACHGzprXCg/QNZYB8msWGcdZC1kLayFgLVGI38zrLMesha+XQshwL7F/7XvfvfuXYwaNQqdOnVC3LhxX7s/6SD8CMhahB87b18pa+FtRMPfn6xF+LEz40pZDzNQDV+fshbhw81bVwkB9haS0o8gIAgIAoKAICAICAKCwBuBgBDgN2KZZJCCgCAgCAgCgoAgIAgIAt5CQAiwt5CUfgQBQUAQEAQEAUFAEBAE3ggEhAC/EcskgxQEBAFBQBAQBAQBQUAQ8BYCQoC9haT0IwgIAoKAICAICAKCgCDwRiAgBPiNWKbggzx16hQ6dOiALVu2IFasWGjQoAG+/fZbxIgR4w2dkfWGPW/ePMycORP79u3D33//jfTp06NNmzb4/PPPETlyZPuAV6xYgZ49e+LEiRNImTKlUuRo27ZtsAmNGDEC48aNw9WrV5Urz/Dhw1GyZEnrTdziI7p37x4yZcqES5cugXbjefPmtY946tSpGDJkCM6fP4/3338fffr0wccff+wwo6dPn+Kbb77Br7/+ijt37qBAgQIYM2YMsmfPbvGZW2t4kydPxtixY/H7778rBZqCBQtiyZIlshYRvEyLFy9We56/f/j7v0iRIur7jBkzOoxEfja8uzCnT58Gf6fv3LkTR48eVb+T+H/n8Cbu/Nvx5ZdfYuXKlepvUPXq1TF69GgkSJDAu5P7j/QmBPgNXOjbt28ja9asSJ06NXr37o3r168r0lWxYkXMmDHjDZyRNYfMP+jEuFatWkiaNCk2bNig/rB89dVXirwyduzYgeLFi6Np06Zo3Lgxtm3bpkjXhAkT8Omnn9onxl+UPXr0wODBg5E7d25MnDgR/MNFC2uSYQn3EejWrRv4R+XatWsOBHj+/PmK7Hbv3h3ly5dX+H7//fdYtWqV+l5H+/btMW3aNIwcORJp0qTBsGHDcPDgQWVbnixZMvcH8h9u2bdvX3z33XfqwY8PEHxAJM7c9wxZi4jZHOvWrVN7m797mjRpAv5t4NpQXuvYsWN2aUxZD++vR2BgIPi7hPufCakXL14EI8DexJ2WxnzYf/Lkifo7xAf5rl274t1338XmzZsRKVIk70/yLe9RCPAbuMBDhw5F//79ceHCBSRKlEjNICAgAI0aNcLx48eROXPmN3BW1hsy/dMTJ07sMDA+aIwfP179oYkWLRoqVaqk/vjv2rXL3q5Vq1ZYtmyZshzlU/rjx48VgebrJFuM58+fK+LLrOPs2bOtN3mLjujkyZPqjwDJa+vWrR0IMPc9MZ07d6599BUqVFBZXmZpGMwa86GGmUudpf/333+RNm1a9cDCT1EkQkeAmUbizE8+jA8WxqtkLSJmF3HPrl+/HmfPnrUTID5Uk5Rxffj7iSHr4f31IOHVnwR+8skn2Lt3bzAC7E3c58yZg/r166t7ZMmSRU1o+/btKuPPjDATYBKeISAE2DO8LNG6RIkSeOedd8AnUB0kWfHixcOgQYPQuXNnS4zzbRzE9OnTVbb38uXL6mMnfvRL0tSxY0f7dDdt2qRKG/gLMU+ePCpzXLp0aezfvx+5cuWyt+vXr58iciRo8vTu3m4h4eJDQ9WqVVGqVCk7AT537hzSpUuHhQsXqoy9DmaKmzdvrj4l4cPilClT0KJFC9y6dcvhY0O24XoxCywROgLMwC9atEhlvVyFrEXE7aBmzZrhwIEDOHz4sP2mXBeWPyxfvhyVK1eGrIf56+GKAHsbd641P6k6dOiQw4T48M7fh/y0S8IzBIQAe4aXJVonSZJE/RF3zlbxqbBQoUKYNGmSJcb5Ng6CWdwFCxYoQsXaR2Lu/PTNzDHXiGSZH03++OOPaNeuHR48eOBQo80a47p16+LixYuqdlgidAT4cSJx/OOPP9TDhJEAM9tVpUoVVQfJWjwdrBHOnz+/qpUvWrSo+siQ5Q+spTMGS1r4cf6jR48c6rtlTYIjwAdwPkzkzJlT/dHlpyH8vcM6ar4maxFxu4YffZcpU0a5geoSCJ4NYX0qiTE/pZL1MH89XBFgb+PO32N8yHf+xJC/95gAYzmMhGcICAH2DC9LtPbz88OAAQNUraMx+AeexItZMAnvI8AMIf/Qs8a3V69eqt6XmLMOmPXCOlirxTUiIeAfI2bluV4kV8bgL6xy5cqpJ3o5gBX6evHhgcSW9Y18+Nu4caMDAeZhRT5sXLlyxaGOl0QgQ4YM6tMSHhj57LPPFBlmKYUx+NDI95iNF0vx0NeC2UV+AsLaQ9a0+/v7g59m8OAhH06YeZS18P7vn5B6ZLlVw4YNwVIexocffojVq1fbH6rlZ8P8tXBFgL2NO3+P8WHnp59+cpgQf9ZY+sikgIRnCAgB9gwvS7QmuRo4cCD4UaQxWAvEQzzMUEp4FwFmDFlXx0wtyRfXQBNg1pfyPWcCzDrTL774QhFgrtfDhw8dBrV27VpVQ8mPL+UgXOjrxQOExIu11qy7C4kAc51Yb62DhOyDDz5Q6gTVqlVTJHfr1q0qU2wMHkpkdp+Hh+LEiePdzfOW9cY/xHywMNYi8sGDH8XybAKJMf8oy1qYv/CsAWWZAwkYH/D4AMeHEj5s8/cTH+Y0EZP1MG89QiPA3sKdP3dly5ZVZ1CMwbM/fKCnWpGEZwgIAfYML0u0lhKIiF0G/lFhTS//qJA8JUyYUA2AT92elECQAEePHt0+eCmBcG8dediTJJZ1p4ULF1YXcR1IaFlfzUNx/ChYSiDcw/N1W/Fhj2viXEbC8occOXKgXr16shb/b++OVRrpwjAATy2WWriFCOIlWHoNgjegIChY2KXwKqxsrBQRW3vBK7C0sDCtlTbegMsb/oEkf9TsJDEm5xnYYpfMZM7zzWa+OXPOd0ZFHnL/XPurq6s9b/0yBCsP6qkUkEm7434VP+SpFfUxQyBmM9wS4BmMm0lwPxe0JL2pJJCexAx1SAWBesu4K5PgJh+Lurf3s29KQnZzczP0JLj9/f3q9fXVJLiGocvNPiXP+hPgJL8p8Zcay8NOSBSLhkH4b7eFhYXOULiYd2/pjU/P8NnZ2T9NghOPZvEYdRLcMO4mwTWLzVd7SYDHbzrxI6YMWsaUphem7o3MwPgshqEM2vj4M5Z3Z2en07uYP4PG6abMUCYBJTmut5Tnyiv3/jJo+fd64mLKoOV4GfqgDNrXMYtvZj93b/l7Km9kPNzm5mYn8UrJoSRh3Z4pDZT9+8ugZUGSxCNbFtZIPWBl0Ib7v1PXNk3FjNQjz5byckl689uUOtliMZzlqJ+Kc96OdFcEyoNJeoUz9KrVanW+QjxGlf56/6/KoI3rNyll0HKPT33nutRpftcyL0UZtGbxlQA3c5vqXvVCGLlpdy+EkZ5KC2GMLzRZ8e38/LxTu3dra6vnwJlokt7feiGM/ABmLFbG3aU35rOFMPJaMslaJl1lsqKFMJrFq38McI6SISV5/X5yctKZXJikIBMRBy2EkQodKUGXHv0sUpLxcxnTaiGM7+ORh7fMSM+kq4xtzyS4jP2tK6NkZUqx+N5xHJ/Ig1zmGaQ6yvb2dudhL2OA0zmSRGllZaXzNeIxDu3eY2RiboaXZEtPe7vd7lTjyJa3tKkhP073eiGMLICR+0j+ngecP3/+WAijYXglwA3hpr1baj3mhy9jIfMaLE+G6X2xFPL4IpMHjNxIBm0Ze1ovY5wfwUzS6l4KOTek7u3j46OTaOWGlRXM0vObxDqlvGz/LjAoAc5RUvc3CUC9FHKqRvQvhZyVlAYthZyeGttwAkl20wOfig+5IeeGn5XhupffFYvhLEf5VH5XMoEzpRYzMXFxcbHzcJLe3/6JteIxivT/981vTIaafHd/GKd7JptmKeQ81Kd2fL0Ucv0meLwtnP+jSYDnP8ZaSIAAAQIECBAg0CUgAXY5ECBAgAABAgQIFCUgAS4q3BpLgAABAgQIECAgAXYNECBAgAABAgQIFCUgAS4q3BpLgAABAgQIECAgAXYNECBAgAABAgQIFCUgAS4q3BpLgAABAgQIECAgAXYNECBAgAABAgQIFCUgAS4q3BpLgAABAgQIECAgAXYNECBA4BcK3N7eVi8vL9XR0dEvPDunRIAAgdkWkADPdvycPQECcyqwt7dXPTw8VI+Pj3PaQs0iQIDA9AQkwNOz980ECBD4VEAC7OIgQIDA5AQkwJOzdWQCBAg0Ekjye3l52bPv7u5udXFx0eh4diJAgACBXgEJsCuCAAECv0yg3W5Xx8fH1dPTU3V9fd05u+Xl5Wp9ff2XnanTIUCAwGwKSIBnM27OmgCBORcwBGLOA6x5BAhMVUACPFV+X06AAIHBAhJgVwYBAgQmJyABnpytIxMgQKCxgAS4MZ0dCRAg8K2ABPhbIh8gQIDAzwtIgH/e3DcSIFCOgAS4nFhrKQECMyRwcHBQ3d/fV8/PzzN01k6VAAECsyEgAZ6NODlLAgQKEzg9Pa1arVZ1dXVVbWxsVEtLS9Xa2lphCppLgACByQhIgCfj6qgECBAYSeD9/b06PDys7u7uqre3t0od4JE47UyAAIEeAQmwC4IAAQIECBAgQKAoAQlwUeHWWAIECBAgQIAAAQmwa4AAAQIECBAgQKAoAQlwUeHWWAIECBAgQIAAAQmwa4AAAQIECBAgQKAoAQlwUeHWWAIECBAgQIAAAQmwa4AAAQIECBAgQKAoAQlwUeHWWAIECBAgQIAAAQmwa4AAAQIECBAgQKAoAQlwUeHWWAIECBAgQIAAAQmwa4AAAQIECBAgQKAoAQlwUeHWWAIECBAgQIAAAQmwa4AAAQIECBAgQKAoAQlwUeHWWAIECBAgQIAAgb8qHdNqCWgvNgAAAABJRU5ErkJggg==\" width=\"639.9999861283738\">"
      ],
      "text/plain": [
       "<IPython.core.display.HTML object>"
      ]
     },
     "metadata": {},
     "output_type": "display_data"
    },
    {
     "data": {
      "text/plain": [
       "[<matplotlib.lines.Line2D at 0x7faac91c7240>,\n",
       " <matplotlib.lines.Line2D at 0x7faac91c7320>,\n",
       " <matplotlib.lines.Line2D at 0x7faac91c7080>]"
      ]
     },
     "execution_count": 3,
     "metadata": {},
     "output_type": "execute_result"
    }
   ],
   "source": [
    "fig, ax = plt.subplots()\n",
    "\n",
    "sep_pos = 200\n",
    "ds['T'].isel(x=[sep_pos-50, sep_pos, sep_pos+50]).mean(dim=('y', 'z')).plot.line(x='t', ax=ax)\n",
    "\n",
    "#plot_separatrix(data, sep_position, ax=ax)"
   ]
  },
  {
   "cell_type": "markdown",
   "metadata": {
    "slideshow": {
     "slide_type": "subslide"
    }
   },
   "source": [
    "I've used this to write functions which plot 2D animated gifs which can animate over any dimension."
   ]
  },
  {
   "cell_type": "code",
   "execution_count": 5,
   "metadata": {
    "slideshow": {
     "slide_type": "subslide"
    }
   },
   "outputs": [
    {
     "name": "stdout",
     "output_type": "stream",
     "text": [
      "n data passed has 3 dimensions - will use animatplot.blocks.Imshow()\n"
     ]
    },
    {
     "data": {
      "application/javascript": [
       "/* Put everything inside the global mpl namespace */\n",
       "window.mpl = {};\n",
       "\n",
       "\n",
       "mpl.get_websocket_type = function() {\n",
       "    if (typeof(WebSocket) !== 'undefined') {\n",
       "        return WebSocket;\n",
       "    } else if (typeof(MozWebSocket) !== 'undefined') {\n",
       "        return MozWebSocket;\n",
       "    } else {\n",
       "        alert('Your browser does not have WebSocket support.' +\n",
       "              'Please try Chrome, Safari or Firefox ≥ 6. ' +\n",
       "              'Firefox 4 and 5 are also supported but you ' +\n",
       "              'have to enable WebSockets in about:config.');\n",
       "    };\n",
       "}\n",
       "\n",
       "mpl.figure = function(figure_id, websocket, ondownload, parent_element) {\n",
       "    this.id = figure_id;\n",
       "\n",
       "    this.ws = websocket;\n",
       "\n",
       "    this.supports_binary = (this.ws.binaryType != undefined);\n",
       "\n",
       "    if (!this.supports_binary) {\n",
       "        var warnings = document.getElementById(\"mpl-warnings\");\n",
       "        if (warnings) {\n",
       "            warnings.style.display = 'block';\n",
       "            warnings.textContent = (\n",
       "                \"This browser does not support binary websocket messages. \" +\n",
       "                    \"Performance may be slow.\");\n",
       "        }\n",
       "    }\n",
       "\n",
       "    this.imageObj = new Image();\n",
       "\n",
       "    this.context = undefined;\n",
       "    this.message = undefined;\n",
       "    this.canvas = undefined;\n",
       "    this.rubberband_canvas = undefined;\n",
       "    this.rubberband_context = undefined;\n",
       "    this.format_dropdown = undefined;\n",
       "\n",
       "    this.image_mode = 'full';\n",
       "\n",
       "    this.root = $('<div/>');\n",
       "    this._root_extra_style(this.root)\n",
       "    this.root.attr('style', 'display: inline-block');\n",
       "\n",
       "    $(parent_element).append(this.root);\n",
       "\n",
       "    this._init_header(this);\n",
       "    this._init_canvas(this);\n",
       "    this._init_toolbar(this);\n",
       "\n",
       "    var fig = this;\n",
       "\n",
       "    this.waiting = false;\n",
       "\n",
       "    this.ws.onopen =  function () {\n",
       "            fig.send_message(\"supports_binary\", {value: fig.supports_binary});\n",
       "            fig.send_message(\"send_image_mode\", {});\n",
       "            if (mpl.ratio != 1) {\n",
       "                fig.send_message(\"set_dpi_ratio\", {'dpi_ratio': mpl.ratio});\n",
       "            }\n",
       "            fig.send_message(\"refresh\", {});\n",
       "        }\n",
       "\n",
       "    this.imageObj.onload = function() {\n",
       "            if (fig.image_mode == 'full') {\n",
       "                // Full images could contain transparency (where diff images\n",
       "                // almost always do), so we need to clear the canvas so that\n",
       "                // there is no ghosting.\n",
       "                fig.context.clearRect(0, 0, fig.canvas.width, fig.canvas.height);\n",
       "            }\n",
       "            fig.context.drawImage(fig.imageObj, 0, 0);\n",
       "        };\n",
       "\n",
       "    this.imageObj.onunload = function() {\n",
       "        fig.ws.close();\n",
       "    }\n",
       "\n",
       "    this.ws.onmessage = this._make_on_message_function(this);\n",
       "\n",
       "    this.ondownload = ondownload;\n",
       "}\n",
       "\n",
       "mpl.figure.prototype._init_header = function() {\n",
       "    var titlebar = $(\n",
       "        '<div class=\"ui-dialog-titlebar ui-widget-header ui-corner-all ' +\n",
       "        'ui-helper-clearfix\"/>');\n",
       "    var titletext = $(\n",
       "        '<div class=\"ui-dialog-title\" style=\"width: 100%; ' +\n",
       "        'text-align: center; padding: 3px;\"/>');\n",
       "    titlebar.append(titletext)\n",
       "    this.root.append(titlebar);\n",
       "    this.header = titletext[0];\n",
       "}\n",
       "\n",
       "\n",
       "\n",
       "mpl.figure.prototype._canvas_extra_style = function(canvas_div) {\n",
       "\n",
       "}\n",
       "\n",
       "\n",
       "mpl.figure.prototype._root_extra_style = function(canvas_div) {\n",
       "\n",
       "}\n",
       "\n",
       "mpl.figure.prototype._init_canvas = function() {\n",
       "    var fig = this;\n",
       "\n",
       "    var canvas_div = $('<div/>');\n",
       "\n",
       "    canvas_div.attr('style', 'position: relative; clear: both; outline: 0');\n",
       "\n",
       "    function canvas_keyboard_event(event) {\n",
       "        return fig.key_event(event, event['data']);\n",
       "    }\n",
       "\n",
       "    canvas_div.keydown('key_press', canvas_keyboard_event);\n",
       "    canvas_div.keyup('key_release', canvas_keyboard_event);\n",
       "    this.canvas_div = canvas_div\n",
       "    this._canvas_extra_style(canvas_div)\n",
       "    this.root.append(canvas_div);\n",
       "\n",
       "    var canvas = $('<canvas/>');\n",
       "    canvas.addClass('mpl-canvas');\n",
       "    canvas.attr('style', \"left: 0; top: 0; z-index: 0; outline: 0\")\n",
       "\n",
       "    this.canvas = canvas[0];\n",
       "    this.context = canvas[0].getContext(\"2d\");\n",
       "\n",
       "    var backingStore = this.context.backingStorePixelRatio ||\n",
       "\tthis.context.webkitBackingStorePixelRatio ||\n",
       "\tthis.context.mozBackingStorePixelRatio ||\n",
       "\tthis.context.msBackingStorePixelRatio ||\n",
       "\tthis.context.oBackingStorePixelRatio ||\n",
       "\tthis.context.backingStorePixelRatio || 1;\n",
       "\n",
       "    mpl.ratio = (window.devicePixelRatio || 1) / backingStore;\n",
       "\n",
       "    var rubberband = $('<canvas/>');\n",
       "    rubberband.attr('style', \"position: absolute; left: 0; top: 0; z-index: 1;\")\n",
       "\n",
       "    var pass_mouse_events = true;\n",
       "\n",
       "    canvas_div.resizable({\n",
       "        start: function(event, ui) {\n",
       "            pass_mouse_events = false;\n",
       "        },\n",
       "        resize: function(event, ui) {\n",
       "            fig.request_resize(ui.size.width, ui.size.height);\n",
       "        },\n",
       "        stop: function(event, ui) {\n",
       "            pass_mouse_events = true;\n",
       "            fig.request_resize(ui.size.width, ui.size.height);\n",
       "        },\n",
       "    });\n",
       "\n",
       "    function mouse_event_fn(event) {\n",
       "        if (pass_mouse_events)\n",
       "            return fig.mouse_event(event, event['data']);\n",
       "    }\n",
       "\n",
       "    rubberband.mousedown('button_press', mouse_event_fn);\n",
       "    rubberband.mouseup('button_release', mouse_event_fn);\n",
       "    // Throttle sequential mouse events to 1 every 20ms.\n",
       "    rubberband.mousemove('motion_notify', mouse_event_fn);\n",
       "\n",
       "    rubberband.mouseenter('figure_enter', mouse_event_fn);\n",
       "    rubberband.mouseleave('figure_leave', mouse_event_fn);\n",
       "\n",
       "    canvas_div.on(\"wheel\", function (event) {\n",
       "        event = event.originalEvent;\n",
       "        event['data'] = 'scroll'\n",
       "        if (event.deltaY < 0) {\n",
       "            event.step = 1;\n",
       "        } else {\n",
       "            event.step = -1;\n",
       "        }\n",
       "        mouse_event_fn(event);\n",
       "    });\n",
       "\n",
       "    canvas_div.append(canvas);\n",
       "    canvas_div.append(rubberband);\n",
       "\n",
       "    this.rubberband = rubberband;\n",
       "    this.rubberband_canvas = rubberband[0];\n",
       "    this.rubberband_context = rubberband[0].getContext(\"2d\");\n",
       "    this.rubberband_context.strokeStyle = \"#000000\";\n",
       "\n",
       "    this._resize_canvas = function(width, height) {\n",
       "        // Keep the size of the canvas, canvas container, and rubber band\n",
       "        // canvas in synch.\n",
       "        canvas_div.css('width', width)\n",
       "        canvas_div.css('height', height)\n",
       "\n",
       "        canvas.attr('width', width * mpl.ratio);\n",
       "        canvas.attr('height', height * mpl.ratio);\n",
       "        canvas.attr('style', 'width: ' + width + 'px; height: ' + height + 'px;');\n",
       "\n",
       "        rubberband.attr('width', width);\n",
       "        rubberband.attr('height', height);\n",
       "    }\n",
       "\n",
       "    // Set the figure to an initial 600x600px, this will subsequently be updated\n",
       "    // upon first draw.\n",
       "    this._resize_canvas(600, 600);\n",
       "\n",
       "    // Disable right mouse context menu.\n",
       "    $(this.rubberband_canvas).bind(\"contextmenu\",function(e){\n",
       "        return false;\n",
       "    });\n",
       "\n",
       "    function set_focus () {\n",
       "        canvas.focus();\n",
       "        canvas_div.focus();\n",
       "    }\n",
       "\n",
       "    window.setTimeout(set_focus, 100);\n",
       "}\n",
       "\n",
       "mpl.figure.prototype._init_toolbar = function() {\n",
       "    var fig = this;\n",
       "\n",
       "    var nav_element = $('<div/>')\n",
       "    nav_element.attr('style', 'width: 100%');\n",
       "    this.root.append(nav_element);\n",
       "\n",
       "    // Define a callback function for later on.\n",
       "    function toolbar_event(event) {\n",
       "        return fig.toolbar_button_onclick(event['data']);\n",
       "    }\n",
       "    function toolbar_mouse_event(event) {\n",
       "        return fig.toolbar_button_onmouseover(event['data']);\n",
       "    }\n",
       "\n",
       "    for(var toolbar_ind in mpl.toolbar_items) {\n",
       "        var name = mpl.toolbar_items[toolbar_ind][0];\n",
       "        var tooltip = mpl.toolbar_items[toolbar_ind][1];\n",
       "        var image = mpl.toolbar_items[toolbar_ind][2];\n",
       "        var method_name = mpl.toolbar_items[toolbar_ind][3];\n",
       "\n",
       "        if (!name) {\n",
       "            // put a spacer in here.\n",
       "            continue;\n",
       "        }\n",
       "        var button = $('<button/>');\n",
       "        button.addClass('ui-button ui-widget ui-state-default ui-corner-all ' +\n",
       "                        'ui-button-icon-only');\n",
       "        button.attr('role', 'button');\n",
       "        button.attr('aria-disabled', 'false');\n",
       "        button.click(method_name, toolbar_event);\n",
       "        button.mouseover(tooltip, toolbar_mouse_event);\n",
       "\n",
       "        var icon_img = $('<span/>');\n",
       "        icon_img.addClass('ui-button-icon-primary ui-icon');\n",
       "        icon_img.addClass(image);\n",
       "        icon_img.addClass('ui-corner-all');\n",
       "\n",
       "        var tooltip_span = $('<span/>');\n",
       "        tooltip_span.addClass('ui-button-text');\n",
       "        tooltip_span.html(tooltip);\n",
       "\n",
       "        button.append(icon_img);\n",
       "        button.append(tooltip_span);\n",
       "\n",
       "        nav_element.append(button);\n",
       "    }\n",
       "\n",
       "    var fmt_picker_span = $('<span/>');\n",
       "\n",
       "    var fmt_picker = $('<select/>');\n",
       "    fmt_picker.addClass('mpl-toolbar-option ui-widget ui-widget-content');\n",
       "    fmt_picker_span.append(fmt_picker);\n",
       "    nav_element.append(fmt_picker_span);\n",
       "    this.format_dropdown = fmt_picker[0];\n",
       "\n",
       "    for (var ind in mpl.extensions) {\n",
       "        var fmt = mpl.extensions[ind];\n",
       "        var option = $(\n",
       "            '<option/>', {selected: fmt === mpl.default_extension}).html(fmt);\n",
       "        fmt_picker.append(option)\n",
       "    }\n",
       "\n",
       "    // Add hover states to the ui-buttons\n",
       "    $( \".ui-button\" ).hover(\n",
       "        function() { $(this).addClass(\"ui-state-hover\");},\n",
       "        function() { $(this).removeClass(\"ui-state-hover\");}\n",
       "    );\n",
       "\n",
       "    var status_bar = $('<span class=\"mpl-message\"/>');\n",
       "    nav_element.append(status_bar);\n",
       "    this.message = status_bar[0];\n",
       "}\n",
       "\n",
       "mpl.figure.prototype.request_resize = function(x_pixels, y_pixels) {\n",
       "    // Request matplotlib to resize the figure. Matplotlib will then trigger a resize in the client,\n",
       "    // which will in turn request a refresh of the image.\n",
       "    this.send_message('resize', {'width': x_pixels, 'height': y_pixels});\n",
       "}\n",
       "\n",
       "mpl.figure.prototype.send_message = function(type, properties) {\n",
       "    properties['type'] = type;\n",
       "    properties['figure_id'] = this.id;\n",
       "    this.ws.send(JSON.stringify(properties));\n",
       "}\n",
       "\n",
       "mpl.figure.prototype.send_draw_message = function() {\n",
       "    if (!this.waiting) {\n",
       "        this.waiting = true;\n",
       "        this.ws.send(JSON.stringify({type: \"draw\", figure_id: this.id}));\n",
       "    }\n",
       "}\n",
       "\n",
       "\n",
       "mpl.figure.prototype.handle_save = function(fig, msg) {\n",
       "    var format_dropdown = fig.format_dropdown;\n",
       "    var format = format_dropdown.options[format_dropdown.selectedIndex].value;\n",
       "    fig.ondownload(fig, format);\n",
       "}\n",
       "\n",
       "\n",
       "mpl.figure.prototype.handle_resize = function(fig, msg) {\n",
       "    var size = msg['size'];\n",
       "    if (size[0] != fig.canvas.width || size[1] != fig.canvas.height) {\n",
       "        fig._resize_canvas(size[0], size[1]);\n",
       "        fig.send_message(\"refresh\", {});\n",
       "    };\n",
       "}\n",
       "\n",
       "mpl.figure.prototype.handle_rubberband = function(fig, msg) {\n",
       "    var x0 = msg['x0'] / mpl.ratio;\n",
       "    var y0 = (fig.canvas.height - msg['y0']) / mpl.ratio;\n",
       "    var x1 = msg['x1'] / mpl.ratio;\n",
       "    var y1 = (fig.canvas.height - msg['y1']) / mpl.ratio;\n",
       "    x0 = Math.floor(x0) + 0.5;\n",
       "    y0 = Math.floor(y0) + 0.5;\n",
       "    x1 = Math.floor(x1) + 0.5;\n",
       "    y1 = Math.floor(y1) + 0.5;\n",
       "    var min_x = Math.min(x0, x1);\n",
       "    var min_y = Math.min(y0, y1);\n",
       "    var width = Math.abs(x1 - x0);\n",
       "    var height = Math.abs(y1 - y0);\n",
       "\n",
       "    fig.rubberband_context.clearRect(\n",
       "        0, 0, fig.canvas.width, fig.canvas.height);\n",
       "\n",
       "    fig.rubberband_context.strokeRect(min_x, min_y, width, height);\n",
       "}\n",
       "\n",
       "mpl.figure.prototype.handle_figure_label = function(fig, msg) {\n",
       "    // Updates the figure title.\n",
       "    fig.header.textContent = msg['label'];\n",
       "}\n",
       "\n",
       "mpl.figure.prototype.handle_cursor = function(fig, msg) {\n",
       "    var cursor = msg['cursor'];\n",
       "    switch(cursor)\n",
       "    {\n",
       "    case 0:\n",
       "        cursor = 'pointer';\n",
       "        break;\n",
       "    case 1:\n",
       "        cursor = 'default';\n",
       "        break;\n",
       "    case 2:\n",
       "        cursor = 'crosshair';\n",
       "        break;\n",
       "    case 3:\n",
       "        cursor = 'move';\n",
       "        break;\n",
       "    }\n",
       "    fig.rubberband_canvas.style.cursor = cursor;\n",
       "}\n",
       "\n",
       "mpl.figure.prototype.handle_message = function(fig, msg) {\n",
       "    fig.message.textContent = msg['message'];\n",
       "}\n",
       "\n",
       "mpl.figure.prototype.handle_draw = function(fig, msg) {\n",
       "    // Request the server to send over a new figure.\n",
       "    fig.send_draw_message();\n",
       "}\n",
       "\n",
       "mpl.figure.prototype.handle_image_mode = function(fig, msg) {\n",
       "    fig.image_mode = msg['mode'];\n",
       "}\n",
       "\n",
       "mpl.figure.prototype.updated_canvas_event = function() {\n",
       "    // Called whenever the canvas gets updated.\n",
       "    this.send_message(\"ack\", {});\n",
       "}\n",
       "\n",
       "// A function to construct a web socket function for onmessage handling.\n",
       "// Called in the figure constructor.\n",
       "mpl.figure.prototype._make_on_message_function = function(fig) {\n",
       "    return function socket_on_message(evt) {\n",
       "        if (evt.data instanceof Blob) {\n",
       "            /* FIXME: We get \"Resource interpreted as Image but\n",
       "             * transferred with MIME type text/plain:\" errors on\n",
       "             * Chrome.  But how to set the MIME type?  It doesn't seem\n",
       "             * to be part of the websocket stream */\n",
       "            evt.data.type = \"image/png\";\n",
       "\n",
       "            /* Free the memory for the previous frames */\n",
       "            if (fig.imageObj.src) {\n",
       "                (window.URL || window.webkitURL).revokeObjectURL(\n",
       "                    fig.imageObj.src);\n",
       "            }\n",
       "\n",
       "            fig.imageObj.src = (window.URL || window.webkitURL).createObjectURL(\n",
       "                evt.data);\n",
       "            fig.updated_canvas_event();\n",
       "            fig.waiting = false;\n",
       "            return;\n",
       "        }\n",
       "        else if (typeof evt.data === 'string' && evt.data.slice(0, 21) == \"data:image/png;base64\") {\n",
       "            fig.imageObj.src = evt.data;\n",
       "            fig.updated_canvas_event();\n",
       "            fig.waiting = false;\n",
       "            return;\n",
       "        }\n",
       "\n",
       "        var msg = JSON.parse(evt.data);\n",
       "        var msg_type = msg['type'];\n",
       "\n",
       "        // Call the  \"handle_{type}\" callback, which takes\n",
       "        // the figure and JSON message as its only arguments.\n",
       "        try {\n",
       "            var callback = fig[\"handle_\" + msg_type];\n",
       "        } catch (e) {\n",
       "            console.log(\"No handler for the '\" + msg_type + \"' message type: \", msg);\n",
       "            return;\n",
       "        }\n",
       "\n",
       "        if (callback) {\n",
       "            try {\n",
       "                // console.log(\"Handling '\" + msg_type + \"' message: \", msg);\n",
       "                callback(fig, msg);\n",
       "            } catch (e) {\n",
       "                console.log(\"Exception inside the 'handler_\" + msg_type + \"' callback:\", e, e.stack, msg);\n",
       "            }\n",
       "        }\n",
       "    };\n",
       "}\n",
       "\n",
       "// from http://stackoverflow.com/questions/1114465/getting-mouse-location-in-canvas\n",
       "mpl.findpos = function(e) {\n",
       "    //this section is from http://www.quirksmode.org/js/events_properties.html\n",
       "    var targ;\n",
       "    if (!e)\n",
       "        e = window.event;\n",
       "    if (e.target)\n",
       "        targ = e.target;\n",
       "    else if (e.srcElement)\n",
       "        targ = e.srcElement;\n",
       "    if (targ.nodeType == 3) // defeat Safari bug\n",
       "        targ = targ.parentNode;\n",
       "\n",
       "    // jQuery normalizes the pageX and pageY\n",
       "    // pageX,Y are the mouse positions relative to the document\n",
       "    // offset() returns the position of the element relative to the document\n",
       "    var x = e.pageX - $(targ).offset().left;\n",
       "    var y = e.pageY - $(targ).offset().top;\n",
       "\n",
       "    return {\"x\": x, \"y\": y};\n",
       "};\n",
       "\n",
       "/*\n",
       " * return a copy of an object with only non-object keys\n",
       " * we need this to avoid circular references\n",
       " * http://stackoverflow.com/a/24161582/3208463\n",
       " */\n",
       "function simpleKeys (original) {\n",
       "  return Object.keys(original).reduce(function (obj, key) {\n",
       "    if (typeof original[key] !== 'object')\n",
       "        obj[key] = original[key]\n",
       "    return obj;\n",
       "  }, {});\n",
       "}\n",
       "\n",
       "mpl.figure.prototype.mouse_event = function(event, name) {\n",
       "    var canvas_pos = mpl.findpos(event)\n",
       "\n",
       "    if (name === 'button_press')\n",
       "    {\n",
       "        this.canvas.focus();\n",
       "        this.canvas_div.focus();\n",
       "    }\n",
       "\n",
       "    var x = canvas_pos.x * mpl.ratio;\n",
       "    var y = canvas_pos.y * mpl.ratio;\n",
       "\n",
       "    this.send_message(name, {x: x, y: y, button: event.button,\n",
       "                             step: event.step,\n",
       "                             guiEvent: simpleKeys(event)});\n",
       "\n",
       "    /* This prevents the web browser from automatically changing to\n",
       "     * the text insertion cursor when the button is pressed.  We want\n",
       "     * to control all of the cursor setting manually through the\n",
       "     * 'cursor' event from matplotlib */\n",
       "    event.preventDefault();\n",
       "    return false;\n",
       "}\n",
       "\n",
       "mpl.figure.prototype._key_event_extra = function(event, name) {\n",
       "    // Handle any extra behaviour associated with a key event\n",
       "}\n",
       "\n",
       "mpl.figure.prototype.key_event = function(event, name) {\n",
       "\n",
       "    // Prevent repeat events\n",
       "    if (name == 'key_press')\n",
       "    {\n",
       "        if (event.which === this._key)\n",
       "            return;\n",
       "        else\n",
       "            this._key = event.which;\n",
       "    }\n",
       "    if (name == 'key_release')\n",
       "        this._key = null;\n",
       "\n",
       "    var value = '';\n",
       "    if (event.ctrlKey && event.which != 17)\n",
       "        value += \"ctrl+\";\n",
       "    if (event.altKey && event.which != 18)\n",
       "        value += \"alt+\";\n",
       "    if (event.shiftKey && event.which != 16)\n",
       "        value += \"shift+\";\n",
       "\n",
       "    value += 'k';\n",
       "    value += event.which.toString();\n",
       "\n",
       "    this._key_event_extra(event, name);\n",
       "\n",
       "    this.send_message(name, {key: value,\n",
       "                             guiEvent: simpleKeys(event)});\n",
       "    return false;\n",
       "}\n",
       "\n",
       "mpl.figure.prototype.toolbar_button_onclick = function(name) {\n",
       "    if (name == 'download') {\n",
       "        this.handle_save(this, null);\n",
       "    } else {\n",
       "        this.send_message(\"toolbar_button\", {name: name});\n",
       "    }\n",
       "};\n",
       "\n",
       "mpl.figure.prototype.toolbar_button_onmouseover = function(tooltip) {\n",
       "    this.message.textContent = tooltip;\n",
       "};\n",
       "mpl.toolbar_items = [[\"Home\", \"Reset original view\", \"fa fa-home icon-home\", \"home\"], [\"Back\", \"Back to previous view\", \"fa fa-arrow-left icon-arrow-left\", \"back\"], [\"Forward\", \"Forward to next view\", \"fa fa-arrow-right icon-arrow-right\", \"forward\"], [\"\", \"\", \"\", \"\"], [\"Pan\", \"Pan axes with left mouse, zoom with right\", \"fa fa-arrows icon-move\", \"pan\"], [\"Zoom\", \"Zoom to rectangle\", \"fa fa-square-o icon-check-empty\", \"zoom\"], [\"\", \"\", \"\", \"\"], [\"Download\", \"Download plot\", \"fa fa-floppy-o icon-save\", \"download\"]];\n",
       "\n",
       "mpl.extensions = [\"eps\", \"jpeg\", \"pdf\", \"png\", \"ps\", \"raw\", \"svg\", \"tif\"];\n",
       "\n",
       "mpl.default_extension = \"png\";var comm_websocket_adapter = function(comm) {\n",
       "    // Create a \"websocket\"-like object which calls the given IPython comm\n",
       "    // object with the appropriate methods. Currently this is a non binary\n",
       "    // socket, so there is still some room for performance tuning.\n",
       "    var ws = {};\n",
       "\n",
       "    ws.close = function() {\n",
       "        comm.close()\n",
       "    };\n",
       "    ws.send = function(m) {\n",
       "        //console.log('sending', m);\n",
       "        comm.send(m);\n",
       "    };\n",
       "    // Register the callback with on_msg.\n",
       "    comm.on_msg(function(msg) {\n",
       "        //console.log('receiving', msg['content']['data'], msg);\n",
       "        // Pass the mpl event to the overridden (by mpl) onmessage function.\n",
       "        ws.onmessage(msg['content']['data'])\n",
       "    });\n",
       "    return ws;\n",
       "}\n",
       "\n",
       "mpl.mpl_figure_comm = function(comm, msg) {\n",
       "    // This is the function which gets called when the mpl process\n",
       "    // starts-up an IPython Comm through the \"matplotlib\" channel.\n",
       "\n",
       "    var id = msg.content.data.id;\n",
       "    // Get hold of the div created by the display call when the Comm\n",
       "    // socket was opened in Python.\n",
       "    var element = $(\"#\" + id);\n",
       "    var ws_proxy = comm_websocket_adapter(comm)\n",
       "\n",
       "    function ondownload(figure, format) {\n",
       "        window.open(figure.imageObj.src);\n",
       "    }\n",
       "\n",
       "    var fig = new mpl.figure(id, ws_proxy,\n",
       "                           ondownload,\n",
       "                           element.get(0));\n",
       "\n",
       "    // Call onopen now - mpl needs it, as it is assuming we've passed it a real\n",
       "    // web socket which is closed, not our websocket->open comm proxy.\n",
       "    ws_proxy.onopen();\n",
       "\n",
       "    fig.parent_element = element.get(0);\n",
       "    fig.cell_info = mpl.find_output_cell(\"<div id='\" + id + \"'></div>\");\n",
       "    if (!fig.cell_info) {\n",
       "        console.error(\"Failed to find cell for figure\", id, fig);\n",
       "        return;\n",
       "    }\n",
       "\n",
       "    var output_index = fig.cell_info[2]\n",
       "    var cell = fig.cell_info[0];\n",
       "\n",
       "};\n",
       "\n",
       "mpl.figure.prototype.handle_close = function(fig, msg) {\n",
       "    var width = fig.canvas.width/mpl.ratio\n",
       "    fig.root.unbind('remove')\n",
       "\n",
       "    // Update the output cell to use the data from the current canvas.\n",
       "    fig.push_to_output();\n",
       "    var dataURL = fig.canvas.toDataURL();\n",
       "    // Re-enable the keyboard manager in IPython - without this line, in FF,\n",
       "    // the notebook keyboard shortcuts fail.\n",
       "    IPython.keyboard_manager.enable()\n",
       "    $(fig.parent_element).html('<img src=\"' + dataURL + '\" width=\"' + width + '\">');\n",
       "    fig.close_ws(fig, msg);\n",
       "}\n",
       "\n",
       "mpl.figure.prototype.close_ws = function(fig, msg){\n",
       "    fig.send_message('closing', msg);\n",
       "    // fig.ws.close()\n",
       "}\n",
       "\n",
       "mpl.figure.prototype.push_to_output = function(remove_interactive) {\n",
       "    // Turn the data on the canvas into data in the output cell.\n",
       "    var width = this.canvas.width/mpl.ratio\n",
       "    var dataURL = this.canvas.toDataURL();\n",
       "    this.cell_info[1]['text/html'] = '<img src=\"' + dataURL + '\" width=\"' + width + '\">';\n",
       "}\n",
       "\n",
       "mpl.figure.prototype.updated_canvas_event = function() {\n",
       "    // Tell IPython that the notebook contents must change.\n",
       "    IPython.notebook.set_dirty(true);\n",
       "    this.send_message(\"ack\", {});\n",
       "    var fig = this;\n",
       "    // Wait a second, then push the new image to the DOM so\n",
       "    // that it is saved nicely (might be nice to debounce this).\n",
       "    setTimeout(function () { fig.push_to_output() }, 1000);\n",
       "}\n",
       "\n",
       "mpl.figure.prototype._init_toolbar = function() {\n",
       "    var fig = this;\n",
       "\n",
       "    var nav_element = $('<div/>')\n",
       "    nav_element.attr('style', 'width: 100%');\n",
       "    this.root.append(nav_element);\n",
       "\n",
       "    // Define a callback function for later on.\n",
       "    function toolbar_event(event) {\n",
       "        return fig.toolbar_button_onclick(event['data']);\n",
       "    }\n",
       "    function toolbar_mouse_event(event) {\n",
       "        return fig.toolbar_button_onmouseover(event['data']);\n",
       "    }\n",
       "\n",
       "    for(var toolbar_ind in mpl.toolbar_items){\n",
       "        var name = mpl.toolbar_items[toolbar_ind][0];\n",
       "        var tooltip = mpl.toolbar_items[toolbar_ind][1];\n",
       "        var image = mpl.toolbar_items[toolbar_ind][2];\n",
       "        var method_name = mpl.toolbar_items[toolbar_ind][3];\n",
       "\n",
       "        if (!name) { continue; };\n",
       "\n",
       "        var button = $('<button class=\"btn btn-default\" href=\"#\" title=\"' + name + '\"><i class=\"fa ' + image + ' fa-lg\"></i></button>');\n",
       "        button.click(method_name, toolbar_event);\n",
       "        button.mouseover(tooltip, toolbar_mouse_event);\n",
       "        nav_element.append(button);\n",
       "    }\n",
       "\n",
       "    // Add the status bar.\n",
       "    var status_bar = $('<span class=\"mpl-message\" style=\"text-align:right; float: right;\"/>');\n",
       "    nav_element.append(status_bar);\n",
       "    this.message = status_bar[0];\n",
       "\n",
       "    // Add the close button to the window.\n",
       "    var buttongrp = $('<div class=\"btn-group inline pull-right\"></div>');\n",
       "    var button = $('<button class=\"btn btn-mini btn-primary\" href=\"#\" title=\"Stop Interaction\"><i class=\"fa fa-power-off icon-remove icon-large\"></i></button>');\n",
       "    button.click(function (evt) { fig.handle_close(fig, {}); } );\n",
       "    button.mouseover('Stop Interaction', toolbar_mouse_event);\n",
       "    buttongrp.append(button);\n",
       "    var titlebar = this.root.find($('.ui-dialog-titlebar'));\n",
       "    titlebar.prepend(buttongrp);\n",
       "}\n",
       "\n",
       "mpl.figure.prototype._root_extra_style = function(el){\n",
       "    var fig = this\n",
       "    el.on(\"remove\", function(){\n",
       "\tfig.close_ws(fig, {});\n",
       "    });\n",
       "}\n",
       "\n",
       "mpl.figure.prototype._canvas_extra_style = function(el){\n",
       "    // this is important to make the div 'focusable\n",
       "    el.attr('tabindex', 0)\n",
       "    // reach out to IPython and tell the keyboard manager to turn it's self\n",
       "    // off when our div gets focus\n",
       "\n",
       "    // location in version 3\n",
       "    if (IPython.notebook.keyboard_manager) {\n",
       "        IPython.notebook.keyboard_manager.register_events(el);\n",
       "    }\n",
       "    else {\n",
       "        // location in version 2\n",
       "        IPython.keyboard_manager.register_events(el);\n",
       "    }\n",
       "\n",
       "}\n",
       "\n",
       "mpl.figure.prototype._key_event_extra = function(event, name) {\n",
       "    var manager = IPython.notebook.keyboard_manager;\n",
       "    if (!manager)\n",
       "        manager = IPython.keyboard_manager;\n",
       "\n",
       "    // Check for shift+enter\n",
       "    if (event.shiftKey && event.which == 13) {\n",
       "        this.canvas_div.blur();\n",
       "        event.shiftKey = false;\n",
       "        // Send a \"J\" for go to next cell\n",
       "        event.which = 74;\n",
       "        event.keyCode = 74;\n",
       "        manager.command_mode();\n",
       "        manager.handle_keydown(event);\n",
       "    }\n",
       "}\n",
       "\n",
       "mpl.figure.prototype.handle_save = function(fig, msg) {\n",
       "    fig.ondownload(fig, null);\n",
       "}\n",
       "\n",
       "\n",
       "mpl.find_output_cell = function(html_output) {\n",
       "    // Return the cell and output element which can be found *uniquely* in the notebook.\n",
       "    // Note - this is a bit hacky, but it is done because the \"notebook_saving.Notebook\"\n",
       "    // IPython event is triggered only after the cells have been serialised, which for\n",
       "    // our purposes (turning an active figure into a static one), is too late.\n",
       "    var cells = IPython.notebook.get_cells();\n",
       "    var ncells = cells.length;\n",
       "    for (var i=0; i<ncells; i++) {\n",
       "        var cell = cells[i];\n",
       "        if (cell.cell_type === 'code'){\n",
       "            for (var j=0; j<cell.output_area.outputs.length; j++) {\n",
       "                var data = cell.output_area.outputs[j];\n",
       "                if (data.data) {\n",
       "                    // IPython >= 3 moved mimebundle to data attribute of output\n",
       "                    data = data.data;\n",
       "                }\n",
       "                if (data['text/html'] == html_output) {\n",
       "                    return [cell, data, j];\n",
       "                }\n",
       "            }\n",
       "        }\n",
       "    }\n",
       "}\n",
       "\n",
       "// Register the function which deals with the matplotlib target/channel.\n",
       "// The kernel may be null if the page has been refreshed.\n",
       "if (IPython.notebook.kernel != null) {\n",
       "    IPython.notebook.kernel.comm_manager.register_target('matplotlib', mpl.mpl_figure_comm);\n",
       "}\n"
      ],
      "text/plain": [
       "<IPython.core.display.Javascript object>"
      ]
     },
     "metadata": {},
     "output_type": "display_data"
    },
    {
     "data": {
      "text/html": [
       "<img src=\"data:image/png;base64,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\" width=\"639.9999861283738\">"
      ],
      "text/plain": [
       "<IPython.core.display.HTML object>"
      ]
     },
     "metadata": {},
     "output_type": "display_data"
    },
    {
     "data": {
      "text/plain": [
       "<animatplot.blocks.image_like.Imshow at 0x7faac92da208>"
      ]
     },
     "execution_count": 5,
     "metadata": {},
     "output_type": "execute_result"
    }
   ],
   "source": [
    "data = ds['n'].isel(t=slice(None, None, 10), y=0)\n",
    "\n",
    "data.bout.animate2D(animate_over='t', x='x', y='z', sep_pos=200)"
   ]
  },
  {
   "cell_type": "markdown",
   "metadata": {
    "slideshow": {
     "slide_type": "fragment"
    }
   },
   "source": [
    "![densitygif](images/n_over_t.gif \"segment\")"
   ]
  },
  {
   "cell_type": "markdown",
   "metadata": {
    "slideshow": {
     "slide_type": "slide"
    }
   },
   "source": [
    "# xarray + dask:\n",
    "\n",
    "- Memory chunking\n",
    "- Parallel analysis"
   ]
  },
  {
   "cell_type": "markdown",
   "metadata": {
    "slideshow": {
     "slide_type": "fragment"
    }
   },
   "source": [
    "If you also install [dask](http://docs.dask.org/en/latest/install.html) (literally that's it, no other compiling or anything required), xarray will provide the option to load data into memory in chunks."
   ]
  },
  {
   "cell_type": "markdown",
   "metadata": {
    "slideshow": {
     "slide_type": "subslide"
    }
   },
   "source": [
    "### xarray + dask: Memory chunking"
   ]
  },
  {
   "cell_type": "code",
   "execution_count": null,
   "metadata": {
    "slideshow": {
     "slide_type": "fragment"
    }
   },
   "outputs": [],
   "source": [
    "ds = xr.open_dataset('example-data.nc', chunks={'time': 10})\n",
    "\n",
    "print(ds)"
   ]
  },
  {
   "cell_type": "code",
   "execution_count": null,
   "metadata": {
    "slideshow": {
     "slide_type": "fragment"
    }
   },
   "outputs": [],
   "source": [
    "<xarray.Dataset>\n",
    "Dimensions:      (latitude: 180, longitude: 360, time: 365)\n",
    "Coordinates:\n",
    "  * time         (time) datetime64[ns] 2015-01-01 2015-01-02 2015-01-03 ...\n",
    "  * longitude    (longitude) int64 0 1 2 3 4 5 6 7 8 9 10 11 12 13 14 15 16 ...\n",
    "  * latitude     (latitude) float64 89.5 88.5 87.5 86.5 85.5 84.5 83.5 82.5 ...\n",
    "Data variables:\n",
    "    temperature  (time, latitude, longitude) float64 dask.array<shape=(365, 180, 360), chunksize=(10, 180, 360)>"
   ]
  },
  {
   "cell_type": "markdown",
   "metadata": {
    "slideshow": {
     "slide_type": "subslide"
    }
   },
   "source": [
    "Now if you apply any xarray or any \"embarrassingly parallel\" numpy function to this dataset then it will compute the result only on one chunk at a time, and combine the results at the end.\n",
    "\n",
    "Useful when you have \"medium data\": larger than your RAM but smaller than your hard drive (so not \"big data\"). "
   ]
  },
  {
   "cell_type": "markdown",
   "metadata": {
    "slideshow": {
     "slide_type": "slide"
    }
   },
   "source": [
    "### xarray + dask: Parallel analysis"
   ]
  },
  {
   "cell_type": "markdown",
   "metadata": {
    "slideshow": {
     "slide_type": "fragment"
    }
   },
   "source": [
    "dask can also automatically parallelize the operation of any xarray function, and most numpy and scipy functions, using the ``apply_ufunc`` helper function: "
   ]
  },
  {
   "cell_type": "code",
   "execution_count": null,
   "metadata": {
    "slideshow": {
     "slide_type": "fragment"
    }
   },
   "outputs": [],
   "source": [
    "xr.apply_ufunc(some_numpy_analysis_fn, ds, dask='parallelized', output=[float])"
   ]
  },
  {
   "cell_type": "markdown",
   "metadata": {
    "slideshow": {
     "slide_type": "fragment"
    }
   },
   "source": [
    "Chunking and parallelization through dask integration should allow you to easily scale up whatever analysis you were doing with numpy to work on datasets that are 100's of GBs in size."
   ]
  },
  {
   "cell_type": "markdown",
   "metadata": {
    "slideshow": {
     "slide_type": "fragment"
    }
   },
   "source": [
    "Only time you need numpy."
   ]
  },
  {
   "cell_type": "markdown",
   "metadata": {
    "slideshow": {
     "slide_type": "slide"
    }
   },
   "source": [
    "# The xBOUT package"
   ]
  },
  {
   "cell_type": "markdown",
   "metadata": {
    "slideshow": {
     "slide_type": "fragment"
    }
   },
   "source": [
    "[xBOUT](https://github.com/TomNicholas/xBOUT) aims to replace most of the `pylib/boutdata` tools currently in the BOUT++ repo. "
   ]
  },
  {
   "cell_type": "markdown",
   "metadata": {
    "slideshow": {
     "slide_type": "fragment"
    }
   },
   "source": [
    "Provides a simple interface for loading BOUT++ data as an xarray dataset efficiently from parallel simulation runs."
   ]
  },
  {
   "cell_type": "markdown",
   "metadata": {
    "slideshow": {
     "slide_type": "fragment"
    }
   },
   "source": [
    "Stores the numerical data from the dump files, but also uses Ben's `BoutOptionsFile()` classes to store all simulation input in the attributes dictionary:"
   ]
  },
  {
   "cell_type": "code",
   "execution_count": null,
   "metadata": {
    "slideshow": {
     "slide_type": "subslide"
    }
   },
   "outputs": [],
   "source": [
    "import xarray as xr\n",
    "from xbout import open_boutdataset\n",
    "\n",
    "ds = open_boutdataset('BOUT.dmp.*.nc', inputfilepath='BOUT.inp')"
   ]
  },
  {
   "cell_type": "markdown",
   "metadata": {
    "slideshow": {
     "slide_type": "subslide"
    }
   },
   "source": [
    "Data is stored lazily, and read in parallel using dask automatically.\n",
    "\n",
    "Faster than the current `boutdata.collect()` function (PROVE THIS)\n",
    "\n",
    "Core functionality implemented upstream in xarray ([Pull Request](https://github.com/pydata/xarray/pull/2553) waiting to be merged)\n",
    "\n",
    "Written using test-driven-development."
   ]
  },
  {
   "cell_type": "markdown",
   "metadata": {
    "slideshow": {
     "slide_type": "subslide"
    }
   },
   "source": [
    "### Accessors\n",
    "\n",
    "Uses another feature of xarray - [accessors](http://xarray.pydata.org/en/stable/internals.html#extending-xarray) - to provide BOUT-specific functionality as methods:"
   ]
  },
  {
   "cell_type": "code",
   "execution_count": 12,
   "metadata": {
    "slideshow": {
     "slide_type": "fragment"
    }
   },
   "outputs": [
    {
     "name": "stdout",
     "output_type": "stream",
     "text": [
      "Read in:\n",
      "<xbout.BoutDataset>\n",
      "Contains:\n",
      "<xarray.Dataset>\n",
      "Dimensions:         (t: 1001, x: 480, y: 1, z: 256)\n",
      "Dimensions without coordinates: t, x, y, z\n",
      "Data variables:\n",
      "    t_array         (t) float64 0.0 80.0 160.0 ... 7.984e+04 7.992e+04 8e+04\n",
      "    dx              (x, y) float64 dask.array<shape=(480, 1), chunksize=(10, 1)>\n",
      "    dy              (x, y) float64 dask.array<shape=(480, 1), chunksize=(10, 1)>\n",
      "    g11             (x, y) float64 dask.array<shape=(480, 1), chunksize=(10, 1)>\n",
      "    g22             (x, y) float64 dask.array<shape=(480, 1), chunksize=(10, 1)>\n",
      "    g33             (x, y) float64 dask.array<shape=(480, 1), chunksize=(10, 1)>\n",
      "    g12             (x, y) float64 dask.array<shape=(480, 1), chunksize=(10, 1)>\n",
      "    g13             (x, y) float64 dask.array<shape=(480, 1), chunksize=(10, 1)>\n",
      "    g23             (x, y) float64 dask.array<shape=(480, 1), chunksize=(10, 1)>\n",
      "    g_11            (x, y) float64 dask.array<shape=(480, 1), chunksize=(10, 1)>\n",
      "    g_22            (x, y) float64 dask.array<shape=(480, 1), chunksize=(10, 1)>\n",
      "    g_33            (x, y) float64 dask.array<shape=(480, 1), chunksize=(10, 1)>\n",
      "    g_12            (x, y) float64 dask.array<shape=(480, 1), chunksize=(10, 1)>\n",
      "    g_13            (x, y) float64 dask.array<shape=(480, 1), chunksize=(10, 1)>\n",
      "    g_23            (x, y) float64 dask.array<shape=(480, 1), chunksize=(10, 1)>\n",
      "    J               (x, y) float64 dask.array<shape=(480, 1), chunksize=(10, 1)>\n",
      "    n               (t, x, y, z) float64 dask.array<shape=(1001, 480, 1, 256), chunksize=(1001, 10, 1, 256)>\n",
      "    T               (t, x, y, z) float64 dask.array<shape=(1001, 480, 1, 256), chunksize=(1001, 10, 1, 256)>\n",
      "    vort_advection  (t, x, y, z) float64 dask.array<shape=(1001, 480, 1, 256), chunksize=(1001, 10, 1, 256)>\n",
      "    vort_drive      (t, x, y, z) float64 dask.array<shape=(1001, 480, 1, 256), chunksize=(1001, 10, 1, 256)>\n",
      "    vort_diff       (t, x, y, z) float64 dask.array<shape=(1001, 480, 1, 256), chunksize=(1001, 10, 1, 256)>\n",
      "    vort_loss       (t, x, y, z) float64 dask.array<shape=(1001, 480, 1, 256), chunksize=(1001, 10, 1, 256)>\n",
      "    phi             (t, x, y, z) float64 dask.array<shape=(1001, 480, 1, 256), chunksize=(1001, 10, 1, 256)>\n",
      "    S               (x, y) float64 dask.array<shape=(480, 1), chunksize=(10, 1)>\n",
      "    S_E             (x, y) float64 dask.array<shape=(480, 1), chunksize=(10, 1)>\n",
      "    sigma_n         (x, y) float64 dask.array<shape=(480, 1), chunksize=(10, 1)>\n",
      "    sigma_vort      (x, y) float64 dask.array<shape=(480, 1), chunksize=(10, 1)>\n",
      "    sigma_T         (x, y) float64 dask.array<shape=(480, 1), chunksize=(10, 1)>\n",
      "    B               (x, y) float64 dask.array<shape=(480, 1), chunksize=(10, 1)>\n",
      "    loss            (x, y) float64 dask.array<shape=(480, 1), chunksize=(10, 1)>\n",
      "    logn            (t, x, y, z) float64 dask.array<shape=(1001, 480, 1, 256), chunksize=(1001, 10, 1, 256)>\n",
      "    logT            (t, x, y, z) float64 dask.array<shape=(1001, 480, 1, 256), chunksize=(1001, 10, 1, 256)>\n",
      "    vort            (t, x, y, z) float64 dask.array<shape=(1001, 480, 1, 256), chunksize=(1001, 10, 1, 256)>\n",
      "Attributes:\n",
      "    metadata:  {'BOUT_VERSION': 4.12, 'iteration': 999, 'zperiod': 0, 'MXSUB'...\n",
      "    options:   None\n",
      "Metadata:\n",
      "{   'BOUT_VERSION': 4.12,\n",
      "    'MXG': 2,\n",
      "    'MXSUB': 10,\n",
      "    'MYG': 0,\n",
      "    'MYSUB': 1,\n",
      "    'MZ': 256,\n",
      "    'NXPE': 48,\n",
      "    'NYPE': 1,\n",
      "    'ZMAX': 23.873241,\n",
      "    'ZMIN': 0.0,\n",
      "    'dz': 0.5859374886170207,\n",
      "    'hist_hi': 1000,\n",
      "    'iteration': 999,\n",
      "    'ixseps1': 484,\n",
      "    'ixseps2': 484,\n",
      "    'jyseps1_1': -1,\n",
      "    'jyseps1_2': 0,\n",
      "    'jyseps2_1': 0,\n",
      "    'jyseps2_2': 0,\n",
      "    'nx': 484,\n",
      "    'ny': 1,\n",
      "    'tt': 80000.0,\n",
      "    'zperiod': 0}\n",
      "\n"
     ]
    },
    {
     "ename": "AttributeError",
     "evalue": "'BoutDatasetAccessor' object has no attribute 'to_restarts'",
     "output_type": "error",
     "traceback": [
      "\u001b[0;31m---------------------------------------------------------------------------\u001b[0m",
      "\u001b[0;31mAttributeError\u001b[0m                            Traceback (most recent call last)",
      "\u001b[0;32m<ipython-input-12-1fc1dee4a667>\u001b[0m in \u001b[0;36m<module>\u001b[0;34m\u001b[0m\n\u001b[1;32m      4\u001b[0m \u001b[0mds\u001b[0m \u001b[0;34m=\u001b[0m \u001b[0mopen_boutdataset\u001b[0m\u001b[0;34m(\u001b[0m\u001b[0mdatapath\u001b[0m\u001b[0;34m)\u001b[0m\u001b[0;34m\u001b[0m\u001b[0m\n\u001b[1;32m      5\u001b[0m \u001b[0;34m\u001b[0m\u001b[0m\n\u001b[0;32m----> 6\u001b[0;31m \u001b[0mds\u001b[0m\u001b[0;34m.\u001b[0m\u001b[0mbout\u001b[0m\u001b[0;34m.\u001b[0m\u001b[0mto_restarts\u001b[0m\u001b[0;34m(\u001b[0m\u001b[0msavepath\u001b[0m\u001b[0;34m=\u001b[0m\u001b[0;34m'.'\u001b[0m\u001b[0;34m,\u001b[0m \u001b[0mnxpe\u001b[0m\u001b[0;34m=\u001b[0m\u001b[0;36m4\u001b[0m\u001b[0;34m,\u001b[0m \u001b[0mnype\u001b[0m\u001b[0;34m=\u001b[0m\u001b[0;36m6\u001b[0m\u001b[0;34m)\u001b[0m\u001b[0;34m\u001b[0m\u001b[0m\n\u001b[0m",
      "\u001b[0;31mAttributeError\u001b[0m: 'BoutDatasetAccessor' object has no attribute 'to_restarts'"
     ]
    }
   ],
   "source": [
    "from xbout import open_boutdataset\n",
    "\n",
    "datapath = '/home/tnichol/runs/2d/core_phi_visc_scan/visc_3.7e0_vortloss_1.0e0/BOUT.dmp.*.nc'\n",
    "ds = open_boutdataset(datapath)\n",
    "\n",
    "ds.bout.to_restarts(savepath='.', nxpe=4, nype=6)"
   ]
  },
  {
   "cell_type": "code",
   "execution_count": null,
   "metadata": {
    "slideshow": {
     "slide_type": "subslide"
    }
   },
   "outputs": [],
   "source": [
    "ds['n'].bout.animate2D(animate_over='t', x='x', y='z')"
   ]
  },
  {
   "cell_type": "markdown",
   "metadata": {
    "slideshow": {
     "slide_type": "slide"
    }
   },
   "source": [
    "Package includes methods to perform common types of plasma turbulence data analysis (all parallelized using dask):\n",
    "\n",
    "(e.g. pdfs, ExB velocity, conditional averaging)"
   ]
  },
  {
   "cell_type": "code",
   "execution_count": null,
   "metadata": {
    "slideshow": {
     "slide_type": "fragment"
    }
   },
   "outputs": [],
   "source": [
    "ds['n'].bout.growth_rate()"
   ]
  },
  {
   "cell_type": "markdown",
   "metadata": {
    "slideshow": {
     "slide_type": "slide"
    }
   },
   "source": [
    "### Subclassing for specific users\n",
    "\n",
    "Tools for general use in `xBOUT`, but `boutdataset` accessor allows subclassing for specific BOUT++ modules:"
   ]
  },
  {
   "cell_type": "code",
   "execution_count": 16,
   "metadata": {
    "slideshow": {
     "slide_type": "fragment"
    }
   },
   "outputs": [
    {
     "name": "stderr",
     "output_type": "stream",
     "text": [
      "/home/tnichol/anaconda3/envs/py36/lib/python3.6/site-packages/ipykernel_launcher.py:5: AccessorRegistrationWarning: registration of accessor <class '__main__.StormAccessor'> under name 'storm' for type <class 'xarray.core.dataset.Dataset'> is overriding a preexisting attribute with the same name.\n",
      "  \"\"\"\n"
     ]
    }
   ],
   "source": [
    "from xarray import register_dataset_accessor\n",
    "from xbout.boutdataset import open_boutdataset, BoutDatasetAccessor\n",
    "\n",
    "@register_dataset_accessor('storm')\n",
    "class StormAccessor(BoutDatasetAccessor):\n",
    "    \"\"\"\n",
    "    Class specifically for holding data from a simulation using the STORM module for BOUT++.\n",
    "    \"\"\"\n",
    "    def __init__(self, ds):\n",
    "        super().__init__(ds)\n",
    "\n",
    "    def plot_special_storm_plot(self):\n",
    "        print(\"STORM-specific functionality!\")"
   ]
  },
  {
   "cell_type": "code",
   "execution_count": 19,
   "metadata": {
    "slideshow": {
     "slide_type": "fragment"
    }
   },
   "outputs": [
    {
     "name": "stdout",
     "output_type": "stream",
     "text": [
      "Read in dataset from /home/tnichol/runs/2d/core_phi_visc_scan/visc_3.7e0_vortloss_1.0e0/BOUT.dmp.*.nc\n",
      "STORM-specific functionality!\n"
     ]
    }
   ],
   "source": [
    "ds = open_boutdataset(datapath, info='terse')\n",
    "ds.storm.plot_special_storm_plot()"
   ]
  },
  {
   "cell_type": "markdown",
   "metadata": {
    "slideshow": {
     "slide_type": "slide"
    }
   },
   "source": [
    "# Suggestions for BOUT++ community tools"
   ]
  },
  {
   "cell_type": "markdown",
   "metadata": {
    "slideshow": {
     "slide_type": "subslide"
    }
   },
   "source": [
    "### Multidimensional coordinates"
   ]
  },
  {
   "cell_type": "markdown",
   "metadata": {
    "slideshow": {
     "slide_type": "fragment"
    }
   },
   "source": [
    "Coordinates can be multidimensional\n",
    "\n",
    "Store mapping between (r,z,phi) -> Boozer coordinates as a 3D coord Boozer"
   ]
  },
  {
   "cell_type": "markdown",
   "metadata": {
    "slideshow": {
     "slide_type": "subslide"
    }
   },
   "source": [
    "### Common plotting functions"
   ]
  },
  {
   "cell_type": "code",
   "execution_count": null,
   "metadata": {
    "slideshow": {
     "slide_type": "fragment"
    }
   },
   "outputs": [],
   "source": [
    "ds['n'].bout.plot_poloidal()"
   ]
  },
  {
   "cell_type": "markdown",
   "metadata": {
    "slideshow": {
     "slide_type": "subslide"
    }
   },
   "source": [
    "### More analysis functions"
   ]
  },
  {
   "cell_type": "markdown",
   "metadata": {
    "slideshow": {
     "slide_type": "fragment"
    }
   },
   "source": [
    "Growth rates, power spectra..."
   ]
  },
  {
   "cell_type": "markdown",
   "metadata": {
    "slideshow": {
     "slide_type": "subslide"
    }
   },
   "source": [
    "### Staggered grids using xgcm"
   ]
  },
  {
   "cell_type": "markdown",
   "metadata": {
    "slideshow": {
     "slide_type": "fragment"
    }
   },
   "source": [
    "Interesting work going on in the [xgcm](https://github.com/xgcm/xgcm) package \n",
    "\n",
    "xgcm (Xarray for Global Circulation Models) aims to provide objects which encode complex grids for use with xarray."
   ]
  },
  {
   "cell_type": "markdown",
   "metadata": {
    "slideshow": {
     "slide_type": "subslide"
    }
   },
   "source": [
    "Can encode and perform operations on staggered grids:"
   ]
  },
  {
   "cell_type": "markdown",
   "metadata": {
    "slideshow": {
     "slide_type": "fragment"
    }
   },
   "source": [
    "<img src=\"images/grid2d_hv.svg\">"
   ]
  },
  {
   "cell_type": "markdown",
   "metadata": {
    "slideshow": {
     "slide_type": "slide"
    }
   },
   "source": [
    "### Complex topologies using xgcm"
   ]
  },
  {
   "cell_type": "markdown",
   "metadata": {
    "slideshow": {
     "slide_type": "fragment"
    }
   },
   "source": [
    "xgcm can also encode complex topologies by storing connections between different cartesian grids:"
   ]
  },
  {
   "cell_type": "markdown",
   "metadata": {
    "slideshow": {
     "slide_type": "fragment"
    }
   },
   "source": [
    "<img src=\"images/cubed_sphere.jpeg\" alt=\"Drawing\" style=\"width: 400px;\">"
   ]
  },
  {
   "cell_type": "markdown",
   "metadata": {
    "slideshow": {
     "slide_type": "slide"
    }
   },
   "source": [
    "# Conclusion"
   ]
  },
  {
   "cell_type": "markdown",
   "metadata": {
    "slideshow": {
     "slide_type": "fragment"
    }
   },
   "source": [
    "Everyone who analyses multidimensional simulation data in python has similar needs"
   ]
  },
  {
   "cell_type": "markdown",
   "metadata": {
    "slideshow": {
     "slide_type": "fragment"
    }
   },
   "source": [
    "Atmospheric physicists have already solved this problem for us: [xarray + dask](http://xarray.pydata.org/en/stable/index.html)"
   ]
  },
  {
   "cell_type": "markdown",
   "metadata": {
    "slideshow": {
     "slide_type": "fragment"
    }
   },
   "source": [
    "Extendable API ideal for the varied BOUT++ community"
   ]
  },
  {
   "cell_type": "markdown",
   "metadata": {
    "slideshow": {
     "slide_type": "fragment"
    }
   },
   "source": [
    "Basic functionality already exists ([xBOUT](https://github.com/TomNicholas/xBOUT))"
   ]
  },
  {
   "cell_type": "markdown",
   "metadata": {
    "slideshow": {
     "slide_type": "fragment"
    }
   },
   "source": [
    "Potential for powerful common features "
   ]
  },
  {
   "cell_type": "markdown",
   "metadata": {
    "slideshow": {
     "slide_type": "slide"
    }
   },
   "source": [
    "# Resources"
   ]
  },
  {
   "cell_type": "markdown",
   "metadata": {
    "slideshow": {
     "slide_type": "fragment"
    }
   },
   "source": [
    "Blog post introducing xarray:\n",
    "http://stephanhoyer.com/2015/06/11/xray-dask-out-of-core-labeled-arrays/\n",
    "\n",
    "\n",
    "xarray GitHub:\n",
    "https://github.com/pydata/xarray/\n",
    "\n",
    "\n",
    "xarray documentation:\n",
    "http://xarray.pydata.org/en/stable/\n",
    "\n",
    "\n",
    "xarray documentation on dask integration:\n",
    "http://xarray.pydata.org/en/stable/dask.html\n",
    "\n",
    "\n",
    "Other useful blogs/tutorials:\n",
    "http://meteo.unican.es/work/xarray_seminar/xArray_seminar.html\n",
    "https://rabernat.github.io/research_computing/xarray.html\n",
    "\n",
    "\n",
    "Useful page from the dask documentation explaining the general idea:\n",
    "http://docs.dask.org/en/latest/delayed.html"
   ]
  },
  {
   "cell_type": "markdown",
   "metadata": {
    "slideshow": {
     "slide_type": "slide"
    }
   },
   "source": [
    "# Bonus: How does dask work?"
   ]
  },
  {
   "cell_type": "markdown",
   "metadata": {
    "slideshow": {
     "slide_type": "fragment"
    }
   },
   "source": [
    "<img src=\"images/collections-schedulers.png\">"
   ]
  },
  {
   "cell_type": "markdown",
   "metadata": {
    "slideshow": {
     "slide_type": "fragment"
    }
   },
   "source": [
    "Dask works by:\n",
    "    \n",
    "- Labelling the various operations you want to perform, using either dask objects like dask.arrays or encoding general functions using dask.delayed\n",
    "\n",
    "- Instead of evaluating these operations, it organises them into a Task Graph for later evaluation\n",
    "\n",
    "- Evaluates them using one of a set of Schedulers, which can perform in parallel."
   ]
  },
  {
   "cell_type": "code",
   "execution_count": 8,
   "metadata": {
    "slideshow": {
     "slide_type": "subslide"
    }
   },
   "outputs": [],
   "source": [
    "def inc(x):\n",
    "    return x + 1\n",
    "\n",
    "def add(x, y):\n",
    "    return x + y"
   ]
  },
  {
   "cell_type": "code",
   "execution_count": 9,
   "metadata": {
    "slideshow": {
     "slide_type": "fragment"
    }
   },
   "outputs": [
    {
     "data": {
      "text/plain": [
       "5"
      ]
     },
     "execution_count": 9,
     "metadata": {},
     "output_type": "execute_result"
    }
   ],
   "source": [
    "import dask\n",
    "\n",
    "x = dask.delayed(inc)(1)\n",
    "y = dask.delayed(inc)(2)\n",
    "z = dask.delayed(add)(x, y)\n",
    "z.compute()"
   ]
  },
  {
   "cell_type": "code",
   "execution_count": null,
   "metadata": {
    "slideshow": {
     "slide_type": "fragment"
    }
   },
   "outputs": [],
   "source": [
    "z.vizualize()"
   ]
  },
  {
   "cell_type": "markdown",
   "metadata": {
    "slideshow": {
     "slide_type": "fragment"
    }
   },
   "source": [
    "<img src=\"images/inc-add.svg\">"
   ]
  },
  {
   "cell_type": "code",
   "execution_count": null,
   "metadata": {},
   "outputs": [],
   "source": []
  }
 ],
 "metadata": {
  "celltoolbar": "Slideshow",
  "kernelspec": {
   "display_name": "Python 3",
   "language": "python",
   "name": "python3"
  },
  "language_info": {
   "codemirror_mode": {
    "name": "ipython",
    "version": 3
   },
   "file_extension": ".py",
   "mimetype": "text/x-python",
   "name": "python",
   "nbconvert_exporter": "python",
   "pygments_lexer": "ipython3",
   "version": "3.6.6"
  }
 },
 "nbformat": 4,
 "nbformat_minor": 2
}
