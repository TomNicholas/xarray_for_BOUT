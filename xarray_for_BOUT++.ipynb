{
 "cells": [
  {
   "cell_type": "markdown",
   "metadata": {
    "slideshow": {
     "slide_type": "slide"
    }
   },
   "source": [
    "# xarray + dask for BOUT++ data analysis \n",
    "\n",
    "## Readable, general, and scalable data analysis in python\n",
    "\n",
    "Thomas Nicholas\n",
    "\n",
    "(thomas.nicholas@york.ac.uk)"
   ]
  },
  {
   "cell_type": "markdown",
   "metadata": {
    "slideshow": {
     "slide_type": "slide"
    }
   },
   "source": [
    "# Outline"
   ]
  },
  {
   "cell_type": "markdown",
   "metadata": {},
   "source": [
    "### Multidimensional data analysis"
   ]
  },
  {
   "cell_type": "markdown",
   "metadata": {
    "slideshow": {
     "slide_type": "fragment"
    }
   },
   "source": [
    "### What is xarray?"
   ]
  },
  {
   "cell_type": "markdown",
   "metadata": {
    "slideshow": {
     "slide_type": "fragment"
    }
   },
   "source": [
    "### xarray basic features"
   ]
  },
  {
   "cell_type": "markdown",
   "metadata": {
    "slideshow": {
     "slide_type": "fragment"
    }
   },
   "source": [
    "### Analysing large datasets with dask"
   ]
  },
  {
   "cell_type": "markdown",
   "metadata": {
    "slideshow": {
     "slide_type": "fragment"
    }
   },
   "source": [
    "### The xBOUT package"
   ]
  },
  {
   "cell_type": "markdown",
   "metadata": {
    "slideshow": {
     "slide_type": "fragment"
    }
   },
   "source": [
    "### Suggestions for community tools"
   ]
  },
  {
   "cell_type": "markdown",
   "metadata": {
    "slideshow": {
     "slide_type": "slide"
    }
   },
   "source": [
    "# Multidimensional data analysis"
   ]
  },
  {
   "cell_type": "markdown",
   "metadata": {
    "slideshow": {
     "slide_type": "fragment"
    }
   },
   "source": [
    "All computational plasma physicists have some similar data analysis requirements:"
   ]
  },
  {
   "cell_type": "markdown",
   "metadata": {
    "slideshow": {
     "slide_type": "fragment"
    }
   },
   "source": [
    "- Relatively large datasets (up to 100's GBs)\n",
    "- Multidimensional\n",
    "- Warped-grid\n",
    "- Fluid turbulence\n",
    "- Visualise multiple dimensions easily\n",
    "- Apply mathematical operations over many dimensions easily and clearly"
   ]
  },
  {
   "cell_type": "markdown",
   "metadata": {
    "slideshow": {
     "slide_type": "fragment"
    }
   },
   "source": [
    "For BOUT++ we want standard library with all this + open source"
   ]
  },
  {
   "cell_type": "markdown",
   "metadata": {
    "slideshow": {
     "slide_type": "slide"
    }
   },
   "source": [
    "# What is xarray?"
   ]
  },
  {
   "cell_type": "markdown",
   "metadata": {
    "slideshow": {
     "slide_type": "fragment"
    }
   },
   "source": [
    "xarray is an open-source python library which provides Pandas-like labelling, visualisation & analysis functionality for N-dimensional data."
   ]
  },
  {
   "cell_type": "markdown",
   "metadata": {
    "slideshow": {
     "slide_type": "fragment"
    }
   },
   "source": [
    "Developed by atmospheric physicists, who have similar data analysis needs to us"
   ]
  },
  {
   "cell_type": "markdown",
   "metadata": {
    "slideshow": {
     "slide_type": "fragment"
    }
   },
   "source": [
    "Already used extensively behind the scenes in OMFIT"
   ]
  },
  {
   "cell_type": "markdown",
   "metadata": {
    "slideshow": {
     "slide_type": "slide"
    }
   },
   "source": [
    "### xarray basic features: \n",
    "- Labelled multidimensional data\n",
    "- Clear syntax for operations\n",
    "- Lazy loading into memory\n",
    "- Plotting convenience"
   ]
  },
  {
   "cell_type": "markdown",
   "metadata": {
    "slideshow": {
     "slide_type": "slide"
    }
   },
   "source": [
    "# xarray: Labelled multidimensional data"
   ]
  },
  {
   "cell_type": "markdown",
   "metadata": {
    "slideshow": {
     "slide_type": "fragment"
    }
   },
   "source": [
    "xarray wraps numpy arrays as \"variables\" and labels the dimensions.\n",
    "\n",
    "There can be multiple \"coordinates\" for the same data.\n",
    "\n",
    "Coordinates can be multidimensional\n",
    "(e.g. for mapping Orthogonal toroidal coordinates -> field-aligned coordinates)\n",
    "\n",
    "Multiple data variables are stored in same `Dataset`."
   ]
  },
  {
   "cell_type": "markdown",
   "metadata": {
    "slideshow": {
     "slide_type": "fragment"
    }
   },
   "source": [
    "For example, imagine we had some output from an atmospheric fluid simulation..."
   ]
  },
  {
   "cell_type": "markdown",
   "metadata": {
    "slideshow": {
     "slide_type": "subslide"
    }
   },
   "source": [
    "<img src=\"images/dataset-diagram.png\" style=\"width: 600px;\">"
   ]
  },
  {
   "cell_type": "code",
   "execution_count": null,
   "metadata": {
    "slideshow": {
     "slide_type": "fragment"
    }
   },
   "outputs": [],
   "source": [
    "<xarray.Dataset>\n",
    "Dimensions:        (t: 8, x: 8, y: 8)\n",
    "Coordinates:\n",
    "  * t              (t) int64 0 1 2 3 4 5 6 7 8\n",
    "  * x              (x) int64 0 1 2 3 4 5 6 7 8\n",
    "  * y              (y) int64 0 1 2 3 4 5 6 7 8\n",
    "    latitude       (x, y) float32 numpy.array(8, 8)\n",
    "    longitude      (x, y) float32 numpy.array(8, 8)\n",
    "Data variables:\n",
    "    temperature    (t, x, y) float32 numpy.array(8, 8, 8)\n",
    "    precipitation  (t, x, y) float32 numpy.array(8, 8, 8)\n",
    "Attributes:\n",
    "    reference_time 123.0"
   ]
  },
  {
   "cell_type": "markdown",
   "metadata": {
    "slideshow": {
     "slide_type": "fragment"
    }
   },
   "source": [
    "Also carries around a dictionary of \"attributes\", which be used to store metadata as arbitary objects."
   ]
  },
  {
   "cell_type": "markdown",
   "metadata": {
    "slideshow": {
     "slide_type": "slide"
    }
   },
   "source": [
    "# xarray: Clear syntax for operations"
   ]
  },
  {
   "cell_type": "markdown",
   "metadata": {
    "slideshow": {
     "slide_type": "fragment"
    }
   },
   "source": [
    "We have some data $n(t,x,y,z)$, and we want to find the maximum over time of the spatially-averaged density at the separatrix. \n",
    "\n",
    "i.e. find $\\text{max}(<n(t,x=\\text{separatrix})>)$, where $<...>$ is an average over $y$ & $z$: "
   ]
  },
  {
   "cell_type": "markdown",
   "metadata": {
    "slideshow": {
     "slide_type": "fragment"
    }
   },
   "source": [
    "Bare numpy:"
   ]
  },
  {
   "cell_type": "code",
   "execution_count": null,
   "metadata": {
    "slideshow": {
     "slide_type": "fragment"
    }
   },
   "outputs": [],
   "source": [
    "max_separatrix_density = np.max(np.mean(n[:, sep_x, ...], axis=(2,3)), axis=0)"
   ]
  },
  {
   "cell_type": "markdown",
   "metadata": {
    "slideshow": {
     "slide_type": "fragment"
    }
   },
   "source": [
    "xarray:"
   ]
  },
  {
   "cell_type": "code",
   "execution_count": null,
   "metadata": {
    "slideshow": {
     "slide_type": "fragment"
    }
   },
   "outputs": [],
   "source": [
    "max_separatrix_density = ds['n'].isel(x=sep_x).mean(dim=('y', 'z')).max(dim='t')"
   ]
  },
  {
   "cell_type": "markdown",
   "metadata": {
    "slideshow": {
     "slide_type": "fragment"
    }
   },
   "source": [
    "The xarray code is clearer, more generalisable, contains fewer \"magic numbers\", and the order of operations applied reads left-to-right."
   ]
  },
  {
   "cell_type": "markdown",
   "metadata": {
    "slideshow": {
     "slide_type": "slide"
    }
   },
   "source": [
    "# xarray: Lazy loading into memory"
   ]
  },
  {
   "cell_type": "markdown",
   "metadata": {
    "slideshow": {
     "slide_type": "fragment"
    }
   },
   "source": [
    "xarray uses the netCDF format in the backend.\n",
    "\n",
    "Lazily loads data values - never waste RAM on unneeded values."
   ]
  },
  {
   "cell_type": "code",
   "execution_count": null,
   "metadata": {
    "slideshow": {
     "slide_type": "fragment"
    }
   },
   "outputs": [],
   "source": [
    "import xarray as xr\n",
    "\n",
    "# Open a 100GB file\n",
    "ds = xr.open_dataset('BOUT_data.nc')\n",
    "\n",
    "# Select a 1GB subset of the data\n",
    "data = ds.isel(y=0)\n",
    "\n",
    "# Data is only loaded into memory here, when we actually need it\n",
    "result = some_maths(data)"
   ]
  },
  {
   "cell_type": "markdown",
   "metadata": {
    "slideshow": {
     "slide_type": "slide"
    }
   },
   "source": [
    "# xarray: Plotting convenience"
   ]
  },
  {
   "cell_type": "markdown",
   "metadata": {
    "slideshow": {
     "slide_type": "fragment"
    }
   },
   "source": [
    "xarray provides plotting functions which wrap matplotlib:"
   ]
  },
  {
   "cell_type": "code",
   "execution_count": 6,
   "metadata": {
    "slideshow": {
     "slide_type": "skip"
    }
   },
   "outputs": [
    {
     "name": "stdout",
     "output_type": "stream",
     "text": [
      "Read in:\n",
      "<xbout.BoutDataset>\n",
      "Contains:\n",
      "<xarray.Dataset>\n",
      "Dimensions:         (t: 1001, x: 480, y: 1, z: 256)\n",
      "Dimensions without coordinates: t, x, y, z\n",
      "Data variables:\n",
      "    t_array         (t) float64 0.0 80.0 160.0 ... 7.984e+04 7.992e+04 8e+04\n",
      "    dx              (x, y) float64 dask.array<shape=(480, 1), chunksize=(10, 1)>\n",
      "    dy              (x, y) float64 dask.array<shape=(480, 1), chunksize=(10, 1)>\n",
      "    g11             (x, y) float64 dask.array<shape=(480, 1), chunksize=(10, 1)>\n",
      "    g22             (x, y) float64 dask.array<shape=(480, 1), chunksize=(10, 1)>\n",
      "    g33             (x, y) float64 dask.array<shape=(480, 1), chunksize=(10, 1)>\n",
      "    g12             (x, y) float64 dask.array<shape=(480, 1), chunksize=(10, 1)>\n",
      "    g13             (x, y) float64 dask.array<shape=(480, 1), chunksize=(10, 1)>\n",
      "    g23             (x, y) float64 dask.array<shape=(480, 1), chunksize=(10, 1)>\n",
      "    g_11            (x, y) float64 dask.array<shape=(480, 1), chunksize=(10, 1)>\n",
      "    g_22            (x, y) float64 dask.array<shape=(480, 1), chunksize=(10, 1)>\n",
      "    g_33            (x, y) float64 dask.array<shape=(480, 1), chunksize=(10, 1)>\n",
      "    g_12            (x, y) float64 dask.array<shape=(480, 1), chunksize=(10, 1)>\n",
      "    g_13            (x, y) float64 dask.array<shape=(480, 1), chunksize=(10, 1)>\n",
      "    g_23            (x, y) float64 dask.array<shape=(480, 1), chunksize=(10, 1)>\n",
      "    J               (x, y) float64 dask.array<shape=(480, 1), chunksize=(10, 1)>\n",
      "    n               (t, x, y, z) float64 dask.array<shape=(1001, 480, 1, 256), chunksize=(1001, 10, 1, 256)>\n",
      "    T               (t, x, y, z) float64 dask.array<shape=(1001, 480, 1, 256), chunksize=(1001, 10, 1, 256)>\n",
      "    vort_advection  (t, x, y, z) float64 dask.array<shape=(1001, 480, 1, 256), chunksize=(1001, 10, 1, 256)>\n",
      "    vort_drive      (t, x, y, z) float64 dask.array<shape=(1001, 480, 1, 256), chunksize=(1001, 10, 1, 256)>\n",
      "    vort_diff       (t, x, y, z) float64 dask.array<shape=(1001, 480, 1, 256), chunksize=(1001, 10, 1, 256)>\n",
      "    vort_loss       (t, x, y, z) float64 dask.array<shape=(1001, 480, 1, 256), chunksize=(1001, 10, 1, 256)>\n",
      "    phi             (t, x, y, z) float64 dask.array<shape=(1001, 480, 1, 256), chunksize=(1001, 10, 1, 256)>\n",
      "    S               (x, y) float64 dask.array<shape=(480, 1), chunksize=(10, 1)>\n",
      "    S_E             (x, y) float64 dask.array<shape=(480, 1), chunksize=(10, 1)>\n",
      "    sigma_n         (x, y) float64 dask.array<shape=(480, 1), chunksize=(10, 1)>\n",
      "    sigma_vort      (x, y) float64 dask.array<shape=(480, 1), chunksize=(10, 1)>\n",
      "    sigma_T         (x, y) float64 dask.array<shape=(480, 1), chunksize=(10, 1)>\n",
      "    B               (x, y) float64 dask.array<shape=(480, 1), chunksize=(10, 1)>\n",
      "    loss            (x, y) float64 dask.array<shape=(480, 1), chunksize=(10, 1)>\n",
      "    logn            (t, x, y, z) float64 dask.array<shape=(1001, 480, 1, 256), chunksize=(1001, 10, 1, 256)>\n",
      "    logT            (t, x, y, z) float64 dask.array<shape=(1001, 480, 1, 256), chunksize=(1001, 10, 1, 256)>\n",
      "    vort            (t, x, y, z) float64 dask.array<shape=(1001, 480, 1, 256), chunksize=(1001, 10, 1, 256)>\n",
      "Attributes:\n",
      "    metadata:  {'BOUT_VERSION': 4.12, 'iteration': 999, 'zperiod': 0, 'MXSUB'...\n",
      "    options:   None\n",
      "Metadata:\n",
      "{   'BOUT_VERSION': 4.12,\n",
      "    'MXG': 2,\n",
      "    'MXSUB': 10,\n",
      "    'MYG': 0,\n",
      "    'MYSUB': 1,\n",
      "    'MZ': 256,\n",
      "    'NXPE': 48,\n",
      "    'NYPE': 1,\n",
      "    'ZMAX': 23.873241,\n",
      "    'ZMIN': 0.0,\n",
      "    'dz': 0.5859374886170207,\n",
      "    'hist_hi': 1000,\n",
      "    'iteration': 999,\n",
      "    'ixseps1': 484,\n",
      "    'ixseps2': 484,\n",
      "    'jyseps1_1': -1,\n",
      "    'jyseps1_2': 0,\n",
      "    'jyseps2_1': 0,\n",
      "    'jyseps2_2': 0,\n",
      "    'nx': 484,\n",
      "    'ny': 1,\n",
      "    'tt': 80000.0,\n",
      "    'zperiod': 0}\n",
      "\n"
     ]
    }
   ],
   "source": [
    "# Skip this in presentation because it just loads data\n",
    "%matplotlib notebook\n",
    "\n",
    "from xbout import open_boutdataset\n",
    "\n",
    "ds = open_boutdataset('/home/tnichol/runs/2d/core_phi_visc_scan/visc_3.7e0_vortloss_1.0e0/BOUT.dmp.*.nc')\n",
    "ds['x'].attrs['units'] = 'rho_s'\n",
    "ds['z'].attrs['units'] = 'rho_s'\n",
    "\n",
    "ds['phi'].attrs['units'] = 'V'\n",
    "ds['phi'].name = 'Potential'\n",
    "ds['T'].name = 'Electron temperature'"
   ]
  },
  {
   "cell_type": "code",
   "execution_count": 10,
   "metadata": {
    "slideshow": {
     "slide_type": "subslide"
    }
   },
   "outputs": [
    {
     "data": {
      "application/javascript": [
       "/* Put everything inside the global mpl namespace */\n",
       "window.mpl = {};\n",
       "\n",
       "\n",
       "mpl.get_websocket_type = function() {\n",
       "    if (typeof(WebSocket) !== 'undefined') {\n",
       "        return WebSocket;\n",
       "    } else if (typeof(MozWebSocket) !== 'undefined') {\n",
       "        return MozWebSocket;\n",
       "    } else {\n",
       "        alert('Your browser does not have WebSocket support.' +\n",
       "              'Please try Chrome, Safari or Firefox ≥ 6. ' +\n",
       "              'Firefox 4 and 5 are also supported but you ' +\n",
       "              'have to enable WebSockets in about:config.');\n",
       "    };\n",
       "}\n",
       "\n",
       "mpl.figure = function(figure_id, websocket, ondownload, parent_element) {\n",
       "    this.id = figure_id;\n",
       "\n",
       "    this.ws = websocket;\n",
       "\n",
       "    this.supports_binary = (this.ws.binaryType != undefined);\n",
       "\n",
       "    if (!this.supports_binary) {\n",
       "        var warnings = document.getElementById(\"mpl-warnings\");\n",
       "        if (warnings) {\n",
       "            warnings.style.display = 'block';\n",
       "            warnings.textContent = (\n",
       "                \"This browser does not support binary websocket messages. \" +\n",
       "                    \"Performance may be slow.\");\n",
       "        }\n",
       "    }\n",
       "\n",
       "    this.imageObj = new Image();\n",
       "\n",
       "    this.context = undefined;\n",
       "    this.message = undefined;\n",
       "    this.canvas = undefined;\n",
       "    this.rubberband_canvas = undefined;\n",
       "    this.rubberband_context = undefined;\n",
       "    this.format_dropdown = undefined;\n",
       "\n",
       "    this.image_mode = 'full';\n",
       "\n",
       "    this.root = $('<div/>');\n",
       "    this._root_extra_style(this.root)\n",
       "    this.root.attr('style', 'display: inline-block');\n",
       "\n",
       "    $(parent_element).append(this.root);\n",
       "\n",
       "    this._init_header(this);\n",
       "    this._init_canvas(this);\n",
       "    this._init_toolbar(this);\n",
       "\n",
       "    var fig = this;\n",
       "\n",
       "    this.waiting = false;\n",
       "\n",
       "    this.ws.onopen =  function () {\n",
       "            fig.send_message(\"supports_binary\", {value: fig.supports_binary});\n",
       "            fig.send_message(\"send_image_mode\", {});\n",
       "            if (mpl.ratio != 1) {\n",
       "                fig.send_message(\"set_dpi_ratio\", {'dpi_ratio': mpl.ratio});\n",
       "            }\n",
       "            fig.send_message(\"refresh\", {});\n",
       "        }\n",
       "\n",
       "    this.imageObj.onload = function() {\n",
       "            if (fig.image_mode == 'full') {\n",
       "                // Full images could contain transparency (where diff images\n",
       "                // almost always do), so we need to clear the canvas so that\n",
       "                // there is no ghosting.\n",
       "                fig.context.clearRect(0, 0, fig.canvas.width, fig.canvas.height);\n",
       "            }\n",
       "            fig.context.drawImage(fig.imageObj, 0, 0);\n",
       "        };\n",
       "\n",
       "    this.imageObj.onunload = function() {\n",
       "        fig.ws.close();\n",
       "    }\n",
       "\n",
       "    this.ws.onmessage = this._make_on_message_function(this);\n",
       "\n",
       "    this.ondownload = ondownload;\n",
       "}\n",
       "\n",
       "mpl.figure.prototype._init_header = function() {\n",
       "    var titlebar = $(\n",
       "        '<div class=\"ui-dialog-titlebar ui-widget-header ui-corner-all ' +\n",
       "        'ui-helper-clearfix\"/>');\n",
       "    var titletext = $(\n",
       "        '<div class=\"ui-dialog-title\" style=\"width: 100%; ' +\n",
       "        'text-align: center; padding: 3px;\"/>');\n",
       "    titlebar.append(titletext)\n",
       "    this.root.append(titlebar);\n",
       "    this.header = titletext[0];\n",
       "}\n",
       "\n",
       "\n",
       "\n",
       "mpl.figure.prototype._canvas_extra_style = function(canvas_div) {\n",
       "\n",
       "}\n",
       "\n",
       "\n",
       "mpl.figure.prototype._root_extra_style = function(canvas_div) {\n",
       "\n",
       "}\n",
       "\n",
       "mpl.figure.prototype._init_canvas = function() {\n",
       "    var fig = this;\n",
       "\n",
       "    var canvas_div = $('<div/>');\n",
       "\n",
       "    canvas_div.attr('style', 'position: relative; clear: both; outline: 0');\n",
       "\n",
       "    function canvas_keyboard_event(event) {\n",
       "        return fig.key_event(event, event['data']);\n",
       "    }\n",
       "\n",
       "    canvas_div.keydown('key_press', canvas_keyboard_event);\n",
       "    canvas_div.keyup('key_release', canvas_keyboard_event);\n",
       "    this.canvas_div = canvas_div\n",
       "    this._canvas_extra_style(canvas_div)\n",
       "    this.root.append(canvas_div);\n",
       "\n",
       "    var canvas = $('<canvas/>');\n",
       "    canvas.addClass('mpl-canvas');\n",
       "    canvas.attr('style', \"left: 0; top: 0; z-index: 0; outline: 0\")\n",
       "\n",
       "    this.canvas = canvas[0];\n",
       "    this.context = canvas[0].getContext(\"2d\");\n",
       "\n",
       "    var backingStore = this.context.backingStorePixelRatio ||\n",
       "\tthis.context.webkitBackingStorePixelRatio ||\n",
       "\tthis.context.mozBackingStorePixelRatio ||\n",
       "\tthis.context.msBackingStorePixelRatio ||\n",
       "\tthis.context.oBackingStorePixelRatio ||\n",
       "\tthis.context.backingStorePixelRatio || 1;\n",
       "\n",
       "    mpl.ratio = (window.devicePixelRatio || 1) / backingStore;\n",
       "\n",
       "    var rubberband = $('<canvas/>');\n",
       "    rubberband.attr('style', \"position: absolute; left: 0; top: 0; z-index: 1;\")\n",
       "\n",
       "    var pass_mouse_events = true;\n",
       "\n",
       "    canvas_div.resizable({\n",
       "        start: function(event, ui) {\n",
       "            pass_mouse_events = false;\n",
       "        },\n",
       "        resize: function(event, ui) {\n",
       "            fig.request_resize(ui.size.width, ui.size.height);\n",
       "        },\n",
       "        stop: function(event, ui) {\n",
       "            pass_mouse_events = true;\n",
       "            fig.request_resize(ui.size.width, ui.size.height);\n",
       "        },\n",
       "    });\n",
       "\n",
       "    function mouse_event_fn(event) {\n",
       "        if (pass_mouse_events)\n",
       "            return fig.mouse_event(event, event['data']);\n",
       "    }\n",
       "\n",
       "    rubberband.mousedown('button_press', mouse_event_fn);\n",
       "    rubberband.mouseup('button_release', mouse_event_fn);\n",
       "    // Throttle sequential mouse events to 1 every 20ms.\n",
       "    rubberband.mousemove('motion_notify', mouse_event_fn);\n",
       "\n",
       "    rubberband.mouseenter('figure_enter', mouse_event_fn);\n",
       "    rubberband.mouseleave('figure_leave', mouse_event_fn);\n",
       "\n",
       "    canvas_div.on(\"wheel\", function (event) {\n",
       "        event = event.originalEvent;\n",
       "        event['data'] = 'scroll'\n",
       "        if (event.deltaY < 0) {\n",
       "            event.step = 1;\n",
       "        } else {\n",
       "            event.step = -1;\n",
       "        }\n",
       "        mouse_event_fn(event);\n",
       "    });\n",
       "\n",
       "    canvas_div.append(canvas);\n",
       "    canvas_div.append(rubberband);\n",
       "\n",
       "    this.rubberband = rubberband;\n",
       "    this.rubberband_canvas = rubberband[0];\n",
       "    this.rubberband_context = rubberband[0].getContext(\"2d\");\n",
       "    this.rubberband_context.strokeStyle = \"#000000\";\n",
       "\n",
       "    this._resize_canvas = function(width, height) {\n",
       "        // Keep the size of the canvas, canvas container, and rubber band\n",
       "        // canvas in synch.\n",
       "        canvas_div.css('width', width)\n",
       "        canvas_div.css('height', height)\n",
       "\n",
       "        canvas.attr('width', width * mpl.ratio);\n",
       "        canvas.attr('height', height * mpl.ratio);\n",
       "        canvas.attr('style', 'width: ' + width + 'px; height: ' + height + 'px;');\n",
       "\n",
       "        rubberband.attr('width', width);\n",
       "        rubberband.attr('height', height);\n",
       "    }\n",
       "\n",
       "    // Set the figure to an initial 600x600px, this will subsequently be updated\n",
       "    // upon first draw.\n",
       "    this._resize_canvas(600, 600);\n",
       "\n",
       "    // Disable right mouse context menu.\n",
       "    $(this.rubberband_canvas).bind(\"contextmenu\",function(e){\n",
       "        return false;\n",
       "    });\n",
       "\n",
       "    function set_focus () {\n",
       "        canvas.focus();\n",
       "        canvas_div.focus();\n",
       "    }\n",
       "\n",
       "    window.setTimeout(set_focus, 100);\n",
       "}\n",
       "\n",
       "mpl.figure.prototype._init_toolbar = function() {\n",
       "    var fig = this;\n",
       "\n",
       "    var nav_element = $('<div/>')\n",
       "    nav_element.attr('style', 'width: 100%');\n",
       "    this.root.append(nav_element);\n",
       "\n",
       "    // Define a callback function for later on.\n",
       "    function toolbar_event(event) {\n",
       "        return fig.toolbar_button_onclick(event['data']);\n",
       "    }\n",
       "    function toolbar_mouse_event(event) {\n",
       "        return fig.toolbar_button_onmouseover(event['data']);\n",
       "    }\n",
       "\n",
       "    for(var toolbar_ind in mpl.toolbar_items) {\n",
       "        var name = mpl.toolbar_items[toolbar_ind][0];\n",
       "        var tooltip = mpl.toolbar_items[toolbar_ind][1];\n",
       "        var image = mpl.toolbar_items[toolbar_ind][2];\n",
       "        var method_name = mpl.toolbar_items[toolbar_ind][3];\n",
       "\n",
       "        if (!name) {\n",
       "            // put a spacer in here.\n",
       "            continue;\n",
       "        }\n",
       "        var button = $('<button/>');\n",
       "        button.addClass('ui-button ui-widget ui-state-default ui-corner-all ' +\n",
       "                        'ui-button-icon-only');\n",
       "        button.attr('role', 'button');\n",
       "        button.attr('aria-disabled', 'false');\n",
       "        button.click(method_name, toolbar_event);\n",
       "        button.mouseover(tooltip, toolbar_mouse_event);\n",
       "\n",
       "        var icon_img = $('<span/>');\n",
       "        icon_img.addClass('ui-button-icon-primary ui-icon');\n",
       "        icon_img.addClass(image);\n",
       "        icon_img.addClass('ui-corner-all');\n",
       "\n",
       "        var tooltip_span = $('<span/>');\n",
       "        tooltip_span.addClass('ui-button-text');\n",
       "        tooltip_span.html(tooltip);\n",
       "\n",
       "        button.append(icon_img);\n",
       "        button.append(tooltip_span);\n",
       "\n",
       "        nav_element.append(button);\n",
       "    }\n",
       "\n",
       "    var fmt_picker_span = $('<span/>');\n",
       "\n",
       "    var fmt_picker = $('<select/>');\n",
       "    fmt_picker.addClass('mpl-toolbar-option ui-widget ui-widget-content');\n",
       "    fmt_picker_span.append(fmt_picker);\n",
       "    nav_element.append(fmt_picker_span);\n",
       "    this.format_dropdown = fmt_picker[0];\n",
       "\n",
       "    for (var ind in mpl.extensions) {\n",
       "        var fmt = mpl.extensions[ind];\n",
       "        var option = $(\n",
       "            '<option/>', {selected: fmt === mpl.default_extension}).html(fmt);\n",
       "        fmt_picker.append(option)\n",
       "    }\n",
       "\n",
       "    // Add hover states to the ui-buttons\n",
       "    $( \".ui-button\" ).hover(\n",
       "        function() { $(this).addClass(\"ui-state-hover\");},\n",
       "        function() { $(this).removeClass(\"ui-state-hover\");}\n",
       "    );\n",
       "\n",
       "    var status_bar = $('<span class=\"mpl-message\"/>');\n",
       "    nav_element.append(status_bar);\n",
       "    this.message = status_bar[0];\n",
       "}\n",
       "\n",
       "mpl.figure.prototype.request_resize = function(x_pixels, y_pixels) {\n",
       "    // Request matplotlib to resize the figure. Matplotlib will then trigger a resize in the client,\n",
       "    // which will in turn request a refresh of the image.\n",
       "    this.send_message('resize', {'width': x_pixels, 'height': y_pixels});\n",
       "}\n",
       "\n",
       "mpl.figure.prototype.send_message = function(type, properties) {\n",
       "    properties['type'] = type;\n",
       "    properties['figure_id'] = this.id;\n",
       "    this.ws.send(JSON.stringify(properties));\n",
       "}\n",
       "\n",
       "mpl.figure.prototype.send_draw_message = function() {\n",
       "    if (!this.waiting) {\n",
       "        this.waiting = true;\n",
       "        this.ws.send(JSON.stringify({type: \"draw\", figure_id: this.id}));\n",
       "    }\n",
       "}\n",
       "\n",
       "\n",
       "mpl.figure.prototype.handle_save = function(fig, msg) {\n",
       "    var format_dropdown = fig.format_dropdown;\n",
       "    var format = format_dropdown.options[format_dropdown.selectedIndex].value;\n",
       "    fig.ondownload(fig, format);\n",
       "}\n",
       "\n",
       "\n",
       "mpl.figure.prototype.handle_resize = function(fig, msg) {\n",
       "    var size = msg['size'];\n",
       "    if (size[0] != fig.canvas.width || size[1] != fig.canvas.height) {\n",
       "        fig._resize_canvas(size[0], size[1]);\n",
       "        fig.send_message(\"refresh\", {});\n",
       "    };\n",
       "}\n",
       "\n",
       "mpl.figure.prototype.handle_rubberband = function(fig, msg) {\n",
       "    var x0 = msg['x0'] / mpl.ratio;\n",
       "    var y0 = (fig.canvas.height - msg['y0']) / mpl.ratio;\n",
       "    var x1 = msg['x1'] / mpl.ratio;\n",
       "    var y1 = (fig.canvas.height - msg['y1']) / mpl.ratio;\n",
       "    x0 = Math.floor(x0) + 0.5;\n",
       "    y0 = Math.floor(y0) + 0.5;\n",
       "    x1 = Math.floor(x1) + 0.5;\n",
       "    y1 = Math.floor(y1) + 0.5;\n",
       "    var min_x = Math.min(x0, x1);\n",
       "    var min_y = Math.min(y0, y1);\n",
       "    var width = Math.abs(x1 - x0);\n",
       "    var height = Math.abs(y1 - y0);\n",
       "\n",
       "    fig.rubberband_context.clearRect(\n",
       "        0, 0, fig.canvas.width, fig.canvas.height);\n",
       "\n",
       "    fig.rubberband_context.strokeRect(min_x, min_y, width, height);\n",
       "}\n",
       "\n",
       "mpl.figure.prototype.handle_figure_label = function(fig, msg) {\n",
       "    // Updates the figure title.\n",
       "    fig.header.textContent = msg['label'];\n",
       "}\n",
       "\n",
       "mpl.figure.prototype.handle_cursor = function(fig, msg) {\n",
       "    var cursor = msg['cursor'];\n",
       "    switch(cursor)\n",
       "    {\n",
       "    case 0:\n",
       "        cursor = 'pointer';\n",
       "        break;\n",
       "    case 1:\n",
       "        cursor = 'default';\n",
       "        break;\n",
       "    case 2:\n",
       "        cursor = 'crosshair';\n",
       "        break;\n",
       "    case 3:\n",
       "        cursor = 'move';\n",
       "        break;\n",
       "    }\n",
       "    fig.rubberband_canvas.style.cursor = cursor;\n",
       "}\n",
       "\n",
       "mpl.figure.prototype.handle_message = function(fig, msg) {\n",
       "    fig.message.textContent = msg['message'];\n",
       "}\n",
       "\n",
       "mpl.figure.prototype.handle_draw = function(fig, msg) {\n",
       "    // Request the server to send over a new figure.\n",
       "    fig.send_draw_message();\n",
       "}\n",
       "\n",
       "mpl.figure.prototype.handle_image_mode = function(fig, msg) {\n",
       "    fig.image_mode = msg['mode'];\n",
       "}\n",
       "\n",
       "mpl.figure.prototype.updated_canvas_event = function() {\n",
       "    // Called whenever the canvas gets updated.\n",
       "    this.send_message(\"ack\", {});\n",
       "}\n",
       "\n",
       "// A function to construct a web socket function for onmessage handling.\n",
       "// Called in the figure constructor.\n",
       "mpl.figure.prototype._make_on_message_function = function(fig) {\n",
       "    return function socket_on_message(evt) {\n",
       "        if (evt.data instanceof Blob) {\n",
       "            /* FIXME: We get \"Resource interpreted as Image but\n",
       "             * transferred with MIME type text/plain:\" errors on\n",
       "             * Chrome.  But how to set the MIME type?  It doesn't seem\n",
       "             * to be part of the websocket stream */\n",
       "            evt.data.type = \"image/png\";\n",
       "\n",
       "            /* Free the memory for the previous frames */\n",
       "            if (fig.imageObj.src) {\n",
       "                (window.URL || window.webkitURL).revokeObjectURL(\n",
       "                    fig.imageObj.src);\n",
       "            }\n",
       "\n",
       "            fig.imageObj.src = (window.URL || window.webkitURL).createObjectURL(\n",
       "                evt.data);\n",
       "            fig.updated_canvas_event();\n",
       "            fig.waiting = false;\n",
       "            return;\n",
       "        }\n",
       "        else if (typeof evt.data === 'string' && evt.data.slice(0, 21) == \"data:image/png;base64\") {\n",
       "            fig.imageObj.src = evt.data;\n",
       "            fig.updated_canvas_event();\n",
       "            fig.waiting = false;\n",
       "            return;\n",
       "        }\n",
       "\n",
       "        var msg = JSON.parse(evt.data);\n",
       "        var msg_type = msg['type'];\n",
       "\n",
       "        // Call the  \"handle_{type}\" callback, which takes\n",
       "        // the figure and JSON message as its only arguments.\n",
       "        try {\n",
       "            var callback = fig[\"handle_\" + msg_type];\n",
       "        } catch (e) {\n",
       "            console.log(\"No handler for the '\" + msg_type + \"' message type: \", msg);\n",
       "            return;\n",
       "        }\n",
       "\n",
       "        if (callback) {\n",
       "            try {\n",
       "                // console.log(\"Handling '\" + msg_type + \"' message: \", msg);\n",
       "                callback(fig, msg);\n",
       "            } catch (e) {\n",
       "                console.log(\"Exception inside the 'handler_\" + msg_type + \"' callback:\", e, e.stack, msg);\n",
       "            }\n",
       "        }\n",
       "    };\n",
       "}\n",
       "\n",
       "// from http://stackoverflow.com/questions/1114465/getting-mouse-location-in-canvas\n",
       "mpl.findpos = function(e) {\n",
       "    //this section is from http://www.quirksmode.org/js/events_properties.html\n",
       "    var targ;\n",
       "    if (!e)\n",
       "        e = window.event;\n",
       "    if (e.target)\n",
       "        targ = e.target;\n",
       "    else if (e.srcElement)\n",
       "        targ = e.srcElement;\n",
       "    if (targ.nodeType == 3) // defeat Safari bug\n",
       "        targ = targ.parentNode;\n",
       "\n",
       "    // jQuery normalizes the pageX and pageY\n",
       "    // pageX,Y are the mouse positions relative to the document\n",
       "    // offset() returns the position of the element relative to the document\n",
       "    var x = e.pageX - $(targ).offset().left;\n",
       "    var y = e.pageY - $(targ).offset().top;\n",
       "\n",
       "    return {\"x\": x, \"y\": y};\n",
       "};\n",
       "\n",
       "/*\n",
       " * return a copy of an object with only non-object keys\n",
       " * we need this to avoid circular references\n",
       " * http://stackoverflow.com/a/24161582/3208463\n",
       " */\n",
       "function simpleKeys (original) {\n",
       "  return Object.keys(original).reduce(function (obj, key) {\n",
       "    if (typeof original[key] !== 'object')\n",
       "        obj[key] = original[key]\n",
       "    return obj;\n",
       "  }, {});\n",
       "}\n",
       "\n",
       "mpl.figure.prototype.mouse_event = function(event, name) {\n",
       "    var canvas_pos = mpl.findpos(event)\n",
       "\n",
       "    if (name === 'button_press')\n",
       "    {\n",
       "        this.canvas.focus();\n",
       "        this.canvas_div.focus();\n",
       "    }\n",
       "\n",
       "    var x = canvas_pos.x * mpl.ratio;\n",
       "    var y = canvas_pos.y * mpl.ratio;\n",
       "\n",
       "    this.send_message(name, {x: x, y: y, button: event.button,\n",
       "                             step: event.step,\n",
       "                             guiEvent: simpleKeys(event)});\n",
       "\n",
       "    /* This prevents the web browser from automatically changing to\n",
       "     * the text insertion cursor when the button is pressed.  We want\n",
       "     * to control all of the cursor setting manually through the\n",
       "     * 'cursor' event from matplotlib */\n",
       "    event.preventDefault();\n",
       "    return false;\n",
       "}\n",
       "\n",
       "mpl.figure.prototype._key_event_extra = function(event, name) {\n",
       "    // Handle any extra behaviour associated with a key event\n",
       "}\n",
       "\n",
       "mpl.figure.prototype.key_event = function(event, name) {\n",
       "\n",
       "    // Prevent repeat events\n",
       "    if (name == 'key_press')\n",
       "    {\n",
       "        if (event.which === this._key)\n",
       "            return;\n",
       "        else\n",
       "            this._key = event.which;\n",
       "    }\n",
       "    if (name == 'key_release')\n",
       "        this._key = null;\n",
       "\n",
       "    var value = '';\n",
       "    if (event.ctrlKey && event.which != 17)\n",
       "        value += \"ctrl+\";\n",
       "    if (event.altKey && event.which != 18)\n",
       "        value += \"alt+\";\n",
       "    if (event.shiftKey && event.which != 16)\n",
       "        value += \"shift+\";\n",
       "\n",
       "    value += 'k';\n",
       "    value += event.which.toString();\n",
       "\n",
       "    this._key_event_extra(event, name);\n",
       "\n",
       "    this.send_message(name, {key: value,\n",
       "                             guiEvent: simpleKeys(event)});\n",
       "    return false;\n",
       "}\n",
       "\n",
       "mpl.figure.prototype.toolbar_button_onclick = function(name) {\n",
       "    if (name == 'download') {\n",
       "        this.handle_save(this, null);\n",
       "    } else {\n",
       "        this.send_message(\"toolbar_button\", {name: name});\n",
       "    }\n",
       "};\n",
       "\n",
       "mpl.figure.prototype.toolbar_button_onmouseover = function(tooltip) {\n",
       "    this.message.textContent = tooltip;\n",
       "};\n",
       "mpl.toolbar_items = [[\"Home\", \"Reset original view\", \"fa fa-home icon-home\", \"home\"], [\"Back\", \"Back to previous view\", \"fa fa-arrow-left icon-arrow-left\", \"back\"], [\"Forward\", \"Forward to next view\", \"fa fa-arrow-right icon-arrow-right\", \"forward\"], [\"\", \"\", \"\", \"\"], [\"Pan\", \"Pan axes with left mouse, zoom with right\", \"fa fa-arrows icon-move\", \"pan\"], [\"Zoom\", \"Zoom to rectangle\", \"fa fa-square-o icon-check-empty\", \"zoom\"], [\"\", \"\", \"\", \"\"], [\"Download\", \"Download plot\", \"fa fa-floppy-o icon-save\", \"download\"]];\n",
       "\n",
       "mpl.extensions = [\"eps\", \"jpeg\", \"pdf\", \"png\", \"ps\", \"raw\", \"svg\", \"tif\"];\n",
       "\n",
       "mpl.default_extension = \"png\";var comm_websocket_adapter = function(comm) {\n",
       "    // Create a \"websocket\"-like object which calls the given IPython comm\n",
       "    // object with the appropriate methods. Currently this is a non binary\n",
       "    // socket, so there is still some room for performance tuning.\n",
       "    var ws = {};\n",
       "\n",
       "    ws.close = function() {\n",
       "        comm.close()\n",
       "    };\n",
       "    ws.send = function(m) {\n",
       "        //console.log('sending', m);\n",
       "        comm.send(m);\n",
       "    };\n",
       "    // Register the callback with on_msg.\n",
       "    comm.on_msg(function(msg) {\n",
       "        //console.log('receiving', msg['content']['data'], msg);\n",
       "        // Pass the mpl event to the overridden (by mpl) onmessage function.\n",
       "        ws.onmessage(msg['content']['data'])\n",
       "    });\n",
       "    return ws;\n",
       "}\n",
       "\n",
       "mpl.mpl_figure_comm = function(comm, msg) {\n",
       "    // This is the function which gets called when the mpl process\n",
       "    // starts-up an IPython Comm through the \"matplotlib\" channel.\n",
       "\n",
       "    var id = msg.content.data.id;\n",
       "    // Get hold of the div created by the display call when the Comm\n",
       "    // socket was opened in Python.\n",
       "    var element = $(\"#\" + id);\n",
       "    var ws_proxy = comm_websocket_adapter(comm)\n",
       "\n",
       "    function ondownload(figure, format) {\n",
       "        window.open(figure.imageObj.src);\n",
       "    }\n",
       "\n",
       "    var fig = new mpl.figure(id, ws_proxy,\n",
       "                           ondownload,\n",
       "                           element.get(0));\n",
       "\n",
       "    // Call onopen now - mpl needs it, as it is assuming we've passed it a real\n",
       "    // web socket which is closed, not our websocket->open comm proxy.\n",
       "    ws_proxy.onopen();\n",
       "\n",
       "    fig.parent_element = element.get(0);\n",
       "    fig.cell_info = mpl.find_output_cell(\"<div id='\" + id + \"'></div>\");\n",
       "    if (!fig.cell_info) {\n",
       "        console.error(\"Failed to find cell for figure\", id, fig);\n",
       "        return;\n",
       "    }\n",
       "\n",
       "    var output_index = fig.cell_info[2]\n",
       "    var cell = fig.cell_info[0];\n",
       "\n",
       "};\n",
       "\n",
       "mpl.figure.prototype.handle_close = function(fig, msg) {\n",
       "    var width = fig.canvas.width/mpl.ratio\n",
       "    fig.root.unbind('remove')\n",
       "\n",
       "    // Update the output cell to use the data from the current canvas.\n",
       "    fig.push_to_output();\n",
       "    var dataURL = fig.canvas.toDataURL();\n",
       "    // Re-enable the keyboard manager in IPython - without this line, in FF,\n",
       "    // the notebook keyboard shortcuts fail.\n",
       "    IPython.keyboard_manager.enable()\n",
       "    $(fig.parent_element).html('<img src=\"' + dataURL + '\" width=\"' + width + '\">');\n",
       "    fig.close_ws(fig, msg);\n",
       "}\n",
       "\n",
       "mpl.figure.prototype.close_ws = function(fig, msg){\n",
       "    fig.send_message('closing', msg);\n",
       "    // fig.ws.close()\n",
       "}\n",
       "\n",
       "mpl.figure.prototype.push_to_output = function(remove_interactive) {\n",
       "    // Turn the data on the canvas into data in the output cell.\n",
       "    var width = this.canvas.width/mpl.ratio\n",
       "    var dataURL = this.canvas.toDataURL();\n",
       "    this.cell_info[1]['text/html'] = '<img src=\"' + dataURL + '\" width=\"' + width + '\">';\n",
       "}\n",
       "\n",
       "mpl.figure.prototype.updated_canvas_event = function() {\n",
       "    // Tell IPython that the notebook contents must change.\n",
       "    IPython.notebook.set_dirty(true);\n",
       "    this.send_message(\"ack\", {});\n",
       "    var fig = this;\n",
       "    // Wait a second, then push the new image to the DOM so\n",
       "    // that it is saved nicely (might be nice to debounce this).\n",
       "    setTimeout(function () { fig.push_to_output() }, 1000);\n",
       "}\n",
       "\n",
       "mpl.figure.prototype._init_toolbar = function() {\n",
       "    var fig = this;\n",
       "\n",
       "    var nav_element = $('<div/>')\n",
       "    nav_element.attr('style', 'width: 100%');\n",
       "    this.root.append(nav_element);\n",
       "\n",
       "    // Define a callback function for later on.\n",
       "    function toolbar_event(event) {\n",
       "        return fig.toolbar_button_onclick(event['data']);\n",
       "    }\n",
       "    function toolbar_mouse_event(event) {\n",
       "        return fig.toolbar_button_onmouseover(event['data']);\n",
       "    }\n",
       "\n",
       "    for(var toolbar_ind in mpl.toolbar_items){\n",
       "        var name = mpl.toolbar_items[toolbar_ind][0];\n",
       "        var tooltip = mpl.toolbar_items[toolbar_ind][1];\n",
       "        var image = mpl.toolbar_items[toolbar_ind][2];\n",
       "        var method_name = mpl.toolbar_items[toolbar_ind][3];\n",
       "\n",
       "        if (!name) { continue; };\n",
       "\n",
       "        var button = $('<button class=\"btn btn-default\" href=\"#\" title=\"' + name + '\"><i class=\"fa ' + image + ' fa-lg\"></i></button>');\n",
       "        button.click(method_name, toolbar_event);\n",
       "        button.mouseover(tooltip, toolbar_mouse_event);\n",
       "        nav_element.append(button);\n",
       "    }\n",
       "\n",
       "    // Add the status bar.\n",
       "    var status_bar = $('<span class=\"mpl-message\" style=\"text-align:right; float: right;\"/>');\n",
       "    nav_element.append(status_bar);\n",
       "    this.message = status_bar[0];\n",
       "\n",
       "    // Add the close button to the window.\n",
       "    var buttongrp = $('<div class=\"btn-group inline pull-right\"></div>');\n",
       "    var button = $('<button class=\"btn btn-mini btn-primary\" href=\"#\" title=\"Stop Interaction\"><i class=\"fa fa-power-off icon-remove icon-large\"></i></button>');\n",
       "    button.click(function (evt) { fig.handle_close(fig, {}); } );\n",
       "    button.mouseover('Stop Interaction', toolbar_mouse_event);\n",
       "    buttongrp.append(button);\n",
       "    var titlebar = this.root.find($('.ui-dialog-titlebar'));\n",
       "    titlebar.prepend(buttongrp);\n",
       "}\n",
       "\n",
       "mpl.figure.prototype._root_extra_style = function(el){\n",
       "    var fig = this\n",
       "    el.on(\"remove\", function(){\n",
       "\tfig.close_ws(fig, {});\n",
       "    });\n",
       "}\n",
       "\n",
       "mpl.figure.prototype._canvas_extra_style = function(el){\n",
       "    // this is important to make the div 'focusable\n",
       "    el.attr('tabindex', 0)\n",
       "    // reach out to IPython and tell the keyboard manager to turn it's self\n",
       "    // off when our div gets focus\n",
       "\n",
       "    // location in version 3\n",
       "    if (IPython.notebook.keyboard_manager) {\n",
       "        IPython.notebook.keyboard_manager.register_events(el);\n",
       "    }\n",
       "    else {\n",
       "        // location in version 2\n",
       "        IPython.keyboard_manager.register_events(el);\n",
       "    }\n",
       "\n",
       "}\n",
       "\n",
       "mpl.figure.prototype._key_event_extra = function(event, name) {\n",
       "    var manager = IPython.notebook.keyboard_manager;\n",
       "    if (!manager)\n",
       "        manager = IPython.keyboard_manager;\n",
       "\n",
       "    // Check for shift+enter\n",
       "    if (event.shiftKey && event.which == 13) {\n",
       "        this.canvas_div.blur();\n",
       "        event.shiftKey = false;\n",
       "        // Send a \"J\" for go to next cell\n",
       "        event.which = 74;\n",
       "        event.keyCode = 74;\n",
       "        manager.command_mode();\n",
       "        manager.handle_keydown(event);\n",
       "    }\n",
       "}\n",
       "\n",
       "mpl.figure.prototype.handle_save = function(fig, msg) {\n",
       "    fig.ondownload(fig, null);\n",
       "}\n",
       "\n",
       "\n",
       "mpl.find_output_cell = function(html_output) {\n",
       "    // Return the cell and output element which can be found *uniquely* in the notebook.\n",
       "    // Note - this is a bit hacky, but it is done because the \"notebook_saving.Notebook\"\n",
       "    // IPython event is triggered only after the cells have been serialised, which for\n",
       "    // our purposes (turning an active figure into a static one), is too late.\n",
       "    var cells = IPython.notebook.get_cells();\n",
       "    var ncells = cells.length;\n",
       "    for (var i=0; i<ncells; i++) {\n",
       "        var cell = cells[i];\n",
       "        if (cell.cell_type === 'code'){\n",
       "            for (var j=0; j<cell.output_area.outputs.length; j++) {\n",
       "                var data = cell.output_area.outputs[j];\n",
       "                if (data.data) {\n",
       "                    // IPython >= 3 moved mimebundle to data attribute of output\n",
       "                    data = data.data;\n",
       "                }\n",
       "                if (data['text/html'] == html_output) {\n",
       "                    return [cell, data, j];\n",
       "                }\n",
       "            }\n",
       "        }\n",
       "    }\n",
       "}\n",
       "\n",
       "// Register the function which deals with the matplotlib target/channel.\n",
       "// The kernel may be null if the page has been refreshed.\n",
       "if (IPython.notebook.kernel != null) {\n",
       "    IPython.notebook.kernel.comm_manager.register_target('matplotlib', mpl.mpl_figure_comm);\n",
       "}\n"
      ],
      "text/plain": [
       "<IPython.core.display.Javascript object>"
      ]
     },
     "metadata": {},
     "output_type": "display_data"
    },
    {
     "data": {
      "text/html": [
       "<img src=\"data:image/png;base64,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\" width=\"639.9999861283738\">"
      ],
      "text/plain": [
       "<IPython.core.display.HTML object>"
      ]
     },
     "metadata": {},
     "output_type": "display_data"
    },
    {
     "data": {
      "text/plain": [
       "<matplotlib.collections.QuadMesh at 0x7f2496107cf8>"
      ]
     },
     "execution_count": 10,
     "metadata": {},
     "output_type": "execute_result"
    }
   ],
   "source": [
    "ds['n'].isel(t=100, y=0).plot()"
   ]
  },
  {
   "cell_type": "markdown",
   "metadata": {
    "slideshow": {
     "slide_type": "fragment"
    }
   },
   "source": [
    "Notice the axes and title are automatically created (this info must be stored in the dataset obviously)"
   ]
  },
  {
   "cell_type": "markdown",
   "metadata": {
    "slideshow": {
     "slide_type": "subslide"
    }
   },
   "source": [
    "These plotting functions automatically use an appropriate type of plot for the dimension of the data (1D, 2D etc.)"
   ]
  },
  {
   "cell_type": "code",
   "execution_count": null,
   "metadata": {
    "slideshow": {
     "slide_type": "subslide"
    }
   },
   "outputs": [],
   "source": [
    "profile = ds['T'].mean(dim=('t', 'y', 'z'))\n",
    "\n",
    "# Hide the creation of the new figure?\n",
    "fig, ax = plt.subplots()\n",
    "profile.plot.line(ax=ax)\n",
    "\n",
    "#plot_separatrix(data, sep_position, ax=ax)"
   ]
  },
  {
   "cell_type": "code",
   "execution_count": null,
   "metadata": {
    "slideshow": {
     "slide_type": "fragment"
    }
   },
   "outputs": [],
   "source": [
    "# <img src=\"T_profile.png\" alt=\"Drawing\" style=\"width: 600px;\">"
   ]
  },
  {
   "cell_type": "markdown",
   "metadata": {
    "slideshow": {
     "slide_type": "subslide"
    }
   },
   "source": [
    "I've used this to write functions which plot 2D animated gifs which can animate over any dimension."
   ]
  },
  {
   "cell_type": "code",
   "execution_count": null,
   "metadata": {
    "slideshow": {
     "slide_type": "subslide"
    }
   },
   "outputs": [],
   "source": [
    "\n",
    "\n",
    "data.bout.animate2D(animate_over='t', x='x', y='z')"
   ]
  },
  {
   "cell_type": "code",
   "execution_count": null,
   "metadata": {
    "slideshow": {
     "slide_type": "fragment"
    }
   },
   "outputs": [],
   "source": [
    "# ![tempgif](T_over_time.gif \"segment\")"
   ]
  },
  {
   "cell_type": "markdown",
   "metadata": {
    "slideshow": {
     "slide_type": "slide"
    }
   },
   "source": [
    "# xarray + dask:\n",
    "\n",
    "- Memory chunking\n",
    "- Parallel analysis"
   ]
  },
  {
   "cell_type": "markdown",
   "metadata": {
    "slideshow": {
     "slide_type": "fragment"
    }
   },
   "source": [
    "If you also install [dask](http://docs.dask.org/en/latest/install.html) (literally that's it, no other compiling or anything required), xarray will provide the option to load data into memory in chunks."
   ]
  },
  {
   "cell_type": "markdown",
   "metadata": {
    "slideshow": {
     "slide_type": "subslide"
    }
   },
   "source": [
    "### xarray + dask: Memory chunking"
   ]
  },
  {
   "cell_type": "code",
   "execution_count": null,
   "metadata": {
    "slideshow": {
     "slide_type": "fragment"
    }
   },
   "outputs": [],
   "source": [
    "ds = xr.open_dataset('example-data.nc', chunks={'time': 10})\n",
    "\n",
    "print(ds)"
   ]
  },
  {
   "cell_type": "code",
   "execution_count": null,
   "metadata": {
    "slideshow": {
     "slide_type": "fragment"
    }
   },
   "outputs": [],
   "source": [
    "<xarray.Dataset>\n",
    "Dimensions:      (latitude: 180, longitude: 360, time: 365)\n",
    "Coordinates:\n",
    "  * time         (time) datetime64[ns] 2015-01-01 2015-01-02 2015-01-03 ...\n",
    "  * longitude    (longitude) int64 0 1 2 3 4 5 6 7 8 9 10 11 12 13 14 15 16 ...\n",
    "  * latitude     (latitude) float64 89.5 88.5 87.5 86.5 85.5 84.5 83.5 82.5 ...\n",
    "Data variables:\n",
    "    temperature  (time, latitude, longitude) float64 dask.array<shape=(365, 180, 360), chunksize=(10, 180, 360)>"
   ]
  },
  {
   "cell_type": "markdown",
   "metadata": {
    "slideshow": {
     "slide_type": "subslide"
    }
   },
   "source": [
    "Now if you apply any xarray or any \"embarrassingly parallel\" numpy function to this dataset then it will compute the result only on one chunk at a time, and combine the results at the end.\n",
    "\n",
    "Useful when you have \"medium data\": larger than your RAM but smaller than your hard drive (so not \"big data\"). "
   ]
  },
  {
   "cell_type": "markdown",
   "metadata": {
    "slideshow": {
     "slide_type": "slide"
    }
   },
   "source": [
    "### xarray + dask: Parallel analysis"
   ]
  },
  {
   "cell_type": "markdown",
   "metadata": {
    "slideshow": {
     "slide_type": "fragment"
    }
   },
   "source": [
    "dask can also automatically parallelize the opertation of any xarray function, and most numpy and scipy functions, using the ``apply_ufunc`` helper function: "
   ]
  },
  {
   "cell_type": "code",
   "execution_count": null,
   "metadata": {
    "slideshow": {
     "slide_type": "fragment"
    }
   },
   "outputs": [],
   "source": [
    "xr.apply_ufunc(some_numpy_analysis_fn, ds, dask='parallelized', output=[float])"
   ]
  },
  {
   "cell_type": "markdown",
   "metadata": {
    "slideshow": {
     "slide_type": "fragment"
    }
   },
   "source": [
    "Chunking and parallelization through dask integration should allow you to easily scale up whatever analysis you were doing with numpy to work on datasets that are 100's of GBs in size."
   ]
  },
  {
   "cell_type": "markdown",
   "metadata": {
    "slideshow": {
     "slide_type": "slide"
    }
   },
   "source": [
    "# The xBOUT package"
   ]
  },
  {
   "cell_type": "markdown",
   "metadata": {
    "slideshow": {
     "slide_type": "fragment"
    }
   },
   "source": [
    "[xBOUT](https://github.com/TomNicholas/xBOUT) aims to replace the pylib/boutdata tools which are currently in the BOUT++ repository. "
   ]
  },
  {
   "cell_type": "markdown",
   "metadata": {
    "slideshow": {
     "slide_type": "fragment"
    }
   },
   "source": [
    "Provides a simple interface for loading BOUT++ data as an xarray dataset efficiently from parallel simulation runs."
   ]
  },
  {
   "cell_type": "markdown",
   "metadata": {
    "slideshow": {
     "slide_type": "fragment"
    }
   },
   "source": [
    "Stores the numerical data from the dump files, but also uses Ben's `BoutOptionsFile()` classes to store all simulation input in the attributes dictionary:"
   ]
  },
  {
   "cell_type": "code",
   "execution_count": null,
   "metadata": {
    "slideshow": {
     "slide_type": "subslide"
    }
   },
   "outputs": [],
   "source": [
    "import xarray as xr\n",
    "from xbout import open_boutdataset\n",
    "\n",
    "ds = open_boutdataset('BOUT.dmp.*.nc', inputfilepath='BOUT.inp')"
   ]
  },
  {
   "cell_type": "markdown",
   "metadata": {
    "slideshow": {
     "slide_type": "subslide"
    }
   },
   "source": [
    "Data is stored lazily, and read in parallel using dask automatically.\n",
    "\n",
    "Faster than the current `boutdata.collect()` function (PROVE THIS)\n",
    "\n",
    "Core functionality implemented upstream in xarray ([Pull Request](https://github.com/pydata/xarray/pull/2553) waiting to be merged)\n",
    "\n",
    "Written using test-driven-development."
   ]
  },
  {
   "cell_type": "markdown",
   "metadata": {
    "slideshow": {
     "slide_type": "subslide"
    }
   },
   "source": [
    "### Accessors\n",
    "\n",
    "Uses another feature of xarray - accessors - to provide BOUT-specific functionality as methods:"
   ]
  },
  {
   "cell_type": "code",
   "execution_count": null,
   "metadata": {
    "slideshow": {
     "slide_type": "fragment"
    }
   },
   "outputs": [],
   "source": [
    "from xbout import open_boutdataset\n",
    "\n",
    "ds = open_boutdataset('BOUT.dmp.*.nc')\n",
    "\n",
    "ds.bout.to_restarts(savepath='.', nxpe=4, nype=6)"
   ]
  },
  {
   "cell_type": "code",
   "execution_count": null,
   "metadata": {
    "slideshow": {
     "slide_type": "subslide"
    }
   },
   "outputs": [],
   "source": [
    "ds['n'].bout.animate2D(animate_over='t', x='x', y='z')"
   ]
  },
  {
   "cell_type": "markdown",
   "metadata": {
    "slideshow": {
     "slide_type": "slide"
    }
   },
   "source": [
    "Package includes methods to perform common types of plasma turbulence data analysis (all parallelized using dask):\n",
    "\n",
    "(e.g. pdfs, ExB velocity, conditional averaging)"
   ]
  },
  {
   "cell_type": "code",
   "execution_count": null,
   "metadata": {
    "slideshow": {
     "slide_type": "fragment"
    }
   },
   "outputs": [],
   "source": [
    "ds['n'].bout.growth_rate()"
   ]
  },
  {
   "cell_type": "markdown",
   "metadata": {
    "slideshow": {
     "slide_type": "slide"
    }
   },
   "source": [
    "### Subclassing for specific users\n",
    "\n",
    "Tools for general use in `xBOUT`, but `boutdataset` accessor allows subclassing for specific BOUT++ modules:"
   ]
  },
  {
   "cell_type": "code",
   "execution_count": null,
   "metadata": {
    "slideshow": {
     "slide_type": "fragment"
    }
   },
   "outputs": [],
   "source": [
    "from xbout.boutdataset import open_boutdataset, BoutAccessor\n",
    "\n",
    "@register_dataset_accessor('storm')\n",
    "class StormAccessor(BoutAccessor):\n",
    "    \"\"\"\n",
    "    Class specifically for holding data from a simulation using the STORM module for BOUT++.\n",
    "    \"\"\"\n",
    "    def __init__(self, ds):\n",
    "        super().__init__(ds)\n",
    "\n",
    "    def plot_special_storm_plot()\n",
    "        print(\"STORM-specific functionality!\")"
   ]
  },
  {
   "cell_type": "code",
   "execution_count": null,
   "metadata": {
    "slideshow": {
     "slide_type": "fragment"
    }
   },
   "outputs": [],
   "source": [
    "ds = open_boutdataset('BOUT.dmp.*.nc')\n",
    "ds.storm.plot_special_storm_plot()"
   ]
  },
  {
   "cell_type": "markdown",
   "metadata": {
    "slideshow": {
     "slide_type": "slide"
    }
   },
   "source": [
    "# Suggestions for BOUT++ community tools"
   ]
  },
  {
   "cell_type": "markdown",
   "metadata": {
    "slideshow": {
     "slide_type": "subslide"
    }
   },
   "source": [
    "### Multidimensional coordinates"
   ]
  },
  {
   "cell_type": "markdown",
   "metadata": {
    "slideshow": {
     "slide_type": "fragment"
    }
   },
   "source": [
    "Coordinates can be multidimensional\n",
    "\n",
    "Store mapping between (r,z,phi) -> Boozer coordinates as a 3D coord Boozer"
   ]
  },
  {
   "cell_type": "markdown",
   "metadata": {
    "slideshow": {
     "slide_type": "subslide"
    }
   },
   "source": [
    "### Common plotting functions"
   ]
  },
  {
   "cell_type": "code",
   "execution_count": null,
   "metadata": {
    "slideshow": {
     "slide_type": "fragment"
    }
   },
   "outputs": [],
   "source": [
    "ds['n'].bout.plot_poloidal()"
   ]
  },
  {
   "cell_type": "markdown",
   "metadata": {
    "slideshow": {
     "slide_type": "subslide"
    }
   },
   "source": [
    "### More analysis functions"
   ]
  },
  {
   "cell_type": "markdown",
   "metadata": {
    "slideshow": {
     "slide_type": "fragment"
    }
   },
   "source": [
    "Growth rates, power spectra..."
   ]
  },
  {
   "cell_type": "markdown",
   "metadata": {
    "slideshow": {
     "slide_type": "subslide"
    }
   },
   "source": [
    "### Staggered grids using xgcm"
   ]
  },
  {
   "cell_type": "markdown",
   "metadata": {
    "slideshow": {
     "slide_type": "fragment"
    }
   },
   "source": [
    "Interesting work going on in the [xgcm](https://github.com/xgcm/xgcm) package \n",
    "\n",
    "xgcm (Xarray for Global Circulation Models) aims to provide objects which encode complex grids for use with xarray."
   ]
  },
  {
   "cell_type": "markdown",
   "metadata": {
    "slideshow": {
     "slide_type": "subslide"
    }
   },
   "source": [
    "Can encode and perform operations on staggered grids:"
   ]
  },
  {
   "cell_type": "markdown",
   "metadata": {
    "slideshow": {
     "slide_type": "fragment"
    }
   },
   "source": [
    "<img src=\"images/grid2d_hv.svg\">"
   ]
  },
  {
   "cell_type": "markdown",
   "metadata": {
    "slideshow": {
     "slide_type": "slide"
    }
   },
   "source": [
    "### Complex topologies using xgcm"
   ]
  },
  {
   "cell_type": "markdown",
   "metadata": {
    "slideshow": {
     "slide_type": "fragment"
    }
   },
   "source": [
    "xgcm can also encode complex topologies by storing connections between different cartesian grids:"
   ]
  },
  {
   "cell_type": "markdown",
   "metadata": {
    "slideshow": {
     "slide_type": "fragment"
    }
   },
   "source": [
    "<img src=\"images/cubed_sphere.jpeg\" alt=\"Drawing\" style=\"width: 400px;\">"
   ]
  },
  {
   "cell_type": "markdown",
   "metadata": {
    "slideshow": {
     "slide_type": "slide"
    }
   },
   "source": [
    "# Conclusion"
   ]
  },
  {
   "cell_type": "markdown",
   "metadata": {
    "slideshow": {
     "slide_type": "fragment"
    }
   },
   "source": [
    "Everyone who analyses multidimensional simulation data in python has similar needs"
   ]
  },
  {
   "cell_type": "markdown",
   "metadata": {
    "slideshow": {
     "slide_type": "fragment"
    }
   },
   "source": [
    "Atmospheric physicists have already solved this problem for us: [xarray + dask](http://xarray.pydata.org/en/stable/index.html)"
   ]
  },
  {
   "cell_type": "markdown",
   "metadata": {
    "slideshow": {
     "slide_type": "fragment"
    }
   },
   "source": [
    "Extendable API ideal for the varied BOUT++ community"
   ]
  },
  {
   "cell_type": "markdown",
   "metadata": {
    "slideshow": {
     "slide_type": "fragment"
    }
   },
   "source": [
    "Basic functionality already exists ([xBOUT](https://github.com/TomNicholas/xBOUT))"
   ]
  },
  {
   "cell_type": "markdown",
   "metadata": {
    "slideshow": {
     "slide_type": "fragment"
    }
   },
   "source": [
    "Potential for powerful common features "
   ]
  },
  {
   "cell_type": "markdown",
   "metadata": {
    "slideshow": {
     "slide_type": "slide"
    }
   },
   "source": [
    "# Resources"
   ]
  },
  {
   "cell_type": "markdown",
   "metadata": {
    "slideshow": {
     "slide_type": "fragment"
    }
   },
   "source": [
    "Blog post introducing xarray:\n",
    "http://stephanhoyer.com/2015/06/11/xray-dask-out-of-core-labeled-arrays/\n",
    "\n",
    "\n",
    "xarray GitHub:\n",
    "https://github.com/pydata/xarray/\n",
    "\n",
    "\n",
    "xarray documentation:\n",
    "http://xarray.pydata.org/en/stable/\n",
    "\n",
    "\n",
    "xarray documentation on dask integration:\n",
    "http://xarray.pydata.org/en/stable/dask.html\n",
    "\n",
    "\n",
    "Other useful blogs/tutorials:\n",
    "http://meteo.unican.es/work/xarray_seminar/xArray_seminar.html\n",
    "https://rabernat.github.io/research_computing/xarray.html\n",
    "\n",
    "\n",
    "Useful page from the dask documentation explaining the general idea:\n",
    "http://docs.dask.org/en/latest/delayed.html"
   ]
  },
  {
   "cell_type": "markdown",
   "metadata": {
    "slideshow": {
     "slide_type": "slide"
    }
   },
   "source": [
    "# Bonus: How does dask work?"
   ]
  },
  {
   "cell_type": "markdown",
   "metadata": {
    "slideshow": {
     "slide_type": "fragment"
    }
   },
   "source": [
    "<img src=\"images/collections-schedulers.png\">"
   ]
  },
  {
   "cell_type": "markdown",
   "metadata": {
    "slideshow": {
     "slide_type": "fragment"
    }
   },
   "source": [
    "Dask works by:\n",
    "    \n",
    "- Labelling the various operations you want to perform, using either dask objects like dask.arrays or encoding general functions using dask.delayed\n",
    "\n",
    "- Instead of evaluating these operations, it organises them into a Task Graph for later evaluation\n",
    "\n",
    "- Evaluates them using one of a set of Schedulers, which can perform in parallel."
   ]
  },
  {
   "cell_type": "code",
   "execution_count": 8,
   "metadata": {
    "slideshow": {
     "slide_type": "subslide"
    }
   },
   "outputs": [],
   "source": [
    "def inc(x):\n",
    "    return x + 1\n",
    "\n",
    "def add(x, y):\n",
    "    return x + y"
   ]
  },
  {
   "cell_type": "code",
   "execution_count": 9,
   "metadata": {
    "slideshow": {
     "slide_type": "fragment"
    }
   },
   "outputs": [
    {
     "data": {
      "text/plain": [
       "5"
      ]
     },
     "execution_count": 9,
     "metadata": {},
     "output_type": "execute_result"
    }
   ],
   "source": [
    "import dask\n",
    "\n",
    "x = dask.delayed(inc)(1)\n",
    "y = dask.delayed(inc)(2)\n",
    "z = dask.delayed(add)(x, y)\n",
    "z.compute()"
   ]
  },
  {
   "cell_type": "code",
   "execution_count": null,
   "metadata": {
    "slideshow": {
     "slide_type": "fragment"
    }
   },
   "outputs": [],
   "source": [
    "z.vizualize()"
   ]
  },
  {
   "cell_type": "markdown",
   "metadata": {
    "slideshow": {
     "slide_type": "fragment"
    }
   },
   "source": [
    "<img src=\"images/inc-add.svg\">"
   ]
  },
  {
   "cell_type": "code",
   "execution_count": null,
   "metadata": {},
   "outputs": [],
   "source": []
  }
 ],
 "metadata": {
  "celltoolbar": "Slideshow",
  "kernelspec": {
   "display_name": "Python 3",
   "language": "python",
   "name": "python3"
  },
  "language_info": {
   "codemirror_mode": {
    "name": "ipython",
    "version": 3
   },
   "file_extension": ".py",
   "mimetype": "text/x-python",
   "name": "python",
   "nbconvert_exporter": "python",
   "pygments_lexer": "ipython3",
   "version": "3.6.6"
  }
 },
 "nbformat": 4,
 "nbformat_minor": 2
}
